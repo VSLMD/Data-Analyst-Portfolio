{
 "cells": [
  {
   "cell_type": "markdown",
   "id": "97dccc01",
   "metadata": {},
   "source": [
    "<div style=\"display: flex; background-color: RGB(255,114,0);\" >\n",
    "<h1 style=\"margin: auto; padding: 30px; \">ANALYSE DU STOCK ET DES VENTES DU SITE BOTTLENECK</h1>\n",
    "</div>"
   ]
  },
  {
   "cell_type": "markdown",
   "id": "4d0d1bb8",
   "metadata": {},
   "source": [
    "# OBJECTIF DE CE NOTEBOOK\n",
    "\n",
    "Bienvenue dans l'outil plébiscité par les analystes de données Jupyter.\n",
    "\n",
    "Il s'agit d'un outil permettant de mixer et d'alterner codes, textes et graphique.\n",
    "\n",
    "Cet outil est formidable pour plusieurs raisons:\n",
    "\n",
    "+ il permet de tester des lignes de codes au fur et à mesure de votre rédaction, de constater immédiatement le résultat d'un instruction, de la corriger si nécessaire.\n",
    "+ De rédiger du texte pour expliquer l'approche suivie ou les résultats d'une analyse et de le mettre en forme grâce à du code html ou plus simple avec **Markdown**\n",
    "+ d'agrémenter de graphiques\n",
    "\n",
    "Pour vous aider dans vos premiers pas à l'usage de Jupyter et de Python, nous avons rédigé ce notebook en vous indiquant les instructions à suivre.\n",
    "\n",
    "Il vous suffit pour cela de saisir le code Python répondant à l'instruction donnée.\n",
    "\n",
    "Vous verrez de temps à autre le code Python répondant à une instruction donnée mais cela est fait pour vous aider à comprendre la nature du travail qui vous est demandée.\n",
    "\n",
    "Et garder à l'esprit, qu'il n'y a pas de solution unique pour résoudre un problème et qu'il y a autant de résolutions de problèmes que de développeurs ;)...\n",
    "\n"
   ]
  },
  {
   "cell_type": "markdown",
   "id": "b85efb87",
   "metadata": {},
   "source": [
    "<div style=\"background-color: RGB(51,165,182);\" >\n",
    "<h2 style=\"margin: auto; padding: 20px; color:#fff; \">Etape 1 - Importation des librairies et chargement des fichiers</h2>\n",
    "</div>"
   ]
  },
  {
   "cell_type": "markdown",
   "id": "b5449401",
   "metadata": {},
   "source": [
    "<div style=\"border: 1px solid RGB(51,165,182);\" >\n",
    "<h3 style=\"margin: auto; padding: 20px; color: RGB(51,165,182); \">1.1 - Importation des librairies</h3>\n",
    "</div>"
   ]
  },
  {
   "cell_type": "code",
   "execution_count": 2145,
   "id": "e6ef06ec",
   "metadata": {},
   "outputs": [],
   "source": [
    "#Importation de la librairie Pandas\n",
    "import pandas as pd\n",
    "import numpy as np\n",
    "import matplotlib.pyplot as plt\n",
    "import seaborn as sns"
   ]
  },
  {
   "cell_type": "code",
   "execution_count": 2146,
   "id": "a38ce0fc",
   "metadata": {},
   "outputs": [],
   "source": [
    "#Importation de la librairie plotly express\n",
    "import plotly.express as px"
   ]
  },
  {
   "cell_type": "code",
   "execution_count": 2147,
   "id": "0a718067",
   "metadata": {},
   "outputs": [],
   "source": [
    "#Trouver dans Google l'instruction permettant d'afficher toutes les colonnes d'un dataframe\n",
    "#Saisir, dans Google, les mots clés \"display all columns dataframe Pandas\", par exemple.\n",
    "#Dans les résultats de la recherche, privilégiez les solutions provenants de Stack Overflow ou Medium"
   ]
  },
  {
   "cell_type": "markdown",
   "id": "f4918299",
   "metadata": {},
   "source": [
    "<div style=\"border: 1px solid RGB(51,165,182);\" >\n",
    "<h3 style=\"margin: auto; padding: 20px; color: RGB(51,165,182); \">1.2 - Chargements des fichiers</h3>\n",
    "</div>"
   ]
  },
  {
   "cell_type": "code",
   "execution_count": 2148,
   "id": "9642cf03",
   "metadata": {},
   "outputs": [
    {
     "name": "stderr",
     "output_type": "stream",
     "text": [
      "c:\\Users\\maxim\\AppData\\Local\\Programs\\Python\\Python312\\Lib\\site-packages\\openpyxl\\worksheet\\_reader.py:329: UserWarning:\n",
      "\n",
      "Unknown extension is not supported and will be removed\n",
      "\n",
      "c:\\Users\\maxim\\AppData\\Local\\Programs\\Python\\Python312\\Lib\\site-packages\\openpyxl\\worksheet\\_reader.py:329: UserWarning:\n",
      "\n",
      "Unknown extension is not supported and will be removed\n",
      "\n",
      "c:\\Users\\maxim\\AppData\\Local\\Programs\\Python\\Python312\\Lib\\site-packages\\openpyxl\\worksheet\\_reader.py:329: UserWarning:\n",
      "\n",
      "Unknown extension is not supported and will be removed\n",
      "\n"
     ]
    }
   ],
   "source": [
    "#Importation du fichier web.xlsx\n",
    "df_web = pd.read_excel(r'C:\\Users\\maxim\\Desktop\\Nouveau dossier\\web.xlsx')\n",
    "#Importation du fichier erp.xlsx\n",
    "df_erp = pd.read_excel(r'C:\\Users\\maxim\\Desktop\\Nouveau dossier\\erp.xlsx')\n",
    "#importation du fichier liaison.xlsx\n",
    "df_liaison = pd.read_excel(r'C:\\Users\\maxim\\Desktop\\Nouveau dossier\\liaison.xlsx')"
   ]
  },
  {
   "cell_type": "markdown",
   "id": "605f7056",
   "metadata": {},
   "source": [
    "<div style=\"background-color: RGB(51,165,182);\" >\n",
    "<h2 style=\"margin: auto; padding: 20px; color:#fff; \">Etape 2 - Analyse exploratoire des fichiers</h2>\n",
    "</div>"
   ]
  },
  {
   "cell_type": "markdown",
   "id": "47d3a649",
   "metadata": {},
   "source": [
    "<div style=\"border: 1px solid RGB(51,165,182);\" >\n",
    "<h3 style=\"margin: auto; padding: 20px; color: RGB(51,165,182); \">2.1 - Analyse exploratoire du fichier erp.xlsx</h3>\n",
    "</div>"
   ]
  },
  {
   "cell_type": "code",
   "execution_count": 2149,
   "id": "094ef206",
   "metadata": {},
   "outputs": [
    {
     "name": "stdout",
     "output_type": "stream",
     "text": [
      "Le tableau comporte 825 observation(s) ou article(s)\n",
      "Le tableau comporte 6 colonne(s)\n"
     ]
    }
   ],
   "source": [
    "#Afficher les dimensions du dataset\n",
    "print(\"Le tableau comporte {} observation(s) ou article(s)\".format(df_erp.shape[0]))\n",
    "print(\"Le tableau comporte {} colonne(s)\".format(df_erp.shape[1]))"
   ]
  },
  {
   "cell_type": "code",
   "execution_count": 2150,
   "id": "182441f0",
   "metadata": {},
   "outputs": [
    {
     "name": "stdout",
     "output_type": "stream",
     "text": [
      "<class 'pandas.core.frame.DataFrame'>\n",
      "RangeIndex: 825 entries, 0 to 824\n",
      "Data columns (total 6 columns):\n",
      " #   Column          Non-Null Count  Dtype  \n",
      "---  ------          --------------  -----  \n",
      " 0   product_id      825 non-null    int64  \n",
      " 1   onsale_web      825 non-null    int64  \n",
      " 2   price           825 non-null    float64\n",
      " 3   stock_quantity  825 non-null    int64  \n",
      " 4   stock_status    825 non-null    object \n",
      " 5   purchase_price  825 non-null    float64\n",
      "dtypes: float64(2), int64(3), object(1)\n",
      "memory usage: 38.8+ KB\n"
     ]
    }
   ],
   "source": [
    "#Consulter le nombre de colonnes\n",
    "#La nature des données dans chacune des colonnes\n",
    "#Le nombre de valeurs présentes dans chacune des colonnes\n",
    "df_erp.info()"
   ]
  },
  {
   "cell_type": "code",
   "execution_count": 2151,
   "id": "d3977646",
   "metadata": {},
   "outputs": [
    {
     "data": {
      "text/html": [
       "<div>\n",
       "<style scoped>\n",
       "    .dataframe tbody tr th:only-of-type {\n",
       "        vertical-align: middle;\n",
       "    }\n",
       "\n",
       "    .dataframe tbody tr th {\n",
       "        vertical-align: top;\n",
       "    }\n",
       "\n",
       "    .dataframe thead th {\n",
       "        text-align: right;\n",
       "    }\n",
       "</style>\n",
       "<table border=\"1\" class=\"dataframe\">\n",
       "  <thead>\n",
       "    <tr style=\"text-align: right;\">\n",
       "      <th></th>\n",
       "      <th>product_id</th>\n",
       "      <th>onsale_web</th>\n",
       "      <th>price</th>\n",
       "      <th>stock_quantity</th>\n",
       "      <th>stock_status</th>\n",
       "      <th>purchase_price</th>\n",
       "    </tr>\n",
       "  </thead>\n",
       "  <tbody>\n",
       "    <tr>\n",
       "      <th>0</th>\n",
       "      <td>3847</td>\n",
       "      <td>1</td>\n",
       "      <td>24.2</td>\n",
       "      <td>16</td>\n",
       "      <td>instock</td>\n",
       "      <td>12.88</td>\n",
       "    </tr>\n",
       "    <tr>\n",
       "      <th>1</th>\n",
       "      <td>3849</td>\n",
       "      <td>1</td>\n",
       "      <td>34.3</td>\n",
       "      <td>10</td>\n",
       "      <td>instock</td>\n",
       "      <td>17.54</td>\n",
       "    </tr>\n",
       "    <tr>\n",
       "      <th>2</th>\n",
       "      <td>3850</td>\n",
       "      <td>1</td>\n",
       "      <td>20.8</td>\n",
       "      <td>0</td>\n",
       "      <td>outofstock</td>\n",
       "      <td>10.64</td>\n",
       "    </tr>\n",
       "    <tr>\n",
       "      <th>3</th>\n",
       "      <td>4032</td>\n",
       "      <td>1</td>\n",
       "      <td>14.1</td>\n",
       "      <td>26</td>\n",
       "      <td>instock</td>\n",
       "      <td>6.92</td>\n",
       "    </tr>\n",
       "    <tr>\n",
       "      <th>4</th>\n",
       "      <td>4039</td>\n",
       "      <td>1</td>\n",
       "      <td>46.0</td>\n",
       "      <td>3</td>\n",
       "      <td>outofstock</td>\n",
       "      <td>23.77</td>\n",
       "    </tr>\n",
       "  </tbody>\n",
       "</table>\n",
       "</div>"
      ],
      "text/plain": [
       "   product_id  onsale_web  price  stock_quantity stock_status  purchase_price\n",
       "0        3847           1   24.2              16      instock           12.88\n",
       "1        3849           1   34.3              10      instock           17.54\n",
       "2        3850           1   20.8               0   outofstock           10.64\n",
       "3        4032           1   14.1              26      instock            6.92\n",
       "4        4039           1   46.0               3   outofstock           23.77"
      ]
     },
     "execution_count": 2151,
     "metadata": {},
     "output_type": "execute_result"
    }
   ],
   "source": [
    "#Afficher les 5 premières lignes de la table\n",
    "df_erp.head()"
   ]
  },
  {
   "cell_type": "code",
   "execution_count": 2152,
   "id": "db102a4a",
   "metadata": {},
   "outputs": [
    {
     "name": "stdout",
     "output_type": "stream",
     "text": [
      "Il y a 0 doublon dans la colonne product_id.\n"
     ]
    }
   ],
   "source": [
    "#Vérifier si il y a les lignes en doublons dans la colonne product_id\n",
    "nb_doublons = df_erp['product_id'].duplicated().sum()\n",
    "print(\"Il y a {} doublon dans la colonne product_id.\".format(nb_doublons))"
   ]
  },
  {
   "cell_type": "code",
   "execution_count": 2153,
   "id": "d443d4ff",
   "metadata": {},
   "outputs": [
    {
     "data": {
      "text/plain": [
       "stock_status\n",
       "instock       733\n",
       "outofstock     92\n",
       "Name: count, dtype: int64"
      ]
     },
     "execution_count": 2153,
     "metadata": {},
     "output_type": "execute_result"
    }
   ],
   "source": [
    "#Afficher les valeurs distinctes de la colonne stock_status\n",
    "#À quelle(s) autre(s) colonne(s) sont-elles liées ?\n",
    "df_erp['stock_status'].value_counts()\n",
    "\n",
    "# Remarque: la colonne stock_status devrait correspondre à la colonne stock_quantity pour les quantité égale à 0 (stock_quantity = 0 quand stock_status = outofstock)"
   ]
  },
  {
   "cell_type": "code",
   "execution_count": 2154,
   "id": "68088943",
   "metadata": {},
   "outputs": [
    {
     "data": {
      "text/plain": [
       "stock_status_2\n",
       "instock       733\n",
       "outofstock     92\n",
       "Name: count, dtype: int64"
      ]
     },
     "execution_count": 2154,
     "metadata": {},
     "output_type": "execute_result"
    }
   ],
   "source": [
    "#Création d'une colonne \"stock_status_2\n",
    "#La valeur de cette deuxième colonne sera fonction de la valeur dans la colonne \"stock_quantity\"\n",
    "#si la valeur de la colonne \"stock_quantity\" est nulle renseigner \"outofstock\" sinon mettre \"instock\"\n",
    "df_erp['stock_status_2'] = np.where(df_erp['stock_quantity']>0, 'instock', 'outofstock')\n",
    "df_erp['stock_status_2'].value_counts()"
   ]
  },
  {
   "cell_type": "code",
   "execution_count": 2155,
   "id": "90a1c8ae",
   "metadata": {},
   "outputs": [
    {
     "data": {
      "text/plain": [
       "0       True\n",
       "1       True\n",
       "2       True\n",
       "3       True\n",
       "4      False\n",
       "       ...  \n",
       "820     True\n",
       "821     True\n",
       "822     True\n",
       "823     True\n",
       "824     True\n",
       "Length: 825, dtype: bool"
      ]
     },
     "execution_count": 2155,
     "metadata": {},
     "output_type": "execute_result"
    }
   ],
   "source": [
    "#Vérifions que les 2 colonnes sont identiques:\n",
    "#Les 2 colonnes sont strictement identiques si les valeurs de chaque ligne sont strictement identiques 2 à 2\n",
    "#La comparaison de 2 colonnes peut se réaliser simplement avec l'instruction ci-dessous:\n",
    "df_erp[\"stock_status\"] == df_erp[\"stock_status_2\"]\n",
    "\n",
    "#Le résultat est l'affichage de True ou False pour chacune des lignes du dataset\n",
    "#C'est un bon début, mais difficile à exploiter"
   ]
  },
  {
   "cell_type": "code",
   "execution_count": 2156,
   "id": "ebe3650a",
   "metadata": {},
   "outputs": [
    {
     "name": "stdout",
     "output_type": "stream",
     "text": [
      "Nombre de correspondances entre 'stock_status' et 'stock_status_2' : 823\n"
     ]
    }
   ],
   "source": [
    "#Mais il est possible de synthétiser ce résultat en effectuant la somme de cette colonne:\n",
    "#True vaut 1 et False 0\n",
    "#Nous devrions obtenir la somme de 824 qui correspond au nombre de lignes dans ce dataset\n",
    "correspondance = df_erp[\"stock_status\"] == df_erp[\"stock_status_2\"]\n",
    "matches = correspondance.sum()\n",
    "print(f\"Nombre de correspondances entre 'stock_status' et 'stock_status_2' : {matches}\")"
   ]
  },
  {
   "cell_type": "code",
   "execution_count": 2157,
   "id": "1ca6060a",
   "metadata": {},
   "outputs": [
    {
     "data": {
      "text/html": [
       "<div>\n",
       "<style scoped>\n",
       "    .dataframe tbody tr th:only-of-type {\n",
       "        vertical-align: middle;\n",
       "    }\n",
       "\n",
       "    .dataframe tbody tr th {\n",
       "        vertical-align: top;\n",
       "    }\n",
       "\n",
       "    .dataframe thead th {\n",
       "        text-align: right;\n",
       "    }\n",
       "</style>\n",
       "<table border=\"1\" class=\"dataframe\">\n",
       "  <thead>\n",
       "    <tr style=\"text-align: right;\">\n",
       "      <th></th>\n",
       "      <th>product_id</th>\n",
       "      <th>onsale_web</th>\n",
       "      <th>price</th>\n",
       "      <th>stock_quantity</th>\n",
       "      <th>stock_status</th>\n",
       "      <th>purchase_price</th>\n",
       "      <th>stock_status_2</th>\n",
       "    </tr>\n",
       "  </thead>\n",
       "  <tbody>\n",
       "    <tr>\n",
       "      <th>4</th>\n",
       "      <td>4039</td>\n",
       "      <td>1</td>\n",
       "      <td>46.0</td>\n",
       "      <td>3</td>\n",
       "      <td>outofstock</td>\n",
       "      <td>23.77</td>\n",
       "      <td>instock</td>\n",
       "    </tr>\n",
       "    <tr>\n",
       "      <th>398</th>\n",
       "      <td>4885</td>\n",
       "      <td>1</td>\n",
       "      <td>18.7</td>\n",
       "      <td>0</td>\n",
       "      <td>instock</td>\n",
       "      <td>9.66</td>\n",
       "      <td>outofstock</td>\n",
       "    </tr>\n",
       "  </tbody>\n",
       "</table>\n",
       "</div>"
      ],
      "text/plain": [
       "     product_id  onsale_web  price  stock_quantity stock_status  \\\n",
       "4          4039           1   46.0               3   outofstock   \n",
       "398        4885           1   18.7               0      instock   \n",
       "\n",
       "     purchase_price stock_status_2  \n",
       "4             23.77        instock  \n",
       "398            9.66     outofstock  "
      ]
     },
     "execution_count": 2157,
     "metadata": {},
     "output_type": "execute_result"
    }
   ],
   "source": [
    "#Si les colonnes ne sont absolument pas identiques ligne à ligne alors identifier la ligne en écart\n",
    "##Dans ce cas je vous ce lien pour apprendre à réaliser des filtres dans Pandas:\n",
    "##https://bitbucket.org/hrojas/learn-pandas/src/master/\n",
    "##Lesson 3\n",
    "\n",
    "df_erp[df_erp[\"stock_status\"] != df_erp[\"stock_status_2\"]]\n"
   ]
  },
  {
   "cell_type": "code",
   "execution_count": 2158,
   "id": "ce1b9704",
   "metadata": {},
   "outputs": [
    {
     "data": {
      "text/html": [
       "<div>\n",
       "<style scoped>\n",
       "    .dataframe tbody tr th:only-of-type {\n",
       "        vertical-align: middle;\n",
       "    }\n",
       "\n",
       "    .dataframe tbody tr th {\n",
       "        vertical-align: top;\n",
       "    }\n",
       "\n",
       "    .dataframe thead th {\n",
       "        text-align: right;\n",
       "    }\n",
       "</style>\n",
       "<table border=\"1\" class=\"dataframe\">\n",
       "  <thead>\n",
       "    <tr style=\"text-align: right;\">\n",
       "      <th></th>\n",
       "      <th>product_id</th>\n",
       "      <th>onsale_web</th>\n",
       "      <th>price</th>\n",
       "      <th>stock_quantity</th>\n",
       "      <th>stock_status</th>\n",
       "      <th>purchase_price</th>\n",
       "      <th>stock_status_2</th>\n",
       "    </tr>\n",
       "  </thead>\n",
       "  <tbody>\n",
       "  </tbody>\n",
       "</table>\n",
       "</div>"
      ],
      "text/plain": [
       "Empty DataFrame\n",
       "Columns: [product_id, onsale_web, price, stock_quantity, stock_status, purchase_price, stock_status_2]\n",
       "Index: []"
      ]
     },
     "execution_count": 2158,
     "metadata": {},
     "output_type": "execute_result"
    }
   ],
   "source": [
    "#Corriger la ou les données incohérentes\n",
    "\n",
    "df_erp.loc[df_erp[\"stock_status\"] != df_erp[\"stock_status_2\"], \"stock_status\"] = df_erp[\"stock_status_2\"]\n",
    "\n",
    "#Verification en utilisant le même code que plus haut pour afficher les problemes\n",
    "\n",
    "df_erp[df_erp[\"stock_status\"] != df_erp[\"stock_status_2\"]]"
   ]
  },
  {
   "cell_type": "markdown",
   "id": "08bd4b08",
   "metadata": {},
   "source": [
    "<div style=\"border: 1px solid RGB(51,165,182);\" >\n",
    "<h3 style=\"margin: auto; padding: 20px; color: RGB(51,165,182); \">2.1.1 - Analyse exploratoire de chaque variable du fichier erp.xlsx</h3>\n",
    "</div>"
   ]
  },
  {
   "cell_type": "markdown",
   "id": "3476df40",
   "metadata": {},
   "source": [
    "<div style=\"border: 1px solid RGB(51,165,182);\" >\n",
    "<h3 style=\"margin: auto; padding: 20px; color: RGB(51,165,182); \">2.1.1.1 - Analyse de la variable PRIX</h3>\n",
    "</div>"
   ]
  },
  {
   "cell_type": "code",
   "execution_count": 2159,
   "id": "a7fc3384",
   "metadata": {},
   "outputs": [
    {
     "name": "stdout",
     "output_type": "stream",
     "text": [
      "La variable prix présente 3 valeurs incorrectes.\n",
      "Nombres d'article avec un prix non renseignés: 0\n",
      "Prix minimum renseigné: -20.0\n",
      "Prix maximum renseigné: 225.0\n",
      "     product_id  onsale_web  price  stock_quantity stock_status  \\\n",
      "151        4233           0  -20.0               0   outofstock   \n",
      "469        5017           0   -8.0               0   outofstock   \n",
      "739        6594           0   -9.1              19      instock   \n",
      "\n",
      "     purchase_price stock_status_2  \n",
      "151           10.33     outofstock  \n",
      "469            4.34     outofstock  \n",
      "739            4.61        instock  \n",
      "Empty DataFrame\n",
      "Columns: [product_id, onsale_web, price, stock_quantity, stock_status, purchase_price, stock_status_2]\n",
      "Index: []\n"
     ]
    }
   ],
   "source": [
    "###############\n",
    "## LES PRIX  ##\n",
    "###############\n",
    "\n",
    "#Vérification des prix: Y a t-il des prix non renseignés, négatif ou nul?\n",
    "\n",
    "conditions_price = df_erp['price'].isna() | (df_erp['price'] < 0) | (df_erp['price'] == 0)\n",
    "print(\"La variable prix présente {} valeurs incorrectes.\".format(conditions_price.sum()))\n",
    "\n",
    "#Afficher le ou les prix non renseignés dans la colonne \"price\"\n",
    "\n",
    "print(\"Nombres d'article avec un prix non renseignés: {}\".format(df_erp['price'].isna().sum()))\n",
    "\n",
    "#Afficher le prix minimum de la colonne \"price\"\n",
    "\n",
    "print(\"Prix minimum renseigné: {}\".format(df_erp['price'].min()))\n",
    "\n",
    "#Afficher le prix maximum de la colonne \"price\"\n",
    "\n",
    "print(\"Prix maximum renseigné: {}\".format(df_erp['price'].max()))\n",
    "\n",
    "#Affichier les prix inférieurs à 0 (qu'est ce qu'il faut en faire ?)\n",
    "\n",
    "print(df_erp[df_erp['price']<0])\n",
    "\n",
    "# Ces tarifs négatifs sont à  ne pas prendre en compte pour notre analyse, remonter l'information au service concerné pour déterminer d'où provient l'erreur pour éviter de \n",
    "# les retrouver dans les prochaines analyses.\n",
    "\n",
    "# Suppression des lignes incriminées\n",
    "df_erp = df_erp[df_erp['price'] >= 0]\n",
    "\n",
    "# Vérification du résultat\n",
    "print(df_erp[df_erp['price']<0])"
   ]
  },
  {
   "cell_type": "markdown",
   "id": "c5fce58c",
   "metadata": {},
   "source": [
    "<div style=\"border: 1px solid RGB(51,165,182);\" >\n",
    "<h3 style=\"margin: auto; padding: 20px; color: RGB(51,165,182); \">2.1.1.2 - Analyse de la variable STOCK</h3>\n",
    "</div>"
   ]
  },
  {
   "cell_type": "code",
   "execution_count": 2160,
   "id": "3d14c4a0",
   "metadata": {},
   "outputs": [
    {
     "name": "stdout",
     "output_type": "stream",
     "text": [
      "La variable stock présente 2 valeurs incorrectes.\n",
      "Stock minimum renseigné: -10\n",
      "Stock maximum renseigné: 145\n",
      "     product_id  onsale_web  price  stock_quantity stock_status  \\\n",
      "449        4973           0   10.0             -10   outofstock   \n",
      "573        5700           1   44.5              -1   outofstock   \n",
      "\n",
      "     purchase_price stock_status_2  \n",
      "449            4.96     outofstock  \n",
      "573           22.30     outofstock  \n",
      "Empty DataFrame\n",
      "Columns: [product_id, onsale_web, price, stock_quantity, stock_status, purchase_price, stock_status_2]\n",
      "Index: []\n"
     ]
    }
   ],
   "source": [
    "#######################\n",
    "### stock_quantity  ###\n",
    "#######################\n",
    "\n",
    "#Vérification de la colonne stock quantity\n",
    "conditions_stock = df_erp['stock_quantity'].isna() | (df_erp['stock_quantity'] < 0)\n",
    "print(\"La variable stock présente {} valeurs incorrectes.\".format(conditions_stock.sum()))\n",
    "\n",
    "#Afficher la quantité minimum de la colonne \"stock_quantity\"\n",
    "\n",
    "print(\"Stock minimum renseigné: {}\".format(df_erp['stock_quantity'].min()))\n",
    "\n",
    "#Afficher la quantité maximum de la colonne \"stock_quantity\"\n",
    "\n",
    "print(\"Stock maximum renseigné: {}\".format(df_erp['stock_quantity'].max()))\n",
    "\n",
    "#Affichier les stocks inférieurs à 0 (qu'est ce qu'il faut en faire ?)\n",
    "\n",
    "print(df_erp[df_erp['stock_quantity']<0])\n",
    "#Remplacer les quantités par 0 ?\n",
    "\n",
    "df_erp.loc[df_erp['stock_quantity'] < 0, 'stock_quantity'] = 0\n",
    "\n",
    "# Vérification:\n",
    "print(df_erp[df_erp['stock_quantity']<0])"
   ]
  },
  {
   "cell_type": "markdown",
   "id": "20e8c554",
   "metadata": {},
   "source": [
    "<div style=\"border: 1px solid RGB(51,165,182);\" >\n",
    "<h3 style=\"margin: auto; padding: 20px; color: RGB(51,165,182); \">2.1.1.3 - Analyse de la variable ONSALE_WEB</h3>\n",
    "</div>"
   ]
  },
  {
   "cell_type": "code",
   "execution_count": 2161,
   "id": "99b936ca",
   "metadata": {},
   "outputs": [
    {
     "data": {
      "text/plain": [
       "array([1, 0], dtype=int64)"
      ]
     },
     "execution_count": 2161,
     "metadata": {},
     "output_type": "execute_result"
    }
   ],
   "source": [
    "#Vérification de la colonne onsale_web et des valeurs qu'elle contient? Que signifient-elles?\n",
    "\n",
    "df_erp['onsale_web'].unique()\n",
    "\n",
    "#La colonne onsale_web correspond aux produits en vente sur le site."
   ]
  },
  {
   "cell_type": "code",
   "execution_count": 2162,
   "id": "5a79444d",
   "metadata": {},
   "outputs": [],
   "source": [
    "#Quelles sont les colonnes à conserver selon vous?\n",
    "\n",
    "# Les colonnes à conserver seraient product_id, price, stock_quantity et purchase_price."
   ]
  },
  {
   "cell_type": "code",
   "execution_count": 2163,
   "id": "8053aeda",
   "metadata": {},
   "outputs": [],
   "source": [
    "#Supprimer la colonnecomportant le libellé \"stock_status_2\" car elle est redondante \n",
    "#avec la colonne \"stock_status\".\n",
    "df_erp = df_erp.drop(columns=['stock_status_2'])\n"
   ]
  },
  {
   "cell_type": "code",
   "execution_count": 2164,
   "id": "d2905dd2",
   "metadata": {},
   "outputs": [
    {
     "data": {
      "text/html": [
       "<div>\n",
       "<style scoped>\n",
       "    .dataframe tbody tr th:only-of-type {\n",
       "        vertical-align: middle;\n",
       "    }\n",
       "\n",
       "    .dataframe tbody tr th {\n",
       "        vertical-align: top;\n",
       "    }\n",
       "\n",
       "    .dataframe thead th {\n",
       "        text-align: right;\n",
       "    }\n",
       "</style>\n",
       "<table border=\"1\" class=\"dataframe\">\n",
       "  <thead>\n",
       "    <tr style=\"text-align: right;\">\n",
       "      <th></th>\n",
       "      <th>product_id</th>\n",
       "      <th>onsale_web</th>\n",
       "      <th>price</th>\n",
       "      <th>stock_quantity</th>\n",
       "      <th>stock_status</th>\n",
       "      <th>purchase_price</th>\n",
       "    </tr>\n",
       "  </thead>\n",
       "  <tbody>\n",
       "    <tr>\n",
       "      <th>0</th>\n",
       "      <td>3847</td>\n",
       "      <td>1</td>\n",
       "      <td>24.2</td>\n",
       "      <td>16</td>\n",
       "      <td>instock</td>\n",
       "      <td>12.88</td>\n",
       "    </tr>\n",
       "    <tr>\n",
       "      <th>1</th>\n",
       "      <td>3849</td>\n",
       "      <td>1</td>\n",
       "      <td>34.3</td>\n",
       "      <td>10</td>\n",
       "      <td>instock</td>\n",
       "      <td>17.54</td>\n",
       "    </tr>\n",
       "    <tr>\n",
       "      <th>2</th>\n",
       "      <td>3850</td>\n",
       "      <td>1</td>\n",
       "      <td>20.8</td>\n",
       "      <td>0</td>\n",
       "      <td>outofstock</td>\n",
       "      <td>10.64</td>\n",
       "    </tr>\n",
       "    <tr>\n",
       "      <th>3</th>\n",
       "      <td>4032</td>\n",
       "      <td>1</td>\n",
       "      <td>14.1</td>\n",
       "      <td>26</td>\n",
       "      <td>instock</td>\n",
       "      <td>6.92</td>\n",
       "    </tr>\n",
       "    <tr>\n",
       "      <th>4</th>\n",
       "      <td>4039</td>\n",
       "      <td>1</td>\n",
       "      <td>46.0</td>\n",
       "      <td>3</td>\n",
       "      <td>instock</td>\n",
       "      <td>23.77</td>\n",
       "    </tr>\n",
       "  </tbody>\n",
       "</table>\n",
       "</div>"
      ],
      "text/plain": [
       "   product_id  onsale_web  price  stock_quantity stock_status  purchase_price\n",
       "0        3847           1   24.2              16      instock           12.88\n",
       "1        3849           1   34.3              10      instock           17.54\n",
       "2        3850           1   20.8               0   outofstock           10.64\n",
       "3        4032           1   14.1              26      instock            6.92\n",
       "4        4039           1   46.0               3      instock           23.77"
      ]
     },
     "execution_count": 2164,
     "metadata": {},
     "output_type": "execute_result"
    }
   ],
   "source": [
    "df_erp.head()"
   ]
  },
  {
   "cell_type": "markdown",
   "id": "eca4fce9",
   "metadata": {},
   "source": [
    "<div style=\"border: 1px solid RGB(51,165,182);\" >\n",
    "<h3 style=\"margin: auto; padding: 20px; color: RGB(51,165,182); \">2.1.1.4 - Analyse de la variable prix d'achat</h3>\n",
    "</div>"
   ]
  },
  {
   "cell_type": "code",
   "execution_count": 2165,
   "id": "6b85ba0d",
   "metadata": {},
   "outputs": [
    {
     "name": "stdout",
     "output_type": "stream",
     "text": [
      "Prix d'achat non renseignés: 0\n",
      "Prix d'achat minimum renseigné: 2.74€\n",
      "Prix d'achat maximum renseigné: 137.81€\n"
     ]
    }
   ],
   "source": [
    "######################\n",
    "##   prix d'achat   ##\n",
    "######################\n",
    "\n",
    "#Vérification de la colonne purchase_price : \n",
    "#Afficher le ou les prix non renseignés dans la colonne \"purchase_price\"\n",
    "\n",
    "print(\"Prix d'achat non renseignés: {}\".format(df_erp['purchase_price'].isna().sum()))\n",
    "\n",
    "#Afficher le prix minimum de la colonne \"purchase_price\"\n",
    "\n",
    "print(\"Prix d'achat minimum renseigné: {}€\".format(df_erp['purchase_price'].min()))\n",
    "\n",
    "#Afficher le prix maximum de la colonne \"purchase_price\"\n",
    "\n",
    "print(\"Prix d'achat maximum renseigné: {}€\".format(df_erp['purchase_price'].max()))"
   ]
  },
  {
   "cell_type": "markdown",
   "id": "a550f996",
   "metadata": {},
   "source": [
    "<div style=\"border: 1px solid RGB(51,165,182);\" >\n",
    "<h3 style=\"margin: auto; padding: 20px; color: RGB(51,165,182); \">2.2 - Analyse exploratoire du fichier web.xlsx</h3>\n",
    "</div>\n",
    " "
   ]
  },
  {
   "cell_type": "code",
   "execution_count": 2166,
   "id": "bb7e292c",
   "metadata": {},
   "outputs": [
    {
     "name": "stdout",
     "output_type": "stream",
     "text": [
      "Le tableau comporte 1513 observation(s) ou article(s)\n",
      "Le tableau comporte 29 colonne(s)\n",
      "<class 'pandas.core.frame.DataFrame'>\n",
      "RangeIndex: 1513 entries, 0 to 1512\n",
      "Data columns (total 29 columns):\n",
      " #   Column                 Non-Null Count  Dtype         \n",
      "---  ------                 --------------  -----         \n",
      " 0   sku                    1428 non-null   object        \n",
      " 1   virtual                1513 non-null   int64         \n",
      " 2   downloadable           1513 non-null   int64         \n",
      " 3   rating_count           1513 non-null   int64         \n",
      " 4   average_rating         1430 non-null   float64       \n",
      " 5   total_sales            1430 non-null   float64       \n",
      " 6   tax_status             716 non-null    object        \n",
      " 7   tax_class              0 non-null      float64       \n",
      " 8   post_author            1430 non-null   float64       \n",
      " 9   post_date              1430 non-null   datetime64[ns]\n",
      " 10  post_date_gmt          1430 non-null   datetime64[ns]\n",
      " 11  post_content           0 non-null      float64       \n",
      " 12  product_type           1429 non-null   object        \n",
      " 13  post_title             1430 non-null   object        \n",
      " 14  post_excerpt           716 non-null    object        \n",
      " 15  post_status            1430 non-null   object        \n",
      " 16  comment_status         1430 non-null   object        \n",
      " 17  ping_status            1430 non-null   object        \n",
      " 18  post_password          0 non-null      float64       \n",
      " 19  post_name              1430 non-null   object        \n",
      " 20  post_modified          1430 non-null   datetime64[ns]\n",
      " 21  post_modified_gmt      1430 non-null   datetime64[ns]\n",
      " 22  post_content_filtered  0 non-null      float64       \n",
      " 23  post_parent            1430 non-null   float64       \n",
      " 24  guid                   1430 non-null   object        \n",
      " 25  menu_order             1430 non-null   float64       \n",
      " 26  post_type              1430 non-null   object        \n",
      " 27  post_mime_type         714 non-null    object        \n",
      " 28  comment_count          1430 non-null   float64       \n",
      "dtypes: datetime64[ns](4), float64(10), int64(3), object(12)\n",
      "memory usage: 342.9+ KB\n",
      "None\n"
     ]
    }
   ],
   "source": [
    "#Dimension du dataset\n",
    "#Nombre d'observations\n",
    "print(\"Le tableau comporte {} observation(s) ou article(s)\".format(df_web.shape[0]))\n",
    "print(\"Le tableau comporte {} colonne(s)\".format(df_web.shape[1]))\n",
    "\n",
    "#Nombre de caractéristiques\n",
    "print(df_web.info())"
   ]
  },
  {
   "cell_type": "code",
   "execution_count": 2167,
   "id": "0b70a8da",
   "metadata": {},
   "outputs": [
    {
     "name": "stdout",
     "output_type": "stream",
     "text": [
      "Le tableau comporte 29 colonne(s)\n",
      "     sku  virtual  downloadable  rating_count  average_rating  total_sales  \\\n",
      "0  11862        0             0             0             0.0          3.0   \n",
      "1  16057        0             0             0             0.0          5.0   \n",
      "2  14692        0             0             0             0.0          5.0   \n",
      "3  16295        0             0             0             0.0         14.0   \n",
      "4  15328        0             0             0             0.0          2.0   \n",
      "\n",
      "  tax_status  tax_class  post_author           post_date  ...  \\\n",
      "0        NaN        NaN          2.0 2018-02-12 13:46:23  ...   \n",
      "1        NaN        NaN          2.0 2018-04-17 15:29:17  ...   \n",
      "2    taxable        NaN          2.0 2019-03-19 10:06:47  ...   \n",
      "3        NaN        NaN          2.0 2018-02-15 14:05:06  ...   \n",
      "4    taxable        NaN          2.0 2019-03-27 18:05:09  ...   \n",
      "\n",
      "                                           post_name       post_modified  \\\n",
      "0                        gilles-robin-hermitage-2012 2019-01-31 12:12:56   \n",
      "1        pelle-sancerre-rouge-la-croix-au-garde-2017 2020-07-07 10:05:02   \n",
      "2              fonreaud-bordeaux-blanc-le-cygne-2016 2020-04-25 21:40:31   \n",
      "3  moulin-de-gassac-igp-pays-dherault-guilhem-ros... 2020-08-27 18:55:03   \n",
      "4               agnes-levet-cote-rotie-maestria-2017 2020-07-25 15:45:02   \n",
      "\n",
      "    post_modified_gmt post_content_filtered post_parent  \\\n",
      "0 2019-01-31 11:12:56                   NaN         0.0   \n",
      "1 2020-07-07 08:05:02                   NaN         0.0   \n",
      "2 2020-04-25 19:40:31                   NaN         0.0   \n",
      "3 2020-08-27 16:55:03                   NaN         0.0   \n",
      "4 2020-07-25 13:45:02                   NaN         0.0   \n",
      "\n",
      "                                                guid menu_order   post_type  \\\n",
      "0  https://www.bottle-neck.fr/wp-content/uploads/...        0.0  attachment   \n",
      "1  https://www.bottle-neck.fr/wp-content/uploads/...        0.0  attachment   \n",
      "2  https://www.bottle-neck.fr/?post_type=product&...        0.0     product   \n",
      "3  https://www.bottle-neck.fr/wp-content/uploads/...        0.0  attachment   \n",
      "4  https://www.bottle-neck.fr/?post_type=product&...        0.0     product   \n",
      "\n",
      "   post_mime_type comment_count  \n",
      "0      image/jpeg           0.0  \n",
      "1      image/jpeg           0.0  \n",
      "2             NaN           0.0  \n",
      "3      image/jpeg           0.0  \n",
      "4             NaN           0.0  \n",
      "\n",
      "[5 rows x 29 columns]\n"
     ]
    }
   ],
   "source": [
    "#Consulter le nombre de colonnes\n",
    "#La nature des données dans chacune des colonnes\n",
    "#Le nombre de valeurs présentes dans chacune des colonnes\n",
    "print(\"Le tableau comporte {} colonne(s)\".format(df_web.shape[1]))\n",
    "print(df_web.head())"
   ]
  },
  {
   "cell_type": "code",
   "execution_count": 2168,
   "id": "b0d2f149",
   "metadata": {},
   "outputs": [],
   "source": [
    "#Selon vous, quelles sont les colonnes à conserver ?\n",
    "# SKU, total_sales, post_date, post_title, post_mime_type, product_type"
   ]
  },
  {
   "cell_type": "code",
   "execution_count": 2169,
   "id": "30b2196b",
   "metadata": {},
   "outputs": [],
   "source": [
    "#Si vous avez défini des colonnes à supprimer, effectuer l'opération\n",
    "df_web_clean = df_web[[\"sku\",\"total_sales\",\"post_title\", \"product_type\", \"post_mime_type\", \"post_date\"]]"
   ]
  },
  {
   "cell_type": "code",
   "execution_count": 2170,
   "id": "1b965d06",
   "metadata": {},
   "outputs": [
    {
     "name": "stdout",
     "output_type": "stream",
     "text": [
      "<class 'pandas.core.series.Series'>\n",
      "RangeIndex: 1513 entries, 0 to 1512\n",
      "Series name: sku\n",
      "Non-Null Count  Dtype \n",
      "--------------  ----- \n",
      "1428 non-null   object\n",
      "dtypes: object(1)\n",
      "memory usage: 11.9+ KB\n"
     ]
    }
   ],
   "source": [
    "#Visualisation des valeurs de la colonne sku\n",
    "#Quelles sont les valeurs qui ne semblent pas respecter la régle de codification?\n",
    "df_web_clean['sku'].info()"
   ]
  },
  {
   "cell_type": "code",
   "execution_count": 2171,
   "id": "1226dcfd",
   "metadata": {},
   "outputs": [
    {
     "name": "stdout",
     "output_type": "stream",
     "text": [
      "                      sku  virtual  downloadable  rating_count  \\\n",
      "272               13127-1        0             0             0   \n",
      "842   bon-cadeau-25-euros        0             0             0   \n",
      "1117              13127-1        0             0             0   \n",
      "1387  bon-cadeau-25-euros        0             0             0   \n",
      "\n",
      "      average_rating  total_sales tax_status  tax_class  post_author  \\\n",
      "272              0.0          4.0    taxable        NaN          2.0   \n",
      "842              0.0          7.0        NaN        NaN          1.0   \n",
      "1117             0.0          4.0        NaN        NaN          2.0   \n",
      "1387             0.0          7.0    taxable        NaN          1.0   \n",
      "\n",
      "               post_date  ...                                       post_name  \\\n",
      "272  2020-06-09 15:42:04  ...  clos-du-mont-olivet-chateauneuf-du-pape-2007-2   \n",
      "842  2018-06-01 13:53:46  ...                          bon-cadeau-de-25-euros   \n",
      "1117 2020-06-09 15:42:04  ...  clos-du-mont-olivet-chateauneuf-du-pape-2007-2   \n",
      "1387 2018-06-01 13:53:46  ...                          bon-cadeau-de-25-euros   \n",
      "\n",
      "           post_modified   post_modified_gmt post_content_filtered  \\\n",
      "272  2020-07-20 17:09:06 2020-07-20 15:09:06                   NaN   \n",
      "842  2018-06-01 14:13:57 2018-06-01 12:13:57                   NaN   \n",
      "1117 2020-07-20 17:09:06 2020-07-20 15:09:06                   NaN   \n",
      "1387 2018-06-01 14:13:57 2018-06-01 12:13:57                   NaN   \n",
      "\n",
      "     post_parent                                               guid  \\\n",
      "272          0.0  https://www.bottle-neck.fr/?post_type=product&...   \n",
      "842          0.0  https://www.bottle-neck.fr/wp-content/uploads/...   \n",
      "1117         0.0  https://www.bottle-neck.fr/wp-content/uploads/...   \n",
      "1387         0.0  https://www.bottle-neck.fr/?post_type=product&...   \n",
      "\n",
      "     menu_order   post_type  post_mime_type comment_count  \n",
      "272         0.0     product             NaN           0.0  \n",
      "842         0.0  attachment      image/jpeg           0.0  \n",
      "1117        0.0  attachment      image/jpeg           0.0  \n",
      "1387        0.0     product             NaN           0.0  \n",
      "\n",
      "[4 rows x 29 columns]\n"
     ]
    }
   ],
   "source": [
    "#Si vous avez identifié des codes articles ne respectant pas la régle de codification, consultez-les?\n",
    "invalid_sku = df_web[df_web['sku'].str.contains(r'\\D', na=False)]\n",
    "\n",
    "print(invalid_sku)"
   ]
  },
  {
   "cell_type": "code",
   "execution_count": 2172,
   "id": "eb8d31bf",
   "metadata": {},
   "outputs": [
    {
     "data": {
      "text/plain": [
       "85"
      ]
     },
     "execution_count": 2172,
     "metadata": {},
     "output_type": "execute_result"
    }
   ],
   "source": [
    "#Identifier les lignes sans code articles\n",
    "df_web_clean['sku'].isna().sum()"
   ]
  },
  {
   "cell_type": "code",
   "execution_count": 2173,
   "id": "967495da",
   "metadata": {},
   "outputs": [
    {
     "name": "stdout",
     "output_type": "stream",
     "text": [
      "      sku  total_sales post_title product_type post_mime_type post_date\n",
      "8     NaN          NaN        NaN          NaN            NaN       NaT\n",
      "20    NaN          NaN        NaN          NaN            NaN       NaT\n",
      "30    NaN          NaN        NaN          NaN            NaN       NaT\n",
      "37    NaN          NaN        NaN          NaN            NaN       NaT\n",
      "41    NaN          NaN        NaN          NaN            NaN       NaT\n",
      "...   ...          ...        ...          ...            ...       ...\n",
      "1384  NaN          NaN        NaN          NaN            NaN       NaT\n",
      "1429  NaN          NaN        NaN          NaN            NaN       NaT\n",
      "1432  NaN          NaN        NaN          NaN            NaN       NaT\n",
      "1445  NaN          NaN        NaN          NaN            NaN       NaT\n",
      "1457  NaN          NaN        NaN          NaN            NaN       NaT\n",
      "\n",
      "[85 rows x 6 columns]\n"
     ]
    }
   ],
   "source": [
    "#Pour les codes articles identifiés, réalisé une analyse et définissez l'action à entreprendre\n",
    "print(df_web_clean.loc[df_web_clean['sku'].isna()])\n",
    "\n",
    "# Suppression des lignes au sku NaN\n",
    "df_web_clean = df_web_clean.loc[~df_web_clean[\"sku\"].isna()]"
   ]
  },
  {
   "cell_type": "code",
   "execution_count": 2174,
   "id": "27bf30de",
   "metadata": {},
   "outputs": [
    {
     "data": {
      "text/plain": [
       "714"
      ]
     },
     "execution_count": 2174,
     "metadata": {},
     "output_type": "execute_result"
    }
   ],
   "source": [
    "#La clé pour chaque ligne est-elle uniques? ou autrement dit, y a-t-il des doublons?\n",
    "df_web_clean['sku'].duplicated().sum()"
   ]
  },
  {
   "cell_type": "code",
   "execution_count": 2175,
   "id": "b6999365",
   "metadata": {},
   "outputs": [
    {
     "data": {
      "text/plain": [
       "sku                 0\n",
       "total_sales         0\n",
       "post_title          0\n",
       "product_type        1\n",
       "post_mime_type    714\n",
       "post_date           0\n",
       "dtype: int64"
      ]
     },
     "execution_count": 2175,
     "metadata": {},
     "output_type": "execute_result"
    }
   ],
   "source": [
    "# PERSO\n",
    "df_web_clean.isna().sum()"
   ]
  },
  {
   "cell_type": "code",
   "execution_count": 2176,
   "id": "084b13af",
   "metadata": {},
   "outputs": [
    {
     "data": {
      "text/html": [
       "<div>\n",
       "<style scoped>\n",
       "    .dataframe tbody tr th:only-of-type {\n",
       "        vertical-align: middle;\n",
       "    }\n",
       "\n",
       "    .dataframe tbody tr th {\n",
       "        vertical-align: top;\n",
       "    }\n",
       "\n",
       "    .dataframe thead th {\n",
       "        text-align: right;\n",
       "    }\n",
       "</style>\n",
       "<table border=\"1\" class=\"dataframe\">\n",
       "  <thead>\n",
       "    <tr style=\"text-align: right;\">\n",
       "      <th></th>\n",
       "      <th>sku</th>\n",
       "      <th>total_sales</th>\n",
       "      <th>post_title</th>\n",
       "      <th>product_type</th>\n",
       "      <th>post_mime_type</th>\n",
       "      <th>post_date</th>\n",
       "    </tr>\n",
       "  </thead>\n",
       "  <tbody>\n",
       "    <tr>\n",
       "      <th>6</th>\n",
       "      <td>16515</td>\n",
       "      <td>10.0</td>\n",
       "      <td>Château Turcaud Bordeaux Rouge Cuvée Majeure 2018</td>\n",
       "      <td>Vin</td>\n",
       "      <td>NaN</td>\n",
       "      <td>2018-06-02 09:31:31</td>\n",
       "    </tr>\n",
       "    <tr>\n",
       "      <th>866</th>\n",
       "      <td>16515</td>\n",
       "      <td>10.0</td>\n",
       "      <td>Château Turcaud Bordeaux Rouge Cuvée Majeure 2018</td>\n",
       "      <td>Vin</td>\n",
       "      <td>image/jpeg</td>\n",
       "      <td>2018-06-02 09:31:31</td>\n",
       "    </tr>\n",
       "  </tbody>\n",
       "</table>\n",
       "</div>"
      ],
      "text/plain": [
       "       sku  total_sales                                         post_title  \\\n",
       "6    16515         10.0  Château Turcaud Bordeaux Rouge Cuvée Majeure 2018   \n",
       "866  16515         10.0  Château Turcaud Bordeaux Rouge Cuvée Majeure 2018   \n",
       "\n",
       "    product_type post_mime_type           post_date  \n",
       "6            Vin            NaN 2018-06-02 09:31:31  \n",
       "866          Vin     image/jpeg 2018-06-02 09:31:31  "
      ]
     },
     "execution_count": 2176,
     "metadata": {},
     "output_type": "execute_result"
    }
   ],
   "source": [
    "# Il y a autant de doublons de SKU que de post_mime_type non renseignés. Exploration du df via l'extension data wrangler, pour l'exemple nous allons selectionner 2 lignes au SKU unique\n",
    "df_web_clean.loc[df_web_clean['sku']== 16515]"
   ]
  },
  {
   "cell_type": "code",
   "execution_count": 2177,
   "id": "da8e3c93",
   "metadata": {},
   "outputs": [
    {
     "name": "stdout",
     "output_type": "stream",
     "text": [
      "Le fichier web présente maintenant 0 doublon.\n"
     ]
    },
    {
     "data": {
      "text/plain": [
       "sku               0\n",
       "total_sales       0\n",
       "post_title        0\n",
       "product_type      0\n",
       "post_mime_type    0\n",
       "post_date         0\n",
       "dtype: int64"
      ]
     },
     "execution_count": 2177,
     "metadata": {},
     "output_type": "execute_result"
    }
   ],
   "source": [
    "# Les valeurs SKU sont donc en double lorsque leur type de fichier n'est pas renseigné, on supprime donc les lignes ayant le post_mime_type non renseigné\n",
    "df_web_clean = df_web_clean.loc[~df_web_clean[\"post_mime_type\"].isna()]\n",
    "\n",
    "# Vérification du résultat\n",
    "print(\"Le fichier web présente maintenant {} doublon.\".format(df_web_clean.duplicated().sum()))\n",
    "\n",
    "\n",
    "df_web_clean.isna().sum()\n"
   ]
  },
  {
   "cell_type": "markdown",
   "id": "dbff6403",
   "metadata": {},
   "source": [
    "<div style=\"border: 1px solid RGB(51,165,182);\" >\n",
    "<h3 style=\"margin: auto; padding: 20px; color: RGB(51,165,182); \">2.3 - Analyse exploratoire du fichier liaison.xlsx</h3>\n",
    "</div>"
   ]
  },
  {
   "cell_type": "code",
   "execution_count": 2178,
   "id": "de426b74",
   "metadata": {},
   "outputs": [
    {
     "name": "stdout",
     "output_type": "stream",
     "text": [
      "Le tableau comporte 825 observation(s) ou article(s)\n",
      "<class 'pandas.core.frame.DataFrame'>\n",
      "RangeIndex: 825 entries, 0 to 824\n",
      "Data columns (total 2 columns):\n",
      " #   Column      Non-Null Count  Dtype \n",
      "---  ------      --------------  ----- \n",
      " 0   id_web      734 non-null    object\n",
      " 1   product_id  825 non-null    int64 \n",
      "dtypes: int64(1), object(1)\n",
      "memory usage: 13.0+ KB\n",
      "None\n"
     ]
    }
   ],
   "source": [
    "#Dimension du dataset\n",
    "#Nombre d'observations\n",
    "\n",
    "print(\"Le tableau comporte {} observation(s) ou article(s)\".format(df_liaison.shape[0]))\n",
    "\n",
    "\n",
    "#Nombre de caractéristiques\n",
    "print(df_liaison.info())"
   ]
  },
  {
   "cell_type": "code",
   "execution_count": 2179,
   "id": "9834ae33",
   "metadata": {},
   "outputs": [
    {
     "name": "stdout",
     "output_type": "stream",
     "text": [
      "Le tableau comporte 2 colonne(s)\n"
     ]
    }
   ],
   "source": [
    "#Consulter le nombre de colonnes\n",
    "#La nature des données dans chacune des colonnes\n",
    "#Le nombre de valeurs présentes dans chacune des colonnes\n",
    "print(\"Le tableau comporte {} colonne(s)\".format(df_liaison.shape[1]))\n"
   ]
  },
  {
   "cell_type": "code",
   "execution_count": 2180,
   "id": "2b30d6b2",
   "metadata": {},
   "outputs": [
    {
     "data": {
      "text/plain": [
       "True"
      ]
     },
     "execution_count": 2180,
     "metadata": {},
     "output_type": "execute_result"
    }
   ],
   "source": [
    "#Les valeurs de la colonne \"product_id\" sont elles toutes uniques?\n",
    "df_liaison['product_id'].is_unique"
   ]
  },
  {
   "cell_type": "code",
   "execution_count": 2181,
   "id": "4d8ca13c",
   "metadata": {},
   "outputs": [
    {
     "name": "stdout",
     "output_type": "stream",
     "text": [
      "False\n",
      "La colonne id_web présente 90 doublons.\n"
     ]
    }
   ],
   "source": [
    "#Les valeurs de la colonne \"id_web\" sont-elles toutes uniques?\n",
    "print(df_liaison['id_web'].is_unique)\n",
    "print(\"La colonne id_web présente {} doublons.\".format(df_liaison['id_web'].duplicated().sum()))"
   ]
  },
  {
   "cell_type": "code",
   "execution_count": 2182,
   "id": "52f7c843",
   "metadata": {},
   "outputs": [
    {
     "name": "stdout",
     "output_type": "stream",
     "text": [
      "id_web        91\n",
      "product_id     0\n",
      "dtype: int64\n",
      "<class 'pandas.core.frame.DataFrame'>\n",
      "Index: 734 entries, 0 to 824\n",
      "Data columns (total 2 columns):\n",
      " #   Column      Non-Null Count  Dtype \n",
      "---  ------      --------------  ----- \n",
      " 0   id_web      734 non-null    object\n",
      " 1   product_id  734 non-null    int64 \n",
      "dtypes: int64(1), object(1)\n",
      "memory usage: 17.2+ KB\n",
      "None\n",
      "True\n",
      "id_web        0\n",
      "product_id    0\n",
      "dtype: int64\n"
     ]
    }
   ],
   "source": [
    "#Avons-nous des articles sans correspondances?\n",
    "print(df_liaison.isna().sum())\n",
    "\n",
    "# Supression des lignes où id_web = NaN\n",
    "df_liaison = df_liaison.loc[~df_liaison[\"id_web\"].isna()]\n",
    "\n",
    "#Contrôle des données\n",
    "print(df_liaison.info())\n",
    "print(df_liaison['id_web'].is_unique)\n",
    "print(df_liaison.isna().sum())"
   ]
  },
  {
   "cell_type": "markdown",
   "id": "1a359137",
   "metadata": {},
   "source": [
    "<div style=\"background-color: RGB(51,165,182);\" >\n",
    "<h2 style=\"margin: auto; padding: 20px; color:#fff; \">Etape 3 - Jonction des fichiers</h2>\n",
    "</div>"
   ]
  },
  {
   "cell_type": "markdown",
   "id": "b7750c10",
   "metadata": {},
   "source": [
    "<div style=\"border: 1px solid RGB(51,165,182);\" >\n",
    "<h3 style=\"margin: auto; padding: 20px; color: RGB(51,165,182); \">Etape 3.1 - Jonction du fichier df_erp et df_liaison</h3>\n",
    "</div>"
   ]
  },
  {
   "cell_type": "code",
   "execution_count": 2183,
   "id": "e756ec7d",
   "metadata": {},
   "outputs": [
    {
     "name": "stdout",
     "output_type": "stream",
     "text": [
      "<class 'pandas.core.frame.DataFrame'>\n",
      "RangeIndex: 822 entries, 0 to 821\n",
      "Data columns (total 8 columns):\n",
      " #   Column          Non-Null Count  Dtype   \n",
      "---  ------          --------------  -----   \n",
      " 0   product_id      822 non-null    int64   \n",
      " 1   onsale_web      822 non-null    int64   \n",
      " 2   price           822 non-null    float64 \n",
      " 3   stock_quantity  822 non-null    int64   \n",
      " 4   stock_status    822 non-null    object  \n",
      " 5   purchase_price  822 non-null    float64 \n",
      " 6   id_web          734 non-null    object  \n",
      " 7   _merge          822 non-null    category\n",
      "dtypes: category(1), float64(2), int64(3), object(2)\n",
      "memory usage: 46.0+ KB\n"
     ]
    }
   ],
   "source": [
    "#Fusion des fichiers df_erp et df_liaison\n",
    "df_merge = pd.merge(df_erp, df_liaison, how=\"outer\", on=\"product_id\", indicator =True)\n",
    "df_merge.info()"
   ]
  },
  {
   "cell_type": "code",
   "execution_count": 2184,
   "id": "d06a3467",
   "metadata": {},
   "outputs": [
    {
     "data": {
      "text/html": [
       "<div>\n",
       "<style scoped>\n",
       "    .dataframe tbody tr th:only-of-type {\n",
       "        vertical-align: middle;\n",
       "    }\n",
       "\n",
       "    .dataframe tbody tr th {\n",
       "        vertical-align: top;\n",
       "    }\n",
       "\n",
       "    .dataframe thead th {\n",
       "        text-align: right;\n",
       "    }\n",
       "</style>\n",
       "<table border=\"1\" class=\"dataframe\">\n",
       "  <thead>\n",
       "    <tr style=\"text-align: right;\">\n",
       "      <th></th>\n",
       "      <th>product_id</th>\n",
       "      <th>onsale_web</th>\n",
       "      <th>price</th>\n",
       "      <th>stock_quantity</th>\n",
       "      <th>stock_status</th>\n",
       "      <th>purchase_price</th>\n",
       "      <th>id_web</th>\n",
       "      <th>_merge</th>\n",
       "    </tr>\n",
       "  </thead>\n",
       "  <tbody>\n",
       "    <tr>\n",
       "      <th>19</th>\n",
       "      <td>4055</td>\n",
       "      <td>0</td>\n",
       "      <td>86.1</td>\n",
       "      <td>0</td>\n",
       "      <td>outofstock</td>\n",
       "      <td>37.88</td>\n",
       "      <td>NaN</td>\n",
       "      <td>left_only</td>\n",
       "    </tr>\n",
       "    <tr>\n",
       "      <th>49</th>\n",
       "      <td>4090</td>\n",
       "      <td>0</td>\n",
       "      <td>73.0</td>\n",
       "      <td>0</td>\n",
       "      <td>outofstock</td>\n",
       "      <td>33.79</td>\n",
       "      <td>NaN</td>\n",
       "      <td>left_only</td>\n",
       "    </tr>\n",
       "    <tr>\n",
       "      <th>50</th>\n",
       "      <td>4092</td>\n",
       "      <td>0</td>\n",
       "      <td>47.0</td>\n",
       "      <td>0</td>\n",
       "      <td>outofstock</td>\n",
       "      <td>25.25</td>\n",
       "      <td>NaN</td>\n",
       "      <td>left_only</td>\n",
       "    </tr>\n",
       "    <tr>\n",
       "      <th>119</th>\n",
       "      <td>4195</td>\n",
       "      <td>0</td>\n",
       "      <td>14.1</td>\n",
       "      <td>0</td>\n",
       "      <td>outofstock</td>\n",
       "      <td>7.36</td>\n",
       "      <td>NaN</td>\n",
       "      <td>left_only</td>\n",
       "    </tr>\n",
       "    <tr>\n",
       "      <th>131</th>\n",
       "      <td>4209</td>\n",
       "      <td>0</td>\n",
       "      <td>73.5</td>\n",
       "      <td>0</td>\n",
       "      <td>outofstock</td>\n",
       "      <td>33.01</td>\n",
       "      <td>NaN</td>\n",
       "      <td>left_only</td>\n",
       "    </tr>\n",
       "    <tr>\n",
       "      <th>...</th>\n",
       "      <td>...</td>\n",
       "      <td>...</td>\n",
       "      <td>...</td>\n",
       "      <td>...</td>\n",
       "      <td>...</td>\n",
       "      <td>...</td>\n",
       "      <td>...</td>\n",
       "      <td>...</td>\n",
       "    </tr>\n",
       "    <tr>\n",
       "      <th>814</th>\n",
       "      <td>7196</td>\n",
       "      <td>0</td>\n",
       "      <td>31.0</td>\n",
       "      <td>55</td>\n",
       "      <td>instock</td>\n",
       "      <td>31.20</td>\n",
       "      <td>NaN</td>\n",
       "      <td>left_only</td>\n",
       "    </tr>\n",
       "    <tr>\n",
       "      <th>815</th>\n",
       "      <td>7200</td>\n",
       "      <td>0</td>\n",
       "      <td>31.0</td>\n",
       "      <td>6</td>\n",
       "      <td>instock</td>\n",
       "      <td>15.54</td>\n",
       "      <td>NaN</td>\n",
       "      <td>left_only</td>\n",
       "    </tr>\n",
       "    <tr>\n",
       "      <th>816</th>\n",
       "      <td>7201</td>\n",
       "      <td>0</td>\n",
       "      <td>31.0</td>\n",
       "      <td>18</td>\n",
       "      <td>instock</td>\n",
       "      <td>16.02</td>\n",
       "      <td>NaN</td>\n",
       "      <td>left_only</td>\n",
       "    </tr>\n",
       "    <tr>\n",
       "      <th>817</th>\n",
       "      <td>7203</td>\n",
       "      <td>0</td>\n",
       "      <td>45.0</td>\n",
       "      <td>30</td>\n",
       "      <td>instock</td>\n",
       "      <td>23.48</td>\n",
       "      <td>NaN</td>\n",
       "      <td>left_only</td>\n",
       "    </tr>\n",
       "    <tr>\n",
       "      <th>818</th>\n",
       "      <td>7204</td>\n",
       "      <td>0</td>\n",
       "      <td>45.0</td>\n",
       "      <td>9</td>\n",
       "      <td>instock</td>\n",
       "      <td>24.18</td>\n",
       "      <td>NaN</td>\n",
       "      <td>left_only</td>\n",
       "    </tr>\n",
       "  </tbody>\n",
       "</table>\n",
       "<p>88 rows × 8 columns</p>\n",
       "</div>"
      ],
      "text/plain": [
       "     product_id  onsale_web  price  stock_quantity stock_status  \\\n",
       "19         4055           0   86.1               0   outofstock   \n",
       "49         4090           0   73.0               0   outofstock   \n",
       "50         4092           0   47.0               0   outofstock   \n",
       "119        4195           0   14.1               0   outofstock   \n",
       "131        4209           0   73.5               0   outofstock   \n",
       "..          ...         ...    ...             ...          ...   \n",
       "814        7196           0   31.0              55      instock   \n",
       "815        7200           0   31.0               6      instock   \n",
       "816        7201           0   31.0              18      instock   \n",
       "817        7203           0   45.0              30      instock   \n",
       "818        7204           0   45.0               9      instock   \n",
       "\n",
       "     purchase_price id_web     _merge  \n",
       "19            37.88    NaN  left_only  \n",
       "49            33.79    NaN  left_only  \n",
       "50            25.25    NaN  left_only  \n",
       "119            7.36    NaN  left_only  \n",
       "131           33.01    NaN  left_only  \n",
       "..              ...    ...        ...  \n",
       "814           31.20    NaN  left_only  \n",
       "815           15.54    NaN  left_only  \n",
       "816           16.02    NaN  left_only  \n",
       "817           23.48    NaN  left_only  \n",
       "818           24.18    NaN  left_only  \n",
       "\n",
       "[88 rows x 8 columns]"
      ]
     },
     "execution_count": 2184,
     "metadata": {},
     "output_type": "execute_result"
    }
   ],
   "source": [
    "df_merge[df_merge['_merge'] != \"both\"] "
   ]
  },
  {
   "cell_type": "code",
   "execution_count": 2185,
   "id": "b6e34879",
   "metadata": {},
   "outputs": [
    {
     "data": {
      "text/html": [
       "<div>\n",
       "<style scoped>\n",
       "    .dataframe tbody tr th:only-of-type {\n",
       "        vertical-align: middle;\n",
       "    }\n",
       "\n",
       "    .dataframe tbody tr th {\n",
       "        vertical-align: top;\n",
       "    }\n",
       "\n",
       "    .dataframe thead th {\n",
       "        text-align: right;\n",
       "    }\n",
       "</style>\n",
       "<table border=\"1\" class=\"dataframe\">\n",
       "  <thead>\n",
       "    <tr style=\"text-align: right;\">\n",
       "      <th></th>\n",
       "      <th>product_id</th>\n",
       "      <th>onsale_web</th>\n",
       "      <th>price</th>\n",
       "      <th>stock_quantity</th>\n",
       "      <th>stock_status</th>\n",
       "      <th>purchase_price</th>\n",
       "      <th>id_web</th>\n",
       "      <th>_merge</th>\n",
       "    </tr>\n",
       "  </thead>\n",
       "  <tbody>\n",
       "    <tr>\n",
       "      <th>19</th>\n",
       "      <td>4055</td>\n",
       "      <td>0</td>\n",
       "      <td>86.1</td>\n",
       "      <td>0</td>\n",
       "      <td>outofstock</td>\n",
       "      <td>37.88</td>\n",
       "      <td>NaN</td>\n",
       "      <td>left_only</td>\n",
       "    </tr>\n",
       "    <tr>\n",
       "      <th>49</th>\n",
       "      <td>4090</td>\n",
       "      <td>0</td>\n",
       "      <td>73.0</td>\n",
       "      <td>0</td>\n",
       "      <td>outofstock</td>\n",
       "      <td>33.79</td>\n",
       "      <td>NaN</td>\n",
       "      <td>left_only</td>\n",
       "    </tr>\n",
       "    <tr>\n",
       "      <th>50</th>\n",
       "      <td>4092</td>\n",
       "      <td>0</td>\n",
       "      <td>47.0</td>\n",
       "      <td>0</td>\n",
       "      <td>outofstock</td>\n",
       "      <td>25.25</td>\n",
       "      <td>NaN</td>\n",
       "      <td>left_only</td>\n",
       "    </tr>\n",
       "    <tr>\n",
       "      <th>119</th>\n",
       "      <td>4195</td>\n",
       "      <td>0</td>\n",
       "      <td>14.1</td>\n",
       "      <td>0</td>\n",
       "      <td>outofstock</td>\n",
       "      <td>7.36</td>\n",
       "      <td>NaN</td>\n",
       "      <td>left_only</td>\n",
       "    </tr>\n",
       "    <tr>\n",
       "      <th>131</th>\n",
       "      <td>4209</td>\n",
       "      <td>0</td>\n",
       "      <td>73.5</td>\n",
       "      <td>0</td>\n",
       "      <td>outofstock</td>\n",
       "      <td>33.01</td>\n",
       "      <td>NaN</td>\n",
       "      <td>left_only</td>\n",
       "    </tr>\n",
       "    <tr>\n",
       "      <th>...</th>\n",
       "      <td>...</td>\n",
       "      <td>...</td>\n",
       "      <td>...</td>\n",
       "      <td>...</td>\n",
       "      <td>...</td>\n",
       "      <td>...</td>\n",
       "      <td>...</td>\n",
       "      <td>...</td>\n",
       "    </tr>\n",
       "    <tr>\n",
       "      <th>814</th>\n",
       "      <td>7196</td>\n",
       "      <td>0</td>\n",
       "      <td>31.0</td>\n",
       "      <td>55</td>\n",
       "      <td>instock</td>\n",
       "      <td>31.20</td>\n",
       "      <td>NaN</td>\n",
       "      <td>left_only</td>\n",
       "    </tr>\n",
       "    <tr>\n",
       "      <th>815</th>\n",
       "      <td>7200</td>\n",
       "      <td>0</td>\n",
       "      <td>31.0</td>\n",
       "      <td>6</td>\n",
       "      <td>instock</td>\n",
       "      <td>15.54</td>\n",
       "      <td>NaN</td>\n",
       "      <td>left_only</td>\n",
       "    </tr>\n",
       "    <tr>\n",
       "      <th>816</th>\n",
       "      <td>7201</td>\n",
       "      <td>0</td>\n",
       "      <td>31.0</td>\n",
       "      <td>18</td>\n",
       "      <td>instock</td>\n",
       "      <td>16.02</td>\n",
       "      <td>NaN</td>\n",
       "      <td>left_only</td>\n",
       "    </tr>\n",
       "    <tr>\n",
       "      <th>817</th>\n",
       "      <td>7203</td>\n",
       "      <td>0</td>\n",
       "      <td>45.0</td>\n",
       "      <td>30</td>\n",
       "      <td>instock</td>\n",
       "      <td>23.48</td>\n",
       "      <td>NaN</td>\n",
       "      <td>left_only</td>\n",
       "    </tr>\n",
       "    <tr>\n",
       "      <th>818</th>\n",
       "      <td>7204</td>\n",
       "      <td>0</td>\n",
       "      <td>45.0</td>\n",
       "      <td>9</td>\n",
       "      <td>instock</td>\n",
       "      <td>24.18</td>\n",
       "      <td>NaN</td>\n",
       "      <td>left_only</td>\n",
       "    </tr>\n",
       "  </tbody>\n",
       "</table>\n",
       "<p>88 rows × 8 columns</p>\n",
       "</div>"
      ],
      "text/plain": [
       "     product_id  onsale_web  price  stock_quantity stock_status  \\\n",
       "19         4055           0   86.1               0   outofstock   \n",
       "49         4090           0   73.0               0   outofstock   \n",
       "50         4092           0   47.0               0   outofstock   \n",
       "119        4195           0   14.1               0   outofstock   \n",
       "131        4209           0   73.5               0   outofstock   \n",
       "..          ...         ...    ...             ...          ...   \n",
       "814        7196           0   31.0              55      instock   \n",
       "815        7200           0   31.0               6      instock   \n",
       "816        7201           0   31.0              18      instock   \n",
       "817        7203           0   45.0              30      instock   \n",
       "818        7204           0   45.0               9      instock   \n",
       "\n",
       "     purchase_price id_web     _merge  \n",
       "19            37.88    NaN  left_only  \n",
       "49            33.79    NaN  left_only  \n",
       "50            25.25    NaN  left_only  \n",
       "119            7.36    NaN  left_only  \n",
       "131           33.01    NaN  left_only  \n",
       "..              ...    ...        ...  \n",
       "814           31.20    NaN  left_only  \n",
       "815           15.54    NaN  left_only  \n",
       "816           16.02    NaN  left_only  \n",
       "817           23.48    NaN  left_only  \n",
       "818           24.18    NaN  left_only  \n",
       "\n",
       "[88 rows x 8 columns]"
      ]
     },
     "execution_count": 2185,
     "metadata": {},
     "output_type": "execute_result"
    }
   ],
   "source": [
    "df_merge[df_merge['_merge'] == \"left_only\"] "
   ]
  },
  {
   "cell_type": "code",
   "execution_count": 2186,
   "id": "77de4772",
   "metadata": {},
   "outputs": [],
   "source": [
    "df_merge = df_merge.drop('_merge', axis=1)"
   ]
  },
  {
   "cell_type": "code",
   "execution_count": 2187,
   "id": "b7e1da5e",
   "metadata": {},
   "outputs": [
    {
     "data": {
      "text/plain": [
       "product_id         0\n",
       "onsale_web         0\n",
       "price              0\n",
       "stock_quantity     0\n",
       "stock_status       0\n",
       "purchase_price     0\n",
       "id_web            88\n",
       "dtype: int64"
      ]
     },
     "execution_count": 2187,
     "metadata": {},
     "output_type": "execute_result"
    }
   ],
   "source": [
    "#Y a t-il des lignes ne \"matchant\" entre les 2 fichiers?\n",
    "df_merge.isna().sum()"
   ]
  },
  {
   "cell_type": "code",
   "execution_count": 2188,
   "id": "00b2d44a",
   "metadata": {},
   "outputs": [],
   "source": [
    "#Suppression des valeurs manquantes \n",
    "df_merge = df_merge.loc[~df_merge[\"id_web\"].isna()] "
   ]
  },
  {
   "cell_type": "markdown",
   "id": "fe4c51d7",
   "metadata": {},
   "source": [
    "<div style=\"border: 1px solid RGB(51,165,182);\" >\n",
    "<h3 style=\"margin: auto; padding: 20px; color: RGB(51,165,182); \">Etape 3.2 - Jonction du fichier df_merge et df_web</h3>\n",
    "</div>"
   ]
  },
  {
   "cell_type": "code",
   "execution_count": 2189,
   "id": "46d9382b",
   "metadata": {},
   "outputs": [],
   "source": [
    "#Fusionnez les datasets df_merge et df_web\n",
    "df_merge = df_merge.rename(columns={\"id_web\" : \"sku\"})\n",
    "df_merge = pd.merge(df_merge, df_web_clean, how= \"outer\", on=\"sku\", indicator=True)"
   ]
  },
  {
   "cell_type": "code",
   "execution_count": 2190,
   "id": "2021762f",
   "metadata": {},
   "outputs": [
    {
     "data": {
      "text/plain": [
       "product_id         0\n",
       "onsale_web         0\n",
       "price              0\n",
       "stock_quantity     0\n",
       "stock_status       0\n",
       "purchase_price     0\n",
       "sku                0\n",
       "total_sales       20\n",
       "post_title        20\n",
       "product_type      20\n",
       "post_mime_type    20\n",
       "post_date         20\n",
       "_merge             0\n",
       "dtype: int64"
      ]
     },
     "execution_count": 2190,
     "metadata": {},
     "output_type": "execute_result"
    }
   ],
   "source": [
    "#Avons-nous des lignes sans correspondances?\n",
    "df_merge.isna().sum()"
   ]
  },
  {
   "cell_type": "code",
   "execution_count": 2191,
   "id": "e435735c",
   "metadata": {},
   "outputs": [
    {
     "data": {
      "text/html": [
       "<div>\n",
       "<style scoped>\n",
       "    .dataframe tbody tr th:only-of-type {\n",
       "        vertical-align: middle;\n",
       "    }\n",
       "\n",
       "    .dataframe tbody tr th {\n",
       "        vertical-align: top;\n",
       "    }\n",
       "\n",
       "    .dataframe thead th {\n",
       "        text-align: right;\n",
       "    }\n",
       "</style>\n",
       "<table border=\"1\" class=\"dataframe\">\n",
       "  <thead>\n",
       "    <tr style=\"text-align: right;\">\n",
       "      <th></th>\n",
       "      <th>product_id</th>\n",
       "      <th>onsale_web</th>\n",
       "      <th>price</th>\n",
       "      <th>stock_quantity</th>\n",
       "      <th>stock_status</th>\n",
       "      <th>purchase_price</th>\n",
       "      <th>sku</th>\n",
       "      <th>total_sales</th>\n",
       "      <th>post_title</th>\n",
       "      <th>product_type</th>\n",
       "      <th>post_mime_type</th>\n",
       "      <th>post_date</th>\n",
       "      <th>_merge</th>\n",
       "    </tr>\n",
       "  </thead>\n",
       "  <tbody>\n",
       "    <tr>\n",
       "      <th>81</th>\n",
       "      <td>4741</td>\n",
       "      <td>0</td>\n",
       "      <td>12.4</td>\n",
       "      <td>0</td>\n",
       "      <td>outofstock</td>\n",
       "      <td>6.66</td>\n",
       "      <td>12601</td>\n",
       "      <td>NaN</td>\n",
       "      <td>NaN</td>\n",
       "      <td>NaN</td>\n",
       "      <td>NaN</td>\n",
       "      <td>NaT</td>\n",
       "      <td>left_only</td>\n",
       "    </tr>\n",
       "    <tr>\n",
       "      <th>127</th>\n",
       "      <td>5957</td>\n",
       "      <td>0</td>\n",
       "      <td>39.0</td>\n",
       "      <td>0</td>\n",
       "      <td>outofstock</td>\n",
       "      <td>20.75</td>\n",
       "      <td>13577</td>\n",
       "      <td>NaN</td>\n",
       "      <td>NaN</td>\n",
       "      <td>NaN</td>\n",
       "      <td>NaN</td>\n",
       "      <td>NaT</td>\n",
       "      <td>left_only</td>\n",
       "    </tr>\n",
       "    <tr>\n",
       "      <th>139</th>\n",
       "      <td>4289</td>\n",
       "      <td>0</td>\n",
       "      <td>22.8</td>\n",
       "      <td>0</td>\n",
       "      <td>outofstock</td>\n",
       "      <td>11.90</td>\n",
       "      <td>13771</td>\n",
       "      <td>NaN</td>\n",
       "      <td>NaN</td>\n",
       "      <td>NaN</td>\n",
       "      <td>NaN</td>\n",
       "      <td>NaT</td>\n",
       "      <td>left_only</td>\n",
       "    </tr>\n",
       "    <tr>\n",
       "      <th>180</th>\n",
       "      <td>4869</td>\n",
       "      <td>0</td>\n",
       "      <td>17.2</td>\n",
       "      <td>0</td>\n",
       "      <td>outofstock</td>\n",
       "      <td>9.33</td>\n",
       "      <td>14360</td>\n",
       "      <td>NaN</td>\n",
       "      <td>NaN</td>\n",
       "      <td>NaN</td>\n",
       "      <td>NaN</td>\n",
       "      <td>NaT</td>\n",
       "      <td>left_only</td>\n",
       "    </tr>\n",
       "    <tr>\n",
       "      <th>185</th>\n",
       "      <td>5955</td>\n",
       "      <td>0</td>\n",
       "      <td>27.3</td>\n",
       "      <td>0</td>\n",
       "      <td>outofstock</td>\n",
       "      <td>13.68</td>\n",
       "      <td>14377</td>\n",
       "      <td>NaN</td>\n",
       "      <td>NaN</td>\n",
       "      <td>NaN</td>\n",
       "      <td>NaN</td>\n",
       "      <td>NaT</td>\n",
       "      <td>left_only</td>\n",
       "    </tr>\n",
       "    <tr>\n",
       "      <th>186</th>\n",
       "      <td>5953</td>\n",
       "      <td>0</td>\n",
       "      <td>47.5</td>\n",
       "      <td>0</td>\n",
       "      <td>outofstock</td>\n",
       "      <td>23.81</td>\n",
       "      <td>14379</td>\n",
       "      <td>NaN</td>\n",
       "      <td>NaN</td>\n",
       "      <td>NaN</td>\n",
       "      <td>NaN</td>\n",
       "      <td>NaT</td>\n",
       "      <td>left_only</td>\n",
       "    </tr>\n",
       "    <tr>\n",
       "      <th>212</th>\n",
       "      <td>5505</td>\n",
       "      <td>0</td>\n",
       "      <td>10.1</td>\n",
       "      <td>0</td>\n",
       "      <td>outofstock</td>\n",
       "      <td>5.22</td>\n",
       "      <td>14648</td>\n",
       "      <td>NaN</td>\n",
       "      <td>NaN</td>\n",
       "      <td>NaN</td>\n",
       "      <td>NaN</td>\n",
       "      <td>NaT</td>\n",
       "      <td>left_only</td>\n",
       "    </tr>\n",
       "    <tr>\n",
       "      <th>218</th>\n",
       "      <td>5800</td>\n",
       "      <td>0</td>\n",
       "      <td>32.3</td>\n",
       "      <td>0</td>\n",
       "      <td>outofstock</td>\n",
       "      <td>16.02</td>\n",
       "      <td>14689</td>\n",
       "      <td>NaN</td>\n",
       "      <td>NaN</td>\n",
       "      <td>NaN</td>\n",
       "      <td>NaN</td>\n",
       "      <td>NaT</td>\n",
       "      <td>left_only</td>\n",
       "    </tr>\n",
       "    <tr>\n",
       "      <th>224</th>\n",
       "      <td>5559</td>\n",
       "      <td>0</td>\n",
       "      <td>27.9</td>\n",
       "      <td>3</td>\n",
       "      <td>instock</td>\n",
       "      <td>13.98</td>\n",
       "      <td>14715</td>\n",
       "      <td>NaN</td>\n",
       "      <td>NaN</td>\n",
       "      <td>NaN</td>\n",
       "      <td>NaN</td>\n",
       "      <td>NaT</td>\n",
       "      <td>left_only</td>\n",
       "    </tr>\n",
       "    <tr>\n",
       "      <th>227</th>\n",
       "      <td>5570</td>\n",
       "      <td>0</td>\n",
       "      <td>22.5</td>\n",
       "      <td>0</td>\n",
       "      <td>outofstock</td>\n",
       "      <td>11.16</td>\n",
       "      <td>14730</td>\n",
       "      <td>NaN</td>\n",
       "      <td>NaN</td>\n",
       "      <td>NaN</td>\n",
       "      <td>NaN</td>\n",
       "      <td>NaT</td>\n",
       "      <td>left_only</td>\n",
       "    </tr>\n",
       "    <tr>\n",
       "      <th>236</th>\n",
       "      <td>4584</td>\n",
       "      <td>0</td>\n",
       "      <td>32.3</td>\n",
       "      <td>0</td>\n",
       "      <td>outofstock</td>\n",
       "      <td>17.36</td>\n",
       "      <td>14785</td>\n",
       "      <td>NaN</td>\n",
       "      <td>NaN</td>\n",
       "      <td>NaN</td>\n",
       "      <td>NaN</td>\n",
       "      <td>NaT</td>\n",
       "      <td>left_only</td>\n",
       "    </tr>\n",
       "    <tr>\n",
       "      <th>280</th>\n",
       "      <td>4568</td>\n",
       "      <td>0</td>\n",
       "      <td>21.5</td>\n",
       "      <td>0</td>\n",
       "      <td>outofstock</td>\n",
       "      <td>11.22</td>\n",
       "      <td>15065</td>\n",
       "      <td>NaN</td>\n",
       "      <td>NaN</td>\n",
       "      <td>NaN</td>\n",
       "      <td>NaN</td>\n",
       "      <td>NaT</td>\n",
       "      <td>left_only</td>\n",
       "    </tr>\n",
       "    <tr>\n",
       "      <th>303</th>\n",
       "      <td>4864</td>\n",
       "      <td>0</td>\n",
       "      <td>8.3</td>\n",
       "      <td>0</td>\n",
       "      <td>outofstock</td>\n",
       "      <td>9.99</td>\n",
       "      <td>15154</td>\n",
       "      <td>NaN</td>\n",
       "      <td>NaN</td>\n",
       "      <td>NaN</td>\n",
       "      <td>NaN</td>\n",
       "      <td>NaT</td>\n",
       "      <td>left_only</td>\n",
       "    </tr>\n",
       "    <tr>\n",
       "      <th>332</th>\n",
       "      <td>5018</td>\n",
       "      <td>0</td>\n",
       "      <td>15.4</td>\n",
       "      <td>0</td>\n",
       "      <td>outofstock</td>\n",
       "      <td>7.72</td>\n",
       "      <td>15272</td>\n",
       "      <td>NaN</td>\n",
       "      <td>NaN</td>\n",
       "      <td>NaN</td>\n",
       "      <td>NaN</td>\n",
       "      <td>NaT</td>\n",
       "      <td>left_only</td>\n",
       "    </tr>\n",
       "    <tr>\n",
       "      <th>412</th>\n",
       "      <td>6100</td>\n",
       "      <td>0</td>\n",
       "      <td>12.9</td>\n",
       "      <td>0</td>\n",
       "      <td>outofstock</td>\n",
       "      <td>6.47</td>\n",
       "      <td>15529</td>\n",
       "      <td>NaN</td>\n",
       "      <td>NaN</td>\n",
       "      <td>NaN</td>\n",
       "      <td>NaN</td>\n",
       "      <td>NaT</td>\n",
       "      <td>left_only</td>\n",
       "    </tr>\n",
       "    <tr>\n",
       "      <th>428</th>\n",
       "      <td>4922</td>\n",
       "      <td>0</td>\n",
       "      <td>21.5</td>\n",
       "      <td>0</td>\n",
       "      <td>outofstock</td>\n",
       "      <td>10.55</td>\n",
       "      <td>15586</td>\n",
       "      <td>NaN</td>\n",
       "      <td>NaN</td>\n",
       "      <td>NaN</td>\n",
       "      <td>NaN</td>\n",
       "      <td>NaT</td>\n",
       "      <td>left_only</td>\n",
       "    </tr>\n",
       "    <tr>\n",
       "      <th>430</th>\n",
       "      <td>4921</td>\n",
       "      <td>0</td>\n",
       "      <td>13.8</td>\n",
       "      <td>0</td>\n",
       "      <td>outofstock</td>\n",
       "      <td>7.13</td>\n",
       "      <td>15608</td>\n",
       "      <td>NaN</td>\n",
       "      <td>NaN</td>\n",
       "      <td>NaN</td>\n",
       "      <td>NaN</td>\n",
       "      <td>NaT</td>\n",
       "      <td>left_only</td>\n",
       "    </tr>\n",
       "    <tr>\n",
       "      <th>431</th>\n",
       "      <td>5954</td>\n",
       "      <td>0</td>\n",
       "      <td>18.8</td>\n",
       "      <td>0</td>\n",
       "      <td>outofstock</td>\n",
       "      <td>9.32</td>\n",
       "      <td>15609</td>\n",
       "      <td>NaN</td>\n",
       "      <td>NaN</td>\n",
       "      <td>NaN</td>\n",
       "      <td>NaN</td>\n",
       "      <td>NaT</td>\n",
       "      <td>left_only</td>\n",
       "    </tr>\n",
       "    <tr>\n",
       "      <th>438</th>\n",
       "      <td>5021</td>\n",
       "      <td>0</td>\n",
       "      <td>17.1</td>\n",
       "      <td>0</td>\n",
       "      <td>outofstock</td>\n",
       "      <td>8.92</td>\n",
       "      <td>15630</td>\n",
       "      <td>NaN</td>\n",
       "      <td>NaN</td>\n",
       "      <td>NaN</td>\n",
       "      <td>NaN</td>\n",
       "      <td>NaT</td>\n",
       "      <td>left_only</td>\n",
       "    </tr>\n",
       "    <tr>\n",
       "      <th>732</th>\n",
       "      <td>7329</td>\n",
       "      <td>0</td>\n",
       "      <td>26.5</td>\n",
       "      <td>14</td>\n",
       "      <td>instock</td>\n",
       "      <td>13.42</td>\n",
       "      <td>14680-1</td>\n",
       "      <td>NaN</td>\n",
       "      <td>NaN</td>\n",
       "      <td>NaN</td>\n",
       "      <td>NaN</td>\n",
       "      <td>NaT</td>\n",
       "      <td>left_only</td>\n",
       "    </tr>\n",
       "  </tbody>\n",
       "</table>\n",
       "</div>"
      ],
      "text/plain": [
       "     product_id  onsale_web  price  stock_quantity stock_status  \\\n",
       "81         4741           0   12.4               0   outofstock   \n",
       "127        5957           0   39.0               0   outofstock   \n",
       "139        4289           0   22.8               0   outofstock   \n",
       "180        4869           0   17.2               0   outofstock   \n",
       "185        5955           0   27.3               0   outofstock   \n",
       "186        5953           0   47.5               0   outofstock   \n",
       "212        5505           0   10.1               0   outofstock   \n",
       "218        5800           0   32.3               0   outofstock   \n",
       "224        5559           0   27.9               3      instock   \n",
       "227        5570           0   22.5               0   outofstock   \n",
       "236        4584           0   32.3               0   outofstock   \n",
       "280        4568           0   21.5               0   outofstock   \n",
       "303        4864           0    8.3               0   outofstock   \n",
       "332        5018           0   15.4               0   outofstock   \n",
       "412        6100           0   12.9               0   outofstock   \n",
       "428        4922           0   21.5               0   outofstock   \n",
       "430        4921           0   13.8               0   outofstock   \n",
       "431        5954           0   18.8               0   outofstock   \n",
       "438        5021           0   17.1               0   outofstock   \n",
       "732        7329           0   26.5              14      instock   \n",
       "\n",
       "     purchase_price      sku  total_sales post_title product_type  \\\n",
       "81             6.66    12601          NaN        NaN          NaN   \n",
       "127           20.75    13577          NaN        NaN          NaN   \n",
       "139           11.90    13771          NaN        NaN          NaN   \n",
       "180            9.33    14360          NaN        NaN          NaN   \n",
       "185           13.68    14377          NaN        NaN          NaN   \n",
       "186           23.81    14379          NaN        NaN          NaN   \n",
       "212            5.22    14648          NaN        NaN          NaN   \n",
       "218           16.02    14689          NaN        NaN          NaN   \n",
       "224           13.98    14715          NaN        NaN          NaN   \n",
       "227           11.16    14730          NaN        NaN          NaN   \n",
       "236           17.36    14785          NaN        NaN          NaN   \n",
       "280           11.22    15065          NaN        NaN          NaN   \n",
       "303            9.99    15154          NaN        NaN          NaN   \n",
       "332            7.72    15272          NaN        NaN          NaN   \n",
       "412            6.47    15529          NaN        NaN          NaN   \n",
       "428           10.55    15586          NaN        NaN          NaN   \n",
       "430            7.13    15608          NaN        NaN          NaN   \n",
       "431            9.32    15609          NaN        NaN          NaN   \n",
       "438            8.92    15630          NaN        NaN          NaN   \n",
       "732           13.42  14680-1          NaN        NaN          NaN   \n",
       "\n",
       "    post_mime_type post_date     _merge  \n",
       "81             NaN       NaT  left_only  \n",
       "127            NaN       NaT  left_only  \n",
       "139            NaN       NaT  left_only  \n",
       "180            NaN       NaT  left_only  \n",
       "185            NaN       NaT  left_only  \n",
       "186            NaN       NaT  left_only  \n",
       "212            NaN       NaT  left_only  \n",
       "218            NaN       NaT  left_only  \n",
       "224            NaN       NaT  left_only  \n",
       "227            NaN       NaT  left_only  \n",
       "236            NaN       NaT  left_only  \n",
       "280            NaN       NaT  left_only  \n",
       "303            NaN       NaT  left_only  \n",
       "332            NaN       NaT  left_only  \n",
       "412            NaN       NaT  left_only  \n",
       "428            NaN       NaT  left_only  \n",
       "430            NaN       NaT  left_only  \n",
       "431            NaN       NaT  left_only  \n",
       "438            NaN       NaT  left_only  \n",
       "732            NaN       NaT  left_only  "
      ]
     },
     "execution_count": 2191,
     "metadata": {},
     "output_type": "execute_result"
    }
   ],
   "source": [
    "df_merge[df_merge['_merge'] != \"both\"] "
   ]
  },
  {
   "cell_type": "code",
   "execution_count": 2192,
   "id": "ea99cb9d",
   "metadata": {},
   "outputs": [
    {
     "data": {
      "text/html": [
       "<div>\n",
       "<style scoped>\n",
       "    .dataframe tbody tr th:only-of-type {\n",
       "        vertical-align: middle;\n",
       "    }\n",
       "\n",
       "    .dataframe tbody tr th {\n",
       "        vertical-align: top;\n",
       "    }\n",
       "\n",
       "    .dataframe thead th {\n",
       "        text-align: right;\n",
       "    }\n",
       "</style>\n",
       "<table border=\"1\" class=\"dataframe\">\n",
       "  <thead>\n",
       "    <tr style=\"text-align: right;\">\n",
       "      <th></th>\n",
       "      <th>product_id</th>\n",
       "      <th>onsale_web</th>\n",
       "      <th>price</th>\n",
       "      <th>stock_quantity</th>\n",
       "      <th>stock_status</th>\n",
       "      <th>purchase_price</th>\n",
       "      <th>sku</th>\n",
       "      <th>total_sales</th>\n",
       "      <th>post_title</th>\n",
       "      <th>product_type</th>\n",
       "      <th>post_mime_type</th>\n",
       "      <th>post_date</th>\n",
       "      <th>_merge</th>\n",
       "    </tr>\n",
       "  </thead>\n",
       "  <tbody>\n",
       "    <tr>\n",
       "      <th>81</th>\n",
       "      <td>4741</td>\n",
       "      <td>0</td>\n",
       "      <td>12.4</td>\n",
       "      <td>0</td>\n",
       "      <td>outofstock</td>\n",
       "      <td>6.66</td>\n",
       "      <td>12601</td>\n",
       "      <td>NaN</td>\n",
       "      <td>NaN</td>\n",
       "      <td>NaN</td>\n",
       "      <td>NaN</td>\n",
       "      <td>NaT</td>\n",
       "      <td>left_only</td>\n",
       "    </tr>\n",
       "    <tr>\n",
       "      <th>127</th>\n",
       "      <td>5957</td>\n",
       "      <td>0</td>\n",
       "      <td>39.0</td>\n",
       "      <td>0</td>\n",
       "      <td>outofstock</td>\n",
       "      <td>20.75</td>\n",
       "      <td>13577</td>\n",
       "      <td>NaN</td>\n",
       "      <td>NaN</td>\n",
       "      <td>NaN</td>\n",
       "      <td>NaN</td>\n",
       "      <td>NaT</td>\n",
       "      <td>left_only</td>\n",
       "    </tr>\n",
       "    <tr>\n",
       "      <th>139</th>\n",
       "      <td>4289</td>\n",
       "      <td>0</td>\n",
       "      <td>22.8</td>\n",
       "      <td>0</td>\n",
       "      <td>outofstock</td>\n",
       "      <td>11.90</td>\n",
       "      <td>13771</td>\n",
       "      <td>NaN</td>\n",
       "      <td>NaN</td>\n",
       "      <td>NaN</td>\n",
       "      <td>NaN</td>\n",
       "      <td>NaT</td>\n",
       "      <td>left_only</td>\n",
       "    </tr>\n",
       "    <tr>\n",
       "      <th>180</th>\n",
       "      <td>4869</td>\n",
       "      <td>0</td>\n",
       "      <td>17.2</td>\n",
       "      <td>0</td>\n",
       "      <td>outofstock</td>\n",
       "      <td>9.33</td>\n",
       "      <td>14360</td>\n",
       "      <td>NaN</td>\n",
       "      <td>NaN</td>\n",
       "      <td>NaN</td>\n",
       "      <td>NaN</td>\n",
       "      <td>NaT</td>\n",
       "      <td>left_only</td>\n",
       "    </tr>\n",
       "    <tr>\n",
       "      <th>185</th>\n",
       "      <td>5955</td>\n",
       "      <td>0</td>\n",
       "      <td>27.3</td>\n",
       "      <td>0</td>\n",
       "      <td>outofstock</td>\n",
       "      <td>13.68</td>\n",
       "      <td>14377</td>\n",
       "      <td>NaN</td>\n",
       "      <td>NaN</td>\n",
       "      <td>NaN</td>\n",
       "      <td>NaN</td>\n",
       "      <td>NaT</td>\n",
       "      <td>left_only</td>\n",
       "    </tr>\n",
       "    <tr>\n",
       "      <th>186</th>\n",
       "      <td>5953</td>\n",
       "      <td>0</td>\n",
       "      <td>47.5</td>\n",
       "      <td>0</td>\n",
       "      <td>outofstock</td>\n",
       "      <td>23.81</td>\n",
       "      <td>14379</td>\n",
       "      <td>NaN</td>\n",
       "      <td>NaN</td>\n",
       "      <td>NaN</td>\n",
       "      <td>NaN</td>\n",
       "      <td>NaT</td>\n",
       "      <td>left_only</td>\n",
       "    </tr>\n",
       "    <tr>\n",
       "      <th>212</th>\n",
       "      <td>5505</td>\n",
       "      <td>0</td>\n",
       "      <td>10.1</td>\n",
       "      <td>0</td>\n",
       "      <td>outofstock</td>\n",
       "      <td>5.22</td>\n",
       "      <td>14648</td>\n",
       "      <td>NaN</td>\n",
       "      <td>NaN</td>\n",
       "      <td>NaN</td>\n",
       "      <td>NaN</td>\n",
       "      <td>NaT</td>\n",
       "      <td>left_only</td>\n",
       "    </tr>\n",
       "    <tr>\n",
       "      <th>218</th>\n",
       "      <td>5800</td>\n",
       "      <td>0</td>\n",
       "      <td>32.3</td>\n",
       "      <td>0</td>\n",
       "      <td>outofstock</td>\n",
       "      <td>16.02</td>\n",
       "      <td>14689</td>\n",
       "      <td>NaN</td>\n",
       "      <td>NaN</td>\n",
       "      <td>NaN</td>\n",
       "      <td>NaN</td>\n",
       "      <td>NaT</td>\n",
       "      <td>left_only</td>\n",
       "    </tr>\n",
       "    <tr>\n",
       "      <th>224</th>\n",
       "      <td>5559</td>\n",
       "      <td>0</td>\n",
       "      <td>27.9</td>\n",
       "      <td>3</td>\n",
       "      <td>instock</td>\n",
       "      <td>13.98</td>\n",
       "      <td>14715</td>\n",
       "      <td>NaN</td>\n",
       "      <td>NaN</td>\n",
       "      <td>NaN</td>\n",
       "      <td>NaN</td>\n",
       "      <td>NaT</td>\n",
       "      <td>left_only</td>\n",
       "    </tr>\n",
       "    <tr>\n",
       "      <th>227</th>\n",
       "      <td>5570</td>\n",
       "      <td>0</td>\n",
       "      <td>22.5</td>\n",
       "      <td>0</td>\n",
       "      <td>outofstock</td>\n",
       "      <td>11.16</td>\n",
       "      <td>14730</td>\n",
       "      <td>NaN</td>\n",
       "      <td>NaN</td>\n",
       "      <td>NaN</td>\n",
       "      <td>NaN</td>\n",
       "      <td>NaT</td>\n",
       "      <td>left_only</td>\n",
       "    </tr>\n",
       "    <tr>\n",
       "      <th>236</th>\n",
       "      <td>4584</td>\n",
       "      <td>0</td>\n",
       "      <td>32.3</td>\n",
       "      <td>0</td>\n",
       "      <td>outofstock</td>\n",
       "      <td>17.36</td>\n",
       "      <td>14785</td>\n",
       "      <td>NaN</td>\n",
       "      <td>NaN</td>\n",
       "      <td>NaN</td>\n",
       "      <td>NaN</td>\n",
       "      <td>NaT</td>\n",
       "      <td>left_only</td>\n",
       "    </tr>\n",
       "    <tr>\n",
       "      <th>280</th>\n",
       "      <td>4568</td>\n",
       "      <td>0</td>\n",
       "      <td>21.5</td>\n",
       "      <td>0</td>\n",
       "      <td>outofstock</td>\n",
       "      <td>11.22</td>\n",
       "      <td>15065</td>\n",
       "      <td>NaN</td>\n",
       "      <td>NaN</td>\n",
       "      <td>NaN</td>\n",
       "      <td>NaN</td>\n",
       "      <td>NaT</td>\n",
       "      <td>left_only</td>\n",
       "    </tr>\n",
       "    <tr>\n",
       "      <th>303</th>\n",
       "      <td>4864</td>\n",
       "      <td>0</td>\n",
       "      <td>8.3</td>\n",
       "      <td>0</td>\n",
       "      <td>outofstock</td>\n",
       "      <td>9.99</td>\n",
       "      <td>15154</td>\n",
       "      <td>NaN</td>\n",
       "      <td>NaN</td>\n",
       "      <td>NaN</td>\n",
       "      <td>NaN</td>\n",
       "      <td>NaT</td>\n",
       "      <td>left_only</td>\n",
       "    </tr>\n",
       "    <tr>\n",
       "      <th>332</th>\n",
       "      <td>5018</td>\n",
       "      <td>0</td>\n",
       "      <td>15.4</td>\n",
       "      <td>0</td>\n",
       "      <td>outofstock</td>\n",
       "      <td>7.72</td>\n",
       "      <td>15272</td>\n",
       "      <td>NaN</td>\n",
       "      <td>NaN</td>\n",
       "      <td>NaN</td>\n",
       "      <td>NaN</td>\n",
       "      <td>NaT</td>\n",
       "      <td>left_only</td>\n",
       "    </tr>\n",
       "    <tr>\n",
       "      <th>412</th>\n",
       "      <td>6100</td>\n",
       "      <td>0</td>\n",
       "      <td>12.9</td>\n",
       "      <td>0</td>\n",
       "      <td>outofstock</td>\n",
       "      <td>6.47</td>\n",
       "      <td>15529</td>\n",
       "      <td>NaN</td>\n",
       "      <td>NaN</td>\n",
       "      <td>NaN</td>\n",
       "      <td>NaN</td>\n",
       "      <td>NaT</td>\n",
       "      <td>left_only</td>\n",
       "    </tr>\n",
       "    <tr>\n",
       "      <th>428</th>\n",
       "      <td>4922</td>\n",
       "      <td>0</td>\n",
       "      <td>21.5</td>\n",
       "      <td>0</td>\n",
       "      <td>outofstock</td>\n",
       "      <td>10.55</td>\n",
       "      <td>15586</td>\n",
       "      <td>NaN</td>\n",
       "      <td>NaN</td>\n",
       "      <td>NaN</td>\n",
       "      <td>NaN</td>\n",
       "      <td>NaT</td>\n",
       "      <td>left_only</td>\n",
       "    </tr>\n",
       "    <tr>\n",
       "      <th>430</th>\n",
       "      <td>4921</td>\n",
       "      <td>0</td>\n",
       "      <td>13.8</td>\n",
       "      <td>0</td>\n",
       "      <td>outofstock</td>\n",
       "      <td>7.13</td>\n",
       "      <td>15608</td>\n",
       "      <td>NaN</td>\n",
       "      <td>NaN</td>\n",
       "      <td>NaN</td>\n",
       "      <td>NaN</td>\n",
       "      <td>NaT</td>\n",
       "      <td>left_only</td>\n",
       "    </tr>\n",
       "    <tr>\n",
       "      <th>431</th>\n",
       "      <td>5954</td>\n",
       "      <td>0</td>\n",
       "      <td>18.8</td>\n",
       "      <td>0</td>\n",
       "      <td>outofstock</td>\n",
       "      <td>9.32</td>\n",
       "      <td>15609</td>\n",
       "      <td>NaN</td>\n",
       "      <td>NaN</td>\n",
       "      <td>NaN</td>\n",
       "      <td>NaN</td>\n",
       "      <td>NaT</td>\n",
       "      <td>left_only</td>\n",
       "    </tr>\n",
       "    <tr>\n",
       "      <th>438</th>\n",
       "      <td>5021</td>\n",
       "      <td>0</td>\n",
       "      <td>17.1</td>\n",
       "      <td>0</td>\n",
       "      <td>outofstock</td>\n",
       "      <td>8.92</td>\n",
       "      <td>15630</td>\n",
       "      <td>NaN</td>\n",
       "      <td>NaN</td>\n",
       "      <td>NaN</td>\n",
       "      <td>NaN</td>\n",
       "      <td>NaT</td>\n",
       "      <td>left_only</td>\n",
       "    </tr>\n",
       "    <tr>\n",
       "      <th>732</th>\n",
       "      <td>7329</td>\n",
       "      <td>0</td>\n",
       "      <td>26.5</td>\n",
       "      <td>14</td>\n",
       "      <td>instock</td>\n",
       "      <td>13.42</td>\n",
       "      <td>14680-1</td>\n",
       "      <td>NaN</td>\n",
       "      <td>NaN</td>\n",
       "      <td>NaN</td>\n",
       "      <td>NaN</td>\n",
       "      <td>NaT</td>\n",
       "      <td>left_only</td>\n",
       "    </tr>\n",
       "  </tbody>\n",
       "</table>\n",
       "</div>"
      ],
      "text/plain": [
       "     product_id  onsale_web  price  stock_quantity stock_status  \\\n",
       "81         4741           0   12.4               0   outofstock   \n",
       "127        5957           0   39.0               0   outofstock   \n",
       "139        4289           0   22.8               0   outofstock   \n",
       "180        4869           0   17.2               0   outofstock   \n",
       "185        5955           0   27.3               0   outofstock   \n",
       "186        5953           0   47.5               0   outofstock   \n",
       "212        5505           0   10.1               0   outofstock   \n",
       "218        5800           0   32.3               0   outofstock   \n",
       "224        5559           0   27.9               3      instock   \n",
       "227        5570           0   22.5               0   outofstock   \n",
       "236        4584           0   32.3               0   outofstock   \n",
       "280        4568           0   21.5               0   outofstock   \n",
       "303        4864           0    8.3               0   outofstock   \n",
       "332        5018           0   15.4               0   outofstock   \n",
       "412        6100           0   12.9               0   outofstock   \n",
       "428        4922           0   21.5               0   outofstock   \n",
       "430        4921           0   13.8               0   outofstock   \n",
       "431        5954           0   18.8               0   outofstock   \n",
       "438        5021           0   17.1               0   outofstock   \n",
       "732        7329           0   26.5              14      instock   \n",
       "\n",
       "     purchase_price      sku  total_sales post_title product_type  \\\n",
       "81             6.66    12601          NaN        NaN          NaN   \n",
       "127           20.75    13577          NaN        NaN          NaN   \n",
       "139           11.90    13771          NaN        NaN          NaN   \n",
       "180            9.33    14360          NaN        NaN          NaN   \n",
       "185           13.68    14377          NaN        NaN          NaN   \n",
       "186           23.81    14379          NaN        NaN          NaN   \n",
       "212            5.22    14648          NaN        NaN          NaN   \n",
       "218           16.02    14689          NaN        NaN          NaN   \n",
       "224           13.98    14715          NaN        NaN          NaN   \n",
       "227           11.16    14730          NaN        NaN          NaN   \n",
       "236           17.36    14785          NaN        NaN          NaN   \n",
       "280           11.22    15065          NaN        NaN          NaN   \n",
       "303            9.99    15154          NaN        NaN          NaN   \n",
       "332            7.72    15272          NaN        NaN          NaN   \n",
       "412            6.47    15529          NaN        NaN          NaN   \n",
       "428           10.55    15586          NaN        NaN          NaN   \n",
       "430            7.13    15608          NaN        NaN          NaN   \n",
       "431            9.32    15609          NaN        NaN          NaN   \n",
       "438            8.92    15630          NaN        NaN          NaN   \n",
       "732           13.42  14680-1          NaN        NaN          NaN   \n",
       "\n",
       "    post_mime_type post_date     _merge  \n",
       "81             NaN       NaT  left_only  \n",
       "127            NaN       NaT  left_only  \n",
       "139            NaN       NaT  left_only  \n",
       "180            NaN       NaT  left_only  \n",
       "185            NaN       NaT  left_only  \n",
       "186            NaN       NaT  left_only  \n",
       "212            NaN       NaT  left_only  \n",
       "218            NaN       NaT  left_only  \n",
       "224            NaN       NaT  left_only  \n",
       "227            NaN       NaT  left_only  \n",
       "236            NaN       NaT  left_only  \n",
       "280            NaN       NaT  left_only  \n",
       "303            NaN       NaT  left_only  \n",
       "332            NaN       NaT  left_only  \n",
       "412            NaN       NaT  left_only  \n",
       "428            NaN       NaT  left_only  \n",
       "430            NaN       NaT  left_only  \n",
       "431            NaN       NaT  left_only  \n",
       "438            NaN       NaT  left_only  \n",
       "732            NaN       NaT  left_only  "
      ]
     },
     "execution_count": 2192,
     "metadata": {},
     "output_type": "execute_result"
    }
   ],
   "source": [
    "df_merge[df_merge['_merge'] == \"left_only\"] "
   ]
  },
  {
   "cell_type": "code",
   "execution_count": 2193,
   "id": "5e855d4b",
   "metadata": {},
   "outputs": [
    {
     "name": "stdout",
     "output_type": "stream",
     "text": [
      "True\n"
     ]
    }
   ],
   "source": [
    "print(df_merge['product_id'].is_unique) \n",
    "#Suppression des valeurs manquantes\n",
    "df_merge = df_merge.loc[~df_merge[\"total_sales\"].isna()]"
   ]
  },
  {
   "cell_type": "markdown",
   "id": "13d81fd6",
   "metadata": {},
   "source": [
    "<div style=\"background-color: RGB(51,165,182);\" >\n",
    "<h2 style=\"margin: auto; padding: 20px; color:#fff; \">Etape 4 - Analyse univarié des prix</h2>\n",
    "</div>"
   ]
  },
  {
   "cell_type": "markdown",
   "id": "9c8d0615",
   "metadata": {},
   "source": [
    "<div style=\"border: 1px solid RGB(51,165,182);\" >\n",
    "<h3 style=\"margin: auto; padding: 20px; color: RGB(51,165,182); \">Etape 4.1 - Exploration par la visualisation de données</h3>\n",
    "</div>"
   ]
  },
  {
   "cell_type": "code",
   "execution_count": 2194,
   "id": "3be61f06",
   "metadata": {},
   "outputs": [
    {
     "data": {
      "image/png": "[encoded data removed]",
      "text/plain": [
       "<Figure size 640x480 with 1 Axes>"
      ]
     },
     "metadata": {},
     "output_type": "display_data"
    }
   ],
   "source": [
    "#Création d'une Boite à moustache de la répartition des prix grâce à Pandas\n",
    "df_merge.boxplot(column=\"price\")\n",
    "plt.show()"
   ]
  },
  {
   "cell_type": "code",
   "execution_count": 2195,
   "id": "cbfe6346",
   "metadata": {},
   "outputs": [
    {
     "data": {
      "application/vnd.plotly.v1+json": {
       "config": {
        "plotlyServerURL": "https://plot.ly"
       },
       "data": [
        {
         "alignmentgroup": "True",
         "hovertemplate": "price=%{x}<extra></extra>",
         "legendgroup": "",
         "marker": {
          "color": "#636efa"
         },
         "name": "",
         "notched": false,
         "offsetgroup": "",
         "orientation": "h",
         "showlegend": false,
         "type": "box",
         "x": [
          8.6,
          41,
          39,
          59.9,
          22.5,
          76.8,
          62.4,
          62.4,
          39.6,
          52.4,
          58.3,
          52.9,
          52.4,
          29.5,
          37.5,
          59,
          49,
          50,
          50,
          52.4,
          19.5,
          62.5,
          108.5,
          104,
          176,
          12,
          83,
          14.3,
          59.6,
          26.4,
          42.2,
          69,
          49,
          157,
          15.4,
          22,
          10.3,
          59.6,
          39,
          62,
          25.7,
          36,
          67.5,
          44,
          43,
          59,
          49.5,
          13.1,
          24,
          49.5,
          49.5,
          49.5,
          27.5,
          99,
          105,
          53,
          88.4,
          56.3,
          29.4,
          43,
          49,
          60,
          56,
          45,
          62.1,
          32,
          16.3,
          26.9,
          39,
          28.1,
          28,
          25,
          31.7,
          35.3,
          24,
          51.6,
          59,
          79.5,
          79.5,
          12.65,
          16.7,
          59,
          59,
          59,
          29.9,
          41.6,
          115,
          105,
          109.6,
          18.25,
          43.9,
          17.7,
          12.9,
          27.2,
          46,
          14.05,
          71.7,
          77.8,
          37,
          9.2,
          13.7,
          39,
          44.3,
          30,
          29.8,
          69,
          71.5,
          77.4,
          68.1,
          23,
          18.5,
          12.5,
          9.7,
          15.8,
          44,
          7.6,
          16.6,
          33.4,
          36.2,
          40.2,
          48.8,
          57.7,
          7.5,
          10.8,
          17.4,
          17.1,
          35.5,
          67.2,
          16.4,
          21,
          12.8,
          16.3,
          12.8,
          29.5,
          10.7,
          57,
          59.8,
          17.3,
          28,
          19.5,
          85.6,
          77,
          12.5,
          16.1,
          17.1,
          26.6,
          86.8,
          112,
          36.3,
          34.3,
          24.6,
          48.8,
          38,
          83.7,
          115,
          61.6,
          36.9,
          34.8,
          33.2,
          35.1,
          27.3,
          40.7,
          62.4,
          74.8,
          24.2,
          28.8,
          27.9,
          18.2,
          137,
          57.6,
          24.4,
          36,
          7.8,
          6.8,
          57,
          7.8,
          5.7,
          7.4,
          57,
          30.6,
          22.9,
          53.2,
          24,
          18.1,
          40.2,
          7.2,
          14.3,
          32.1,
          78,
          78,
          78,
          78,
          17.6,
          11.1,
          10.6,
          5.2,
          10.6,
          64.9,
          217.5,
          105.6,
          13.6,
          57.6,
          31,
          17.1,
          14.5,
          44.6,
          12.3,
          12.7,
          17.8,
          42,
          26.5,
          21.7,
          19.8,
          31.6,
          32.6,
          43.5,
          8.9,
          34.7,
          44.5,
          18.4,
          12,
          23.7,
          44,
          114,
          93,
          122,
          46,
          35,
          41,
          102.3,
          23.6,
          12,
          65.9,
          61.6,
          9.3,
          27.8,
          38.4,
          19.2,
          19.2,
          14.9,
          24.8,
          42,
          21.8,
          15.8,
          18,
          124.8,
          135,
          16.3,
          20.35,
          14.5,
          12.2,
          12.7,
          25,
          32.7,
          18.3,
          60,
          18.7,
          13.7,
          191.3,
          18.2,
          19.5,
          7.1,
          16.9,
          14.1,
          14.8,
          31.7,
          16.9,
          20.6,
          7.9,
          121,
          121,
          55.6,
          12,
          17.9,
          12.7,
          11.1,
          14.9,
          8.1,
          42.1,
          116.4,
          73.3,
          38.5,
          9.6,
          11.5,
          13.7,
          9.8,
          11.8,
          13.4,
          31.5,
          32.2,
          50.1,
          15.5,
          20.4,
          20.4,
          40.2,
          34.4,
          35.6,
          29.7,
          35.6,
          38.4,
          175,
          11.1,
          39.2,
          15.2,
          35.2,
          42.2,
          25.3,
          13.4,
          57,
          26.5,
          16.9,
          16.6,
          63.5,
          63.5,
          33.6,
          46.5,
          12.6,
          32.8,
          80,
          12.9,
          29.8,
          9.5,
          13.2,
          26.7,
          34.3,
          24.2,
          20.8,
          34.3,
          17.2,
          8.5,
          8.6,
          11.9,
          11.1,
          48.5,
          26.7,
          41.2,
          55,
          57,
          20.5,
          12.9,
          23,
          25.7,
          17.9,
          48.5,
          65,
          59.9,
          59.9,
          16.8,
          49.5,
          31.7,
          19.8,
          13.3,
          11,
          9.3,
          11.6,
          22.1,
          100,
          23.8,
          16.4,
          9.6,
          14.4,
          23,
          11.3,
          9.9,
          6.5,
          28.1,
          15.3,
          12,
          46,
          19,
          28,
          22.9,
          10.8,
          23.4,
          10.1,
          26.2,
          7.9,
          28.5,
          11.1,
          10.7,
          19.8,
          22.8,
          27.3,
          68.3,
          26.5,
          43.9,
          41.8,
          41.8,
          26.5,
          26.5,
          10.8,
          13.4,
          12.6,
          29.8,
          22,
          17,
          19.8,
          21.9,
          24.4,
          24.4,
          37.2,
          13.5,
          22.2,
          5.8,
          22.8,
          14.6,
          44,
          13.5,
          9.1,
          16.8,
          8.7,
          30.1,
          13.5,
          17.8,
          25.9,
          25.9,
          25.9,
          25.9,
          21.7,
          13.5,
          24.5,
          40,
          33,
          13.2,
          10.4,
          38,
          38,
          18.6,
          23.4,
          31.5,
          49,
          35.6,
          9.9,
          15.8,
          15.8,
          17.8,
          15.8,
          9.3,
          18.2,
          17.1,
          10.3,
          12.8,
          13.7,
          19,
          27.9,
          9.7,
          17.2,
          18.9,
          44,
          29,
          29.2,
          72,
          78,
          52.6,
          45,
          48.5,
          67,
          39.8,
          58.8,
          79.8,
          29.5,
          18.7,
          12.3,
          11.1,
          21,
          28.5,
          46.5,
          21.8,
          11.3,
          50.5,
          19,
          40.5,
          21.4,
          16.7,
          30.8,
          17.9,
          15.2,
          21.6,
          11.6,
          8.9,
          22.4,
          24.4,
          15.4,
          16.3,
          13.5,
          13.5,
          28.4,
          19,
          19.3,
          27.9,
          28.4,
          15.4,
          24,
          18.2,
          14.3,
          9,
          12.6,
          33.2,
          41.8,
          32.2,
          37.7,
          52.7,
          47.2,
          17.5,
          13.1,
          27.9,
          27.9,
          22.4,
          14.9,
          13,
          12.8,
          12.9,
          12.8,
          46,
          15.5,
          49.9,
          21.5,
          16.5,
          11.9,
          18.8,
          19.8,
          24.3,
          12.9,
          48.4,
          60.4,
          38.6,
          38.6,
          27.3,
          48.7,
          48.7,
          59.4,
          19,
          29,
          13.7,
          12.1,
          69,
          27.5,
          12.7,
          17.2,
          24.7,
          71.3,
          71.3,
          56.4,
          16.7,
          7,
          38.6,
          7.1,
          6.3,
          225,
          12.7,
          30.5,
          63.4,
          10.9,
          10.7,
          24.5,
          20.1,
          33.2,
          7,
          14.4,
          20.8,
          10.7,
          23,
          16.45,
          23.4,
          22.8,
          16.4,
          23.2,
          18,
          6.7,
          7.6,
          13.6,
          12.7,
          33.7,
          9.9,
          54.8,
          25.3,
          17,
          8.7,
          42.6,
          31.2,
          19.3,
          22.8,
          7.7,
          51,
          9.9,
          20.2,
          19,
          19.8,
          21.2,
          20.8,
          38.6,
          69.8,
          48.5,
          27.7,
          14.7,
          32.8,
          13.9,
          25.2,
          20.8,
          18.5,
          29.9,
          23.5,
          8.9,
          55.4,
          12.6,
          25,
          20.5,
          43.5,
          49.5,
          33.4,
          7.4,
          9.3,
          8.4,
          15.3,
          46.5,
          13.8,
          10.1,
          9.9,
          9.3,
          16.1,
          50.4,
          41,
          27,
          17.5,
          8.5,
          11.5,
          24,
          14.4,
          24,
          13.3,
          16.6,
          12.1,
          27.5,
          5.7,
          5.7,
          5.7,
          5.8,
          16.9,
          16.3,
          29,
          19.2,
          9.1,
          10.2,
          19,
          45.9,
          8.2,
          9.4,
          16.5,
          24.3,
          9.3,
          10.9,
          9.5,
          11.1,
          9,
          9.8,
          8.7,
          12.8,
          23.2,
          27.8,
          18.4,
          9.9,
          22.8,
          8.7,
          5.8,
          17,
          6.5,
          10.2,
          10.4,
          15.2,
          19.5,
          8.7,
          14.5,
          11.9,
          5.8,
          14.1,
          14,
          30,
          16.2,
          11.6,
          6.5,
          16.6,
          21.8,
          19,
          74.5,
          16.9,
          11.9,
          23.2,
          6.8,
          16.3,
          15.9,
          12.1,
          28.5,
          12.5,
          13.5,
          19,
          15.4,
          26,
          17.5,
          11.9,
          9.8,
          20.2,
          28,
          39.1,
          25.2,
          9.7,
          7.1,
          14.1,
          46,
          71.6,
          58,
          58,
          92,
          54.8,
          25
         ],
         "x0": " ",
         "xaxis": "x",
         "y0": " ",
         "yaxis": "y"
        }
       ],
       "layout": {
        "boxmode": "group",
        "legend": {
         "tracegroupgap": 0
        },
        "margin": {
         "t": 60
        },
        "template": {
         "data": {
          "bar": [
           {
            "error_x": {
             "color": "#2a3f5f"
            },
            "error_y": {
             "color": "#2a3f5f"
            },
            "marker": {
             "line": {
              "color": "#E5ECF6",
              "width": 0.5
             },
             "pattern": {
              "fillmode": "overlay",
              "size": 10,
              "solidity": 0.2
             }
            },
            "type": "bar"
           }
          ],
          "barpolar": [
           {
            "marker": {
             "line": {
              "color": "#E5ECF6",
              "width": 0.5
             },
             "pattern": {
              "fillmode": "overlay",
              "size": 10,
              "solidity": 0.2
             }
            },
            "type": "barpolar"
           }
          ],
          "carpet": [
           {
            "aaxis": {
             "endlinecolor": "#2a3f5f",
             "gridcolor": "white",
             "linecolor": "white",
             "minorgridcolor": "white",
             "startlinecolor": "#2a3f5f"
            },
            "baxis": {
             "endlinecolor": "#2a3f5f",
             "gridcolor": "white",
             "linecolor": "white",
             "minorgridcolor": "white",
             "startlinecolor": "#2a3f5f"
            },
            "type": "carpet"
           }
          ],
          "choropleth": [
           {
            "colorbar": {
             "outlinewidth": 0,
             "ticks": ""
            },
            "type": "choropleth"
           }
          ],
          "contour": [
           {
            "colorbar": {
             "outlinewidth": 0,
             "ticks": ""
            },
            "colorscale": [
             [
              0,
              "#0d0887"
             ],
             [
              0.1111111111111111,
              "#46039f"
             ],
             [
              0.2222222222222222,
              "#7201a8"
             ],
             [
              0.3333333333333333,
              "#9c179e"
             ],
             [
              0.4444444444444444,
              "#bd3786"
             ],
             [
              0.5555555555555556,
              "#d8576b"
             ],
             [
              0.6666666666666666,
              "#ed7953"
             ],
             [
              0.7777777777777778,
              "#fb9f3a"
             ],
             [
              0.8888888888888888,
              "#fdca26"
             ],
             [
              1,
              "#f0f921"
             ]
            ],
            "type": "contour"
           }
          ],
          "contourcarpet": [
           {
            "colorbar": {
             "outlinewidth": 0,
             "ticks": ""
            },
            "type": "contourcarpet"
           }
          ],
          "heatmap": [
           {
            "colorbar": {
             "outlinewidth": 0,
             "ticks": ""
            },
            "colorscale": [
             [
              0,
              "#0d0887"
             ],
             [
              0.1111111111111111,
              "#46039f"
             ],
             [
              0.2222222222222222,
              "#7201a8"
             ],
             [
              0.3333333333333333,
              "#9c179e"
             ],
             [
              0.4444444444444444,
              "#bd3786"
             ],
             [
              0.5555555555555556,
              "#d8576b"
             ],
             [
              0.6666666666666666,
              "#ed7953"
             ],
             [
              0.7777777777777778,
              "#fb9f3a"
             ],
             [
              0.8888888888888888,
              "#fdca26"
             ],
             [
              1,
              "#f0f921"
             ]
            ],
            "type": "heatmap"
           }
          ],
          "heatmapgl": [
           {
            "colorbar": {
             "outlinewidth": 0,
             "ticks": ""
            },
            "colorscale": [
             [
              0,
              "#0d0887"
             ],
             [
              0.1111111111111111,
              "#46039f"
             ],
             [
              0.2222222222222222,
              "#7201a8"
             ],
             [
              0.3333333333333333,
              "#9c179e"
             ],
             [
              0.4444444444444444,
              "#bd3786"
             ],
             [
              0.5555555555555556,
              "#d8576b"
             ],
             [
              0.6666666666666666,
              "#ed7953"
             ],
             [
              0.7777777777777778,
              "#fb9f3a"
             ],
             [
              0.8888888888888888,
              "#fdca26"
             ],
             [
              1,
              "#f0f921"
             ]
            ],
            "type": "heatmapgl"
           }
          ],
          "histogram": [
           {
            "marker": {
             "pattern": {
              "fillmode": "overlay",
              "size": 10,
              "solidity": 0.2
             }
            },
            "type": "histogram"
           }
          ],
          "histogram2d": [
           {
            "colorbar": {
             "outlinewidth": 0,
             "ticks": ""
            },
            "colorscale": [
             [
              0,
              "#0d0887"
             ],
             [
              0.1111111111111111,
              "#46039f"
             ],
             [
              0.2222222222222222,
              "#7201a8"
             ],
             [
              0.3333333333333333,
              "#9c179e"
             ],
             [
              0.4444444444444444,
              "#bd3786"
             ],
             [
              0.5555555555555556,
              "#d8576b"
             ],
             [
              0.6666666666666666,
              "#ed7953"
             ],
             [
              0.7777777777777778,
              "#fb9f3a"
             ],
             [
              0.8888888888888888,
              "#fdca26"
             ],
             [
              1,
              "#f0f921"
             ]
            ],
            "type": "histogram2d"
           }
          ],
          "histogram2dcontour": [
           {
            "colorbar": {
             "outlinewidth": 0,
             "ticks": ""
            },
            "colorscale": [
             [
              0,
              "#0d0887"
             ],
             [
              0.1111111111111111,
              "#46039f"
             ],
             [
              0.2222222222222222,
              "#7201a8"
             ],
             [
              0.3333333333333333,
              "#9c179e"
             ],
             [
              0.4444444444444444,
              "#bd3786"
             ],
             [
              0.5555555555555556,
              "#d8576b"
             ],
             [
              0.6666666666666666,
              "#ed7953"
             ],
             [
              0.7777777777777778,
              "#fb9f3a"
             ],
             [
              0.8888888888888888,
              "#fdca26"
             ],
             [
              1,
              "#f0f921"
             ]
            ],
            "type": "histogram2dcontour"
           }
          ],
          "mesh3d": [
           {
            "colorbar": {
             "outlinewidth": 0,
             "ticks": ""
            },
            "type": "mesh3d"
           }
          ],
          "parcoords": [
           {
            "line": {
             "colorbar": {
              "outlinewidth": 0,
              "ticks": ""
             }
            },
            "type": "parcoords"
           }
          ],
          "pie": [
           {
            "automargin": true,
            "type": "pie"
           }
          ],
          "scatter": [
           {
            "fillpattern": {
             "fillmode": "overlay",
             "size": 10,
             "solidity": 0.2
            },
            "type": "scatter"
           }
          ],
          "scatter3d": [
           {
            "line": {
             "colorbar": {
              "outlinewidth": 0,
              "ticks": ""
             }
            },
            "marker": {
             "colorbar": {
              "outlinewidth": 0,
              "ticks": ""
             }
            },
            "type": "scatter3d"
           }
          ],
          "scattercarpet": [
           {
            "marker": {
             "colorbar": {
              "outlinewidth": 0,
              "ticks": ""
             }
            },
            "type": "scattercarpet"
           }
          ],
          "scattergeo": [
           {
            "marker": {
             "colorbar": {
              "outlinewidth": 0,
              "ticks": ""
             }
            },
            "type": "scattergeo"
           }
          ],
          "scattergl": [
           {
            "marker": {
             "colorbar": {
              "outlinewidth": 0,
              "ticks": ""
             }
            },
            "type": "scattergl"
           }
          ],
          "scattermapbox": [
           {
            "marker": {
             "colorbar": {
              "outlinewidth": 0,
              "ticks": ""
             }
            },
            "type": "scattermapbox"
           }
          ],
          "scatterpolar": [
           {
            "marker": {
             "colorbar": {
              "outlinewidth": 0,
              "ticks": ""
             }
            },
            "type": "scatterpolar"
           }
          ],
          "scatterpolargl": [
           {
            "marker": {
             "colorbar": {
              "outlinewidth": 0,
              "ticks": ""
             }
            },
            "type": "scatterpolargl"
           }
          ],
          "scatterternary": [
           {
            "marker": {
             "colorbar": {
              "outlinewidth": 0,
              "ticks": ""
             }
            },
            "type": "scatterternary"
           }
          ],
          "surface": [
           {
            "colorbar": {
             "outlinewidth": 0,
             "ticks": ""
            },
            "colorscale": [
             [
              0,
              "#0d0887"
             ],
             [
              0.1111111111111111,
              "#46039f"
             ],
             [
              0.2222222222222222,
              "#7201a8"
             ],
             [
              0.3333333333333333,
              "#9c179e"
             ],
             [
              0.4444444444444444,
              "#bd3786"
             ],
             [
              0.5555555555555556,
              "#d8576b"
             ],
             [
              0.6666666666666666,
              "#ed7953"
             ],
             [
              0.7777777777777778,
              "#fb9f3a"
             ],
             [
              0.8888888888888888,
              "#fdca26"
             ],
             [
              1,
              "#f0f921"
             ]
            ],
            "type": "surface"
           }
          ],
          "table": [
           {
            "cells": {
             "fill": {
              "color": "#EBF0F8"
             },
             "line": {
              "color": "white"
             }
            },
            "header": {
             "fill": {
              "color": "#C8D4E3"
             },
             "line": {
              "color": "white"
             }
            },
            "type": "table"
           }
          ]
         },
         "layout": {
          "annotationdefaults": {
           "arrowcolor": "#2a3f5f",
           "arrowhead": 0,
           "arrowwidth": 1
          },
          "autotypenumbers": "strict",
          "coloraxis": {
           "colorbar": {
            "outlinewidth": 0,
            "ticks": ""
           }
          },
          "colorscale": {
           "diverging": [
            [
             0,
             "#8e0152"
            ],
            [
             0.1,
             "#c51b7d"
            ],
            [
             0.2,
             "#de77ae"
            ],
            [
             0.3,
             "#f1b6da"
            ],
            [
             0.4,
             "#fde0ef"
            ],
            [
             0.5,
             "#f7f7f7"
            ],
            [
             0.6,
             "#e6f5d0"
            ],
            [
             0.7,
             "#b8e186"
            ],
            [
             0.8,
             "#7fbc41"
            ],
            [
             0.9,
             "#4d9221"
            ],
            [
             1,
             "#276419"
            ]
           ],
           "sequential": [
            [
             0,
             "#0d0887"
            ],
            [
             0.1111111111111111,
             "#46039f"
            ],
            [
             0.2222222222222222,
             "#7201a8"
            ],
            [
             0.3333333333333333,
             "#9c179e"
            ],
            [
             0.4444444444444444,
             "#bd3786"
            ],
            [
             0.5555555555555556,
             "#d8576b"
            ],
            [
             0.6666666666666666,
             "#ed7953"
            ],
            [
             0.7777777777777778,
             "#fb9f3a"
            ],
            [
             0.8888888888888888,
             "#fdca26"
            ],
            [
             1,
             "#f0f921"
            ]
           ],
           "sequentialminus": [
            [
             0,
             "#0d0887"
            ],
            [
             0.1111111111111111,
             "#46039f"
            ],
            [
             0.2222222222222222,
             "#7201a8"
            ],
            [
             0.3333333333333333,
             "#9c179e"
            ],
            [
             0.4444444444444444,
             "#bd3786"
            ],
            [
             0.5555555555555556,
             "#d8576b"
            ],
            [
             0.6666666666666666,
             "#ed7953"
            ],
            [
             0.7777777777777778,
             "#fb9f3a"
            ],
            [
             0.8888888888888888,
             "#fdca26"
            ],
            [
             1,
             "#f0f921"
            ]
           ]
          },
          "colorway": [
           "#636efa",
           "#EF553B",
           "#00cc96",
           "#ab63fa",
           "#FFA15A",
           "#19d3f3",
           "#FF6692",
           "#B6E880",
           "#FF97FF",
           "#FECB52"
          ],
          "font": {
           "color": "#2a3f5f"
          },
          "geo": {
           "bgcolor": "white",
           "lakecolor": "white",
           "landcolor": "#E5ECF6",
           "showlakes": true,
           "showland": true,
           "subunitcolor": "white"
          },
          "hoverlabel": {
           "align": "left"
          },
          "hovermode": "closest",
          "mapbox": {
           "style": "light"
          },
          "paper_bgcolor": "white",
          "plot_bgcolor": "#E5ECF6",
          "polar": {
           "angularaxis": {
            "gridcolor": "white",
            "linecolor": "white",
            "ticks": ""
           },
           "bgcolor": "#E5ECF6",
           "radialaxis": {
            "gridcolor": "white",
            "linecolor": "white",
            "ticks": ""
           }
          },
          "scene": {
           "xaxis": {
            "backgroundcolor": "#E5ECF6",
            "gridcolor": "white",
            "gridwidth": 2,
            "linecolor": "white",
            "showbackground": true,
            "ticks": "",
            "zerolinecolor": "white"
           },
           "yaxis": {
            "backgroundcolor": "#E5ECF6",
            "gridcolor": "white",
            "gridwidth": 2,
            "linecolor": "white",
            "showbackground": true,
            "ticks": "",
            "zerolinecolor": "white"
           },
           "zaxis": {
            "backgroundcolor": "#E5ECF6",
            "gridcolor": "white",
            "gridwidth": 2,
            "linecolor": "white",
            "showbackground": true,
            "ticks": "",
            "zerolinecolor": "white"
           }
          },
          "shapedefaults": {
           "line": {
            "color": "#2a3f5f"
           }
          },
          "ternary": {
           "aaxis": {
            "gridcolor": "white",
            "linecolor": "white",
            "ticks": ""
           },
           "baxis": {
            "gridcolor": "white",
            "linecolor": "white",
            "ticks": ""
           },
           "bgcolor": "#E5ECF6",
           "caxis": {
            "gridcolor": "white",
            "linecolor": "white",
            "ticks": ""
           }
          },
          "title": {
           "x": 0.05
          },
          "xaxis": {
           "automargin": true,
           "gridcolor": "white",
           "linecolor": "white",
           "ticks": "",
           "title": {
            "standoff": 15
           },
           "zerolinecolor": "white",
           "zerolinewidth": 2
          },
          "yaxis": {
           "automargin": true,
           "gridcolor": "white",
           "linecolor": "white",
           "ticks": "",
           "title": {
            "standoff": 15
           },
           "zerolinecolor": "white",
           "zerolinewidth": 2
          }
         }
        },
        "xaxis": {
         "anchor": "y",
         "domain": [
          0,
          1
         ],
         "title": {
          "text": "price"
         }
        },
        "yaxis": {
         "anchor": "x",
         "domain": [
          0,
          1
         ]
        }
       }
      }
     },
     "metadata": {},
     "output_type": "display_data"
    }
   ],
   "source": [
    "#Autre méthode avec plotly express\n",
    "fig = px.box(df_merge, x='price')\n",
    "fig.show()"
   ]
  },
  {
   "cell_type": "markdown",
   "id": "79e2f2eb",
   "metadata": {},
   "source": [
    "<div style=\"border: 1px solid RGB(51,165,182);\" >\n",
    "<h3 style=\"margin: auto; padding: 20px; color: RGB(51,165,182); \">Etape 4.2 - Exploration par l'utisation de méthodes statistique</h3>\n",
    "</div>"
   ]
  },
  {
   "cell_type": "markdown",
   "id": "0735c3b2",
   "metadata": {},
   "source": [
    "<div style=\"border: 1px solid RGB(51,165,182);\" >\n",
    "<h3 style=\"margin: auto; padding: 20px; color: RGB(51,165,182); \">Etape 4.2.1 - Identification par le Z-index</h3>\n",
    "</div>"
   ]
  },
  {
   "cell_type": "code",
   "execution_count": 2196,
   "id": "1950ef8d",
   "metadata": {},
   "outputs": [
    {
     "name": "stdout",
     "output_type": "stream",
     "text": [
      "count    714.000000\n",
      "mean      32.333683\n",
      "std       27.596332\n",
      "min        5.200000\n",
      "25%       14.062500\n",
      "50%       23.450000\n",
      "75%       42.075000\n",
      "max      225.000000\n",
      "Name: price, dtype: float64\n"
     ]
    },
    {
     "data": {
      "text/html": [
       "<div>\n",
       "<style scoped>\n",
       "    .dataframe tbody tr th:only-of-type {\n",
       "        vertical-align: middle;\n",
       "    }\n",
       "\n",
       "    .dataframe tbody tr th {\n",
       "        vertical-align: top;\n",
       "    }\n",
       "\n",
       "    .dataframe thead th {\n",
       "        text-align: right;\n",
       "    }\n",
       "</style>\n",
       "<table border=\"1\" class=\"dataframe\">\n",
       "  <thead>\n",
       "    <tr style=\"text-align: right;\">\n",
       "      <th></th>\n",
       "      <th>product_id</th>\n",
       "      <th>onsale_web</th>\n",
       "      <th>price</th>\n",
       "      <th>stock_quantity</th>\n",
       "      <th>stock_status</th>\n",
       "      <th>purchase_price</th>\n",
       "      <th>sku</th>\n",
       "      <th>total_sales</th>\n",
       "      <th>post_title</th>\n",
       "      <th>product_type</th>\n",
       "      <th>post_mime_type</th>\n",
       "      <th>post_date</th>\n",
       "      <th>_merge</th>\n",
       "      <th>z_score</th>\n",
       "    </tr>\n",
       "  </thead>\n",
       "  <tbody>\n",
       "    <tr>\n",
       "      <th>0</th>\n",
       "      <td>4729</td>\n",
       "      <td>1</td>\n",
       "      <td>8.6</td>\n",
       "      <td>26</td>\n",
       "      <td>instock</td>\n",
       "      <td>4.22</td>\n",
       "      <td>38</td>\n",
       "      <td>10.0</td>\n",
       "      <td>Emile Boeckel Crémant Brut Blanc de Blancs</td>\n",
       "      <td>Vin</td>\n",
       "      <td>image/jpeg</td>\n",
       "      <td>2018-04-18 12:25:58</td>\n",
       "      <td>both</td>\n",
       "      <td>-0.860030</td>\n",
       "    </tr>\n",
       "    <tr>\n",
       "      <th>1</th>\n",
       "      <td>4634</td>\n",
       "      <td>1</td>\n",
       "      <td>41.0</td>\n",
       "      <td>11</td>\n",
       "      <td>instock</td>\n",
       "      <td>20.12</td>\n",
       "      <td>41</td>\n",
       "      <td>6.0</td>\n",
       "      <td>Marcel Windholtz Eau de Vie de Marc de Gewurzt...</td>\n",
       "      <td>Vin</td>\n",
       "      <td>image/jpeg</td>\n",
       "      <td>2018-04-14 12:01:43</td>\n",
       "      <td>both</td>\n",
       "      <td>0.314039</td>\n",
       "    </tr>\n",
       "    <tr>\n",
       "      <th>2</th>\n",
       "      <td>4141</td>\n",
       "      <td>1</td>\n",
       "      <td>39.0</td>\n",
       "      <td>123</td>\n",
       "      <td>instock</td>\n",
       "      <td>24.86</td>\n",
       "      <td>304</td>\n",
       "      <td>8.0</td>\n",
       "      <td>Champagne Gosset Grande Réserve</td>\n",
       "      <td>Champagne</td>\n",
       "      <td>image/jpeg</td>\n",
       "      <td>2018-02-13 12:57:44</td>\n",
       "      <td>both</td>\n",
       "      <td>0.241565</td>\n",
       "    </tr>\n",
       "    <tr>\n",
       "      <th>3</th>\n",
       "      <td>5932</td>\n",
       "      <td>1</td>\n",
       "      <td>59.9</td>\n",
       "      <td>13</td>\n",
       "      <td>instock</td>\n",
       "      <td>27.18</td>\n",
       "      <td>523</td>\n",
       "      <td>0.0</td>\n",
       "      <td>Cognac Normandin Mercier VFC</td>\n",
       "      <td>Cognac</td>\n",
       "      <td>image/jpeg</td>\n",
       "      <td>2019-04-06 15:25:58</td>\n",
       "      <td>both</td>\n",
       "      <td>0.998912</td>\n",
       "    </tr>\n",
       "    <tr>\n",
       "      <th>4</th>\n",
       "      <td>5047</td>\n",
       "      <td>1</td>\n",
       "      <td>22.5</td>\n",
       "      <td>76</td>\n",
       "      <td>instock</td>\n",
       "      <td>13.78</td>\n",
       "      <td>531</td>\n",
       "      <td>8.0</td>\n",
       "      <td>Champagne Petit Lebrun &amp;amp; Fils Blanc de Bla...</td>\n",
       "      <td>Champagne</td>\n",
       "      <td>image/jpeg</td>\n",
       "      <td>2018-07-18 15:58:02</td>\n",
       "      <td>both</td>\n",
       "      <td>-0.356340</td>\n",
       "    </tr>\n",
       "    <tr>\n",
       "      <th>...</th>\n",
       "      <td>...</td>\n",
       "      <td>...</td>\n",
       "      <td>...</td>\n",
       "      <td>...</td>\n",
       "      <td>...</td>\n",
       "      <td>...</td>\n",
       "      <td>...</td>\n",
       "      <td>...</td>\n",
       "      <td>...</td>\n",
       "      <td>...</td>\n",
       "      <td>...</td>\n",
       "      <td>...</td>\n",
       "      <td>...</td>\n",
       "      <td>...</td>\n",
       "    </tr>\n",
       "    <tr>\n",
       "      <th>728</th>\n",
       "      <td>5561</td>\n",
       "      <td>1</td>\n",
       "      <td>58.0</td>\n",
       "      <td>8</td>\n",
       "      <td>instock</td>\n",
       "      <td>30.27</td>\n",
       "      <td>19820</td>\n",
       "      <td>6.0</td>\n",
       "      <td>Tempier Bandol Migoua 2017</td>\n",
       "      <td>Vin</td>\n",
       "      <td>image/jpeg</td>\n",
       "      <td>2018-11-26 10:54:29</td>\n",
       "      <td>both</td>\n",
       "      <td>0.930063</td>\n",
       "    </tr>\n",
       "    <tr>\n",
       "      <th>729</th>\n",
       "      <td>5563</td>\n",
       "      <td>1</td>\n",
       "      <td>58.0</td>\n",
       "      <td>16</td>\n",
       "      <td>instock</td>\n",
       "      <td>29.07</td>\n",
       "      <td>19821</td>\n",
       "      <td>8.0</td>\n",
       "      <td>Tempier Bandol Tourtine 2017</td>\n",
       "      <td>Vin</td>\n",
       "      <td>image/jpeg</td>\n",
       "      <td>2018-11-26 10:56:30</td>\n",
       "      <td>both</td>\n",
       "      <td>0.930063</td>\n",
       "    </tr>\n",
       "    <tr>\n",
       "      <th>730</th>\n",
       "      <td>5565</td>\n",
       "      <td>1</td>\n",
       "      <td>92.0</td>\n",
       "      <td>0</td>\n",
       "      <td>outofstock</td>\n",
       "      <td>46.11</td>\n",
       "      <td>19822</td>\n",
       "      <td>1.0</td>\n",
       "      <td>Tempier Bandol Cabassaou 2017</td>\n",
       "      <td>Vin</td>\n",
       "      <td>image/jpeg</td>\n",
       "      <td>2018-11-26 10:59:10</td>\n",
       "      <td>both</td>\n",
       "      <td>2.162110</td>\n",
       "    </tr>\n",
       "    <tr>\n",
       "      <th>731</th>\n",
       "      <td>7247</td>\n",
       "      <td>1</td>\n",
       "      <td>54.8</td>\n",
       "      <td>6</td>\n",
       "      <td>instock</td>\n",
       "      <td>27.18</td>\n",
       "      <td>13127-1</td>\n",
       "      <td>4.0</td>\n",
       "      <td>Clos du Mont-Olivet Châteauneuf-du-Pape 2007</td>\n",
       "      <td>Vin</td>\n",
       "      <td>image/jpeg</td>\n",
       "      <td>2020-06-09 15:42:04</td>\n",
       "      <td>both</td>\n",
       "      <td>0.814105</td>\n",
       "    </tr>\n",
       "    <tr>\n",
       "      <th>733</th>\n",
       "      <td>4954</td>\n",
       "      <td>1</td>\n",
       "      <td>25.0</td>\n",
       "      <td>23</td>\n",
       "      <td>instock</td>\n",
       "      <td>13.30</td>\n",
       "      <td>bon-cadeau-25-euros</td>\n",
       "      <td>7.0</td>\n",
       "      <td>Bon cadeau de 25€</td>\n",
       "      <td>Autre</td>\n",
       "      <td>image/jpeg</td>\n",
       "      <td>2018-06-01 13:53:46</td>\n",
       "      <td>both</td>\n",
       "      <td>-0.265748</td>\n",
       "    </tr>\n",
       "  </tbody>\n",
       "</table>\n",
       "<p>714 rows × 14 columns</p>\n",
       "</div>"
      ],
      "text/plain": [
       "     product_id  onsale_web  price  stock_quantity stock_status  \\\n",
       "0          4729           1    8.6              26      instock   \n",
       "1          4634           1   41.0              11      instock   \n",
       "2          4141           1   39.0             123      instock   \n",
       "3          5932           1   59.9              13      instock   \n",
       "4          5047           1   22.5              76      instock   \n",
       "..          ...         ...    ...             ...          ...   \n",
       "728        5561           1   58.0               8      instock   \n",
       "729        5563           1   58.0              16      instock   \n",
       "730        5565           1   92.0               0   outofstock   \n",
       "731        7247           1   54.8               6      instock   \n",
       "733        4954           1   25.0              23      instock   \n",
       "\n",
       "     purchase_price                  sku  total_sales  \\\n",
       "0              4.22                   38         10.0   \n",
       "1             20.12                   41          6.0   \n",
       "2             24.86                  304          8.0   \n",
       "3             27.18                  523          0.0   \n",
       "4             13.78                  531          8.0   \n",
       "..              ...                  ...          ...   \n",
       "728           30.27                19820          6.0   \n",
       "729           29.07                19821          8.0   \n",
       "730           46.11                19822          1.0   \n",
       "731           27.18              13127-1          4.0   \n",
       "733           13.30  bon-cadeau-25-euros          7.0   \n",
       "\n",
       "                                            post_title product_type  \\\n",
       "0           Emile Boeckel Crémant Brut Blanc de Blancs          Vin   \n",
       "1    Marcel Windholtz Eau de Vie de Marc de Gewurzt...          Vin   \n",
       "2                      Champagne Gosset Grande Réserve    Champagne   \n",
       "3                         Cognac Normandin Mercier VFC       Cognac   \n",
       "4    Champagne Petit Lebrun &amp; Fils Blanc de Bla...    Champagne   \n",
       "..                                                 ...          ...   \n",
       "728                         Tempier Bandol Migoua 2017          Vin   \n",
       "729                       Tempier Bandol Tourtine 2017          Vin   \n",
       "730                      Tempier Bandol Cabassaou 2017          Vin   \n",
       "731       Clos du Mont-Olivet Châteauneuf-du-Pape 2007          Vin   \n",
       "733                                  Bon cadeau de 25€        Autre   \n",
       "\n",
       "    post_mime_type           post_date _merge   z_score  \n",
       "0       image/jpeg 2018-04-18 12:25:58   both -0.860030  \n",
       "1       image/jpeg 2018-04-14 12:01:43   both  0.314039  \n",
       "2       image/jpeg 2018-02-13 12:57:44   both  0.241565  \n",
       "3       image/jpeg 2019-04-06 15:25:58   both  0.998912  \n",
       "4       image/jpeg 2018-07-18 15:58:02   both -0.356340  \n",
       "..             ...                 ...    ...       ...  \n",
       "728     image/jpeg 2018-11-26 10:54:29   both  0.930063  \n",
       "729     image/jpeg 2018-11-26 10:56:30   both  0.930063  \n",
       "730     image/jpeg 2018-11-26 10:59:10   both  2.162110  \n",
       "731     image/jpeg 2020-06-09 15:42:04   both  0.814105  \n",
       "733     image/jpeg 2018-06-01 13:53:46   both -0.265748  \n",
       "\n",
       "[714 rows x 14 columns]"
      ]
     },
     "execution_count": 2196,
     "metadata": {},
     "output_type": "execute_result"
    }
   ],
   "source": [
    "#Calculer la moyenne du prix\n",
    "\n",
    "\n",
    "#Calculer l'écart-type du prix\n",
    "# Utilisation de la fonction describe qui nous retourne les valeurs statistiques du prix: \n",
    "print(df_merge['price'].describe())\n",
    "\n",
    "#Calculer le Z-score\n",
    "df_merge['z_score'] = (df_merge['price'] - df_merge['price'].mean()) / df_merge['price'].std()\n",
    "df_merge"
   ]
  },
  {
   "cell_type": "code",
   "execution_count": 2197,
   "id": "9c2f435f",
   "metadata": {},
   "outputs": [
    {
     "name": "stdout",
     "output_type": "stream",
     "text": [
      "Le seuil de prix avec la méthode du z score est de 116.4 €, ce qui exlue 13 articles.\n"
     ]
    }
   ],
   "source": [
    "#Quel est le seuil prix dont z-score est supérieur à 3?\n",
    "zscore_outliers = df_merge.loc[(df_merge['z_score'] < -3) | (df_merge['z_score'] > 3)]\n",
    "seuil_zscore = zscore_outliers['price'].min()\n",
    "zscore_nb = zscore_outliers.shape[0]\n",
    "print(\"Le seuil de prix avec la méthode du z score est de\", seuil_zscore,\"€, ce qui exlue\", zscore_nb, \"articles.\")"
   ]
  },
  {
   "cell_type": "code",
   "execution_count": 2198,
   "id": "0f88e823",
   "metadata": {},
   "outputs": [
    {
     "data": {
      "image/png": "[encoded data removed]",
      "text/plain": [
       "<Figure size 640x480 with 1 Axes>"
      ]
     },
     "metadata": {},
     "output_type": "display_data"
    }
   ],
   "source": [
    "# Visualisation de la distribution des prix\n",
    "sns.histplot(df_merge['price'], kde=True, stat=\"density\", color='blue', bins=30)\n",
    "plt.show()"
   ]
  },
  {
   "cell_type": "markdown",
   "id": "750f54f3",
   "metadata": {},
   "source": [
    "<div style=\"border: 1px solid RGB(51,165,182);\" >\n",
    "<h3 style=\"margin: auto; padding: 20px; color: RGB(51,165,182); \">Etape 4.2.2 - Identification par l'interval interquartile</h3>\n",
    "</div>"
   ]
  },
  {
   "cell_type": "code",
   "execution_count": 2199,
   "id": "6c0db8c0",
   "metadata": {},
   "outputs": [
    {
     "name": "stdout",
     "output_type": "stream",
     "text": [
      "count    714.000000\n",
      "mean      32.333683\n",
      "std       27.596332\n",
      "min        5.200000\n",
      "25%       14.062500\n",
      "50%       23.450000\n",
      "75%       42.075000\n",
      "max      225.000000\n",
      "Name: price, dtype: float64\n"
     ]
    }
   ],
   "source": [
    "#Utilisation de la fonction describe de Pandas pour l'etude des mesures de dispersions\n",
    "print(df_merge['price'].describe())"
   ]
  },
  {
   "cell_type": "code",
   "execution_count": 2200,
   "id": "a458ca14",
   "metadata": {},
   "outputs": [
    {
     "data": {
      "text/plain": [
       "84.09375"
      ]
     },
     "execution_count": 2200,
     "metadata": {},
     "output_type": "execute_result"
    }
   ],
   "source": [
    "#Définissez un seuil pour les articles \"outliers\" en prix\n",
    "\n",
    "q1=df_merge[\"price\"].quantile(q=0.25)\n",
    "q3=df_merge[\"price\"].quantile(q=0.75)\n",
    "\n",
    "IQR =q3-q1\n",
    "\n",
    "bottom = q1 - 1.5*IQR\n",
    "top = q3 + 1.5*IQR\n",
    "\n",
    "#La valeur seuil inférieure  étant négative, nous avons uniquement à garder les valeurs de prix inférieures à la valeur plafond\n",
    "top\n"
   ]
  },
  {
   "cell_type": "code",
   "execution_count": 2201,
   "id": "7d05cde7",
   "metadata": {},
   "outputs": [
    {
     "data": {
      "image/png": "[encoded data removed]",
      "text/plain": [
       "<Figure size 700x700 with 1 Axes>"
      ]
     },
     "metadata": {},
     "output_type": "display_data"
    },
    {
     "name": "stdout",
     "output_type": "stream",
     "text": [
      "La méthode interquartile permet d'isoler 31 produits, soit 4.3%\n"
     ]
    }
   ],
   "source": [
    "#Définissez le nombre d'articles et la proportion de l'ensemble du catalogue \"outliers\"\n",
    "outlier = df_merge[df_merge[\"price\"] > top].shape[0]\n",
    "norm = df_merge[df_merge[\"price\"] <= top].shape[0]\n",
    "catalogue = [outlier, norm]\n",
    "plt.figure(figsize=(7, 7))\n",
    "plt.pie(catalogue, labels=['outliers', 'norm'], autopct='%1.1f%%', explode=(0.1, 0), colors=sns.color_palette('coolwarm'))\n",
    "plt.title('Proportion des articles \"outliers\"')\n",
    "plt.show()\n",
    "outliers = df_merge[df_merge[\"price\"] > top]\n",
    "print(\"La méthode interquartile permet d'isoler {} produits, soit 4.3%\".format(outliers.shape[0]))"
   ]
  },
  {
   "cell_type": "code",
   "execution_count": 2202,
   "id": "06138432",
   "metadata": {},
   "outputs": [
    {
     "data": {
      "text/html": [
       "<div>\n",
       "<style scoped>\n",
       "    .dataframe tbody tr th:only-of-type {\n",
       "        vertical-align: middle;\n",
       "    }\n",
       "\n",
       "    .dataframe tbody tr th {\n",
       "        vertical-align: top;\n",
       "    }\n",
       "\n",
       "    .dataframe thead th {\n",
       "        text-align: right;\n",
       "    }\n",
       "</style>\n",
       "<table border=\"1\" class=\"dataframe\">\n",
       "  <thead>\n",
       "    <tr style=\"text-align: right;\">\n",
       "      <th></th>\n",
       "      <th>product_id</th>\n",
       "      <th>onsale_web</th>\n",
       "      <th>price</th>\n",
       "      <th>stock_quantity</th>\n",
       "      <th>stock_status</th>\n",
       "      <th>purchase_price</th>\n",
       "      <th>sku</th>\n",
       "      <th>total_sales</th>\n",
       "      <th>post_title</th>\n",
       "      <th>product_type</th>\n",
       "      <th>post_mime_type</th>\n",
       "      <th>post_date</th>\n",
       "      <th>_merge</th>\n",
       "      <th>z_score</th>\n",
       "    </tr>\n",
       "  </thead>\n",
       "  <tbody>\n",
       "    <tr>\n",
       "      <th>567</th>\n",
       "      <td>4352</td>\n",
       "      <td>1</td>\n",
       "      <td>225.0</td>\n",
       "      <td>0</td>\n",
       "      <td>outofstock</td>\n",
       "      <td>137.81</td>\n",
       "      <td>15940</td>\n",
       "      <td>11.0</td>\n",
       "      <td>Champagne Egly-Ouriet Grand Cru Millésimé 2008</td>\n",
       "      <td>Champagne</td>\n",
       "      <td>image/jpeg</td>\n",
       "      <td>2018-03-02 10:30:04</td>\n",
       "      <td>both</td>\n",
       "      <td>6.981591</td>\n",
       "    </tr>\n",
       "    <tr>\n",
       "      <th>204</th>\n",
       "      <td>5001</td>\n",
       "      <td>1</td>\n",
       "      <td>217.5</td>\n",
       "      <td>18</td>\n",
       "      <td>instock</td>\n",
       "      <td>116.87</td>\n",
       "      <td>14581</td>\n",
       "      <td>2.0</td>\n",
       "      <td>David Duband Charmes-Chambertin Grand Cru 2014</td>\n",
       "      <td>Vin</td>\n",
       "      <td>image/jpeg</td>\n",
       "      <td>2018-07-17 09:45:39</td>\n",
       "      <td>both</td>\n",
       "      <td>6.709816</td>\n",
       "    </tr>\n",
       "    <tr>\n",
       "      <th>269</th>\n",
       "      <td>5892</td>\n",
       "      <td>1</td>\n",
       "      <td>191.3</td>\n",
       "      <td>98</td>\n",
       "      <td>instock</td>\n",
       "      <td>116.06</td>\n",
       "      <td>14983</td>\n",
       "      <td>6.0</td>\n",
       "      <td>Coteaux Champenois Egly-Ouriet Ambonnay Rouge ...</td>\n",
       "      <td>Champagne</td>\n",
       "      <td>image/jpeg</td>\n",
       "      <td>2019-03-28 10:21:36</td>\n",
       "      <td>both</td>\n",
       "      <td>5.760415</td>\n",
       "    </tr>\n",
       "    <tr>\n",
       "      <th>24</th>\n",
       "      <td>4402</td>\n",
       "      <td>1</td>\n",
       "      <td>176.0</td>\n",
       "      <td>11</td>\n",
       "      <td>instock</td>\n",
       "      <td>78.25</td>\n",
       "      <td>3510</td>\n",
       "      <td>3.0</td>\n",
       "      <td>Cognac Frapin VIP XO</td>\n",
       "      <td>Cognac</td>\n",
       "      <td>image/jpeg</td>\n",
       "      <td>2018-03-22 11:21:05</td>\n",
       "      <td>both</td>\n",
       "      <td>5.205993</td>\n",
       "    </tr>\n",
       "    <tr>\n",
       "      <th>313</th>\n",
       "      <td>5767</td>\n",
       "      <td>1</td>\n",
       "      <td>175.0</td>\n",
       "      <td>12</td>\n",
       "      <td>instock</td>\n",
       "      <td>90.42</td>\n",
       "      <td>15185</td>\n",
       "      <td>4.0</td>\n",
       "      <td>Camille Giroud Clos de Vougeot 2016</td>\n",
       "      <td>Vin</td>\n",
       "      <td>image/jpeg</td>\n",
       "      <td>2019-03-13 14:43:22</td>\n",
       "      <td>both</td>\n",
       "      <td>5.169756</td>\n",
       "    </tr>\n",
       "  </tbody>\n",
       "</table>\n",
       "</div>"
      ],
      "text/plain": [
       "     product_id  onsale_web  price  stock_quantity stock_status  \\\n",
       "567        4352           1  225.0               0   outofstock   \n",
       "204        5001           1  217.5              18      instock   \n",
       "269        5892           1  191.3              98      instock   \n",
       "24         4402           1  176.0              11      instock   \n",
       "313        5767           1  175.0              12      instock   \n",
       "\n",
       "     purchase_price    sku  total_sales  \\\n",
       "567          137.81  15940         11.0   \n",
       "204          116.87  14581          2.0   \n",
       "269          116.06  14983          6.0   \n",
       "24            78.25   3510          3.0   \n",
       "313           90.42  15185          4.0   \n",
       "\n",
       "                                            post_title product_type  \\\n",
       "567     Champagne Egly-Ouriet Grand Cru Millésimé 2008    Champagne   \n",
       "204     David Duband Charmes-Chambertin Grand Cru 2014          Vin   \n",
       "269  Coteaux Champenois Egly-Ouriet Ambonnay Rouge ...    Champagne   \n",
       "24                                Cognac Frapin VIP XO       Cognac   \n",
       "313                Camille Giroud Clos de Vougeot 2016          Vin   \n",
       "\n",
       "    post_mime_type           post_date _merge   z_score  \n",
       "567     image/jpeg 2018-03-02 10:30:04   both  6.981591  \n",
       "204     image/jpeg 2018-07-17 09:45:39   both  6.709816  \n",
       "269     image/jpeg 2019-03-28 10:21:36   both  5.760415  \n",
       "24      image/jpeg 2018-03-22 11:21:05   both  5.205993  \n",
       "313     image/jpeg 2019-03-13 14:43:22   both  5.169756  "
      ]
     },
     "execution_count": 2202,
     "metadata": {},
     "output_type": "execute_result"
    }
   ],
   "source": [
    "#Selon vous, ces outliers sont-ils justifiés ? Comment le démontrer si cela est possible ?\n",
    "outliers = outliers.sort_values(by= 'price', ascending=False)\n",
    "outliers.head()\n",
    "\n",
    "# Après consultation des tarifs appliqués en ligne pour ces produits, leurs prix sont justifiés."
   ]
  },
  {
   "cell_type": "markdown",
   "id": "640da2c8",
   "metadata": {},
   "source": [
    "<div style=\"background-color: RGB(51,165,182);\" >\n",
    "<h2 style=\"margin: auto; padding: 20px; color:#fff; \">Etape 5 - Analyse univarié du CA, des quantités vendues, des stocks et de la marge ainsi qu'une analyse multivarié  </h2>\n",
    "</div>"
   ]
  },
  {
   "cell_type": "markdown",
   "id": "5871c808",
   "metadata": {},
   "source": [
    "<div style=\"border: 1px solid RGB(51,165,182);\" >\n",
    "<h3 style=\"margin: auto; padding: 20px; color: RGB(51,165,182); \">Etape 5.1 - Analyse des ventes en CA</h3>\n",
    "</div>"
   ]
  },
  {
   "cell_type": "code",
   "execution_count": 2203,
   "id": "da0d5834",
   "metadata": {},
   "outputs": [
    {
     "data": {
      "text/plain": [
       "153748.1"
      ]
     },
     "execution_count": 2203,
     "metadata": {},
     "output_type": "execute_result"
    }
   ],
   "source": [
    "##############################\n",
    "# Calculer le CA su site web #\n",
    "##############################\n",
    "\n",
    "#Créez une colonne calculant le CA par article\n",
    "df_merge['CA_article'] = df_merge['total_sales'] * df_merge['price']\n",
    "#Calculez la somme de la colonne \"ca_par_article\"\n",
    "CA_total = df_merge['CA_article'].sum()\n",
    "#Ce résultat correspond au chiffre d'affaire du site web\n",
    "CA_total"
   ]
  },
  {
   "cell_type": "code",
   "execution_count": 2204,
   "id": "4040ced7",
   "metadata": {},
   "outputs": [
    {
     "data": {
      "application/vnd.plotly.v1+json": {
       "config": {
        "plotlyServerURL": "https://plot.ly"
       },
       "data": [
        {
         "alignmentgroup": "True",
         "cliponaxis": false,
         "hovertemplate": "Chiffre d'affaire de l'article=%{x}<br>Nom de l'article=%{y}<extra></extra>",
         "legendgroup": "",
         "marker": {
          "color": "#636efa",
          "pattern": {
           "shape": ""
          }
         },
         "name": "",
         "offsetgroup": "",
         "orientation": "h",
         "showlegend": false,
         "textangle": 0,
         "textfont": {
          "size": 15
         },
         "textposition": "outside",
         "texttemplate": "%{x}",
         "type": "bar",
         "x": [
          6844,
          2475,
          1549.3999999999999,
          1317.8,
          1232.1,
          1147.8000000000002,
          1113,
          824,
          805,
          781.1999999999999,
          735,
          700,
          675,
          672,
          633.5999999999999,
          628,
          627,
          616,
          599.1999999999999,
          594
         ],
         "xaxis": "x",
         "y": [
          "Champagne Mailly Grand Cru Intemporelle 2010",
          "Champagne Egly-Ouriet Grand Cru Millésimé 2008",
          "François Baur Pinot Noir Schlittweg 2017",
          "Albert Mann Pinot Noir Grand H 2017",
          "Argentine Mendoza Alamos Torrontes 2017",
          "Coteaux Champenois Egly-Ouriet Ambonnay Rouge 2016",
          "Champagne Egly-Ouriet Grand Cru Brut Rosé",
          "Agnès Levet Côte Rôtie Améthyste 2017",
          "Domaine des Comtes Lafon Volnay 1er Cru Santenots du Milieu 2015",
          "Champagne Agrapart &amp; Fils Minéral Extra Brut Blanc de Blancs Grand Cru 2012",
          "Domaine des Comtes Lafon Volnay 1er Cru Santenots du Milieu 2013",
          "Camille Giroud Clos de Vougeot 2016",
          "Champagne Gosset Célébris Vintage 2007",
          "Champagne Agrapart &amp; Fils L'Avizoise Extra Brut Blanc de Blancs Grand Cru 2012",
          "David Duband Chambolle-Musigny 1er Cru Les Sentiers 2016",
          "Cognac Frapin Château de Fontpinot 1989 20 Ans d'Age",
          "Bernard Baudry Chinon Rouge La Croix Boissée 2017",
          "Champagne Larmandier-Bernier Grand Cru Vieilles Vignes du Levant 2008",
          "Champagne Larmandier-Bernier Grand Cru Les Chemins d'Avize 2011",
          "Domaine des Comtes Lafon Volnay 1er Cru Champans 2013"
         ],
         "yaxis": "y"
        }
       ],
       "layout": {
        "barmode": "relative",
        "legend": {
         "tracegroupgap": 0
        },
        "margin": {
         "t": 60
        },
        "template": {
         "data": {
          "bar": [
           {
            "error_x": {
             "color": "#2a3f5f"
            },
            "error_y": {
             "color": "#2a3f5f"
            },
            "marker": {
             "line": {
              "color": "#E5ECF6",
              "width": 0.5
             },
             "pattern": {
              "fillmode": "overlay",
              "size": 10,
              "solidity": 0.2
             }
            },
            "type": "bar"
           }
          ],
          "barpolar": [
           {
            "marker": {
             "line": {
              "color": "#E5ECF6",
              "width": 0.5
             },
             "pattern": {
              "fillmode": "overlay",
              "size": 10,
              "solidity": 0.2
             }
            },
            "type": "barpolar"
           }
          ],
          "carpet": [
           {
            "aaxis": {
             "endlinecolor": "#2a3f5f",
             "gridcolor": "white",
             "linecolor": "white",
             "minorgridcolor": "white",
             "startlinecolor": "#2a3f5f"
            },
            "baxis": {
             "endlinecolor": "#2a3f5f",
             "gridcolor": "white",
             "linecolor": "white",
             "minorgridcolor": "white",
             "startlinecolor": "#2a3f5f"
            },
            "type": "carpet"
           }
          ],
          "choropleth": [
           {
            "colorbar": {
             "outlinewidth": 0,
             "ticks": ""
            },
            "type": "choropleth"
           }
          ],
          "contour": [
           {
            "colorbar": {
             "outlinewidth": 0,
             "ticks": ""
            },
            "colorscale": [
             [
              0,
              "#0d0887"
             ],
             [
              0.1111111111111111,
              "#46039f"
             ],
             [
              0.2222222222222222,
              "#7201a8"
             ],
             [
              0.3333333333333333,
              "#9c179e"
             ],
             [
              0.4444444444444444,
              "#bd3786"
             ],
             [
              0.5555555555555556,
              "#d8576b"
             ],
             [
              0.6666666666666666,
              "#ed7953"
             ],
             [
              0.7777777777777778,
              "#fb9f3a"
             ],
             [
              0.8888888888888888,
              "#fdca26"
             ],
             [
              1,
              "#f0f921"
             ]
            ],
            "type": "contour"
           }
          ],
          "contourcarpet": [
           {
            "colorbar": {
             "outlinewidth": 0,
             "ticks": ""
            },
            "type": "contourcarpet"
           }
          ],
          "heatmap": [
           {
            "colorbar": {
             "outlinewidth": 0,
             "ticks": ""
            },
            "colorscale": [
             [
              0,
              "#0d0887"
             ],
             [
              0.1111111111111111,
              "#46039f"
             ],
             [
              0.2222222222222222,
              "#7201a8"
             ],
             [
              0.3333333333333333,
              "#9c179e"
             ],
             [
              0.4444444444444444,
              "#bd3786"
             ],
             [
              0.5555555555555556,
              "#d8576b"
             ],
             [
              0.6666666666666666,
              "#ed7953"
             ],
             [
              0.7777777777777778,
              "#fb9f3a"
             ],
             [
              0.8888888888888888,
              "#fdca26"
             ],
             [
              1,
              "#f0f921"
             ]
            ],
            "type": "heatmap"
           }
          ],
          "heatmapgl": [
           {
            "colorbar": {
             "outlinewidth": 0,
             "ticks": ""
            },
            "colorscale": [
             [
              0,
              "#0d0887"
             ],
             [
              0.1111111111111111,
              "#46039f"
             ],
             [
              0.2222222222222222,
              "#7201a8"
             ],
             [
              0.3333333333333333,
              "#9c179e"
             ],
             [
              0.4444444444444444,
              "#bd3786"
             ],
             [
              0.5555555555555556,
              "#d8576b"
             ],
             [
              0.6666666666666666,
              "#ed7953"
             ],
             [
              0.7777777777777778,
              "#fb9f3a"
             ],
             [
              0.8888888888888888,
              "#fdca26"
             ],
             [
              1,
              "#f0f921"
             ]
            ],
            "type": "heatmapgl"
           }
          ],
          "histogram": [
           {
            "marker": {
             "pattern": {
              "fillmode": "overlay",
              "size": 10,
              "solidity": 0.2
             }
            },
            "type": "histogram"
           }
          ],
          "histogram2d": [
           {
            "colorbar": {
             "outlinewidth": 0,
             "ticks": ""
            },
            "colorscale": [
             [
              0,
              "#0d0887"
             ],
             [
              0.1111111111111111,
              "#46039f"
             ],
             [
              0.2222222222222222,
              "#7201a8"
             ],
             [
              0.3333333333333333,
              "#9c179e"
             ],
             [
              0.4444444444444444,
              "#bd3786"
             ],
             [
              0.5555555555555556,
              "#d8576b"
             ],
             [
              0.6666666666666666,
              "#ed7953"
             ],
             [
              0.7777777777777778,
              "#fb9f3a"
             ],
             [
              0.8888888888888888,
              "#fdca26"
             ],
             [
              1,
              "#f0f921"
             ]
            ],
            "type": "histogram2d"
           }
          ],
          "histogram2dcontour": [
           {
            "colorbar": {
             "outlinewidth": 0,
             "ticks": ""
            },
            "colorscale": [
             [
              0,
              "#0d0887"
             ],
             [
              0.1111111111111111,
              "#46039f"
             ],
             [
              0.2222222222222222,
              "#7201a8"
             ],
             [
              0.3333333333333333,
              "#9c179e"
             ],
             [
              0.4444444444444444,
              "#bd3786"
             ],
             [
              0.5555555555555556,
              "#d8576b"
             ],
             [
              0.6666666666666666,
              "#ed7953"
             ],
             [
              0.7777777777777778,
              "#fb9f3a"
             ],
             [
              0.8888888888888888,
              "#fdca26"
             ],
             [
              1,
              "#f0f921"
             ]
            ],
            "type": "histogram2dcontour"
           }
          ],
          "mesh3d": [
           {
            "colorbar": {
             "outlinewidth": 0,
             "ticks": ""
            },
            "type": "mesh3d"
           }
          ],
          "parcoords": [
           {
            "line": {
             "colorbar": {
              "outlinewidth": 0,
              "ticks": ""
             }
            },
            "type": "parcoords"
           }
          ],
          "pie": [
           {
            "automargin": true,
            "type": "pie"
           }
          ],
          "scatter": [
           {
            "fillpattern": {
             "fillmode": "overlay",
             "size": 10,
             "solidity": 0.2
            },
            "type": "scatter"
           }
          ],
          "scatter3d": [
           {
            "line": {
             "colorbar": {
              "outlinewidth": 0,
              "ticks": ""
             }
            },
            "marker": {
             "colorbar": {
              "outlinewidth": 0,
              "ticks": ""
             }
            },
            "type": "scatter3d"
           }
          ],
          "scattercarpet": [
           {
            "marker": {
             "colorbar": {
              "outlinewidth": 0,
              "ticks": ""
             }
            },
            "type": "scattercarpet"
           }
          ],
          "scattergeo": [
           {
            "marker": {
             "colorbar": {
              "outlinewidth": 0,
              "ticks": ""
             }
            },
            "type": "scattergeo"
           }
          ],
          "scattergl": [
           {
            "marker": {
             "colorbar": {
              "outlinewidth": 0,
              "ticks": ""
             }
            },
            "type": "scattergl"
           }
          ],
          "scattermapbox": [
           {
            "marker": {
             "colorbar": {
              "outlinewidth": 0,
              "ticks": ""
             }
            },
            "type": "scattermapbox"
           }
          ],
          "scatterpolar": [
           {
            "marker": {
             "colorbar": {
              "outlinewidth": 0,
              "ticks": ""
             }
            },
            "type": "scatterpolar"
           }
          ],
          "scatterpolargl": [
           {
            "marker": {
             "colorbar": {
              "outlinewidth": 0,
              "ticks": ""
             }
            },
            "type": "scatterpolargl"
           }
          ],
          "scatterternary": [
           {
            "marker": {
             "colorbar": {
              "outlinewidth": 0,
              "ticks": ""
             }
            },
            "type": "scatterternary"
           }
          ],
          "surface": [
           {
            "colorbar": {
             "outlinewidth": 0,
             "ticks": ""
            },
            "colorscale": [
             [
              0,
              "#0d0887"
             ],
             [
              0.1111111111111111,
              "#46039f"
             ],
             [
              0.2222222222222222,
              "#7201a8"
             ],
             [
              0.3333333333333333,
              "#9c179e"
             ],
             [
              0.4444444444444444,
              "#bd3786"
             ],
             [
              0.5555555555555556,
              "#d8576b"
             ],
             [
              0.6666666666666666,
              "#ed7953"
             ],
             [
              0.7777777777777778,
              "#fb9f3a"
             ],
             [
              0.8888888888888888,
              "#fdca26"
             ],
             [
              1,
              "#f0f921"
             ]
            ],
            "type": "surface"
           }
          ],
          "table": [
           {
            "cells": {
             "fill": {
              "color": "#EBF0F8"
             },
             "line": {
              "color": "white"
             }
            },
            "header": {
             "fill": {
              "color": "#C8D4E3"
             },
             "line": {
              "color": "white"
             }
            },
            "type": "table"
           }
          ]
         },
         "layout": {
          "annotationdefaults": {
           "arrowcolor": "#2a3f5f",
           "arrowhead": 0,
           "arrowwidth": 1
          },
          "autotypenumbers": "strict",
          "coloraxis": {
           "colorbar": {
            "outlinewidth": 0,
            "ticks": ""
           }
          },
          "colorscale": {
           "diverging": [
            [
             0,
             "#8e0152"
            ],
            [
             0.1,
             "#c51b7d"
            ],
            [
             0.2,
             "#de77ae"
            ],
            [
             0.3,
             "#f1b6da"
            ],
            [
             0.4,
             "#fde0ef"
            ],
            [
             0.5,
             "#f7f7f7"
            ],
            [
             0.6,
             "#e6f5d0"
            ],
            [
             0.7,
             "#b8e186"
            ],
            [
             0.8,
             "#7fbc41"
            ],
            [
             0.9,
             "#4d9221"
            ],
            [
             1,
             "#276419"
            ]
           ],
           "sequential": [
            [
             0,
             "#0d0887"
            ],
            [
             0.1111111111111111,
             "#46039f"
            ],
            [
             0.2222222222222222,
             "#7201a8"
            ],
            [
             0.3333333333333333,
             "#9c179e"
            ],
            [
             0.4444444444444444,
             "#bd3786"
            ],
            [
             0.5555555555555556,
             "#d8576b"
            ],
            [
             0.6666666666666666,
             "#ed7953"
            ],
            [
             0.7777777777777778,
             "#fb9f3a"
            ],
            [
             0.8888888888888888,
             "#fdca26"
            ],
            [
             1,
             "#f0f921"
            ]
           ],
           "sequentialminus": [
            [
             0,
             "#0d0887"
            ],
            [
             0.1111111111111111,
             "#46039f"
            ],
            [
             0.2222222222222222,
             "#7201a8"
            ],
            [
             0.3333333333333333,
             "#9c179e"
            ],
            [
             0.4444444444444444,
             "#bd3786"
            ],
            [
             0.5555555555555556,
             "#d8576b"
            ],
            [
             0.6666666666666666,
             "#ed7953"
            ],
            [
             0.7777777777777778,
             "#fb9f3a"
            ],
            [
             0.8888888888888888,
             "#fdca26"
            ],
            [
             1,
             "#f0f921"
            ]
           ]
          },
          "colorway": [
           "#636efa",
           "#EF553B",
           "#00cc96",
           "#ab63fa",
           "#FFA15A",
           "#19d3f3",
           "#FF6692",
           "#B6E880",
           "#FF97FF",
           "#FECB52"
          ],
          "font": {
           "color": "#2a3f5f"
          },
          "geo": {
           "bgcolor": "white",
           "lakecolor": "white",
           "landcolor": "#E5ECF6",
           "showlakes": true,
           "showland": true,
           "subunitcolor": "white"
          },
          "hoverlabel": {
           "align": "left"
          },
          "hovermode": "closest",
          "mapbox": {
           "style": "light"
          },
          "paper_bgcolor": "white",
          "plot_bgcolor": "#E5ECF6",
          "polar": {
           "angularaxis": {
            "gridcolor": "white",
            "linecolor": "white",
            "ticks": ""
           },
           "bgcolor": "#E5ECF6",
           "radialaxis": {
            "gridcolor": "white",
            "linecolor": "white",
            "ticks": ""
           }
          },
          "scene": {
           "xaxis": {
            "backgroundcolor": "#E5ECF6",
            "gridcolor": "white",
            "gridwidth": 2,
            "linecolor": "white",
            "showbackground": true,
            "ticks": "",
            "zerolinecolor": "white"
           },
           "yaxis": {
            "backgroundcolor": "#E5ECF6",
            "gridcolor": "white",
            "gridwidth": 2,
            "linecolor": "white",
            "showbackground": true,
            "ticks": "",
            "zerolinecolor": "white"
           },
           "zaxis": {
            "backgroundcolor": "#E5ECF6",
            "gridcolor": "white",
            "gridwidth": 2,
            "linecolor": "white",
            "showbackground": true,
            "ticks": "",
            "zerolinecolor": "white"
           }
          },
          "shapedefaults": {
           "line": {
            "color": "#2a3f5f"
           }
          },
          "ternary": {
           "aaxis": {
            "gridcolor": "white",
            "linecolor": "white",
            "ticks": ""
           },
           "baxis": {
            "gridcolor": "white",
            "linecolor": "white",
            "ticks": ""
           },
           "bgcolor": "#E5ECF6",
           "caxis": {
            "gridcolor": "white",
            "linecolor": "white",
            "ticks": ""
           }
          },
          "title": {
           "x": 0.05
          },
          "xaxis": {
           "automargin": true,
           "gridcolor": "white",
           "linecolor": "white",
           "ticks": "",
           "title": {
            "standoff": 15
           },
           "zerolinecolor": "white",
           "zerolinewidth": 2
          },
          "yaxis": {
           "automargin": true,
           "gridcolor": "white",
           "linecolor": "white",
           "ticks": "",
           "title": {
            "standoff": 15
           },
           "zerolinecolor": "white",
           "zerolinewidth": 2
          }
         }
        },
        "xaxis": {
         "anchor": "y",
         "domain": [
          0,
          1
         ],
         "title": {
          "text": "Chiffre d'affaire de l'article"
         }
        },
        "yaxis": {
         "anchor": "x",
         "domain": [
          0,
          1
         ],
         "title": {
          "text": "Nom de l'article"
         }
        }
       }
      }
     },
     "metadata": {},
     "output_type": "display_data"
    }
   ],
   "source": [
    "###############################\n",
    "# Palmares des articles en CA #\n",
    "###############################\n",
    "\n",
    "#Effectuer le tri dans l'ordre décroissant du CA du dataset df_merge\n",
    "df_merge = df_merge.sort_values(by='CA_article', ascending = False)\n",
    "#Réinitialiser l'index du dataset par un reset_index\n",
    "df_merge.reset_index(inplace = True)\n",
    "#Afficher les 20 premier articles en CA\n",
    "top_20 = df_merge.head(20)\n",
    "#Graphique en barre des 20 premiers articles avec plotly express\n",
    "fig = px.bar(top_20, y='post_title', x='CA_article', labels = {'post_title':\"Nom de l'article\", 'CA_article':\"Chiffre d'affaire de l'article\", 'product_type':'Type de produit'}, text_auto= True)\n",
    "fig.update_traces(textfont_size=15, textangle=0, textposition=\"outside\", cliponaxis=False)\n",
    "fig.show()"
   ]
  },
  {
   "cell_type": "code",
   "execution_count": 2205,
   "id": "d7e5e87b",
   "metadata": {},
   "outputs": [
    {
     "data": {
      "image/png": "[encoded data removed]",
      "text/plain": [
       "<Figure size 700x700 with 1 Axes>"
      ]
     },
     "metadata": {},
     "output_type": "display_data"
    }
   ],
   "source": [
    "#############################\n",
    "# Calculer le 20 / 80 en CA #\n",
    "#############################\n",
    "\n",
    "#Créer une colonne calculant la part du CA de la ligne dans le dataset\n",
    "df_merge['CA_proportion'] = df_merge['CA_article']/CA_total\n",
    "#Créer une colonne réalisant la somme cumulative de la colonne précedemment créée\n",
    "df_merge['CA_CUMSUM'] = df_merge['CA_proportion'].cumsum()\n",
    "#Grâce au deux colonnes créées précedemment, calculer le nombre d'articles représentant 80% du CA\n",
    "CA_80 = df_merge[df_merge['CA_CUMSUM'] <= 0.8].shape[0]\n",
    "\n",
    "#Afficher la proportion que représentent ce groupe d'articles dans le catalogue entier du site web\n",
    "CA_20 = df_merge[df_merge['CA_CUMSUM']>  0.8].shape[0]\n",
    "CA_global_count = [CA_80, CA_20]\n",
    "plt.figure(figsize=(7, 7))\n",
    "plt.pie(CA_global_count, labels=['80% du CA', '20% du CA'], autopct='%1.1f%%', explode=(0.01,0),  colors=sns.color_palette('coolwarm'))\n",
    "plt.title('Proportion des articles du catalogue selon le 20/80')\n",
    "plt.show()\n",
    "\n"
   ]
  },
  {
   "cell_type": "markdown",
   "id": "8de7af87",
   "metadata": {},
   "source": [
    "<div style=\"border: 1px solid RGB(51,165,182);\" >\n",
    "<h3 style=\"margin: auto; padding: 20px; color: RGB(51,165,182); \">Etape 5.2 - Analyse des ventes en Quantités</h3>\n",
    "</div>"
   ]
  },
  {
   "cell_type": "code",
   "execution_count": 2206,
   "id": "ab222e08",
   "metadata": {},
   "outputs": [
    {
     "data": {
      "application/vnd.plotly.v1+json": {
       "config": {
        "plotlyServerURL": "https://plot.ly"
       },
       "data": [
        {
         "alignmentgroup": "True",
         "cliponaxis": false,
         "hovertemplate": "Nombre de ventes=%{marker.color}<br>Nom de l'article=%{y}<extra></extra>",
         "legendgroup": "",
         "marker": {
          "color": [
           122,
           116,
           111,
           36,
           27,
           24,
           22,
           22,
           20,
           20,
           18,
           17,
           17,
           17,
           16,
           16,
           16,
           16,
           16,
           16
          ],
          "coloraxis": "coloraxis",
          "pattern": {
           "shape": ""
          }
         },
         "name": "",
         "offsetgroup": "",
         "orientation": "h",
         "showlegend": false,
         "textangle": 0,
         "textfont": {
          "size": 15
         },
         "textposition": "outside",
         "texttemplate": "%{x:True}",
         "type": "bar",
         "x": [
          122,
          116,
          111,
          36,
          27,
          24,
          22,
          22,
          20,
          20,
          18,
          17,
          17,
          17,
          16,
          16,
          16,
          16,
          16,
          16
         ],
         "xaxis": "x",
         "y": [
          "François Baur Pinot Noir Schlittweg 2017",
          "Champagne Mailly Grand Cru Intemporelle 2010",
          "Argentine Mendoza Alamos Torrontes 2017",
          "Château De La Selve IGP Coteaux de l'Ardèche Maguelonne Rosé 2019",
          "Mas Laval IGP Pays d'Hérault Les Pampres Blancs 2018",
          "I Fabbri Chianti Classico Lamole 2017",
          "Albert Mann Pinot Noir Grand H 2017",
          "Bernard Baudry Chinon Rouge La Croix Boissée 2017",
          "Moulin de Gassac IGP Pays d'Hérault Guilhem Blanc 2017",
          "Agnès Levet Côte Rôtie Améthyste 2017",
          "Xavier Frissant Touraine Amboise Chenin Les Pierres 2018",
          "Château Tour Haut-Caussan Médoc 2015",
          "Decelle-Villa Chorey-Lès-Beaune 2016",
          "Maurel Pays d'Oc Merlot 2018",
          "Château de La Liquière Languedoc Blanc Les Amandiers 2019",
          "Mourgues du Grès Costières de Nîmes Galets Rosés 2019",
          "Philippe Nusswitz IGP Cévènnes Rosé O Pale 2019",
          "Triennes IGP Méditerranée Rosé 2019",
          "Maurel Pays d'Oc Cabernet-Sauvignon 2017",
          "Emile Boeckel Sylvaner Vieilles Vignes 2019"
         ],
         "yaxis": "y"
        }
       ],
       "layout": {
        "barmode": "relative",
        "coloraxis": {
         "colorbar": {
          "title": {
           "text": "Nombre de ventes"
          }
         },
         "colorscale": [
          [
           0,
           "#0d0887"
          ],
          [
           0.1111111111111111,
           "#46039f"
          ],
          [
           0.2222222222222222,
           "#7201a8"
          ],
          [
           0.3333333333333333,
           "#9c179e"
          ],
          [
           0.4444444444444444,
           "#bd3786"
          ],
          [
           0.5555555555555556,
           "#d8576b"
          ],
          [
           0.6666666666666666,
           "#ed7953"
          ],
          [
           0.7777777777777778,
           "#fb9f3a"
          ],
          [
           0.8888888888888888,
           "#fdca26"
          ],
          [
           1,
           "#f0f921"
          ]
         ]
        },
        "legend": {
         "tracegroupgap": 0
        },
        "margin": {
         "t": 60
        },
        "template": {
         "data": {
          "bar": [
           {
            "error_x": {
             "color": "#2a3f5f"
            },
            "error_y": {
             "color": "#2a3f5f"
            },
            "marker": {
             "line": {
              "color": "#E5ECF6",
              "width": 0.5
             },
             "pattern": {
              "fillmode": "overlay",
              "size": 10,
              "solidity": 0.2
             }
            },
            "type": "bar"
           }
          ],
          "barpolar": [
           {
            "marker": {
             "line": {
              "color": "#E5ECF6",
              "width": 0.5
             },
             "pattern": {
              "fillmode": "overlay",
              "size": 10,
              "solidity": 0.2
             }
            },
            "type": "barpolar"
           }
          ],
          "carpet": [
           {
            "aaxis": {
             "endlinecolor": "#2a3f5f",
             "gridcolor": "white",
             "linecolor": "white",
             "minorgridcolor": "white",
             "startlinecolor": "#2a3f5f"
            },
            "baxis": {
             "endlinecolor": "#2a3f5f",
             "gridcolor": "white",
             "linecolor": "white",
             "minorgridcolor": "white",
             "startlinecolor": "#2a3f5f"
            },
            "type": "carpet"
           }
          ],
          "choropleth": [
           {
            "colorbar": {
             "outlinewidth": 0,
             "ticks": ""
            },
            "type": "choropleth"
           }
          ],
          "contour": [
           {
            "colorbar": {
             "outlinewidth": 0,
             "ticks": ""
            },
            "colorscale": [
             [
              0,
              "#0d0887"
             ],
             [
              0.1111111111111111,
              "#46039f"
             ],
             [
              0.2222222222222222,
              "#7201a8"
             ],
             [
              0.3333333333333333,
              "#9c179e"
             ],
             [
              0.4444444444444444,
              "#bd3786"
             ],
             [
              0.5555555555555556,
              "#d8576b"
             ],
             [
              0.6666666666666666,
              "#ed7953"
             ],
             [
              0.7777777777777778,
              "#fb9f3a"
             ],
             [
              0.8888888888888888,
              "#fdca26"
             ],
             [
              1,
              "#f0f921"
             ]
            ],
            "type": "contour"
           }
          ],
          "contourcarpet": [
           {
            "colorbar": {
             "outlinewidth": 0,
             "ticks": ""
            },
            "type": "contourcarpet"
           }
          ],
          "heatmap": [
           {
            "colorbar": {
             "outlinewidth": 0,
             "ticks": ""
            },
            "colorscale": [
             [
              0,
              "#0d0887"
             ],
             [
              0.1111111111111111,
              "#46039f"
             ],
             [
              0.2222222222222222,
              "#7201a8"
             ],
             [
              0.3333333333333333,
              "#9c179e"
             ],
             [
              0.4444444444444444,
              "#bd3786"
             ],
             [
              0.5555555555555556,
              "#d8576b"
             ],
             [
              0.6666666666666666,
              "#ed7953"
             ],
             [
              0.7777777777777778,
              "#fb9f3a"
             ],
             [
              0.8888888888888888,
              "#fdca26"
             ],
             [
              1,
              "#f0f921"
             ]
            ],
            "type": "heatmap"
           }
          ],
          "heatmapgl": [
           {
            "colorbar": {
             "outlinewidth": 0,
             "ticks": ""
            },
            "colorscale": [
             [
              0,
              "#0d0887"
             ],
             [
              0.1111111111111111,
              "#46039f"
             ],
             [
              0.2222222222222222,
              "#7201a8"
             ],
             [
              0.3333333333333333,
              "#9c179e"
             ],
             [
              0.4444444444444444,
              "#bd3786"
             ],
             [
              0.5555555555555556,
              "#d8576b"
             ],
             [
              0.6666666666666666,
              "#ed7953"
             ],
             [
              0.7777777777777778,
              "#fb9f3a"
             ],
             [
              0.8888888888888888,
              "#fdca26"
             ],
             [
              1,
              "#f0f921"
             ]
            ],
            "type": "heatmapgl"
           }
          ],
          "histogram": [
           {
            "marker": {
             "pattern": {
              "fillmode": "overlay",
              "size": 10,
              "solidity": 0.2
             }
            },
            "type": "histogram"
           }
          ],
          "histogram2d": [
           {
            "colorbar": {
             "outlinewidth": 0,
             "ticks": ""
            },
            "colorscale": [
             [
              0,
              "#0d0887"
             ],
             [
              0.1111111111111111,
              "#46039f"
             ],
             [
              0.2222222222222222,
              "#7201a8"
             ],
             [
              0.3333333333333333,
              "#9c179e"
             ],
             [
              0.4444444444444444,
              "#bd3786"
             ],
             [
              0.5555555555555556,
              "#d8576b"
             ],
             [
              0.6666666666666666,
              "#ed7953"
             ],
             [
              0.7777777777777778,
              "#fb9f3a"
             ],
             [
              0.8888888888888888,
              "#fdca26"
             ],
             [
              1,
              "#f0f921"
             ]
            ],
            "type": "histogram2d"
           }
          ],
          "histogram2dcontour": [
           {
            "colorbar": {
             "outlinewidth": 0,
             "ticks": ""
            },
            "colorscale": [
             [
              0,
              "#0d0887"
             ],
             [
              0.1111111111111111,
              "#46039f"
             ],
             [
              0.2222222222222222,
              "#7201a8"
             ],
             [
              0.3333333333333333,
              "#9c179e"
             ],
             [
              0.4444444444444444,
              "#bd3786"
             ],
             [
              0.5555555555555556,
              "#d8576b"
             ],
             [
              0.6666666666666666,
              "#ed7953"
             ],
             [
              0.7777777777777778,
              "#fb9f3a"
             ],
             [
              0.8888888888888888,
              "#fdca26"
             ],
             [
              1,
              "#f0f921"
             ]
            ],
            "type": "histogram2dcontour"
           }
          ],
          "mesh3d": [
           {
            "colorbar": {
             "outlinewidth": 0,
             "ticks": ""
            },
            "type": "mesh3d"
           }
          ],
          "parcoords": [
           {
            "line": {
             "colorbar": {
              "outlinewidth": 0,
              "ticks": ""
             }
            },
            "type": "parcoords"
           }
          ],
          "pie": [
           {
            "automargin": true,
            "type": "pie"
           }
          ],
          "scatter": [
           {
            "fillpattern": {
             "fillmode": "overlay",
             "size": 10,
             "solidity": 0.2
            },
            "type": "scatter"
           }
          ],
          "scatter3d": [
           {
            "line": {
             "colorbar": {
              "outlinewidth": 0,
              "ticks": ""
             }
            },
            "marker": {
             "colorbar": {
              "outlinewidth": 0,
              "ticks": ""
             }
            },
            "type": "scatter3d"
           }
          ],
          "scattercarpet": [
           {
            "marker": {
             "colorbar": {
              "outlinewidth": 0,
              "ticks": ""
             }
            },
            "type": "scattercarpet"
           }
          ],
          "scattergeo": [
           {
            "marker": {
             "colorbar": {
              "outlinewidth": 0,
              "ticks": ""
             }
            },
            "type": "scattergeo"
           }
          ],
          "scattergl": [
           {
            "marker": {
             "colorbar": {
              "outlinewidth": 0,
              "ticks": ""
             }
            },
            "type": "scattergl"
           }
          ],
          "scattermapbox": [
           {
            "marker": {
             "colorbar": {
              "outlinewidth": 0,
              "ticks": ""
             }
            },
            "type": "scattermapbox"
           }
          ],
          "scatterpolar": [
           {
            "marker": {
             "colorbar": {
              "outlinewidth": 0,
              "ticks": ""
             }
            },
            "type": "scatterpolar"
           }
          ],
          "scatterpolargl": [
           {
            "marker": {
             "colorbar": {
              "outlinewidth": 0,
              "ticks": ""
             }
            },
            "type": "scatterpolargl"
           }
          ],
          "scatterternary": [
           {
            "marker": {
             "colorbar": {
              "outlinewidth": 0,
              "ticks": ""
             }
            },
            "type": "scatterternary"
           }
          ],
          "surface": [
           {
            "colorbar": {
             "outlinewidth": 0,
             "ticks": ""
            },
            "colorscale": [
             [
              0,
              "#0d0887"
             ],
             [
              0.1111111111111111,
              "#46039f"
             ],
             [
              0.2222222222222222,
              "#7201a8"
             ],
             [
              0.3333333333333333,
              "#9c179e"
             ],
             [
              0.4444444444444444,
              "#bd3786"
             ],
             [
              0.5555555555555556,
              "#d8576b"
             ],
             [
              0.6666666666666666,
              "#ed7953"
             ],
             [
              0.7777777777777778,
              "#fb9f3a"
             ],
             [
              0.8888888888888888,
              "#fdca26"
             ],
             [
              1,
              "#f0f921"
             ]
            ],
            "type": "surface"
           }
          ],
          "table": [
           {
            "cells": {
             "fill": {
              "color": "#EBF0F8"
             },
             "line": {
              "color": "white"
             }
            },
            "header": {
             "fill": {
              "color": "#C8D4E3"
             },
             "line": {
              "color": "white"
             }
            },
            "type": "table"
           }
          ]
         },
         "layout": {
          "annotationdefaults": {
           "arrowcolor": "#2a3f5f",
           "arrowhead": 0,
           "arrowwidth": 1
          },
          "autotypenumbers": "strict",
          "coloraxis": {
           "colorbar": {
            "outlinewidth": 0,
            "ticks": ""
           }
          },
          "colorscale": {
           "diverging": [
            [
             0,
             "#8e0152"
            ],
            [
             0.1,
             "#c51b7d"
            ],
            [
             0.2,
             "#de77ae"
            ],
            [
             0.3,
             "#f1b6da"
            ],
            [
             0.4,
             "#fde0ef"
            ],
            [
             0.5,
             "#f7f7f7"
            ],
            [
             0.6,
             "#e6f5d0"
            ],
            [
             0.7,
             "#b8e186"
            ],
            [
             0.8,
             "#7fbc41"
            ],
            [
             0.9,
             "#4d9221"
            ],
            [
             1,
             "#276419"
            ]
           ],
           "sequential": [
            [
             0,
             "#0d0887"
            ],
            [
             0.1111111111111111,
             "#46039f"
            ],
            [
             0.2222222222222222,
             "#7201a8"
            ],
            [
             0.3333333333333333,
             "#9c179e"
            ],
            [
             0.4444444444444444,
             "#bd3786"
            ],
            [
             0.5555555555555556,
             "#d8576b"
            ],
            [
             0.6666666666666666,
             "#ed7953"
            ],
            [
             0.7777777777777778,
             "#fb9f3a"
            ],
            [
             0.8888888888888888,
             "#fdca26"
            ],
            [
             1,
             "#f0f921"
            ]
           ],
           "sequentialminus": [
            [
             0,
             "#0d0887"
            ],
            [
             0.1111111111111111,
             "#46039f"
            ],
            [
             0.2222222222222222,
             "#7201a8"
            ],
            [
             0.3333333333333333,
             "#9c179e"
            ],
            [
             0.4444444444444444,
             "#bd3786"
            ],
            [
             0.5555555555555556,
             "#d8576b"
            ],
            [
             0.6666666666666666,
             "#ed7953"
            ],
            [
             0.7777777777777778,
             "#fb9f3a"
            ],
            [
             0.8888888888888888,
             "#fdca26"
            ],
            [
             1,
             "#f0f921"
            ]
           ]
          },
          "colorway": [
           "#636efa",
           "#EF553B",
           "#00cc96",
           "#ab63fa",
           "#FFA15A",
           "#19d3f3",
           "#FF6692",
           "#B6E880",
           "#FF97FF",
           "#FECB52"
          ],
          "font": {
           "color": "#2a3f5f"
          },
          "geo": {
           "bgcolor": "white",
           "lakecolor": "white",
           "landcolor": "#E5ECF6",
           "showlakes": true,
           "showland": true,
           "subunitcolor": "white"
          },
          "hoverlabel": {
           "align": "left"
          },
          "hovermode": "closest",
          "mapbox": {
           "style": "light"
          },
          "paper_bgcolor": "white",
          "plot_bgcolor": "#E5ECF6",
          "polar": {
           "angularaxis": {
            "gridcolor": "white",
            "linecolor": "white",
            "ticks": ""
           },
           "bgcolor": "#E5ECF6",
           "radialaxis": {
            "gridcolor": "white",
            "linecolor": "white",
            "ticks": ""
           }
          },
          "scene": {
           "xaxis": {
            "backgroundcolor": "#E5ECF6",
            "gridcolor": "white",
            "gridwidth": 2,
            "linecolor": "white",
            "showbackground": true,
            "ticks": "",
            "zerolinecolor": "white"
           },
           "yaxis": {
            "backgroundcolor": "#E5ECF6",
            "gridcolor": "white",
            "gridwidth": 2,
            "linecolor": "white",
            "showbackground": true,
            "ticks": "",
            "zerolinecolor": "white"
           },
           "zaxis": {
            "backgroundcolor": "#E5ECF6",
            "gridcolor": "white",
            "gridwidth": 2,
            "linecolor": "white",
            "showbackground": true,
            "ticks": "",
            "zerolinecolor": "white"
           }
          },
          "shapedefaults": {
           "line": {
            "color": "#2a3f5f"
           }
          },
          "ternary": {
           "aaxis": {
            "gridcolor": "white",
            "linecolor": "white",
            "ticks": ""
           },
           "baxis": {
            "gridcolor": "white",
            "linecolor": "white",
            "ticks": ""
           },
           "bgcolor": "#E5ECF6",
           "caxis": {
            "gridcolor": "white",
            "linecolor": "white",
            "ticks": ""
           }
          },
          "title": {
           "x": 0.05
          },
          "xaxis": {
           "automargin": true,
           "gridcolor": "white",
           "linecolor": "white",
           "ticks": "",
           "title": {
            "standoff": 15
           },
           "zerolinecolor": "white",
           "zerolinewidth": 2
          },
          "yaxis": {
           "automargin": true,
           "gridcolor": "white",
           "linecolor": "white",
           "ticks": "",
           "title": {
            "standoff": 15
           },
           "zerolinecolor": "white",
           "zerolinewidth": 2
          }
         }
        },
        "xaxis": {
         "anchor": "y",
         "domain": [
          0,
          1
         ],
         "title": {
          "text": "Nombre de ventes"
         }
        },
        "yaxis": {
         "anchor": "x",
         "domain": [
          0,
          1
         ],
         "title": {
          "text": "Nom de l'article"
         }
        }
       }
      }
     },
     "metadata": {},
     "output_type": "display_data"
    }
   ],
   "source": [
    "#####################################\n",
    "# Palmares des articles en quantité #\n",
    "#####################################\n",
    "\n",
    "#Effectuer le tri dans l'ordre décroissant de quantités vendues du dataset df_merge\n",
    "\n",
    "df_merge = df_merge.sort_values(by='total_sales', ascending = False)\n",
    "\n",
    "#Réinitialiser l'index du dataset par un reset_index\n",
    "\n",
    "df_merge.reset_index(inplace = True)\n",
    "\n",
    "#Afficher les 20 premier articles en quantité\n",
    "\n",
    "#Graphique en barre des 20 premiers articles avec plotly express\n",
    "fig = px.bar(df_merge.head(20), y='post_title', x='total_sales', \n",
    "             labels = {'post_title':\"Nom de l'article\", 'total_sales':\"Nombre de ventes\", 'product_type':'Type de produit'}, text_auto= 'True', color='total_sales')\n",
    "fig.update_traces(textfont_size=15, textangle=0, textposition=\"outside\", cliponaxis=False)\n",
    "fig.show()"
   ]
  },
  {
   "cell_type": "code",
   "execution_count": 2207,
   "id": "2aad021e",
   "metadata": {},
   "outputs": [
    {
     "data": {
      "image/png": "[encoded data removed]",
      "text/plain": [
       "<Figure size 700x700 with 1 Axes>"
      ]
     },
     "metadata": {},
     "output_type": "display_data"
    }
   ],
   "source": [
    "#############################\n",
    "# Calculer le 20 / 80 en quantité #\n",
    "#############################\n",
    "\n",
    "#Créer une colonne calculant la part en quantité de la ligne dans le dataset\n",
    "Qte_totale = df_merge['total_sales'].sum()\n",
    "df_merge['Qte_proportion'] = df_merge['total_sales']/Qte_totale\n",
    "\n",
    "#Créer une colonne réalisant la somme cumulative de la colonne précedemment créée\n",
    "df_merge['Qte_CUMSUM'] = df_merge['Qte_proportion'].cumsum()\n",
    "\n",
    "#Grâce au deux colonnes créées précedemment, calculer le nombre d'articles représentant 80% des ventes en quantité\n",
    "\n",
    "#Afficher la proportion que représentent ce groupe d'articles dans le catalogue entier du site web\n",
    "Qte_80 = df_merge[df_merge['Qte_CUMSUM'] <= 0.8].shape[0]\n",
    "Qte_20 = df_merge[df_merge['Qte_CUMSUM']>  0.8].shape[0]\n",
    "Qte_global_count = [Qte_80, Qte_20]\n",
    "plt.figure(figsize=(7, 7))\n",
    "def custom_autopct(pct):\n",
    "    return f'{pct:.1f}% du catalogue'\n",
    "plt.pie(Qte_global_count, labels=['80% du total de ventes', '20% du total de ventes'], autopct=custom_autopct, explode=(0.01,0),  colors=sns.color_palette('viridis'))\n",
    "plt.title('Proportion des articles du catalogue selon le 20/80 des quantités vendues')\n",
    "plt.show()"
   ]
  },
  {
   "cell_type": "markdown",
   "id": "077789b1",
   "metadata": {},
   "source": [
    "<div style=\"border: 1px solid RGB(51,165,182);\" >\n",
    "<h3 style=\"margin: auto; padding: 20px; color: RGB(51,165,182); \">Etape 5.3 - Analyse des stocks</h3>\n",
    "</div>"
   ]
  },
  {
   "cell_type": "code",
   "execution_count": 2208,
   "id": "14e45472",
   "metadata": {},
   "outputs": [
    {
     "data": {
      "application/vnd.plotly.v1+json": {
       "config": {
        "plotlyServerURL": "https://plot.ly"
       },
       "data": [
        {
         "alignmentgroup": "True",
         "cliponaxis": false,
         "hovertemplate": "Rotation de stock=%{marker.color}<br>Nom de l'article=%{y}<extra></extra>",
         "legendgroup": "",
         "marker": {
          "color": [
           0,
           0,
           0,
           1.3333333333333333,
           1.496969696969697,
           1.5,
           1.5130434782608695,
           1.5132743362831858,
           1.5457627118644068,
           1.5517241379310345,
           1.6595744680851063,
           1.669291338582677,
           1.7,
           1.84390243902439,
           1.8486486486486489,
           1.8571428571428572,
           1.8763636363636365,
           1.878095238095238,
           1.9,
           1.9157894736842105
          ],
          "coloraxis": "coloraxis",
          "pattern": {
           "shape": ""
          }
         },
         "name": "",
         "offsetgroup": "",
         "orientation": "h",
         "showlegend": false,
         "textangle": 0,
         "textfont": {
          "size": 15
         },
         "textposition": "outside",
         "texttemplate": "%{x:.3s}",
         "type": "bar",
         "x": [
          0,
          0,
          0,
          1.3333333333333333,
          1.496969696969697,
          1.5,
          1.5130434782608695,
          1.5132743362831858,
          1.5457627118644068,
          1.5517241379310345,
          1.6595744680851063,
          1.669291338582677,
          1.7,
          1.84390243902439,
          1.8486486486486489,
          1.8571428571428572,
          1.8763636363636365,
          1.878095238095238,
          1.9,
          1.9157894736842105
         ],
         "xaxis": "x",
         "y": [
          "Cognac Normandin Mercier VFC",
          "Champagne Egly-Ouriet Grand Cru Blanc de Noirs",
          "Champagne Mailly Grand Cru Les Echansons 2007",
          "Moulin de Gassac IGP Pays d'Hérault Guilhem Blanc 2017",
          "Maurel Cabardès Tradition 2017",
          "Huiles d'Olive Extra Vierge Planeta 3x 10cl",
          "Maurel Pays d'Oc Syrah 2019",
          "Maurel Pays d'Oc Chenin-Colombard 2019",
          "Maurel Pays d'Oc Cabernet-Sauvignon 2017",
          "Champagne Mailly Grand Cru Brut Rosé",
          "Champagne Larmandier-Bernier Latitude",
          "Champagne Gosset Grand Millésime 2006",
          "Château de La Liquière Pays d'Hérault Blanc A Mi Chemin 2017",
          "Domaine de Joy Côtes de Gascogne Envie de Joy 2018",
          "Maurel Pays d'Oc Chardonnay 2019",
          "Domaine La Croix Belle Côtes de Thongue Rouge La Caringole 2018",
          "Champagne Egly-Ouriet Premier Cru Les Vignes de Vrigny",
          "Maurel Pays d'Oc Merlot 2018",
          "Domaine Montrose Côtes de Thongue Rosé 2019",
          "Château Turcaud Bordeaux Rouge 2016"
         ],
         "yaxis": "y"
        }
       ],
       "layout": {
        "barmode": "relative",
        "coloraxis": {
         "colorbar": {
          "title": {
           "text": "Rotation de stock"
          }
         },
         "colorscale": [
          [
           0,
           "#0d0887"
          ],
          [
           0.1111111111111111,
           "#46039f"
          ],
          [
           0.2222222222222222,
           "#7201a8"
          ],
          [
           0.3333333333333333,
           "#9c179e"
          ],
          [
           0.4444444444444444,
           "#bd3786"
          ],
          [
           0.5555555555555556,
           "#d8576b"
          ],
          [
           0.6666666666666666,
           "#ed7953"
          ],
          [
           0.7777777777777778,
           "#fb9f3a"
          ],
          [
           0.8888888888888888,
           "#fdca26"
          ],
          [
           1,
           "#f0f921"
          ]
         ]
        },
        "legend": {
         "tracegroupgap": 0
        },
        "margin": {
         "t": 60
        },
        "template": {
         "data": {
          "bar": [
           {
            "error_x": {
             "color": "#2a3f5f"
            },
            "error_y": {
             "color": "#2a3f5f"
            },
            "marker": {
             "line": {
              "color": "#E5ECF6",
              "width": 0.5
             },
             "pattern": {
              "fillmode": "overlay",
              "size": 10,
              "solidity": 0.2
             }
            },
            "type": "bar"
           }
          ],
          "barpolar": [
           {
            "marker": {
             "line": {
              "color": "#E5ECF6",
              "width": 0.5
             },
             "pattern": {
              "fillmode": "overlay",
              "size": 10,
              "solidity": 0.2
             }
            },
            "type": "barpolar"
           }
          ],
          "carpet": [
           {
            "aaxis": {
             "endlinecolor": "#2a3f5f",
             "gridcolor": "white",
             "linecolor": "white",
             "minorgridcolor": "white",
             "startlinecolor": "#2a3f5f"
            },
            "baxis": {
             "endlinecolor": "#2a3f5f",
             "gridcolor": "white",
             "linecolor": "white",
             "minorgridcolor": "white",
             "startlinecolor": "#2a3f5f"
            },
            "type": "carpet"
           }
          ],
          "choropleth": [
           {
            "colorbar": {
             "outlinewidth": 0,
             "ticks": ""
            },
            "type": "choropleth"
           }
          ],
          "contour": [
           {
            "colorbar": {
             "outlinewidth": 0,
             "ticks": ""
            },
            "colorscale": [
             [
              0,
              "#0d0887"
             ],
             [
              0.1111111111111111,
              "#46039f"
             ],
             [
              0.2222222222222222,
              "#7201a8"
             ],
             [
              0.3333333333333333,
              "#9c179e"
             ],
             [
              0.4444444444444444,
              "#bd3786"
             ],
             [
              0.5555555555555556,
              "#d8576b"
             ],
             [
              0.6666666666666666,
              "#ed7953"
             ],
             [
              0.7777777777777778,
              "#fb9f3a"
             ],
             [
              0.8888888888888888,
              "#fdca26"
             ],
             [
              1,
              "#f0f921"
             ]
            ],
            "type": "contour"
           }
          ],
          "contourcarpet": [
           {
            "colorbar": {
             "outlinewidth": 0,
             "ticks": ""
            },
            "type": "contourcarpet"
           }
          ],
          "heatmap": [
           {
            "colorbar": {
             "outlinewidth": 0,
             "ticks": ""
            },
            "colorscale": [
             [
              0,
              "#0d0887"
             ],
             [
              0.1111111111111111,
              "#46039f"
             ],
             [
              0.2222222222222222,
              "#7201a8"
             ],
             [
              0.3333333333333333,
              "#9c179e"
             ],
             [
              0.4444444444444444,
              "#bd3786"
             ],
             [
              0.5555555555555556,
              "#d8576b"
             ],
             [
              0.6666666666666666,
              "#ed7953"
             ],
             [
              0.7777777777777778,
              "#fb9f3a"
             ],
             [
              0.8888888888888888,
              "#fdca26"
             ],
             [
              1,
              "#f0f921"
             ]
            ],
            "type": "heatmap"
           }
          ],
          "heatmapgl": [
           {
            "colorbar": {
             "outlinewidth": 0,
             "ticks": ""
            },
            "colorscale": [
             [
              0,
              "#0d0887"
             ],
             [
              0.1111111111111111,
              "#46039f"
             ],
             [
              0.2222222222222222,
              "#7201a8"
             ],
             [
              0.3333333333333333,
              "#9c179e"
             ],
             [
              0.4444444444444444,
              "#bd3786"
             ],
             [
              0.5555555555555556,
              "#d8576b"
             ],
             [
              0.6666666666666666,
              "#ed7953"
             ],
             [
              0.7777777777777778,
              "#fb9f3a"
             ],
             [
              0.8888888888888888,
              "#fdca26"
             ],
             [
              1,
              "#f0f921"
             ]
            ],
            "type": "heatmapgl"
           }
          ],
          "histogram": [
           {
            "marker": {
             "pattern": {
              "fillmode": "overlay",
              "size": 10,
              "solidity": 0.2
             }
            },
            "type": "histogram"
           }
          ],
          "histogram2d": [
           {
            "colorbar": {
             "outlinewidth": 0,
             "ticks": ""
            },
            "colorscale": [
             [
              0,
              "#0d0887"
             ],
             [
              0.1111111111111111,
              "#46039f"
             ],
             [
              0.2222222222222222,
              "#7201a8"
             ],
             [
              0.3333333333333333,
              "#9c179e"
             ],
             [
              0.4444444444444444,
              "#bd3786"
             ],
             [
              0.5555555555555556,
              "#d8576b"
             ],
             [
              0.6666666666666666,
              "#ed7953"
             ],
             [
              0.7777777777777778,
              "#fb9f3a"
             ],
             [
              0.8888888888888888,
              "#fdca26"
             ],
             [
              1,
              "#f0f921"
             ]
            ],
            "type": "histogram2d"
           }
          ],
          "histogram2dcontour": [
           {
            "colorbar": {
             "outlinewidth": 0,
             "ticks": ""
            },
            "colorscale": [
             [
              0,
              "#0d0887"
             ],
             [
              0.1111111111111111,
              "#46039f"
             ],
             [
              0.2222222222222222,
              "#7201a8"
             ],
             [
              0.3333333333333333,
              "#9c179e"
             ],
             [
              0.4444444444444444,
              "#bd3786"
             ],
             [
              0.5555555555555556,
              "#d8576b"
             ],
             [
              0.6666666666666666,
              "#ed7953"
             ],
             [
              0.7777777777777778,
              "#fb9f3a"
             ],
             [
              0.8888888888888888,
              "#fdca26"
             ],
             [
              1,
              "#f0f921"
             ]
            ],
            "type": "histogram2dcontour"
           }
          ],
          "mesh3d": [
           {
            "colorbar": {
             "outlinewidth": 0,
             "ticks": ""
            },
            "type": "mesh3d"
           }
          ],
          "parcoords": [
           {
            "line": {
             "colorbar": {
              "outlinewidth": 0,
              "ticks": ""
             }
            },
            "type": "parcoords"
           }
          ],
          "pie": [
           {
            "automargin": true,
            "type": "pie"
           }
          ],
          "scatter": [
           {
            "fillpattern": {
             "fillmode": "overlay",
             "size": 10,
             "solidity": 0.2
            },
            "type": "scatter"
           }
          ],
          "scatter3d": [
           {
            "line": {
             "colorbar": {
              "outlinewidth": 0,
              "ticks": ""
             }
            },
            "marker": {
             "colorbar": {
              "outlinewidth": 0,
              "ticks": ""
             }
            },
            "type": "scatter3d"
           }
          ],
          "scattercarpet": [
           {
            "marker": {
             "colorbar": {
              "outlinewidth": 0,
              "ticks": ""
             }
            },
            "type": "scattercarpet"
           }
          ],
          "scattergeo": [
           {
            "marker": {
             "colorbar": {
              "outlinewidth": 0,
              "ticks": ""
             }
            },
            "type": "scattergeo"
           }
          ],
          "scattergl": [
           {
            "marker": {
             "colorbar": {
              "outlinewidth": 0,
              "ticks": ""
             }
            },
            "type": "scattergl"
           }
          ],
          "scattermapbox": [
           {
            "marker": {
             "colorbar": {
              "outlinewidth": 0,
              "ticks": ""
             }
            },
            "type": "scattermapbox"
           }
          ],
          "scatterpolar": [
           {
            "marker": {
             "colorbar": {
              "outlinewidth": 0,
              "ticks": ""
             }
            },
            "type": "scatterpolar"
           }
          ],
          "scatterpolargl": [
           {
            "marker": {
             "colorbar": {
              "outlinewidth": 0,
              "ticks": ""
             }
            },
            "type": "scatterpolargl"
           }
          ],
          "scatterternary": [
           {
            "marker": {
             "colorbar": {
              "outlinewidth": 0,
              "ticks": ""
             }
            },
            "type": "scatterternary"
           }
          ],
          "surface": [
           {
            "colorbar": {
             "outlinewidth": 0,
             "ticks": ""
            },
            "colorscale": [
             [
              0,
              "#0d0887"
             ],
             [
              0.1111111111111111,
              "#46039f"
             ],
             [
              0.2222222222222222,
              "#7201a8"
             ],
             [
              0.3333333333333333,
              "#9c179e"
             ],
             [
              0.4444444444444444,
              "#bd3786"
             ],
             [
              0.5555555555555556,
              "#d8576b"
             ],
             [
              0.6666666666666666,
              "#ed7953"
             ],
             [
              0.7777777777777778,
              "#fb9f3a"
             ],
             [
              0.8888888888888888,
              "#fdca26"
             ],
             [
              1,
              "#f0f921"
             ]
            ],
            "type": "surface"
           }
          ],
          "table": [
           {
            "cells": {
             "fill": {
              "color": "#EBF0F8"
             },
             "line": {
              "color": "white"
             }
            },
            "header": {
             "fill": {
              "color": "#C8D4E3"
             },
             "line": {
              "color": "white"
             }
            },
            "type": "table"
           }
          ]
         },
         "layout": {
          "annotationdefaults": {
           "arrowcolor": "#2a3f5f",
           "arrowhead": 0,
           "arrowwidth": 1
          },
          "autotypenumbers": "strict",
          "coloraxis": {
           "colorbar": {
            "outlinewidth": 0,
            "ticks": ""
           }
          },
          "colorscale": {
           "diverging": [
            [
             0,
             "#8e0152"
            ],
            [
             0.1,
             "#c51b7d"
            ],
            [
             0.2,
             "#de77ae"
            ],
            [
             0.3,
             "#f1b6da"
            ],
            [
             0.4,
             "#fde0ef"
            ],
            [
             0.5,
             "#f7f7f7"
            ],
            [
             0.6,
             "#e6f5d0"
            ],
            [
             0.7,
             "#b8e186"
            ],
            [
             0.8,
             "#7fbc41"
            ],
            [
             0.9,
             "#4d9221"
            ],
            [
             1,
             "#276419"
            ]
           ],
           "sequential": [
            [
             0,
             "#0d0887"
            ],
            [
             0.1111111111111111,
             "#46039f"
            ],
            [
             0.2222222222222222,
             "#7201a8"
            ],
            [
             0.3333333333333333,
             "#9c179e"
            ],
            [
             0.4444444444444444,
             "#bd3786"
            ],
            [
             0.5555555555555556,
             "#d8576b"
            ],
            [
             0.6666666666666666,
             "#ed7953"
            ],
            [
             0.7777777777777778,
             "#fb9f3a"
            ],
            [
             0.8888888888888888,
             "#fdca26"
            ],
            [
             1,
             "#f0f921"
            ]
           ],
           "sequentialminus": [
            [
             0,
             "#0d0887"
            ],
            [
             0.1111111111111111,
             "#46039f"
            ],
            [
             0.2222222222222222,
             "#7201a8"
            ],
            [
             0.3333333333333333,
             "#9c179e"
            ],
            [
             0.4444444444444444,
             "#bd3786"
            ],
            [
             0.5555555555555556,
             "#d8576b"
            ],
            [
             0.6666666666666666,
             "#ed7953"
            ],
            [
             0.7777777777777778,
             "#fb9f3a"
            ],
            [
             0.8888888888888888,
             "#fdca26"
            ],
            [
             1,
             "#f0f921"
            ]
           ]
          },
          "colorway": [
           "#636efa",
           "#EF553B",
           "#00cc96",
           "#ab63fa",
           "#FFA15A",
           "#19d3f3",
           "#FF6692",
           "#B6E880",
           "#FF97FF",
           "#FECB52"
          ],
          "font": {
           "color": "#2a3f5f"
          },
          "geo": {
           "bgcolor": "white",
           "lakecolor": "white",
           "landcolor": "#E5ECF6",
           "showlakes": true,
           "showland": true,
           "subunitcolor": "white"
          },
          "hoverlabel": {
           "align": "left"
          },
          "hovermode": "closest",
          "mapbox": {
           "style": "light"
          },
          "paper_bgcolor": "white",
          "plot_bgcolor": "#E5ECF6",
          "polar": {
           "angularaxis": {
            "gridcolor": "white",
            "linecolor": "white",
            "ticks": ""
           },
           "bgcolor": "#E5ECF6",
           "radialaxis": {
            "gridcolor": "white",
            "linecolor": "white",
            "ticks": ""
           }
          },
          "scene": {
           "xaxis": {
            "backgroundcolor": "#E5ECF6",
            "gridcolor": "white",
            "gridwidth": 2,
            "linecolor": "white",
            "showbackground": true,
            "ticks": "",
            "zerolinecolor": "white"
           },
           "yaxis": {
            "backgroundcolor": "#E5ECF6",
            "gridcolor": "white",
            "gridwidth": 2,
            "linecolor": "white",
            "showbackground": true,
            "ticks": "",
            "zerolinecolor": "white"
           },
           "zaxis": {
            "backgroundcolor": "#E5ECF6",
            "gridcolor": "white",
            "gridwidth": 2,
            "linecolor": "white",
            "showbackground": true,
            "ticks": "",
            "zerolinecolor": "white"
           }
          },
          "shapedefaults": {
           "line": {
            "color": "#2a3f5f"
           }
          },
          "ternary": {
           "aaxis": {
            "gridcolor": "white",
            "linecolor": "white",
            "ticks": ""
           },
           "baxis": {
            "gridcolor": "white",
            "linecolor": "white",
            "ticks": ""
           },
           "bgcolor": "#E5ECF6",
           "caxis": {
            "gridcolor": "white",
            "linecolor": "white",
            "ticks": ""
           }
          },
          "title": {
           "x": 0.05
          },
          "xaxis": {
           "automargin": true,
           "gridcolor": "white",
           "linecolor": "white",
           "ticks": "",
           "title": {
            "standoff": 15
           },
           "zerolinecolor": "white",
           "zerolinewidth": 2
          },
          "yaxis": {
           "automargin": true,
           "gridcolor": "white",
           "linecolor": "white",
           "ticks": "",
           "title": {
            "standoff": 15
           },
           "zerolinecolor": "white",
           "zerolinewidth": 2
          }
         }
        },
        "xaxis": {
         "anchor": "y",
         "domain": [
          0,
          1
         ],
         "title": {
          "text": "Rotation de stock"
         }
        },
        "yaxis": {
         "anchor": "x",
         "domain": [
          0,
          1
         ],
         "title": {
          "text": "Nom de l'article"
         }
        }
       }
      }
     },
     "metadata": {},
     "output_type": "display_data"
    }
   ],
   "source": [
    "######################################\n",
    "# Calcule le nombre de mois de stock #\n",
    "######################################\n",
    "\n",
    "#Import de numpy \n",
    "\n",
    "#Création de la colonne Rotation de stock\n",
    "df_merge['total_stock_quantity']= df_merge['total_sales'] + df_merge['stock_quantity']\n",
    "df_merge['stock_rotation'] = df_merge['CA_article']/((df_merge['total_stock_quantity'] + df_merge['stock_quantity'])/2)\n",
    "\n",
    "#Remplacement des \"inf\" par 0\n",
    "df_merge['stock_rotation'] = np.where(np.isinf(df_merge['stock_rotation']), 0, df_merge['stock_rotation'])\n",
    "\n",
    "#Effectuer le tri dans l'ordre décroissant du nombre de mois de stock dans le dataset df_merge [Tri selon rotation de stock ordre croissant]\n",
    "\n",
    "df_merge = df_merge.sort_values(by='stock_rotation', ascending = True)\n",
    "\n",
    "\n",
    "\n",
    "#Graphique en barre du flop 20 des produits qui ont le plus de mois de stock\n",
    "fig = px.bar(df_merge.head(20), y='post_title', x='stock_rotation', \n",
    "             labels = {'post_title':\"Nom de l'article\", 'stock_rotation':\"Rotation de stock\", 'product_type':'Type de produit'}, text_auto= '.3s', color='stock_rotation')\n",
    "fig.update_traces(textfont_size=15, textangle=0, textposition=\"outside\", cliponaxis=False)\n",
    "fig.show()"
   ]
  },
  {
   "cell_type": "code",
   "execution_count": 2209,
   "id": "0cd6696c",
   "metadata": {},
   "outputs": [
    {
     "data": {
      "text/plain": [
       "277328.06999999995"
      ]
     },
     "execution_count": 2209,
     "metadata": {},
     "output_type": "execute_result"
    }
   ],
   "source": [
    "####################################\n",
    "# Valorisation des stocks en euros #\n",
    "####################################\n",
    "\n",
    "#Création de la colonne Valorisation des stocks en euros\n",
    "df_merge['Stock_value']= df_merge['stock_quantity']*df_merge['purchase_price']\n",
    "\n",
    "#Calculer la somme de la colonne \"Valorisation_stock_euros\"\n",
    "Total_stock_value = df_merge['Stock_value'].sum()\n",
    "Total_stock_value"
   ]
  },
  {
   "cell_type": "code",
   "execution_count": 2210,
   "id": "4a3dd99d",
   "metadata": {},
   "outputs": [
    {
     "data": {
      "text/plain": [
       "16740"
      ]
     },
     "execution_count": 2210,
     "metadata": {},
     "output_type": "execute_result"
    }
   ],
   "source": [
    "##############################################\n",
    "# Valorisation du nombre de produit en stock #\n",
    "##############################################\n",
    "\n",
    "#Calculer la somme de la colonne stock quantity\n",
    "Total_stock_qte = df_merge['stock_quantity'].sum()\n",
    "Total_stock_qte"
   ]
  },
  {
   "cell_type": "markdown",
   "id": "9e48f6dc",
   "metadata": {},
   "source": [
    "<div style=\"border: 1px solid RGB(51,165,182);\" >\n",
    "<h3 style=\"margin: auto; padding: 20px; color: RGB(51,165,182); \">Etape 5.4 - Analyse du taux de marge</h3>\n",
    "</div>"
   ]
  },
  {
   "cell_type": "code",
   "execution_count": 2211,
   "id": "7de5ca46",
   "metadata": {},
   "outputs": [
    {
     "name": "stdout",
     "output_type": "stream",
     "text": [
      "12.65\n",
      "62.5\n"
     ]
    }
   ],
   "source": [
    "############################\n",
    "# Analyse du taux de marge #\n",
    "############################\n",
    "\n",
    "#Création de la colonne prix HT\n",
    "df_merge['purchase_price_excl_tax'] = df_merge['purchase_price']*0.8\n",
    "\n",
    "#Création de la colonne Taux de marge\n",
    "df_merge['margin']= df_merge['price'] - df_merge['purchase_price_excl_tax']\n",
    "df_merge['margin_rate'] = df_merge['margin']/df_merge['purchase_price_excl_tax'] \n",
    "\n",
    "#Afficher le prix minimum de la colonne \"taux_marge\"\n",
    "print(df_merge.loc[df_merge['margin_rate'].idxmin()]['price'])\n",
    "\n",
    "#Afficher le prix maximum de la colonne \"taux_marge\"\n",
    "print(df_merge.loc[df_merge['margin_rate'].idxmax()]['price'])"
   ]
  },
  {
   "cell_type": "code",
   "execution_count": 2212,
   "id": "6082d42b",
   "metadata": {},
   "outputs": [
    {
     "name": "stdout",
     "output_type": "stream",
     "text": [
      "     level_0  index  product_id  onsale_web  price  stock_quantity  \\\n",
      "698      711     79        4355           1  12.65              97   \n",
      "\n",
      "    stock_status  purchase_price    sku  total_sales  ... CA_proportion  \\\n",
      "698      instock           77.48  12589          0.0  ...           0.0   \n",
      "\n",
      "    CA_CUMSUM Qte_proportion Qte_CUMSUM total_stock_quantity  stock_rotation  \\\n",
      "698       1.0            0.0        1.0                 97.0             0.0   \n",
      "\n",
      "     Stock_value  purchase_price_excl_tax  margin  margin_rate  \n",
      "698      7515.56                   61.984 -49.334    -0.795915  \n",
      "\n",
      "[1 rows x 27 columns]\n",
      "Empty DataFrame\n",
      "Columns: [level_0, index, product_id, onsale_web, price, stock_quantity, stock_status, purchase_price, sku, total_sales, post_title, product_type, post_mime_type, post_date, _merge, z_score, CA_article, CA_proportion, CA_CUMSUM, Qte_proportion, Qte_CUMSUM, total_stock_quantity, stock_rotation, Stock_value, purchase_price_excl_tax, margin, margin_rate]\n",
      "Index: []\n",
      "\n",
      "[0 rows x 27 columns]\n"
     ]
    }
   ],
   "source": [
    "#affichage de la ligne avec un taux de marge inférieur à 0\n",
    "negative_margin = df_merge[df_merge['margin_rate']<0]\n",
    "print(negative_margin)\n",
    "\n",
    "\n",
    "# On retrouve un article au prix d'achat de 77€ et au prix de vente de 12€, voir s'il s'agit d'une erreur de prix d'achat ou de vente.\n",
    "\n",
    "negative_price = df_merge[df_merge['price']<0]\n",
    "print(negative_price)"
   ]
  },
  {
   "cell_type": "code",
   "execution_count": 2213,
   "id": "d756037c",
   "metadata": {},
   "outputs": [
    {
     "name": "stdout",
     "output_type": "stream",
     "text": [
      "5.2\n",
      "225.0\n"
     ]
    }
   ],
   "source": [
    "#création d'un dataframe avec les taux positifs\n",
    "positive_margin = df_merge[df_merge['margin_rate']>0]\n",
    "\n",
    "#Afficher le prix minimum de la colonne \"taux_marge\"\n",
    "print(positive_margin['price'].min())\n",
    "\n",
    "#Afficher le prix maximum de la colonne \"taux_marge\"\n",
    "print(positive_margin['price'].max())"
   ]
  },
  {
   "cell_type": "code",
   "execution_count": 2214,
   "id": "b24042f8",
   "metadata": {},
   "outputs": [
    {
     "data": {
      "image/png": "[encoded data removed]",
      "text/plain": [
       "<Figure size 640x480 with 1 Axes>"
      ]
     },
     "metadata": {},
     "output_type": "display_data"
    }
   ],
   "source": [
    "#création d'un dataframe avec le taux de marge moyen par type de produit\n",
    "mean_margin_rate_by_type = positive_margin.groupby('product_type')['margin_rate'].mean()\n",
    "mean_margin_rate_by_type = mean_margin_rate_by_type.reset_index()\n",
    "\n",
    "#Affichage dans un graphique du taux de marge par type de produit\n",
    "sns.barplot(data=mean_margin_rate_by_type,x ='product_type', y='margin_rate', hue='margin_rate', palette='viridis', legend=None)\n",
    "plt.title('Taux de marge moyen par type de produit')\n",
    "plt.xlabel('Type de produit')\n",
    "plt.ylabel('Taux de marge moyen')\n",
    "plt.show()"
   ]
  },
  {
   "cell_type": "markdown",
   "id": "ce216060",
   "metadata": {},
   "source": [
    "<div style=\"border: 1px solid RGB(51,165,182);\" >\n",
    "<h3 style=\"margin: auto; padding: 20px; color: RGB(51,165,182); \">Etape 5.5 - Analyse des correlations entre les variables stock, sales et price</h3>\n",
    "</div>"
   ]
  },
  {
   "cell_type": "code",
   "execution_count": 2215,
   "id": "12e4a540",
   "metadata": {},
   "outputs": [
    {
     "data": {
      "image/png": "[encoded data removed]",
      "text/plain": [
       "<Figure size 640x480 with 2 Axes>"
      ]
     },
     "metadata": {},
     "output_type": "display_data"
    }
   ],
   "source": [
    "############################\n",
    "# Analyse des correlations #\n",
    "############################\n",
    "\n",
    "#Importation de Seaborn\n",
    "\n",
    "#Création d'un heatmap de correlation avec les variables stock, sales et price\n",
    "#on peut également créer un mask pour n'afficher qu'une demi heatmap\n",
    "df_merge_ssp = df_merge[['price', 'total_sales', 'stock_quantity']]\n",
    "corr_matrix = df_merge_ssp.corr()\n",
    "mask = np.triu(np.ones_like(corr_matrix, dtype=bool))\n",
    "sns.heatmap(corr_matrix, mask=mask, annot=True, cmap='crest')\n",
    "plt.show()"
   ]
  },
  {
   "cell_type": "code",
   "execution_count": 2216,
   "id": "c49d1459",
   "metadata": {},
   "outputs": [
    {
     "name": "stdout",
     "output_type": "stream",
     "text": [
      "product_type\n",
      "Autre             6.603774\n",
      "Champagne        20.699589\n",
      "Cognac           27.508515\n",
      "Gin              27.000000\n",
      "Huile d'olive     7.727457\n",
      "Vin              13.544640\n",
      "Whisky           29.227608\n",
      "Name: stock_rotation, dtype: float64\n",
      "product_type\n",
      "Autre             305.900000\n",
      "Champagne        4344.285000\n",
      "Cognac            557.730000\n",
      "Gin                94.380000\n",
      "Huile d'olive     647.906667\n",
      "Vin               221.915669\n",
      "Whisky            197.668571\n",
      "Name: Stock_value, dtype: float64\n"
     ]
    }
   ],
   "source": [
    "#Que peut-on conclure des correlations ?\n",
    "# Faibles correlations entre ces valeurs: le prix aurait une faible tendance à faire diminuer les ventes, et on aurait tendance à avoir un ré approvisionnement logiquement \n",
    "# plus important en fonction des ventes. Les  valeurs de corrélations sont tout de même faibles, on peut difficlement dire avec certitude que le prix aurait un impact sur le stock et\n",
    "# les ventes d'un produit, il faudrait chercher quels autres facteurs pourraient influencer la quantité de vente de certains produits (millésime, type de produit ?)\n",
    "\n",
    "mean_rotation_by_type = df_merge.groupby('product_type')['stock_rotation'].mean()\n",
    "print(mean_rotation_by_type)\n",
    "mean_stock_value_by_type = df_merge.groupby('product_type')['Stock_value'].mean()\n",
    "print(mean_stock_value_by_type)\n"
   ]
  },
  {
   "cell_type": "markdown",
   "id": "f1d22f1d",
   "metadata": {},
   "source": [
    "<div style=\"border: 1px solid RGB(51,165,182);\" >\n",
    "<h3 style=\"margin: auto; padding: 20px; color: RGB(51,165,182); \">Etape 5.6 - Mettre à disposition la nouvelle table sur un fichier Excel</h3>\n",
    "</div>"
   ]
  },
  {
   "cell_type": "code",
   "execution_count": 2217,
   "id": "09bfe632",
   "metadata": {},
   "outputs": [],
   "source": [
    "#Mettre le dataset df_merge sur un fichier Excel\n",
    "#Cette étape peut-être utile pour partager le résultat du dataset obtenu pour le partager avec les équipes.  \n",
    "df_merge.to_excel('merged_data.xlsx', index=False)"
   ]
  }
 ],
 "metadata": {
  "kernelspec": {
   "display_name": "Python 3",
   "language": "python",
   "name": "python3"
  },
  "language_info": {
   "codemirror_mode": {
    "name": "ipython",
    "version": 3
   },
   "file_extension": ".py",
   "mimetype": "text/x-python",
   "name": "python",
   "nbconvert_exporter": "python",
   "pygments_lexer": "ipython3",
   "version": "3.12.0"
  }
 },
 "nbformat": 4,
 "nbformat_minor": 5
}
