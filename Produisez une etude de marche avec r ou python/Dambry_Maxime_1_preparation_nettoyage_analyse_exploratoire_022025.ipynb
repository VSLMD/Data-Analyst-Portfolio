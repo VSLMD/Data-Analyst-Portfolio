{
 "cells": [
  {
   "cell_type": "code",
   "execution_count": 66,
   "metadata": {},
   "outputs": [],
   "source": [
    "import pandas as pd\n",
    "import numpy as np\n",
    "import matplotlib.pyplot as plt\n",
    "import seaborn as sns\n",
    "\n",
    "from sklearn.decomposition import PCA\n",
    "from sklearn.cluster import KMeans \n",
    "from sklearn.preprocessing import StandardScaler\n"
   ]
  },
  {
   "cell_type": "code",
   "execution_count": 67,
   "metadata": {},
   "outputs": [],
   "source": [
    "dispo_alimentaire = pd.read_csv(r'C:\\Users\\maxim\\Desktop\\P11\\DAN-P9-data\\DAN-P9-data\\DisponibiliteAlimentaire_2017.csv')\n",
    "population = pd.read_csv(r\"C:\\Users\\maxim\\Desktop\\P11\\DAN-P9-data\\DAN-P9-data\\Population_2000_2018.csv\")\n",
    "indices_prod = pd.read_csv(r\"C:\\Users\\maxim\\Desktop\\P11\\FAOSTAT_indices de production.csv\")\n",
    "indicateurs_macro = pd.read_csv(r\"C:\\Users\\maxim\\Desktop\\P11\\FAOSTAT_Indicateurs macro.csv\")\n",
    "securite_alimentaire = pd.read_csv(r'c:\\Users\\maxim\\Desktop\\P11\\FAOSTAT_securite_alimentaire.csv')\n"
   ]
  },
  {
   "cell_type": "markdown",
   "metadata": {},
   "source": [
    "# Clean Disponibilité Alimentaire"
   ]
  },
  {
   "cell_type": "code",
   "execution_count": 68,
   "metadata": {},
   "outputs": [
    {
     "data": {
      "application/vnd.microsoft.datawrangler.viewer.v0+json": {
       "columns": [
        {
         "name": "index",
         "rawType": "int64",
         "type": "integer"
        },
        {
         "name": "Code Domaine",
         "rawType": "object",
         "type": "string"
        },
        {
         "name": "Domaine",
         "rawType": "object",
         "type": "string"
        },
        {
         "name": "Code zone",
         "rawType": "int64",
         "type": "integer"
        },
        {
         "name": "Zone",
         "rawType": "object",
         "type": "string"
        },
        {
         "name": "Code Élément",
         "rawType": "int64",
         "type": "integer"
        },
        {
         "name": "Élément",
         "rawType": "object",
         "type": "string"
        },
        {
         "name": "Code Produit",
         "rawType": "int64",
         "type": "integer"
        },
        {
         "name": "Produit",
         "rawType": "object",
         "type": "string"
        },
        {
         "name": "Code année",
         "rawType": "int64",
         "type": "integer"
        },
        {
         "name": "Année",
         "rawType": "int64",
         "type": "integer"
        },
        {
         "name": "Unité",
         "rawType": "object",
         "type": "string"
        },
        {
         "name": "Valeur",
         "rawType": "float64",
         "type": "float"
        },
        {
         "name": "Symbole",
         "rawType": "object",
         "type": "string"
        },
        {
         "name": "Description du Symbole",
         "rawType": "object",
         "type": "string"
        }
       ],
       "conversionMethod": "pd.DataFrame",
       "ref": "95e683c0-732a-4694-beb4-dd6391d261ca",
       "rows": [
        [
         "0",
         "FBS",
         "Nouveaux Bilans Alimentaire",
         "2",
         "Afghanistan",
         "5511",
         "Production",
         "2511",
         "Blé et produits",
         "2017",
         "2017",
         "Milliers de tonnes",
         "4281.0",
         "S",
         "Données standardisées"
        ],
        [
         "1",
         "FBS",
         "Nouveaux Bilans Alimentaire",
         "2",
         "Afghanistan",
         "5611",
         "Importations - Quantité",
         "2511",
         "Blé et produits",
         "2017",
         "2017",
         "Milliers de tonnes",
         "2302.0",
         "S",
         "Données standardisées"
        ],
        [
         "2",
         "FBS",
         "Nouveaux Bilans Alimentaire",
         "2",
         "Afghanistan",
         "5072",
         "Variation de stock",
         "2511",
         "Blé et produits",
         "2017",
         "2017",
         "Milliers de tonnes",
         "-119.0",
         "S",
         "Données standardisées"
        ],
        [
         "3",
         "FBS",
         "Nouveaux Bilans Alimentaire",
         "2",
         "Afghanistan",
         "5911",
         "Exportations - Quantité",
         "2511",
         "Blé et produits",
         "2017",
         "2017",
         "Milliers de tonnes",
         "0.0",
         "S",
         "Données standardisées"
        ],
        [
         "4",
         "FBS",
         "Nouveaux Bilans Alimentaire",
         "2",
         "Afghanistan",
         "5301",
         "Disponibilité intérieure",
         "2511",
         "Blé et produits",
         "2017",
         "2017",
         "Milliers de tonnes",
         "6701.0",
         "S",
         "Données standardisées"
        ]
       ],
       "shape": {
        "columns": 14,
        "rows": 5
       }
      },
      "text/html": [
       "<div>\n",
       "<style scoped>\n",
       "    .dataframe tbody tr th:only-of-type {\n",
       "        vertical-align: middle;\n",
       "    }\n",
       "\n",
       "    .dataframe tbody tr th {\n",
       "        vertical-align: top;\n",
       "    }\n",
       "\n",
       "    .dataframe thead th {\n",
       "        text-align: right;\n",
       "    }\n",
       "</style>\n",
       "<table border=\"1\" class=\"dataframe\">\n",
       "  <thead>\n",
       "    <tr style=\"text-align: right;\">\n",
       "      <th></th>\n",
       "      <th>Code Domaine</th>\n",
       "      <th>Domaine</th>\n",
       "      <th>Code zone</th>\n",
       "      <th>Zone</th>\n",
       "      <th>Code Élément</th>\n",
       "      <th>Élément</th>\n",
       "      <th>Code Produit</th>\n",
       "      <th>Produit</th>\n",
       "      <th>Code année</th>\n",
       "      <th>Année</th>\n",
       "      <th>Unité</th>\n",
       "      <th>Valeur</th>\n",
       "      <th>Symbole</th>\n",
       "      <th>Description du Symbole</th>\n",
       "    </tr>\n",
       "  </thead>\n",
       "  <tbody>\n",
       "    <tr>\n",
       "      <th>0</th>\n",
       "      <td>FBS</td>\n",
       "      <td>Nouveaux Bilans Alimentaire</td>\n",
       "      <td>2</td>\n",
       "      <td>Afghanistan</td>\n",
       "      <td>5511</td>\n",
       "      <td>Production</td>\n",
       "      <td>2511</td>\n",
       "      <td>Blé et produits</td>\n",
       "      <td>2017</td>\n",
       "      <td>2017</td>\n",
       "      <td>Milliers de tonnes</td>\n",
       "      <td>4281.0</td>\n",
       "      <td>S</td>\n",
       "      <td>Données standardisées</td>\n",
       "    </tr>\n",
       "    <tr>\n",
       "      <th>1</th>\n",
       "      <td>FBS</td>\n",
       "      <td>Nouveaux Bilans Alimentaire</td>\n",
       "      <td>2</td>\n",
       "      <td>Afghanistan</td>\n",
       "      <td>5611</td>\n",
       "      <td>Importations - Quantité</td>\n",
       "      <td>2511</td>\n",
       "      <td>Blé et produits</td>\n",
       "      <td>2017</td>\n",
       "      <td>2017</td>\n",
       "      <td>Milliers de tonnes</td>\n",
       "      <td>2302.0</td>\n",
       "      <td>S</td>\n",
       "      <td>Données standardisées</td>\n",
       "    </tr>\n",
       "    <tr>\n",
       "      <th>2</th>\n",
       "      <td>FBS</td>\n",
       "      <td>Nouveaux Bilans Alimentaire</td>\n",
       "      <td>2</td>\n",
       "      <td>Afghanistan</td>\n",
       "      <td>5072</td>\n",
       "      <td>Variation de stock</td>\n",
       "      <td>2511</td>\n",
       "      <td>Blé et produits</td>\n",
       "      <td>2017</td>\n",
       "      <td>2017</td>\n",
       "      <td>Milliers de tonnes</td>\n",
       "      <td>-119.0</td>\n",
       "      <td>S</td>\n",
       "      <td>Données standardisées</td>\n",
       "    </tr>\n",
       "    <tr>\n",
       "      <th>3</th>\n",
       "      <td>FBS</td>\n",
       "      <td>Nouveaux Bilans Alimentaire</td>\n",
       "      <td>2</td>\n",
       "      <td>Afghanistan</td>\n",
       "      <td>5911</td>\n",
       "      <td>Exportations - Quantité</td>\n",
       "      <td>2511</td>\n",
       "      <td>Blé et produits</td>\n",
       "      <td>2017</td>\n",
       "      <td>2017</td>\n",
       "      <td>Milliers de tonnes</td>\n",
       "      <td>0.0</td>\n",
       "      <td>S</td>\n",
       "      <td>Données standardisées</td>\n",
       "    </tr>\n",
       "    <tr>\n",
       "      <th>4</th>\n",
       "      <td>FBS</td>\n",
       "      <td>Nouveaux Bilans Alimentaire</td>\n",
       "      <td>2</td>\n",
       "      <td>Afghanistan</td>\n",
       "      <td>5301</td>\n",
       "      <td>Disponibilité intérieure</td>\n",
       "      <td>2511</td>\n",
       "      <td>Blé et produits</td>\n",
       "      <td>2017</td>\n",
       "      <td>2017</td>\n",
       "      <td>Milliers de tonnes</td>\n",
       "      <td>6701.0</td>\n",
       "      <td>S</td>\n",
       "      <td>Données standardisées</td>\n",
       "    </tr>\n",
       "  </tbody>\n",
       "</table>\n",
       "</div>"
      ],
      "text/plain": [
       "  Code Domaine                      Domaine  Code zone         Zone  \\\n",
       "0          FBS  Nouveaux Bilans Alimentaire          2  Afghanistan   \n",
       "1          FBS  Nouveaux Bilans Alimentaire          2  Afghanistan   \n",
       "2          FBS  Nouveaux Bilans Alimentaire          2  Afghanistan   \n",
       "3          FBS  Nouveaux Bilans Alimentaire          2  Afghanistan   \n",
       "4          FBS  Nouveaux Bilans Alimentaire          2  Afghanistan   \n",
       "\n",
       "   Code Élément                   Élément  Code Produit          Produit  \\\n",
       "0          5511                Production          2511  Blé et produits   \n",
       "1          5611   Importations - Quantité          2511  Blé et produits   \n",
       "2          5072        Variation de stock          2511  Blé et produits   \n",
       "3          5911   Exportations - Quantité          2511  Blé et produits   \n",
       "4          5301  Disponibilité intérieure          2511  Blé et produits   \n",
       "\n",
       "   Code année  Année               Unité  Valeur Symbole  \\\n",
       "0        2017   2017  Milliers de tonnes  4281.0       S   \n",
       "1        2017   2017  Milliers de tonnes  2302.0       S   \n",
       "2        2017   2017  Milliers de tonnes  -119.0       S   \n",
       "3        2017   2017  Milliers de tonnes     0.0       S   \n",
       "4        2017   2017  Milliers de tonnes  6701.0       S   \n",
       "\n",
       "  Description du Symbole  \n",
       "0  Données standardisées  \n",
       "1  Données standardisées  \n",
       "2  Données standardisées  \n",
       "3  Données standardisées  \n",
       "4  Données standardisées  "
      ]
     },
     "execution_count": 68,
     "metadata": {},
     "output_type": "execute_result"
    }
   ],
   "source": [
    "dispo_alimentaire.head()"
   ]
  },
  {
   "cell_type": "code",
   "execution_count": 69,
   "metadata": {},
   "outputs": [
    {
     "data": {
      "text/plain": [
       "Code Domaine              0\n",
       "Domaine                   0\n",
       "Code zone                 0\n",
       "Zone                      0\n",
       "Code Élément              0\n",
       "Élément                   0\n",
       "Code Produit              0\n",
       "Produit                   0\n",
       "Code année                0\n",
       "Année                     0\n",
       "Unité                     0\n",
       "Valeur                    0\n",
       "Symbole                   0\n",
       "Description du Symbole    0\n",
       "dtype: int64"
      ]
     },
     "execution_count": 69,
     "metadata": {},
     "output_type": "execute_result"
    }
   ],
   "source": [
    "dispo_alimentaire.isna().sum()"
   ]
  },
  {
   "cell_type": "code",
   "execution_count": 70,
   "metadata": {},
   "outputs": [],
   "source": [
    "dispo_alimentaire.drop(['Code Domaine', 'Code Élément', 'Code Produit', 'Domaine', 'Code année', 'Année', 'Symbole',\n",
    "                         'Description du Symbole', 'Unité'], axis=1, inplace = True)\n"
   ]
  },
  {
   "cell_type": "code",
   "execution_count": 71,
   "metadata": {},
   "outputs": [
    {
     "data": {
      "application/vnd.microsoft.datawrangler.viewer.v0+json": {
       "columns": [
        {
         "name": "index",
         "rawType": "int64",
         "type": "integer"
        },
        {
         "name": "Code zone",
         "rawType": "int64",
         "type": "integer"
        },
        {
         "name": "Zone",
         "rawType": "object",
         "type": "string"
        },
        {
         "name": "Élément",
         "rawType": "object",
         "type": "string"
        },
        {
         "name": "Produit",
         "rawType": "object",
         "type": "string"
        },
        {
         "name": "Valeur",
         "rawType": "float64",
         "type": "float"
        }
       ],
       "conversionMethod": "pd.DataFrame",
       "ref": "fd4da587-a90d-4f15-b584-79229402c31a",
       "rows": [
        [
         "0",
         "2",
         "Afghanistan",
         "Production",
         "Blé et produits",
         "4281.0"
        ],
        [
         "1",
         "2",
         "Afghanistan",
         "Importations - Quantité",
         "Blé et produits",
         "2302.0"
        ],
        [
         "2",
         "2",
         "Afghanistan",
         "Variation de stock",
         "Blé et produits",
         "-119.0"
        ],
        [
         "3",
         "2",
         "Afghanistan",
         "Exportations - Quantité",
         "Blé et produits",
         "0.0"
        ],
        [
         "4",
         "2",
         "Afghanistan",
         "Disponibilité intérieure",
         "Blé et produits",
         "6701.0"
        ]
       ],
       "shape": {
        "columns": 5,
        "rows": 5
       }
      },
      "text/html": [
       "<div>\n",
       "<style scoped>\n",
       "    .dataframe tbody tr th:only-of-type {\n",
       "        vertical-align: middle;\n",
       "    }\n",
       "\n",
       "    .dataframe tbody tr th {\n",
       "        vertical-align: top;\n",
       "    }\n",
       "\n",
       "    .dataframe thead th {\n",
       "        text-align: right;\n",
       "    }\n",
       "</style>\n",
       "<table border=\"1\" class=\"dataframe\">\n",
       "  <thead>\n",
       "    <tr style=\"text-align: right;\">\n",
       "      <th></th>\n",
       "      <th>Code zone</th>\n",
       "      <th>Zone</th>\n",
       "      <th>Élément</th>\n",
       "      <th>Produit</th>\n",
       "      <th>Valeur</th>\n",
       "    </tr>\n",
       "  </thead>\n",
       "  <tbody>\n",
       "    <tr>\n",
       "      <th>0</th>\n",
       "      <td>2</td>\n",
       "      <td>Afghanistan</td>\n",
       "      <td>Production</td>\n",
       "      <td>Blé et produits</td>\n",
       "      <td>4281.0</td>\n",
       "    </tr>\n",
       "    <tr>\n",
       "      <th>1</th>\n",
       "      <td>2</td>\n",
       "      <td>Afghanistan</td>\n",
       "      <td>Importations - Quantité</td>\n",
       "      <td>Blé et produits</td>\n",
       "      <td>2302.0</td>\n",
       "    </tr>\n",
       "    <tr>\n",
       "      <th>2</th>\n",
       "      <td>2</td>\n",
       "      <td>Afghanistan</td>\n",
       "      <td>Variation de stock</td>\n",
       "      <td>Blé et produits</td>\n",
       "      <td>-119.0</td>\n",
       "    </tr>\n",
       "    <tr>\n",
       "      <th>3</th>\n",
       "      <td>2</td>\n",
       "      <td>Afghanistan</td>\n",
       "      <td>Exportations - Quantité</td>\n",
       "      <td>Blé et produits</td>\n",
       "      <td>0.0</td>\n",
       "    </tr>\n",
       "    <tr>\n",
       "      <th>4</th>\n",
       "      <td>2</td>\n",
       "      <td>Afghanistan</td>\n",
       "      <td>Disponibilité intérieure</td>\n",
       "      <td>Blé et produits</td>\n",
       "      <td>6701.0</td>\n",
       "    </tr>\n",
       "  </tbody>\n",
       "</table>\n",
       "</div>"
      ],
      "text/plain": [
       "   Code zone         Zone                   Élément          Produit  Valeur\n",
       "0          2  Afghanistan                Production  Blé et produits  4281.0\n",
       "1          2  Afghanistan   Importations - Quantité  Blé et produits  2302.0\n",
       "2          2  Afghanistan        Variation de stock  Blé et produits  -119.0\n",
       "3          2  Afghanistan   Exportations - Quantité  Blé et produits     0.0\n",
       "4          2  Afghanistan  Disponibilité intérieure  Blé et produits  6701.0"
      ]
     },
     "execution_count": 71,
     "metadata": {},
     "output_type": "execute_result"
    }
   ],
   "source": [
    "dispo_alimentaire.head()"
   ]
  },
  {
   "cell_type": "code",
   "execution_count": 72,
   "metadata": {},
   "outputs": [
    {
     "data": {
      "text/plain": [
       "array(['Blé et produits', 'Riz et produits', 'Orge et produits',\n",
       "       'Maïs et produits', 'Seigle et produits', 'Avoine',\n",
       "       'Millet et produits', 'Sorgho et produits', 'Céréales, Autres',\n",
       "       'Pommes de Terre et produits', 'Ignames', 'Racines nda',\n",
       "       'Sucre, canne', 'Sucre, betterave', 'Sucre Eq Brut',\n",
       "       'Edulcorants Autres', 'Miel', 'Haricots', 'Pois',\n",
       "       'Légumineuses Autres et produits', 'Noix et produits', 'Soja',\n",
       "       'Arachides Decortiquees', 'Graines de tournesol',\n",
       "       'Graines Colza/Moutarde', 'Graines de coton', 'Coco (Incl Coprah)',\n",
       "       'Sésame', 'Olives', 'Plantes Oleiferes, Autre', 'Huile de Soja',\n",
       "       \"Huile d'Arachide\", 'Huile de Tournesol',\n",
       "       'Huile de Colza&Moutarde', 'Huile Graines de Coton',\n",
       "       'Huile de Palmistes', 'Huile de Palme', 'Huile de Coco',\n",
       "       'Huile de Sésame', \"Huile d'Olive\", 'Huile de Son de Riz',\n",
       "       'Huile de Germe de Maïs', 'Huil Plantes Oleif Autr',\n",
       "       'Tomates et produits', 'Oignons', 'Légumes, Autres',\n",
       "       'Oranges, Mandarines', 'Citrons & Limes et produits',\n",
       "       'Pamplemousse et produits', 'Agrumes, Autres', 'Bananes',\n",
       "       'Pommes et produits', 'Ananas et produits', 'Dattes', 'Raisin',\n",
       "       'Fruits, Autres', 'Café et produits', 'Feve de Cacao et produits',\n",
       "       'Thé', 'Poivre', 'Piments', 'Girofles', 'Épices, Autres', 'Vin',\n",
       "       'Bière', 'Boissons Fermentés', 'Boissons Alcooliques',\n",
       "       'Alcool, non Comestible', 'Viande de Bovins',\n",
       "       \"Viande d'Ovins/Caprins\", 'Viande de Suides',\n",
       "       'Viande de Volailles', 'Viande, Autre', 'Abats Comestible',\n",
       "       'Beurre, Ghee', 'Crème', 'Graisses Animales Crue', 'Oeufs',\n",
       "       'Lait - Excl Beurre', 'Poissons Eau Douce',\n",
       "       'Aliments pour enfants', 'Miscellanees', 'Manioc et produits',\n",
       "       'Patates douces', 'Palmistes', 'Bananes plantains',\n",
       "       'Huiles de Poissons', 'Huiles de Foie de Poisso', 'Perciform',\n",
       "       'Poissons Pelagiques', 'Poissons Marins, Autres', 'Crustacés',\n",
       "       'Cephalopodes', 'Mollusques, Autres', 'Animaux Aquatiques Autre',\n",
       "       'Plantes Aquatiques', 'Sucre non centrifugé',\n",
       "       'Viande de Anim Aquatiq'], dtype=object)"
      ]
     },
     "execution_count": 72,
     "metadata": {},
     "output_type": "execute_result"
    }
   ],
   "source": [
    "dispo_alimentaire['Produit'].unique()"
   ]
  },
  {
   "cell_type": "code",
   "execution_count": 73,
   "metadata": {},
   "outputs": [
    {
     "data": {
      "application/vnd.microsoft.datawrangler.viewer.v0+json": {
       "columns": [
        {
         "name": "index",
         "rawType": "int64",
         "type": "integer"
        },
        {
         "name": "Code zone",
         "rawType": "int64",
         "type": "integer"
        },
        {
         "name": "Zone",
         "rawType": "object",
         "type": "string"
        },
        {
         "name": "Élément",
         "rawType": "object",
         "type": "string"
        },
        {
         "name": "Produit",
         "rawType": "object",
         "type": "string"
        },
        {
         "name": "Valeur",
         "rawType": "float64",
         "type": "float"
        }
       ],
       "conversionMethod": "pd.DataFrame",
       "ref": "1591be4a-6b26-445a-b957-8d16ae44d61e",
       "rows": [
        [
         "651",
         "2",
         "Afghanistan",
         "Production",
         "Viande de Volailles",
         "28.0"
        ],
        [
         "652",
         "2",
         "Afghanistan",
         "Importations - Quantité",
         "Viande de Volailles",
         "29.0"
        ],
        [
         "653",
         "2",
         "Afghanistan",
         "Variation de stock",
         "Viande de Volailles",
         "0.0"
        ],
        [
         "654",
         "2",
         "Afghanistan",
         "Disponibilité intérieure",
         "Viande de Volailles",
         "57.0"
        ],
        [
         "655",
         "2",
         "Afghanistan",
         "Pertes",
         "Viande de Volailles",
         "2.0"
        ]
       ],
       "shape": {
        "columns": 5,
        "rows": 5
       }
      },
      "text/html": [
       "<div>\n",
       "<style scoped>\n",
       "    .dataframe tbody tr th:only-of-type {\n",
       "        vertical-align: middle;\n",
       "    }\n",
       "\n",
       "    .dataframe tbody tr th {\n",
       "        vertical-align: top;\n",
       "    }\n",
       "\n",
       "    .dataframe thead th {\n",
       "        text-align: right;\n",
       "    }\n",
       "</style>\n",
       "<table border=\"1\" class=\"dataframe\">\n",
       "  <thead>\n",
       "    <tr style=\"text-align: right;\">\n",
       "      <th></th>\n",
       "      <th>Code zone</th>\n",
       "      <th>Zone</th>\n",
       "      <th>Élément</th>\n",
       "      <th>Produit</th>\n",
       "      <th>Valeur</th>\n",
       "    </tr>\n",
       "  </thead>\n",
       "  <tbody>\n",
       "    <tr>\n",
       "      <th>651</th>\n",
       "      <td>2</td>\n",
       "      <td>Afghanistan</td>\n",
       "      <td>Production</td>\n",
       "      <td>Viande de Volailles</td>\n",
       "      <td>28.0</td>\n",
       "    </tr>\n",
       "    <tr>\n",
       "      <th>652</th>\n",
       "      <td>2</td>\n",
       "      <td>Afghanistan</td>\n",
       "      <td>Importations - Quantité</td>\n",
       "      <td>Viande de Volailles</td>\n",
       "      <td>29.0</td>\n",
       "    </tr>\n",
       "    <tr>\n",
       "      <th>653</th>\n",
       "      <td>2</td>\n",
       "      <td>Afghanistan</td>\n",
       "      <td>Variation de stock</td>\n",
       "      <td>Viande de Volailles</td>\n",
       "      <td>0.0</td>\n",
       "    </tr>\n",
       "    <tr>\n",
       "      <th>654</th>\n",
       "      <td>2</td>\n",
       "      <td>Afghanistan</td>\n",
       "      <td>Disponibilité intérieure</td>\n",
       "      <td>Viande de Volailles</td>\n",
       "      <td>57.0</td>\n",
       "    </tr>\n",
       "    <tr>\n",
       "      <th>655</th>\n",
       "      <td>2</td>\n",
       "      <td>Afghanistan</td>\n",
       "      <td>Pertes</td>\n",
       "      <td>Viande de Volailles</td>\n",
       "      <td>2.0</td>\n",
       "    </tr>\n",
       "  </tbody>\n",
       "</table>\n",
       "</div>"
      ],
      "text/plain": [
       "     Code zone         Zone                   Élément              Produit  \\\n",
       "651          2  Afghanistan                Production  Viande de Volailles   \n",
       "652          2  Afghanistan   Importations - Quantité  Viande de Volailles   \n",
       "653          2  Afghanistan        Variation de stock  Viande de Volailles   \n",
       "654          2  Afghanistan  Disponibilité intérieure  Viande de Volailles   \n",
       "655          2  Afghanistan                    Pertes  Viande de Volailles   \n",
       "\n",
       "     Valeur  \n",
       "651    28.0  \n",
       "652    29.0  \n",
       "653     0.0  \n",
       "654    57.0  \n",
       "655     2.0  "
      ]
     },
     "execution_count": 73,
     "metadata": {},
     "output_type": "execute_result"
    }
   ],
   "source": [
    "dispo_alimentaire = dispo_alimentaire.loc[dispo_alimentaire['Produit']== 'Viande de Volailles', :]\n",
    "dispo_alimentaire.head()"
   ]
  },
  {
   "cell_type": "code",
   "execution_count": 74,
   "metadata": {},
   "outputs": [
    {
     "data": {
      "text/plain": [
       "array(['Production', 'Importations - Quantité', 'Variation de stock',\n",
       "       'Disponibilité intérieure', 'Pertes', 'Résidus', 'Nourriture',\n",
       "       'Disponibilité alimentaire en quantité (kg/personne/an)',\n",
       "       'Disponibilité alimentaire (Kcal/personne/jour)',\n",
       "       'Disponibilité de protéines en quantité (g/personne/jour)',\n",
       "       'Disponibilité de matière grasse en quantité (g/personne/jour)',\n",
       "       'Exportations - Quantité', 'Alimentation pour touristes',\n",
       "       'Traitement', 'Autres utilisations (non alimentaire)',\n",
       "       'Aliments pour animaux', 'Semences'], dtype=object)"
      ]
     },
     "execution_count": 74,
     "metadata": {},
     "output_type": "execute_result"
    }
   ],
   "source": [
    "dispo_alimentaire['Élément'].unique()"
   ]
  },
  {
   "cell_type": "code",
   "execution_count": 75,
   "metadata": {},
   "outputs": [
    {
     "data": {
      "application/vnd.microsoft.datawrangler.viewer.v0+json": {
       "columns": [
        {
         "name": "index",
         "rawType": "int64",
         "type": "integer"
        },
        {
         "name": "Code zone",
         "rawType": "int64",
         "type": "integer"
        },
        {
         "name": "Zone",
         "rawType": "object",
         "type": "string"
        },
        {
         "name": "Élément",
         "rawType": "object",
         "type": "string"
        },
        {
         "name": "Produit",
         "rawType": "object",
         "type": "string"
        },
        {
         "name": "Valeur",
         "rawType": "float64",
         "type": "float"
        }
       ],
       "conversionMethod": "pd.DataFrame",
       "ref": "60ab304d-3b12-4d57-90b5-eff9b8a30685",
       "rows": [
        [
         "651",
         "2",
         "Afghanistan",
         "Production",
         "Viande de Volailles",
         "28.0"
        ],
        [
         "652",
         "2",
         "Afghanistan",
         "Importations - Quantité",
         "Viande de Volailles",
         "29.0"
        ],
        [
         "658",
         "2",
         "Afghanistan",
         "Disponibilité alimentaire en quantité (kg/personne/an)",
         "Viande de Volailles",
         "1.53"
        ],
        [
         "659",
         "2",
         "Afghanistan",
         "Disponibilité alimentaire (Kcal/personne/jour)",
         "Viande de Volailles",
         "5.0"
        ],
        [
         "660",
         "2",
         "Afghanistan",
         "Disponibilité de protéines en quantité (g/personne/jour)",
         "Viande de Volailles",
         "0.54"
        ]
       ],
       "shape": {
        "columns": 5,
        "rows": 5
       }
      },
      "text/html": [
       "<div>\n",
       "<style scoped>\n",
       "    .dataframe tbody tr th:only-of-type {\n",
       "        vertical-align: middle;\n",
       "    }\n",
       "\n",
       "    .dataframe tbody tr th {\n",
       "        vertical-align: top;\n",
       "    }\n",
       "\n",
       "    .dataframe thead th {\n",
       "        text-align: right;\n",
       "    }\n",
       "</style>\n",
       "<table border=\"1\" class=\"dataframe\">\n",
       "  <thead>\n",
       "    <tr style=\"text-align: right;\">\n",
       "      <th></th>\n",
       "      <th>Code zone</th>\n",
       "      <th>Zone</th>\n",
       "      <th>Élément</th>\n",
       "      <th>Produit</th>\n",
       "      <th>Valeur</th>\n",
       "    </tr>\n",
       "  </thead>\n",
       "  <tbody>\n",
       "    <tr>\n",
       "      <th>651</th>\n",
       "      <td>2</td>\n",
       "      <td>Afghanistan</td>\n",
       "      <td>Production</td>\n",
       "      <td>Viande de Volailles</td>\n",
       "      <td>28.00</td>\n",
       "    </tr>\n",
       "    <tr>\n",
       "      <th>652</th>\n",
       "      <td>2</td>\n",
       "      <td>Afghanistan</td>\n",
       "      <td>Importations - Quantité</td>\n",
       "      <td>Viande de Volailles</td>\n",
       "      <td>29.00</td>\n",
       "    </tr>\n",
       "    <tr>\n",
       "      <th>658</th>\n",
       "      <td>2</td>\n",
       "      <td>Afghanistan</td>\n",
       "      <td>Disponibilité alimentaire en quantité (kg/pers...</td>\n",
       "      <td>Viande de Volailles</td>\n",
       "      <td>1.53</td>\n",
       "    </tr>\n",
       "    <tr>\n",
       "      <th>659</th>\n",
       "      <td>2</td>\n",
       "      <td>Afghanistan</td>\n",
       "      <td>Disponibilité alimentaire (Kcal/personne/jour)</td>\n",
       "      <td>Viande de Volailles</td>\n",
       "      <td>5.00</td>\n",
       "    </tr>\n",
       "    <tr>\n",
       "      <th>660</th>\n",
       "      <td>2</td>\n",
       "      <td>Afghanistan</td>\n",
       "      <td>Disponibilité de protéines en quantité (g/pers...</td>\n",
       "      <td>Viande de Volailles</td>\n",
       "      <td>0.54</td>\n",
       "    </tr>\n",
       "  </tbody>\n",
       "</table>\n",
       "</div>"
      ],
      "text/plain": [
       "     Code zone         Zone  \\\n",
       "651          2  Afghanistan   \n",
       "652          2  Afghanistan   \n",
       "658          2  Afghanistan   \n",
       "659          2  Afghanistan   \n",
       "660          2  Afghanistan   \n",
       "\n",
       "                                               Élément              Produit  \\\n",
       "651                                         Production  Viande de Volailles   \n",
       "652                            Importations - Quantité  Viande de Volailles   \n",
       "658  Disponibilité alimentaire en quantité (kg/pers...  Viande de Volailles   \n",
       "659     Disponibilité alimentaire (Kcal/personne/jour)  Viande de Volailles   \n",
       "660  Disponibilité de protéines en quantité (g/pers...  Viande de Volailles   \n",
       "\n",
       "     Valeur  \n",
       "651   28.00  \n",
       "652   29.00  \n",
       "658    1.53  \n",
       "659    5.00  \n",
       "660    0.54  "
      ]
     },
     "execution_count": 75,
     "metadata": {},
     "output_type": "execute_result"
    }
   ],
   "source": [
    "dispo_suppr = (\n",
    "       'Disponibilité intérieure', 'Pertes', 'Résidus', 'Nourriture',\n",
    "       'Disponibilité de matière grasse en quantité (g/personne/jour)',\n",
    "        'Alimentation pour touristes',\n",
    "       'Traitement', 'Autres utilisations (non alimentaire)',\n",
    "       'Aliments pour animaux', 'Semences', 'Variation de stock')\n",
    "dispo_alimentaire = dispo_alimentaire[~dispo_alimentaire[\"Élément\"].isin(dispo_suppr)]\n",
    "dispo_alimentaire.head()"
   ]
  },
  {
   "cell_type": "code",
   "execution_count": 76,
   "metadata": {},
   "outputs": [
    {
     "data": {
      "application/vnd.microsoft.datawrangler.viewer.v0+json": {
       "columns": [
        {
         "name": "index",
         "rawType": "int64",
         "type": "integer"
        },
        {
         "name": "Pays",
         "rawType": "object",
         "type": "string"
        },
        {
         "name": "Code zone",
         "rawType": "int64",
         "type": "integer"
        },
        {
         "name": "Disponibilité alimentaire (Kcal/personne/jour)",
         "rawType": "float64",
         "type": "float"
        },
        {
         "name": "Disponibilité alimentaire en quantité (kg/personne/an)",
         "rawType": "float64",
         "type": "float"
        },
        {
         "name": "Disponibilité de protéines en quantité (g/personne/jour)",
         "rawType": "float64",
         "type": "float"
        },
        {
         "name": "Exportations - Quantité",
         "rawType": "float64",
         "type": "float"
        },
        {
         "name": "Importations - Quantité",
         "rawType": "float64",
         "type": "float"
        },
        {
         "name": "Production",
         "rawType": "float64",
         "type": "float"
        }
       ],
       "conversionMethod": "pd.DataFrame",
       "ref": "59d341b6-4090-4c94-8e25-c38f0b48633b",
       "rows": [
        [
         "0",
         "Afghanistan",
         "2",
         "5.0",
         "1.53",
         "0.54",
         null,
         "29.0",
         "28.0"
        ],
        [
         "1",
         "Afrique du Sud",
         "202",
         "143.0",
         "35.69",
         "14.11",
         "63.0",
         "514.0",
         "1667.0"
        ],
        [
         "2",
         "Albanie",
         "3",
         "85.0",
         "16.36",
         "6.26",
         "0.0",
         "38.0",
         "13.0"
        ],
        [
         "3",
         "Algérie",
         "4",
         "22.0",
         "6.38",
         "1.97",
         "0.0",
         "2.0",
         "275.0"
        ],
        [
         "4",
         "Allemagne",
         "79",
         "71.0",
         "19.47",
         "7.96",
         "646.0",
         "842.0",
         "1514.0"
        ]
       ],
       "shape": {
        "columns": 8,
        "rows": 5
       }
      },
      "text/html": [
       "<div>\n",
       "<style scoped>\n",
       "    .dataframe tbody tr th:only-of-type {\n",
       "        vertical-align: middle;\n",
       "    }\n",
       "\n",
       "    .dataframe tbody tr th {\n",
       "        vertical-align: top;\n",
       "    }\n",
       "\n",
       "    .dataframe thead th {\n",
       "        text-align: right;\n",
       "    }\n",
       "</style>\n",
       "<table border=\"1\" class=\"dataframe\">\n",
       "  <thead>\n",
       "    <tr style=\"text-align: right;\">\n",
       "      <th></th>\n",
       "      <th>Pays</th>\n",
       "      <th>Code zone</th>\n",
       "      <th>Disponibilité alimentaire (Kcal/personne/jour)</th>\n",
       "      <th>Disponibilité alimentaire en quantité (kg/personne/an)</th>\n",
       "      <th>Disponibilité de protéines en quantité (g/personne/jour)</th>\n",
       "      <th>Exportations - Quantité</th>\n",
       "      <th>Importations - Quantité</th>\n",
       "      <th>Production</th>\n",
       "    </tr>\n",
       "  </thead>\n",
       "  <tbody>\n",
       "    <tr>\n",
       "      <th>0</th>\n",
       "      <td>Afghanistan</td>\n",
       "      <td>2</td>\n",
       "      <td>5.0</td>\n",
       "      <td>1.53</td>\n",
       "      <td>0.54</td>\n",
       "      <td>NaN</td>\n",
       "      <td>29.0</td>\n",
       "      <td>28.0</td>\n",
       "    </tr>\n",
       "    <tr>\n",
       "      <th>1</th>\n",
       "      <td>Afrique du Sud</td>\n",
       "      <td>202</td>\n",
       "      <td>143.0</td>\n",
       "      <td>35.69</td>\n",
       "      <td>14.11</td>\n",
       "      <td>63.0</td>\n",
       "      <td>514.0</td>\n",
       "      <td>1667.0</td>\n",
       "    </tr>\n",
       "    <tr>\n",
       "      <th>2</th>\n",
       "      <td>Albanie</td>\n",
       "      <td>3</td>\n",
       "      <td>85.0</td>\n",
       "      <td>16.36</td>\n",
       "      <td>6.26</td>\n",
       "      <td>0.0</td>\n",
       "      <td>38.0</td>\n",
       "      <td>13.0</td>\n",
       "    </tr>\n",
       "    <tr>\n",
       "      <th>3</th>\n",
       "      <td>Algérie</td>\n",
       "      <td>4</td>\n",
       "      <td>22.0</td>\n",
       "      <td>6.38</td>\n",
       "      <td>1.97</td>\n",
       "      <td>0.0</td>\n",
       "      <td>2.0</td>\n",
       "      <td>275.0</td>\n",
       "    </tr>\n",
       "    <tr>\n",
       "      <th>4</th>\n",
       "      <td>Allemagne</td>\n",
       "      <td>79</td>\n",
       "      <td>71.0</td>\n",
       "      <td>19.47</td>\n",
       "      <td>7.96</td>\n",
       "      <td>646.0</td>\n",
       "      <td>842.0</td>\n",
       "      <td>1514.0</td>\n",
       "    </tr>\n",
       "  </tbody>\n",
       "</table>\n",
       "</div>"
      ],
      "text/plain": [
       "             Pays  Code zone  Disponibilité alimentaire (Kcal/personne/jour)  \\\n",
       "0     Afghanistan          2                                             5.0   \n",
       "1  Afrique du Sud        202                                           143.0   \n",
       "2         Albanie          3                                            85.0   \n",
       "3         Algérie          4                                            22.0   \n",
       "4       Allemagne         79                                            71.0   \n",
       "\n",
       "   Disponibilité alimentaire en quantité (kg/personne/an)  \\\n",
       "0                                               1.53        \n",
       "1                                              35.69        \n",
       "2                                              16.36        \n",
       "3                                               6.38        \n",
       "4                                              19.47        \n",
       "\n",
       "   Disponibilité de protéines en quantité (g/personne/jour)  \\\n",
       "0                                               0.54          \n",
       "1                                              14.11          \n",
       "2                                               6.26          \n",
       "3                                               1.97          \n",
       "4                                               7.96          \n",
       "\n",
       "   Exportations - Quantité  Importations - Quantité  Production  \n",
       "0                      NaN                     29.0        28.0  \n",
       "1                     63.0                    514.0      1667.0  \n",
       "2                      0.0                     38.0        13.0  \n",
       "3                      0.0                      2.0       275.0  \n",
       "4                    646.0                    842.0      1514.0  "
      ]
     },
     "execution_count": 76,
     "metadata": {},
     "output_type": "execute_result"
    }
   ],
   "source": [
    "dispo_alimentaire = pd.pivot(dispo_alimentaire, index=['Zone', 'Code zone'], columns=['Élément'], values=['Valeur'])\n",
    "dispo_alimentaire.columns = [col[1] for col in dispo_alimentaire.columns]\n",
    "dispo_alimentaire = dispo_alimentaire.reset_index()\n",
    "dispo_alimentaire = dispo_alimentaire.rename(columns={'Zone': 'Pays'})\n",
    "dispo_alimentaire.head()"
   ]
  },
  {
   "cell_type": "code",
   "execution_count": 77,
   "metadata": {},
   "outputs": [
    {
     "data": {
      "text/plain": [
       "Pays                                                         0\n",
       "Code zone                                                    0\n",
       "Disponibilité alimentaire (Kcal/personne/jour)               0\n",
       "Disponibilité alimentaire en quantité (kg/personne/an)       0\n",
       "Disponibilité de protéines en quantité (g/personne/jour)     0\n",
       "Exportations - Quantité                                     37\n",
       "Importations - Quantité                                      2\n",
       "Production                                                   4\n",
       "dtype: int64"
      ]
     },
     "execution_count": 77,
     "metadata": {},
     "output_type": "execute_result"
    }
   ],
   "source": [
    "dispo_alimentaire.isna().sum()"
   ]
  },
  {
   "cell_type": "code",
   "execution_count": 78,
   "metadata": {},
   "outputs": [
    {
     "name": "stdout",
     "output_type": "stream",
     "text": [
      "                                      Pays  Code zone  \\\n",
      "0                              Afghanistan          2   \n",
      "13                                 Bahamas         12   \n",
      "14                              Bangladesh         16   \n",
      "23                            Burkina Faso        233   \n",
      "26                              Cabo Verde         35   \n",
      "27                                Cambodge        115   \n",
      "40                                    Cuba         49   \n",
      "43                                Djibouti         72   \n",
      "54                                  Gambie         75   \n",
      "56                                 Grenade         86   \n",
      "59                                  Guinée         90   \n",
      "60                           Guinée-Bissau        175   \n",
      "63                                   Haïti         93   \n",
      "80                                Kiribati         83   \n",
      "89                              Madagascar        129   \n",
      "91                                  Malawi        130   \n",
      "92                                Maldives        132   \n",
      "93                                    Mali        133   \n",
      "97                              Mauritanie        136   \n",
      "99                                Mongolie        141   \n",
      "101                             Mozambique        144   \n",
      "108                     Nouvelle-Calédonie        153   \n",
      "110                                  Népal        149   \n",
      "113                            Ouzbékistan        235   \n",
      "126              République centrafricaine         37   \n",
      "130  République démocratique populaire lao        120   \n",
      "132            République-Unie de Tanzanie        215   \n",
      "134        Saint-Vincent-et-les Grenadines        191   \n",
      "135                           Sainte-Lucie        189   \n",
      "137                   Sao Tomé-et-Principe        193   \n",
      "142                                 Soudan        276   \n",
      "148                            Tadjikistan        208   \n",
      "152                            Timor-Leste        176   \n",
      "156                           Turkménistan        213   \n",
      "160                                Vanuatu        155   \n",
      "165                               Zimbabwe        181   \n",
      "170                               Éthiopie        238   \n",
      "\n",
      "     Disponibilité alimentaire (Kcal/personne/jour)  \\\n",
      "0                                               5.0   \n",
      "13                                            182.0   \n",
      "14                                              7.0   \n",
      "23                                              8.0   \n",
      "26                                             62.0   \n",
      "27                                             11.0   \n",
      "40                                             82.0   \n",
      "43                                              9.0   \n",
      "54                                             12.0   \n",
      "56                                            192.0   \n",
      "59                                             14.0   \n",
      "60                                              7.0   \n",
      "63                                             31.0   \n",
      "80                                             63.0   \n",
      "89                                             14.0   \n",
      "91                                             17.0   \n",
      "92                                             47.0   \n",
      "93                                              9.0   \n",
      "97                                             11.0   \n",
      "99                                              9.0   \n",
      "101                                            13.0   \n",
      "108                                           136.0   \n",
      "110                                             7.0   \n",
      "113                                             6.0   \n",
      "126                                             8.0   \n",
      "130                                            41.0   \n",
      "132                                             6.0   \n",
      "134                                           243.0   \n",
      "135                                           241.0   \n",
      "137                                            33.0   \n",
      "142                                             5.0   \n",
      "148                                            18.0   \n",
      "152                                            14.0   \n",
      "156                                            15.0   \n",
      "160                                            40.0   \n",
      "165                                            16.0   \n",
      "170                                             0.0   \n",
      "\n",
      "     Disponibilité alimentaire en quantité (kg/personne/an)  \\\n",
      "0                                                 1.53        \n",
      "13                                               43.17        \n",
      "14                                                1.50        \n",
      "23                                                2.27        \n",
      "26                                               17.62        \n",
      "27                                                2.34        \n",
      "40                                               23.72        \n",
      "43                                                2.68        \n",
      "54                                                3.53        \n",
      "56                                               45.70        \n",
      "59                                                4.08        \n",
      "60                                                2.16        \n",
      "63                                                8.91        \n",
      "80                                               17.98        \n",
      "89                                                2.87        \n",
      "91                                                5.17        \n",
      "92                                               13.50        \n",
      "93                                                2.83        \n",
      "97                                                5.14        \n",
      "99                                                2.77        \n",
      "101                                               3.59        \n",
      "108                                              38.71        \n",
      "110                                               1.99        \n",
      "113                                               1.96        \n",
      "126                                               2.29        \n",
      "130                                              10.91        \n",
      "132                                               1.88        \n",
      "134                                              72.31        \n",
      "135                                              56.69        \n",
      "137                                               9.47        \n",
      "142                                               1.60        \n",
      "148                                               4.45        \n",
      "152                                               4.24        \n",
      "156                                               4.52        \n",
      "160                                              11.66        \n",
      "165                                               4.68        \n",
      "170                                               0.13        \n",
      "\n",
      "     Disponibilité de protéines en quantité (g/personne/jour)  \\\n",
      "0                                                 0.54          \n",
      "13                                               14.61          \n",
      "14                                                0.47          \n",
      "23                                                0.77          \n",
      "26                                                6.52          \n",
      "27                                                0.74          \n",
      "40                                                7.12          \n",
      "43                                                0.92          \n",
      "54                                                1.24          \n",
      "56                                               15.50          \n",
      "59                                                1.42          \n",
      "60                                                0.74          \n",
      "63                                                2.75          \n",
      "80                                                6.65          \n",
      "89                                                0.97          \n",
      "91                                                1.74          \n",
      "92                                                4.70          \n",
      "93                                                0.96          \n",
      "97                                                1.59          \n",
      "99                                                0.95          \n",
      "101                                               1.20          \n",
      "108                                              14.05          \n",
      "110                                               0.67          \n",
      "113                                               0.63          \n",
      "126                                               0.78          \n",
      "130                                               3.59          \n",
      "132                                               0.63          \n",
      "134                                              25.10          \n",
      "135                                              19.00          \n",
      "137                                               3.21          \n",
      "142                                               0.54          \n",
      "148                                               1.45          \n",
      "152                                               1.46          \n",
      "156                                               1.53          \n",
      "160                                               4.05          \n",
      "165                                               1.59          \n",
      "170                                               0.04          \n",
      "\n",
      "     Exportations - Quantité  Importations - Quantité  Production  \n",
      "0                        NaN                     29.0        28.0  \n",
      "13                       NaN                     24.0         6.0  \n",
      "14                       NaN                      0.0       249.0  \n",
      "23                       NaN                      0.0        46.0  \n",
      "26                       NaN                     12.0         1.0  \n",
      "27                       NaN                     10.0        28.0  \n",
      "40                       NaN                    312.0        29.0  \n",
      "43                       NaN                      3.0         NaN  \n",
      "54                       NaN                     16.0         2.0  \n",
      "56                       NaN                      7.0         1.0  \n",
      "59                       NaN                     37.0        13.0  \n",
      "60                       NaN                      4.0         3.0  \n",
      "63                       NaN                     89.0         9.0  \n",
      "80                       NaN                      1.0         1.0  \n",
      "89                       NaN                      0.0        81.0  \n",
      "91                       NaN                      0.0       130.0  \n",
      "92                       NaN                     12.0         NaN  \n",
      "93                       NaN                      1.0        48.0  \n",
      "97                       NaN                     24.0         5.0  \n",
      "99                       NaN                     10.0         0.0  \n",
      "101                      NaN                     24.0        92.0  \n",
      "108                      NaN                      9.0         1.0  \n",
      "110                      NaN                      0.0        58.0  \n",
      "113                      NaN                      NaN         NaN  \n",
      "126                      NaN                      4.0         7.0  \n",
      "130                      NaN                      NaN         NaN  \n",
      "132                      NaN                      2.0       105.0  \n",
      "134                      NaN                      9.0         0.0  \n",
      "135                      NaN                     10.0         1.0  \n",
      "137                      NaN                      2.0         1.0  \n",
      "142                      NaN                      2.0        67.0  \n",
      "148                      NaN                     38.0         2.0  \n",
      "152                      NaN                     11.0         1.0  \n",
      "156                      NaN                      9.0        20.0  \n",
      "160                      NaN                      4.0         1.0  \n",
      "165                      NaN                      6.0        69.0  \n",
      "170                      NaN                      1.0        14.0  \n"
     ]
    }
   ],
   "source": [
    "dispo_na = dispo_alimentaire[dispo_alimentaire.isna().any(axis=1)]\n",
    "print(dispo_na)"
   ]
  },
  {
   "cell_type": "code",
   "execution_count": 79,
   "metadata": {},
   "outputs": [
    {
     "data": {
      "application/vnd.microsoft.datawrangler.viewer.v0+json": {
       "columns": [
        {
         "name": "index",
         "rawType": "int64",
         "type": "integer"
        },
        {
         "name": "Pays",
         "rawType": "object",
         "type": "string"
        },
        {
         "name": "Code zone",
         "rawType": "int64",
         "type": "integer"
        },
        {
         "name": "Disponibilité alimentaire (Kcal/personne/jour)",
         "rawType": "float64",
         "type": "float"
        },
        {
         "name": "Disponibilité alimentaire en quantité (kg/personne/an)",
         "rawType": "float64",
         "type": "float"
        },
        {
         "name": "Disponibilité de protéines en quantité (g/personne/jour)",
         "rawType": "float64",
         "type": "float"
        },
        {
         "name": "Exportations - Quantité",
         "rawType": "float64",
         "type": "float"
        },
        {
         "name": "Importations - Quantité",
         "rawType": "float64",
         "type": "float"
        },
        {
         "name": "Production",
         "rawType": "float64",
         "type": "float"
        }
       ],
       "conversionMethod": "pd.DataFrame",
       "ref": "a643ecf5-815d-4c20-b25c-5540594af721",
       "rows": [
        [
         "0",
         "Afghanistan",
         "2",
         "5.0",
         "1.53",
         "0.54",
         "0.0",
         "29.0",
         "28.0"
        ],
        [
         "1",
         "Afrique du Sud",
         "202",
         "143.0",
         "35.69",
         "14.11",
         "63.0",
         "514.0",
         "1667.0"
        ],
        [
         "2",
         "Albanie",
         "3",
         "85.0",
         "16.36",
         "6.26",
         "0.0",
         "38.0",
         "13.0"
        ],
        [
         "3",
         "Algérie",
         "4",
         "22.0",
         "6.38",
         "1.97",
         "0.0",
         "2.0",
         "275.0"
        ],
        [
         "4",
         "Allemagne",
         "79",
         "71.0",
         "19.47",
         "7.96",
         "646.0",
         "842.0",
         "1514.0"
        ]
       ],
       "shape": {
        "columns": 8,
        "rows": 5
       }
      },
      "text/html": [
       "<div>\n",
       "<style scoped>\n",
       "    .dataframe tbody tr th:only-of-type {\n",
       "        vertical-align: middle;\n",
       "    }\n",
       "\n",
       "    .dataframe tbody tr th {\n",
       "        vertical-align: top;\n",
       "    }\n",
       "\n",
       "    .dataframe thead th {\n",
       "        text-align: right;\n",
       "    }\n",
       "</style>\n",
       "<table border=\"1\" class=\"dataframe\">\n",
       "  <thead>\n",
       "    <tr style=\"text-align: right;\">\n",
       "      <th></th>\n",
       "      <th>Pays</th>\n",
       "      <th>Code zone</th>\n",
       "      <th>Disponibilité alimentaire (Kcal/personne/jour)</th>\n",
       "      <th>Disponibilité alimentaire en quantité (kg/personne/an)</th>\n",
       "      <th>Disponibilité de protéines en quantité (g/personne/jour)</th>\n",
       "      <th>Exportations - Quantité</th>\n",
       "      <th>Importations - Quantité</th>\n",
       "      <th>Production</th>\n",
       "    </tr>\n",
       "  </thead>\n",
       "  <tbody>\n",
       "    <tr>\n",
       "      <th>0</th>\n",
       "      <td>Afghanistan</td>\n",
       "      <td>2</td>\n",
       "      <td>5.0</td>\n",
       "      <td>1.53</td>\n",
       "      <td>0.54</td>\n",
       "      <td>0.0</td>\n",
       "      <td>29.0</td>\n",
       "      <td>28.0</td>\n",
       "    </tr>\n",
       "    <tr>\n",
       "      <th>1</th>\n",
       "      <td>Afrique du Sud</td>\n",
       "      <td>202</td>\n",
       "      <td>143.0</td>\n",
       "      <td>35.69</td>\n",
       "      <td>14.11</td>\n",
       "      <td>63.0</td>\n",
       "      <td>514.0</td>\n",
       "      <td>1667.0</td>\n",
       "    </tr>\n",
       "    <tr>\n",
       "      <th>2</th>\n",
       "      <td>Albanie</td>\n",
       "      <td>3</td>\n",
       "      <td>85.0</td>\n",
       "      <td>16.36</td>\n",
       "      <td>6.26</td>\n",
       "      <td>0.0</td>\n",
       "      <td>38.0</td>\n",
       "      <td>13.0</td>\n",
       "    </tr>\n",
       "    <tr>\n",
       "      <th>3</th>\n",
       "      <td>Algérie</td>\n",
       "      <td>4</td>\n",
       "      <td>22.0</td>\n",
       "      <td>6.38</td>\n",
       "      <td>1.97</td>\n",
       "      <td>0.0</td>\n",
       "      <td>2.0</td>\n",
       "      <td>275.0</td>\n",
       "    </tr>\n",
       "    <tr>\n",
       "      <th>4</th>\n",
       "      <td>Allemagne</td>\n",
       "      <td>79</td>\n",
       "      <td>71.0</td>\n",
       "      <td>19.47</td>\n",
       "      <td>7.96</td>\n",
       "      <td>646.0</td>\n",
       "      <td>842.0</td>\n",
       "      <td>1514.0</td>\n",
       "    </tr>\n",
       "  </tbody>\n",
       "</table>\n",
       "</div>"
      ],
      "text/plain": [
       "             Pays  Code zone  Disponibilité alimentaire (Kcal/personne/jour)  \\\n",
       "0     Afghanistan          2                                             5.0   \n",
       "1  Afrique du Sud        202                                           143.0   \n",
       "2         Albanie          3                                            85.0   \n",
       "3         Algérie          4                                            22.0   \n",
       "4       Allemagne         79                                            71.0   \n",
       "\n",
       "   Disponibilité alimentaire en quantité (kg/personne/an)  \\\n",
       "0                                               1.53        \n",
       "1                                              35.69        \n",
       "2                                              16.36        \n",
       "3                                               6.38        \n",
       "4                                              19.47        \n",
       "\n",
       "   Disponibilité de protéines en quantité (g/personne/jour)  \\\n",
       "0                                               0.54          \n",
       "1                                              14.11          \n",
       "2                                               6.26          \n",
       "3                                               1.97          \n",
       "4                                               7.96          \n",
       "\n",
       "   Exportations - Quantité  Importations - Quantité  Production  \n",
       "0                      0.0                     29.0        28.0  \n",
       "1                     63.0                    514.0      1667.0  \n",
       "2                      0.0                     38.0        13.0  \n",
       "3                      0.0                      2.0       275.0  \n",
       "4                    646.0                    842.0      1514.0  "
      ]
     },
     "execution_count": 79,
     "metadata": {},
     "output_type": "execute_result"
    }
   ],
   "source": [
    "#Remplacement des Nan par 0 plutôt que supprimer les lignes\n",
    "dispo_alimentaire = dispo_alimentaire.fillna(0)\n",
    "dispo_alimentaire.head()\n"
   ]
  },
  {
   "cell_type": "markdown",
   "metadata": {},
   "source": [
    "# Clean population"
   ]
  },
  {
   "cell_type": "code",
   "execution_count": 80,
   "metadata": {},
   "outputs": [
    {
     "data": {
      "application/vnd.microsoft.datawrangler.viewer.v0+json": {
       "columns": [
        {
         "name": "index",
         "rawType": "int64",
         "type": "integer"
        },
        {
         "name": "Code Domaine",
         "rawType": "object",
         "type": "string"
        },
        {
         "name": "Domaine",
         "rawType": "object",
         "type": "string"
        },
        {
         "name": "Code zone",
         "rawType": "int64",
         "type": "integer"
        },
        {
         "name": "Zone",
         "rawType": "object",
         "type": "string"
        },
        {
         "name": "Code Élément",
         "rawType": "int64",
         "type": "integer"
        },
        {
         "name": "Élément",
         "rawType": "object",
         "type": "string"
        },
        {
         "name": "Code Produit",
         "rawType": "int64",
         "type": "integer"
        },
        {
         "name": "Produit",
         "rawType": "object",
         "type": "string"
        },
        {
         "name": "Code année",
         "rawType": "int64",
         "type": "integer"
        },
        {
         "name": "Année",
         "rawType": "int64",
         "type": "integer"
        },
        {
         "name": "Unité",
         "rawType": "object",
         "type": "string"
        },
        {
         "name": "Valeur",
         "rawType": "float64",
         "type": "float"
        },
        {
         "name": "Symbole",
         "rawType": "object",
         "type": "string"
        },
        {
         "name": "Description du Symbole",
         "rawType": "object",
         "type": "string"
        },
        {
         "name": "Note",
         "rawType": "object",
         "type": "unknown"
        }
       ],
       "conversionMethod": "pd.DataFrame",
       "ref": "6395b945-4e71-483c-bed9-40fa8ad732ad",
       "rows": [
        [
         "0",
         "OA",
         "Séries temporelles annuelles",
         "2",
         "Afghanistan",
         "511",
         "Population totale",
         "3010",
         "Population-Estimations",
         "2000",
         "2000",
         "1000 personnes",
         "20779.953",
         "X",
         "Sources internationales sûres",
         null
        ],
        [
         "1",
         "OA",
         "Séries temporelles annuelles",
         "2",
         "Afghanistan",
         "511",
         "Population totale",
         "3010",
         "Population-Estimations",
         "2001",
         "2001",
         "1000 personnes",
         "21606.988",
         "X",
         "Sources internationales sûres",
         null
        ],
        [
         "2",
         "OA",
         "Séries temporelles annuelles",
         "2",
         "Afghanistan",
         "511",
         "Population totale",
         "3010",
         "Population-Estimations",
         "2002",
         "2002",
         "1000 personnes",
         "22600.77",
         "X",
         "Sources internationales sûres",
         null
        ],
        [
         "3",
         "OA",
         "Séries temporelles annuelles",
         "2",
         "Afghanistan",
         "511",
         "Population totale",
         "3010",
         "Population-Estimations",
         "2003",
         "2003",
         "1000 personnes",
         "23680.871",
         "X",
         "Sources internationales sûres",
         null
        ],
        [
         "4",
         "OA",
         "Séries temporelles annuelles",
         "2",
         "Afghanistan",
         "511",
         "Population totale",
         "3010",
         "Population-Estimations",
         "2004",
         "2004",
         "1000 personnes",
         "24726.684",
         "X",
         "Sources internationales sûres",
         null
        ]
       ],
       "shape": {
        "columns": 15,
        "rows": 5
       }
      },
      "text/html": [
       "<div>\n",
       "<style scoped>\n",
       "    .dataframe tbody tr th:only-of-type {\n",
       "        vertical-align: middle;\n",
       "    }\n",
       "\n",
       "    .dataframe tbody tr th {\n",
       "        vertical-align: top;\n",
       "    }\n",
       "\n",
       "    .dataframe thead th {\n",
       "        text-align: right;\n",
       "    }\n",
       "</style>\n",
       "<table border=\"1\" class=\"dataframe\">\n",
       "  <thead>\n",
       "    <tr style=\"text-align: right;\">\n",
       "      <th></th>\n",
       "      <th>Code Domaine</th>\n",
       "      <th>Domaine</th>\n",
       "      <th>Code zone</th>\n",
       "      <th>Zone</th>\n",
       "      <th>Code Élément</th>\n",
       "      <th>Élément</th>\n",
       "      <th>Code Produit</th>\n",
       "      <th>Produit</th>\n",
       "      <th>Code année</th>\n",
       "      <th>Année</th>\n",
       "      <th>Unité</th>\n",
       "      <th>Valeur</th>\n",
       "      <th>Symbole</th>\n",
       "      <th>Description du Symbole</th>\n",
       "      <th>Note</th>\n",
       "    </tr>\n",
       "  </thead>\n",
       "  <tbody>\n",
       "    <tr>\n",
       "      <th>0</th>\n",
       "      <td>OA</td>\n",
       "      <td>Séries temporelles annuelles</td>\n",
       "      <td>2</td>\n",
       "      <td>Afghanistan</td>\n",
       "      <td>511</td>\n",
       "      <td>Population totale</td>\n",
       "      <td>3010</td>\n",
       "      <td>Population-Estimations</td>\n",
       "      <td>2000</td>\n",
       "      <td>2000</td>\n",
       "      <td>1000 personnes</td>\n",
       "      <td>20779.953</td>\n",
       "      <td>X</td>\n",
       "      <td>Sources internationales sûres</td>\n",
       "      <td>NaN</td>\n",
       "    </tr>\n",
       "    <tr>\n",
       "      <th>1</th>\n",
       "      <td>OA</td>\n",
       "      <td>Séries temporelles annuelles</td>\n",
       "      <td>2</td>\n",
       "      <td>Afghanistan</td>\n",
       "      <td>511</td>\n",
       "      <td>Population totale</td>\n",
       "      <td>3010</td>\n",
       "      <td>Population-Estimations</td>\n",
       "      <td>2001</td>\n",
       "      <td>2001</td>\n",
       "      <td>1000 personnes</td>\n",
       "      <td>21606.988</td>\n",
       "      <td>X</td>\n",
       "      <td>Sources internationales sûres</td>\n",
       "      <td>NaN</td>\n",
       "    </tr>\n",
       "    <tr>\n",
       "      <th>2</th>\n",
       "      <td>OA</td>\n",
       "      <td>Séries temporelles annuelles</td>\n",
       "      <td>2</td>\n",
       "      <td>Afghanistan</td>\n",
       "      <td>511</td>\n",
       "      <td>Population totale</td>\n",
       "      <td>3010</td>\n",
       "      <td>Population-Estimations</td>\n",
       "      <td>2002</td>\n",
       "      <td>2002</td>\n",
       "      <td>1000 personnes</td>\n",
       "      <td>22600.770</td>\n",
       "      <td>X</td>\n",
       "      <td>Sources internationales sûres</td>\n",
       "      <td>NaN</td>\n",
       "    </tr>\n",
       "    <tr>\n",
       "      <th>3</th>\n",
       "      <td>OA</td>\n",
       "      <td>Séries temporelles annuelles</td>\n",
       "      <td>2</td>\n",
       "      <td>Afghanistan</td>\n",
       "      <td>511</td>\n",
       "      <td>Population totale</td>\n",
       "      <td>3010</td>\n",
       "      <td>Population-Estimations</td>\n",
       "      <td>2003</td>\n",
       "      <td>2003</td>\n",
       "      <td>1000 personnes</td>\n",
       "      <td>23680.871</td>\n",
       "      <td>X</td>\n",
       "      <td>Sources internationales sûres</td>\n",
       "      <td>NaN</td>\n",
       "    </tr>\n",
       "    <tr>\n",
       "      <th>4</th>\n",
       "      <td>OA</td>\n",
       "      <td>Séries temporelles annuelles</td>\n",
       "      <td>2</td>\n",
       "      <td>Afghanistan</td>\n",
       "      <td>511</td>\n",
       "      <td>Population totale</td>\n",
       "      <td>3010</td>\n",
       "      <td>Population-Estimations</td>\n",
       "      <td>2004</td>\n",
       "      <td>2004</td>\n",
       "      <td>1000 personnes</td>\n",
       "      <td>24726.684</td>\n",
       "      <td>X</td>\n",
       "      <td>Sources internationales sûres</td>\n",
       "      <td>NaN</td>\n",
       "    </tr>\n",
       "  </tbody>\n",
       "</table>\n",
       "</div>"
      ],
      "text/plain": [
       "  Code Domaine                       Domaine  Code zone         Zone  \\\n",
       "0           OA  Séries temporelles annuelles          2  Afghanistan   \n",
       "1           OA  Séries temporelles annuelles          2  Afghanistan   \n",
       "2           OA  Séries temporelles annuelles          2  Afghanistan   \n",
       "3           OA  Séries temporelles annuelles          2  Afghanistan   \n",
       "4           OA  Séries temporelles annuelles          2  Afghanistan   \n",
       "\n",
       "   Code Élément            Élément  Code Produit                 Produit  \\\n",
       "0           511  Population totale          3010  Population-Estimations   \n",
       "1           511  Population totale          3010  Population-Estimations   \n",
       "2           511  Population totale          3010  Population-Estimations   \n",
       "3           511  Population totale          3010  Population-Estimations   \n",
       "4           511  Population totale          3010  Population-Estimations   \n",
       "\n",
       "   Code année  Année           Unité     Valeur Symbole  \\\n",
       "0        2000   2000  1000 personnes  20779.953       X   \n",
       "1        2001   2001  1000 personnes  21606.988       X   \n",
       "2        2002   2002  1000 personnes  22600.770       X   \n",
       "3        2003   2003  1000 personnes  23680.871       X   \n",
       "4        2004   2004  1000 personnes  24726.684       X   \n",
       "\n",
       "          Description du Symbole Note  \n",
       "0  Sources internationales sûres  NaN  \n",
       "1  Sources internationales sûres  NaN  \n",
       "2  Sources internationales sûres  NaN  \n",
       "3  Sources internationales sûres  NaN  \n",
       "4  Sources internationales sûres  NaN  "
      ]
     },
     "execution_count": 80,
     "metadata": {},
     "output_type": "execute_result"
    }
   ],
   "source": [
    "population.head()"
   ]
  },
  {
   "cell_type": "code",
   "execution_count": 81,
   "metadata": {},
   "outputs": [
    {
     "data": {
      "application/vnd.microsoft.datawrangler.viewer.v0+json": {
       "columns": [
        {
         "name": "index",
         "rawType": "int64",
         "type": "integer"
        },
        {
         "name": "Code Domaine",
         "rawType": "object",
         "type": "string"
        },
        {
         "name": "Domaine",
         "rawType": "object",
         "type": "string"
        },
        {
         "name": "Code zone",
         "rawType": "int64",
         "type": "integer"
        },
        {
         "name": "Zone",
         "rawType": "object",
         "type": "string"
        },
        {
         "name": "Code Élément",
         "rawType": "int64",
         "type": "integer"
        },
        {
         "name": "Élément",
         "rawType": "object",
         "type": "string"
        },
        {
         "name": "Code Produit",
         "rawType": "int64",
         "type": "integer"
        },
        {
         "name": "Produit",
         "rawType": "object",
         "type": "string"
        },
        {
         "name": "Code année",
         "rawType": "int64",
         "type": "integer"
        },
        {
         "name": "Année",
         "rawType": "int64",
         "type": "integer"
        },
        {
         "name": "Unité",
         "rawType": "object",
         "type": "string"
        },
        {
         "name": "Valeur",
         "rawType": "float64",
         "type": "float"
        },
        {
         "name": "Symbole",
         "rawType": "object",
         "type": "string"
        },
        {
         "name": "Description du Symbole",
         "rawType": "object",
         "type": "string"
        },
        {
         "name": "Note",
         "rawType": "object",
         "type": "unknown"
        }
       ],
       "conversionMethod": "pd.DataFrame",
       "ref": "6f9bb26c-146a-43d6-bc2d-90fb814cc78a",
       "rows": [
        [
         "17",
         "OA",
         "Séries temporelles annuelles",
         "2",
         "Afghanistan",
         "511",
         "Population totale",
         "3010",
         "Population-Estimations",
         "2017",
         "2017",
         "1000 personnes",
         "36296.113",
         "X",
         "Sources internationales sûres",
         null
        ],
        [
         "36",
         "OA",
         "Séries temporelles annuelles",
         "202",
         "Afrique du Sud",
         "511",
         "Population totale",
         "3010",
         "Population-Estimations",
         "2017",
         "2017",
         "1000 personnes",
         "57009.756",
         "X",
         "Sources internationales sûres",
         null
        ],
        [
         "55",
         "OA",
         "Séries temporelles annuelles",
         "3",
         "Albanie",
         "511",
         "Population totale",
         "3010",
         "Population-Estimations",
         "2017",
         "2017",
         "1000 personnes",
         "2884.169",
         "X",
         "Sources internationales sûres",
         null
        ],
        [
         "74",
         "OA",
         "Séries temporelles annuelles",
         "4",
         "Algérie",
         "511",
         "Population totale",
         "3010",
         "Population-Estimations",
         "2017",
         "2017",
         "1000 personnes",
         "41389.189",
         "X",
         "Sources internationales sûres",
         null
        ],
        [
         "93",
         "OA",
         "Séries temporelles annuelles",
         "79",
         "Allemagne",
         "511",
         "Population totale",
         "3010",
         "Population-Estimations",
         "2017",
         "2017",
         "1000 personnes",
         "82658.409",
         "X",
         "Sources internationales sûres",
         null
        ]
       ],
       "shape": {
        "columns": 15,
        "rows": 5
       }
      },
      "text/html": [
       "<div>\n",
       "<style scoped>\n",
       "    .dataframe tbody tr th:only-of-type {\n",
       "        vertical-align: middle;\n",
       "    }\n",
       "\n",
       "    .dataframe tbody tr th {\n",
       "        vertical-align: top;\n",
       "    }\n",
       "\n",
       "    .dataframe thead th {\n",
       "        text-align: right;\n",
       "    }\n",
       "</style>\n",
       "<table border=\"1\" class=\"dataframe\">\n",
       "  <thead>\n",
       "    <tr style=\"text-align: right;\">\n",
       "      <th></th>\n",
       "      <th>Code Domaine</th>\n",
       "      <th>Domaine</th>\n",
       "      <th>Code zone</th>\n",
       "      <th>Zone</th>\n",
       "      <th>Code Élément</th>\n",
       "      <th>Élément</th>\n",
       "      <th>Code Produit</th>\n",
       "      <th>Produit</th>\n",
       "      <th>Code année</th>\n",
       "      <th>Année</th>\n",
       "      <th>Unité</th>\n",
       "      <th>Valeur</th>\n",
       "      <th>Symbole</th>\n",
       "      <th>Description du Symbole</th>\n",
       "      <th>Note</th>\n",
       "    </tr>\n",
       "  </thead>\n",
       "  <tbody>\n",
       "    <tr>\n",
       "      <th>17</th>\n",
       "      <td>OA</td>\n",
       "      <td>Séries temporelles annuelles</td>\n",
       "      <td>2</td>\n",
       "      <td>Afghanistan</td>\n",
       "      <td>511</td>\n",
       "      <td>Population totale</td>\n",
       "      <td>3010</td>\n",
       "      <td>Population-Estimations</td>\n",
       "      <td>2017</td>\n",
       "      <td>2017</td>\n",
       "      <td>1000 personnes</td>\n",
       "      <td>36296.113</td>\n",
       "      <td>X</td>\n",
       "      <td>Sources internationales sûres</td>\n",
       "      <td>NaN</td>\n",
       "    </tr>\n",
       "    <tr>\n",
       "      <th>36</th>\n",
       "      <td>OA</td>\n",
       "      <td>Séries temporelles annuelles</td>\n",
       "      <td>202</td>\n",
       "      <td>Afrique du Sud</td>\n",
       "      <td>511</td>\n",
       "      <td>Population totale</td>\n",
       "      <td>3010</td>\n",
       "      <td>Population-Estimations</td>\n",
       "      <td>2017</td>\n",
       "      <td>2017</td>\n",
       "      <td>1000 personnes</td>\n",
       "      <td>57009.756</td>\n",
       "      <td>X</td>\n",
       "      <td>Sources internationales sûres</td>\n",
       "      <td>NaN</td>\n",
       "    </tr>\n",
       "    <tr>\n",
       "      <th>55</th>\n",
       "      <td>OA</td>\n",
       "      <td>Séries temporelles annuelles</td>\n",
       "      <td>3</td>\n",
       "      <td>Albanie</td>\n",
       "      <td>511</td>\n",
       "      <td>Population totale</td>\n",
       "      <td>3010</td>\n",
       "      <td>Population-Estimations</td>\n",
       "      <td>2017</td>\n",
       "      <td>2017</td>\n",
       "      <td>1000 personnes</td>\n",
       "      <td>2884.169</td>\n",
       "      <td>X</td>\n",
       "      <td>Sources internationales sûres</td>\n",
       "      <td>NaN</td>\n",
       "    </tr>\n",
       "    <tr>\n",
       "      <th>74</th>\n",
       "      <td>OA</td>\n",
       "      <td>Séries temporelles annuelles</td>\n",
       "      <td>4</td>\n",
       "      <td>Algérie</td>\n",
       "      <td>511</td>\n",
       "      <td>Population totale</td>\n",
       "      <td>3010</td>\n",
       "      <td>Population-Estimations</td>\n",
       "      <td>2017</td>\n",
       "      <td>2017</td>\n",
       "      <td>1000 personnes</td>\n",
       "      <td>41389.189</td>\n",
       "      <td>X</td>\n",
       "      <td>Sources internationales sûres</td>\n",
       "      <td>NaN</td>\n",
       "    </tr>\n",
       "    <tr>\n",
       "      <th>93</th>\n",
       "      <td>OA</td>\n",
       "      <td>Séries temporelles annuelles</td>\n",
       "      <td>79</td>\n",
       "      <td>Allemagne</td>\n",
       "      <td>511</td>\n",
       "      <td>Population totale</td>\n",
       "      <td>3010</td>\n",
       "      <td>Population-Estimations</td>\n",
       "      <td>2017</td>\n",
       "      <td>2017</td>\n",
       "      <td>1000 personnes</td>\n",
       "      <td>82658.409</td>\n",
       "      <td>X</td>\n",
       "      <td>Sources internationales sûres</td>\n",
       "      <td>NaN</td>\n",
       "    </tr>\n",
       "  </tbody>\n",
       "</table>\n",
       "</div>"
      ],
      "text/plain": [
       "   Code Domaine                       Domaine  Code zone            Zone  \\\n",
       "17           OA  Séries temporelles annuelles          2     Afghanistan   \n",
       "36           OA  Séries temporelles annuelles        202  Afrique du Sud   \n",
       "55           OA  Séries temporelles annuelles          3         Albanie   \n",
       "74           OA  Séries temporelles annuelles          4         Algérie   \n",
       "93           OA  Séries temporelles annuelles         79       Allemagne   \n",
       "\n",
       "    Code Élément            Élément  Code Produit                 Produit  \\\n",
       "17           511  Population totale          3010  Population-Estimations   \n",
       "36           511  Population totale          3010  Population-Estimations   \n",
       "55           511  Population totale          3010  Population-Estimations   \n",
       "74           511  Population totale          3010  Population-Estimations   \n",
       "93           511  Population totale          3010  Population-Estimations   \n",
       "\n",
       "    Code année  Année           Unité     Valeur Symbole  \\\n",
       "17        2017   2017  1000 personnes  36296.113       X   \n",
       "36        2017   2017  1000 personnes  57009.756       X   \n",
       "55        2017   2017  1000 personnes   2884.169       X   \n",
       "74        2017   2017  1000 personnes  41389.189       X   \n",
       "93        2017   2017  1000 personnes  82658.409       X   \n",
       "\n",
       "           Description du Symbole Note  \n",
       "17  Sources internationales sûres  NaN  \n",
       "36  Sources internationales sûres  NaN  \n",
       "55  Sources internationales sûres  NaN  \n",
       "74  Sources internationales sûres  NaN  \n",
       "93  Sources internationales sûres  NaN  "
      ]
     },
     "execution_count": 81,
     "metadata": {},
     "output_type": "execute_result"
    }
   ],
   "source": [
    "population = population.loc[population['Année']== 2017 , :]\n",
    "population.head()"
   ]
  },
  {
   "cell_type": "code",
   "execution_count": 82,
   "metadata": {},
   "outputs": [
    {
     "data": {
      "text/plain": [
       "Code Domaine                0\n",
       "Domaine                     0\n",
       "Code zone                   0\n",
       "Zone                        0\n",
       "Code Élément                0\n",
       "Élément                     0\n",
       "Code Produit                0\n",
       "Produit                     0\n",
       "Code année                  0\n",
       "Année                       0\n",
       "Unité                       0\n",
       "Valeur                      0\n",
       "Symbole                     0\n",
       "Description du Symbole      0\n",
       "Note                      235\n",
       "dtype: int64"
      ]
     },
     "execution_count": 82,
     "metadata": {},
     "output_type": "execute_result"
    }
   ],
   "source": [
    "population.isna().sum()"
   ]
  },
  {
   "cell_type": "code",
   "execution_count": 83,
   "metadata": {},
   "outputs": [
    {
     "data": {
      "application/vnd.microsoft.datawrangler.viewer.v0+json": {
       "columns": [
        {
         "name": "index",
         "rawType": "int64",
         "type": "integer"
        },
        {
         "name": "Code zone",
         "rawType": "int64",
         "type": "integer"
        },
        {
         "name": "Pays",
         "rawType": "object",
         "type": "string"
        },
        {
         "name": "Population",
         "rawType": "float64",
         "type": "float"
        }
       ],
       "conversionMethod": "pd.DataFrame",
       "ref": "084ca58e-accf-4570-9fe0-5d189f77410e",
       "rows": [
        [
         "17",
         "2",
         "Afghanistan",
         "36296113.0"
        ],
        [
         "36",
         "202",
         "Afrique du Sud",
         "57009756.0"
        ],
        [
         "55",
         "3",
         "Albanie",
         "2884169.0"
        ],
        [
         "74",
         "4",
         "Algérie",
         "41389189.0"
        ],
        [
         "93",
         "79",
         "Allemagne",
         "82658409.0"
        ]
       ],
       "shape": {
        "columns": 3,
        "rows": 5
       }
      },
      "text/html": [
       "<div>\n",
       "<style scoped>\n",
       "    .dataframe tbody tr th:only-of-type {\n",
       "        vertical-align: middle;\n",
       "    }\n",
       "\n",
       "    .dataframe tbody tr th {\n",
       "        vertical-align: top;\n",
       "    }\n",
       "\n",
       "    .dataframe thead th {\n",
       "        text-align: right;\n",
       "    }\n",
       "</style>\n",
       "<table border=\"1\" class=\"dataframe\">\n",
       "  <thead>\n",
       "    <tr style=\"text-align: right;\">\n",
       "      <th></th>\n",
       "      <th>Code zone</th>\n",
       "      <th>Pays</th>\n",
       "      <th>Population</th>\n",
       "    </tr>\n",
       "  </thead>\n",
       "  <tbody>\n",
       "    <tr>\n",
       "      <th>17</th>\n",
       "      <td>2</td>\n",
       "      <td>Afghanistan</td>\n",
       "      <td>36296113.0</td>\n",
       "    </tr>\n",
       "    <tr>\n",
       "      <th>36</th>\n",
       "      <td>202</td>\n",
       "      <td>Afrique du Sud</td>\n",
       "      <td>57009756.0</td>\n",
       "    </tr>\n",
       "    <tr>\n",
       "      <th>55</th>\n",
       "      <td>3</td>\n",
       "      <td>Albanie</td>\n",
       "      <td>2884169.0</td>\n",
       "    </tr>\n",
       "    <tr>\n",
       "      <th>74</th>\n",
       "      <td>4</td>\n",
       "      <td>Algérie</td>\n",
       "      <td>41389189.0</td>\n",
       "    </tr>\n",
       "    <tr>\n",
       "      <th>93</th>\n",
       "      <td>79</td>\n",
       "      <td>Allemagne</td>\n",
       "      <td>82658409.0</td>\n",
       "    </tr>\n",
       "  </tbody>\n",
       "</table>\n",
       "</div>"
      ],
      "text/plain": [
       "    Code zone            Pays  Population\n",
       "17          2     Afghanistan  36296113.0\n",
       "36        202  Afrique du Sud  57009756.0\n",
       "55          3         Albanie   2884169.0\n",
       "74          4         Algérie  41389189.0\n",
       "93         79       Allemagne  82658409.0"
      ]
     },
     "execution_count": 83,
     "metadata": {},
     "output_type": "execute_result"
    }
   ],
   "source": [
    "population.drop(['Code Domaine', 'Code Élément', 'Code Produit', 'Domaine', 'Code année', 'Année', 'Symbole',\n",
    "                         'Description du Symbole', 'Unité', 'Note', 'Élément', 'Produit'], axis=1, inplace = True)\n",
    "population['Valeur'] = population['Valeur']*1000\n",
    "population = population.rename(columns={'Valeur':'Population', 'Zone':'Pays'})\n",
    "population.head()"
   ]
  },
  {
   "cell_type": "markdown",
   "metadata": {},
   "source": [
    "# Clean indicateurs_macro"
   ]
  },
  {
   "cell_type": "code",
   "execution_count": 84,
   "metadata": {},
   "outputs": [
    {
     "data": {
      "application/vnd.microsoft.datawrangler.viewer.v0+json": {
       "columns": [
        {
         "name": "index",
         "rawType": "int64",
         "type": "integer"
        },
        {
         "name": "Code Domaine",
         "rawType": "object",
         "type": "string"
        },
        {
         "name": "Domaine",
         "rawType": "object",
         "type": "string"
        },
        {
         "name": "Code zone (M49)",
         "rawType": "int64",
         "type": "integer"
        },
        {
         "name": "Zone",
         "rawType": "object",
         "type": "string"
        },
        {
         "name": "Code Élément",
         "rawType": "int64",
         "type": "integer"
        },
        {
         "name": "Élément",
         "rawType": "object",
         "type": "string"
        },
        {
         "name": "Code Produit",
         "rawType": "int64",
         "type": "integer"
        },
        {
         "name": "Produit",
         "rawType": "object",
         "type": "string"
        },
        {
         "name": "Code année",
         "rawType": "int64",
         "type": "integer"
        },
        {
         "name": "Année",
         "rawType": "int64",
         "type": "integer"
        },
        {
         "name": "Unité",
         "rawType": "object",
         "type": "string"
        },
        {
         "name": "Valeur",
         "rawType": "float64",
         "type": "float"
        },
        {
         "name": "Symbole",
         "rawType": "object",
         "type": "string"
        },
        {
         "name": "Description du Symbole",
         "rawType": "object",
         "type": "string"
        },
        {
         "name": "Note",
         "rawType": "float64",
         "type": "float"
        }
       ],
       "conversionMethod": "pd.DataFrame",
       "ref": "816175f2-bc6a-46c7-9e40-a59dfde2584b",
       "rows": [
        [
         "0",
         "MK",
         "Indicateurs macro",
         "4",
         "Afghanistan",
         "6110",
         "Valeur US $",
         "22008",
         "Produit Intérieur Brut",
         "2017",
         "2017",
         "Millions d’USD",
         "19034.30282",
         "X",
         "Ciffre de sources internationales",
         null
        ],
        [
         "1",
         "MK",
         "Indicateurs macro",
         "4",
         "Afghanistan",
         "6129",
         "Croissance annuelle US$",
         "22008",
         "Produit Intérieur Brut",
         "2017",
         "2017",
         "%",
         "4.444345",
         "X",
         "Ciffre de sources internationales",
         null
        ],
        [
         "2",
         "MK",
         "Indicateurs macro",
         "4",
         "Afghanistan",
         "6110",
         "Valeur US $",
         "22016",
         "Valeur ajoutée (agriculture, sylviculture et pêche)",
         "2017",
         "2017",
         "Millions d’USD",
         "4839.052802",
         "X",
         "Ciffre de sources internationales",
         null
        ],
        [
         "3",
         "MK",
         "Indicateurs macro",
         "4",
         "Afghanistan",
         "6103",
         "Part du PIB US $",
         "22016",
         "Valeur ajoutée (agriculture, sylviculture et pêche)",
         "2017",
         "2017",
         "%",
         "25.4228",
         "X",
         "Ciffre de sources internationales",
         null
        ],
        [
         "4",
         "MK",
         "Indicateurs macro",
         "4",
         "Afghanistan",
         "6129",
         "Croissance annuelle US$",
         "22016",
         "Valeur ajoutée (agriculture, sylviculture et pêche)",
         "2017",
         "2017",
         "%",
         "2.530518",
         "X",
         "Ciffre de sources internationales",
         null
        ]
       ],
       "shape": {
        "columns": 15,
        "rows": 5
       }
      },
      "text/html": [
       "<div>\n",
       "<style scoped>\n",
       "    .dataframe tbody tr th:only-of-type {\n",
       "        vertical-align: middle;\n",
       "    }\n",
       "\n",
       "    .dataframe tbody tr th {\n",
       "        vertical-align: top;\n",
       "    }\n",
       "\n",
       "    .dataframe thead th {\n",
       "        text-align: right;\n",
       "    }\n",
       "</style>\n",
       "<table border=\"1\" class=\"dataframe\">\n",
       "  <thead>\n",
       "    <tr style=\"text-align: right;\">\n",
       "      <th></th>\n",
       "      <th>Code Domaine</th>\n",
       "      <th>Domaine</th>\n",
       "      <th>Code zone (M49)</th>\n",
       "      <th>Zone</th>\n",
       "      <th>Code Élément</th>\n",
       "      <th>Élément</th>\n",
       "      <th>Code Produit</th>\n",
       "      <th>Produit</th>\n",
       "      <th>Code année</th>\n",
       "      <th>Année</th>\n",
       "      <th>Unité</th>\n",
       "      <th>Valeur</th>\n",
       "      <th>Symbole</th>\n",
       "      <th>Description du Symbole</th>\n",
       "      <th>Note</th>\n",
       "    </tr>\n",
       "  </thead>\n",
       "  <tbody>\n",
       "    <tr>\n",
       "      <th>0</th>\n",
       "      <td>MK</td>\n",
       "      <td>Indicateurs macro</td>\n",
       "      <td>4</td>\n",
       "      <td>Afghanistan</td>\n",
       "      <td>6110</td>\n",
       "      <td>Valeur US $</td>\n",
       "      <td>22008</td>\n",
       "      <td>Produit Intérieur Brut</td>\n",
       "      <td>2017</td>\n",
       "      <td>2017</td>\n",
       "      <td>Millions d’USD</td>\n",
       "      <td>19034.302820</td>\n",
       "      <td>X</td>\n",
       "      <td>Ciffre de sources internationales</td>\n",
       "      <td>NaN</td>\n",
       "    </tr>\n",
       "    <tr>\n",
       "      <th>1</th>\n",
       "      <td>MK</td>\n",
       "      <td>Indicateurs macro</td>\n",
       "      <td>4</td>\n",
       "      <td>Afghanistan</td>\n",
       "      <td>6129</td>\n",
       "      <td>Croissance annuelle US$</td>\n",
       "      <td>22008</td>\n",
       "      <td>Produit Intérieur Brut</td>\n",
       "      <td>2017</td>\n",
       "      <td>2017</td>\n",
       "      <td>%</td>\n",
       "      <td>4.444345</td>\n",
       "      <td>X</td>\n",
       "      <td>Ciffre de sources internationales</td>\n",
       "      <td>NaN</td>\n",
       "    </tr>\n",
       "    <tr>\n",
       "      <th>2</th>\n",
       "      <td>MK</td>\n",
       "      <td>Indicateurs macro</td>\n",
       "      <td>4</td>\n",
       "      <td>Afghanistan</td>\n",
       "      <td>6110</td>\n",
       "      <td>Valeur US $</td>\n",
       "      <td>22016</td>\n",
       "      <td>Valeur ajoutée (agriculture, sylviculture et p...</td>\n",
       "      <td>2017</td>\n",
       "      <td>2017</td>\n",
       "      <td>Millions d’USD</td>\n",
       "      <td>4839.052802</td>\n",
       "      <td>X</td>\n",
       "      <td>Ciffre de sources internationales</td>\n",
       "      <td>NaN</td>\n",
       "    </tr>\n",
       "    <tr>\n",
       "      <th>3</th>\n",
       "      <td>MK</td>\n",
       "      <td>Indicateurs macro</td>\n",
       "      <td>4</td>\n",
       "      <td>Afghanistan</td>\n",
       "      <td>6103</td>\n",
       "      <td>Part du PIB US $</td>\n",
       "      <td>22016</td>\n",
       "      <td>Valeur ajoutée (agriculture, sylviculture et p...</td>\n",
       "      <td>2017</td>\n",
       "      <td>2017</td>\n",
       "      <td>%</td>\n",
       "      <td>25.422800</td>\n",
       "      <td>X</td>\n",
       "      <td>Ciffre de sources internationales</td>\n",
       "      <td>NaN</td>\n",
       "    </tr>\n",
       "    <tr>\n",
       "      <th>4</th>\n",
       "      <td>MK</td>\n",
       "      <td>Indicateurs macro</td>\n",
       "      <td>4</td>\n",
       "      <td>Afghanistan</td>\n",
       "      <td>6129</td>\n",
       "      <td>Croissance annuelle US$</td>\n",
       "      <td>22016</td>\n",
       "      <td>Valeur ajoutée (agriculture, sylviculture et p...</td>\n",
       "      <td>2017</td>\n",
       "      <td>2017</td>\n",
       "      <td>%</td>\n",
       "      <td>2.530518</td>\n",
       "      <td>X</td>\n",
       "      <td>Ciffre de sources internationales</td>\n",
       "      <td>NaN</td>\n",
       "    </tr>\n",
       "  </tbody>\n",
       "</table>\n",
       "</div>"
      ],
      "text/plain": [
       "  Code Domaine            Domaine  Code zone (M49)         Zone  Code Élément  \\\n",
       "0           MK  Indicateurs macro                4  Afghanistan          6110   \n",
       "1           MK  Indicateurs macro                4  Afghanistan          6129   \n",
       "2           MK  Indicateurs macro                4  Afghanistan          6110   \n",
       "3           MK  Indicateurs macro                4  Afghanistan          6103   \n",
       "4           MK  Indicateurs macro                4  Afghanistan          6129   \n",
       "\n",
       "                   Élément  Code Produit  \\\n",
       "0              Valeur US $         22008   \n",
       "1  Croissance annuelle US$         22008   \n",
       "2              Valeur US $         22016   \n",
       "3         Part du PIB US $         22016   \n",
       "4  Croissance annuelle US$         22016   \n",
       "\n",
       "                                             Produit  Code année  Année  \\\n",
       "0                             Produit Intérieur Brut        2017   2017   \n",
       "1                             Produit Intérieur Brut        2017   2017   \n",
       "2  Valeur ajoutée (agriculture, sylviculture et p...        2017   2017   \n",
       "3  Valeur ajoutée (agriculture, sylviculture et p...        2017   2017   \n",
       "4  Valeur ajoutée (agriculture, sylviculture et p...        2017   2017   \n",
       "\n",
       "            Unité        Valeur Symbole             Description du Symbole  \\\n",
       "0  Millions d’USD  19034.302820       X  Ciffre de sources internationales   \n",
       "1               %      4.444345       X  Ciffre de sources internationales   \n",
       "2  Millions d’USD   4839.052802       X  Ciffre de sources internationales   \n",
       "3               %     25.422800       X  Ciffre de sources internationales   \n",
       "4               %      2.530518       X  Ciffre de sources internationales   \n",
       "\n",
       "   Note  \n",
       "0   NaN  \n",
       "1   NaN  \n",
       "2   NaN  \n",
       "3   NaN  \n",
       "4   NaN  "
      ]
     },
     "execution_count": 84,
     "metadata": {},
     "output_type": "execute_result"
    }
   ],
   "source": [
    "indicateurs_macro.head()"
   ]
  },
  {
   "cell_type": "code",
   "execution_count": 85,
   "metadata": {},
   "outputs": [
    {
     "data": {
      "text/plain": [
       "array(['Valeur US $', 'Croissance annuelle US$', 'Part du PIB US $'],\n",
       "      dtype=object)"
      ]
     },
     "execution_count": 85,
     "metadata": {},
     "output_type": "execute_result"
    }
   ],
   "source": [
    "indicateurs_macro['Élément'].unique()"
   ]
  },
  {
   "cell_type": "code",
   "execution_count": 86,
   "metadata": {},
   "outputs": [
    {
     "data": {
      "text/plain": [
       "Code zone (M49)\n",
       "4      5\n",
       "710    5\n",
       "524    5\n",
       "558    5\n",
       "562    5\n",
       "      ..\n",
       "304    5\n",
       "716    5\n",
       "446    2\n",
       "492    2\n",
       "534    2\n",
       "Name: count, Length: 211, dtype: int64"
      ]
     },
     "execution_count": 86,
     "metadata": {},
     "output_type": "execute_result"
    }
   ],
   "source": [
    "indicateurs_macro['Code zone (M49)'].value_counts()"
   ]
  },
  {
   "cell_type": "code",
   "execution_count": 87,
   "metadata": {},
   "outputs": [
    {
     "data": {
      "text/plain": [
       "array(['Produit Intérieur Brut',\n",
       "       'Valeur ajoutée (agriculture, sylviculture et pêche)'],\n",
       "      dtype=object)"
      ]
     },
     "execution_count": 87,
     "metadata": {},
     "output_type": "execute_result"
    }
   ],
   "source": [
    "indicateurs_macro['Produit'].unique()"
   ]
  },
  {
   "cell_type": "code",
   "execution_count": 88,
   "metadata": {},
   "outputs": [
    {
     "data": {
      "application/vnd.microsoft.datawrangler.viewer.v0+json": {
       "columns": [
        {
         "name": "index",
         "rawType": "int64",
         "type": "integer"
        },
        {
         "name": "Code Domaine",
         "rawType": "object",
         "type": "string"
        },
        {
         "name": "Domaine",
         "rawType": "object",
         "type": "string"
        },
        {
         "name": "Code zone (M49)",
         "rawType": "int64",
         "type": "integer"
        },
        {
         "name": "Zone",
         "rawType": "object",
         "type": "string"
        },
        {
         "name": "Code Élément",
         "rawType": "int64",
         "type": "integer"
        },
        {
         "name": "Élément",
         "rawType": "object",
         "type": "string"
        },
        {
         "name": "Code Produit",
         "rawType": "int64",
         "type": "integer"
        },
        {
         "name": "Produit",
         "rawType": "object",
         "type": "string"
        },
        {
         "name": "Code année",
         "rawType": "int64",
         "type": "integer"
        },
        {
         "name": "Année",
         "rawType": "int64",
         "type": "integer"
        },
        {
         "name": "Unité",
         "rawType": "object",
         "type": "string"
        },
        {
         "name": "Valeur",
         "rawType": "float64",
         "type": "float"
        },
        {
         "name": "Symbole",
         "rawType": "object",
         "type": "string"
        },
        {
         "name": "Description du Symbole",
         "rawType": "object",
         "type": "string"
        },
        {
         "name": "Note",
         "rawType": "float64",
         "type": "float"
        }
       ],
       "conversionMethod": "pd.DataFrame",
       "ref": "c549675e-5b9e-4030-b8ea-e1181e1cc08f",
       "rows": [
        [
         "0",
         "MK",
         "Indicateurs macro",
         "4",
         "Afghanistan",
         "6110",
         "Valeur US $",
         "22008",
         "Produit Intérieur Brut",
         "2017",
         "2017",
         "Millions d’USD",
         "19034.30282",
         "X",
         "Ciffre de sources internationales",
         null
        ],
        [
         "1",
         "MK",
         "Indicateurs macro",
         "4",
         "Afghanistan",
         "6129",
         "Croissance annuelle US$",
         "22008",
         "Produit Intérieur Brut",
         "2017",
         "2017",
         "%",
         "4.444345",
         "X",
         "Ciffre de sources internationales",
         null
        ],
        [
         "5",
         "MK",
         "Indicateurs macro",
         "710",
         "Afrique du Sud",
         "6110",
         "Valeur US $",
         "22008",
         "Produit Intérieur Brut",
         "2017",
         "2017",
         "Millions d’USD",
         "380851.444101",
         "X",
         "Ciffre de sources internationales",
         null
        ],
        [
         "6",
         "MK",
         "Indicateurs macro",
         "710",
         "Afrique du Sud",
         "6129",
         "Croissance annuelle US$",
         "22008",
         "Produit Intérieur Brut",
         "2017",
         "2017",
         "%",
         "17.703799",
         "X",
         "Ciffre de sources internationales",
         null
        ],
        [
         "10",
         "MK",
         "Indicateurs macro",
         "8",
         "Albanie",
         "6110",
         "Valeur US $",
         "22008",
         "Produit Intérieur Brut",
         "2017",
         "2017",
         "Millions d’USD",
         "13019.729856",
         "X",
         "Ciffre de sources internationales",
         null
        ]
       ],
       "shape": {
        "columns": 15,
        "rows": 5
       }
      },
      "text/html": [
       "<div>\n",
       "<style scoped>\n",
       "    .dataframe tbody tr th:only-of-type {\n",
       "        vertical-align: middle;\n",
       "    }\n",
       "\n",
       "    .dataframe tbody tr th {\n",
       "        vertical-align: top;\n",
       "    }\n",
       "\n",
       "    .dataframe thead th {\n",
       "        text-align: right;\n",
       "    }\n",
       "</style>\n",
       "<table border=\"1\" class=\"dataframe\">\n",
       "  <thead>\n",
       "    <tr style=\"text-align: right;\">\n",
       "      <th></th>\n",
       "      <th>Code Domaine</th>\n",
       "      <th>Domaine</th>\n",
       "      <th>Code zone (M49)</th>\n",
       "      <th>Zone</th>\n",
       "      <th>Code Élément</th>\n",
       "      <th>Élément</th>\n",
       "      <th>Code Produit</th>\n",
       "      <th>Produit</th>\n",
       "      <th>Code année</th>\n",
       "      <th>Année</th>\n",
       "      <th>Unité</th>\n",
       "      <th>Valeur</th>\n",
       "      <th>Symbole</th>\n",
       "      <th>Description du Symbole</th>\n",
       "      <th>Note</th>\n",
       "    </tr>\n",
       "  </thead>\n",
       "  <tbody>\n",
       "    <tr>\n",
       "      <th>0</th>\n",
       "      <td>MK</td>\n",
       "      <td>Indicateurs macro</td>\n",
       "      <td>4</td>\n",
       "      <td>Afghanistan</td>\n",
       "      <td>6110</td>\n",
       "      <td>Valeur US $</td>\n",
       "      <td>22008</td>\n",
       "      <td>Produit Intérieur Brut</td>\n",
       "      <td>2017</td>\n",
       "      <td>2017</td>\n",
       "      <td>Millions d’USD</td>\n",
       "      <td>19034.302820</td>\n",
       "      <td>X</td>\n",
       "      <td>Ciffre de sources internationales</td>\n",
       "      <td>NaN</td>\n",
       "    </tr>\n",
       "    <tr>\n",
       "      <th>1</th>\n",
       "      <td>MK</td>\n",
       "      <td>Indicateurs macro</td>\n",
       "      <td>4</td>\n",
       "      <td>Afghanistan</td>\n",
       "      <td>6129</td>\n",
       "      <td>Croissance annuelle US$</td>\n",
       "      <td>22008</td>\n",
       "      <td>Produit Intérieur Brut</td>\n",
       "      <td>2017</td>\n",
       "      <td>2017</td>\n",
       "      <td>%</td>\n",
       "      <td>4.444345</td>\n",
       "      <td>X</td>\n",
       "      <td>Ciffre de sources internationales</td>\n",
       "      <td>NaN</td>\n",
       "    </tr>\n",
       "    <tr>\n",
       "      <th>5</th>\n",
       "      <td>MK</td>\n",
       "      <td>Indicateurs macro</td>\n",
       "      <td>710</td>\n",
       "      <td>Afrique du Sud</td>\n",
       "      <td>6110</td>\n",
       "      <td>Valeur US $</td>\n",
       "      <td>22008</td>\n",
       "      <td>Produit Intérieur Brut</td>\n",
       "      <td>2017</td>\n",
       "      <td>2017</td>\n",
       "      <td>Millions d’USD</td>\n",
       "      <td>380851.444101</td>\n",
       "      <td>X</td>\n",
       "      <td>Ciffre de sources internationales</td>\n",
       "      <td>NaN</td>\n",
       "    </tr>\n",
       "    <tr>\n",
       "      <th>6</th>\n",
       "      <td>MK</td>\n",
       "      <td>Indicateurs macro</td>\n",
       "      <td>710</td>\n",
       "      <td>Afrique du Sud</td>\n",
       "      <td>6129</td>\n",
       "      <td>Croissance annuelle US$</td>\n",
       "      <td>22008</td>\n",
       "      <td>Produit Intérieur Brut</td>\n",
       "      <td>2017</td>\n",
       "      <td>2017</td>\n",
       "      <td>%</td>\n",
       "      <td>17.703799</td>\n",
       "      <td>X</td>\n",
       "      <td>Ciffre de sources internationales</td>\n",
       "      <td>NaN</td>\n",
       "    </tr>\n",
       "    <tr>\n",
       "      <th>10</th>\n",
       "      <td>MK</td>\n",
       "      <td>Indicateurs macro</td>\n",
       "      <td>8</td>\n",
       "      <td>Albanie</td>\n",
       "      <td>6110</td>\n",
       "      <td>Valeur US $</td>\n",
       "      <td>22008</td>\n",
       "      <td>Produit Intérieur Brut</td>\n",
       "      <td>2017</td>\n",
       "      <td>2017</td>\n",
       "      <td>Millions d’USD</td>\n",
       "      <td>13019.729856</td>\n",
       "      <td>X</td>\n",
       "      <td>Ciffre de sources internationales</td>\n",
       "      <td>NaN</td>\n",
       "    </tr>\n",
       "  </tbody>\n",
       "</table>\n",
       "</div>"
      ],
      "text/plain": [
       "   Code Domaine            Domaine  Code zone (M49)            Zone  \\\n",
       "0            MK  Indicateurs macro                4     Afghanistan   \n",
       "1            MK  Indicateurs macro                4     Afghanistan   \n",
       "5            MK  Indicateurs macro              710  Afrique du Sud   \n",
       "6            MK  Indicateurs macro              710  Afrique du Sud   \n",
       "10           MK  Indicateurs macro                8         Albanie   \n",
       "\n",
       "    Code Élément                  Élément  Code Produit  \\\n",
       "0           6110              Valeur US $         22008   \n",
       "1           6129  Croissance annuelle US$         22008   \n",
       "5           6110              Valeur US $         22008   \n",
       "6           6129  Croissance annuelle US$         22008   \n",
       "10          6110              Valeur US $         22008   \n",
       "\n",
       "                   Produit  Code année  Année           Unité         Valeur  \\\n",
       "0   Produit Intérieur Brut        2017   2017  Millions d’USD   19034.302820   \n",
       "1   Produit Intérieur Brut        2017   2017               %       4.444345   \n",
       "5   Produit Intérieur Brut        2017   2017  Millions d’USD  380851.444101   \n",
       "6   Produit Intérieur Brut        2017   2017               %      17.703799   \n",
       "10  Produit Intérieur Brut        2017   2017  Millions d’USD   13019.729856   \n",
       "\n",
       "   Symbole             Description du Symbole  Note  \n",
       "0        X  Ciffre de sources internationales   NaN  \n",
       "1        X  Ciffre de sources internationales   NaN  \n",
       "5        X  Ciffre de sources internationales   NaN  \n",
       "6        X  Ciffre de sources internationales   NaN  \n",
       "10       X  Ciffre de sources internationales   NaN  "
      ]
     },
     "execution_count": 88,
     "metadata": {},
     "output_type": "execute_result"
    }
   ],
   "source": [
    "indicateurs_macro = indicateurs_macro.loc[indicateurs_macro['Produit']== 'Produit Intérieur Brut' , :]\n",
    "indicateurs_macro.head()"
   ]
  },
  {
   "cell_type": "code",
   "execution_count": 89,
   "metadata": {},
   "outputs": [
    {
     "data": {
      "application/vnd.microsoft.datawrangler.viewer.v0+json": {
       "columns": [
        {
         "name": "index",
         "rawType": "int64",
         "type": "integer"
        },
        {
         "name": "Code zone (M49)",
         "rawType": "int64",
         "type": "integer"
        },
        {
         "name": "Zone",
         "rawType": "object",
         "type": "string"
        },
        {
         "name": "Élément",
         "rawType": "object",
         "type": "string"
        },
        {
         "name": "Valeur",
         "rawType": "float64",
         "type": "float"
        }
       ],
       "conversionMethod": "pd.DataFrame",
       "ref": "eb98d6bf-f1bb-4eb1-a89d-e2e609cd01d5",
       "rows": [
        [
         "0",
         "4",
         "Afghanistan",
         "Valeur US $",
         "19034.30282"
        ],
        [
         "1",
         "4",
         "Afghanistan",
         "Croissance annuelle US$",
         "4.444345"
        ],
        [
         "5",
         "710",
         "Afrique du Sud",
         "Valeur US $",
         "380851.444101"
        ],
        [
         "6",
         "710",
         "Afrique du Sud",
         "Croissance annuelle US$",
         "17.703799"
        ],
        [
         "10",
         "8",
         "Albanie",
         "Valeur US $",
         "13019.729856"
        ]
       ],
       "shape": {
        "columns": 4,
        "rows": 5
       }
      },
      "text/html": [
       "<div>\n",
       "<style scoped>\n",
       "    .dataframe tbody tr th:only-of-type {\n",
       "        vertical-align: middle;\n",
       "    }\n",
       "\n",
       "    .dataframe tbody tr th {\n",
       "        vertical-align: top;\n",
       "    }\n",
       "\n",
       "    .dataframe thead th {\n",
       "        text-align: right;\n",
       "    }\n",
       "</style>\n",
       "<table border=\"1\" class=\"dataframe\">\n",
       "  <thead>\n",
       "    <tr style=\"text-align: right;\">\n",
       "      <th></th>\n",
       "      <th>Code zone (M49)</th>\n",
       "      <th>Zone</th>\n",
       "      <th>Élément</th>\n",
       "      <th>Valeur</th>\n",
       "    </tr>\n",
       "  </thead>\n",
       "  <tbody>\n",
       "    <tr>\n",
       "      <th>0</th>\n",
       "      <td>4</td>\n",
       "      <td>Afghanistan</td>\n",
       "      <td>Valeur US $</td>\n",
       "      <td>19034.302820</td>\n",
       "    </tr>\n",
       "    <tr>\n",
       "      <th>1</th>\n",
       "      <td>4</td>\n",
       "      <td>Afghanistan</td>\n",
       "      <td>Croissance annuelle US$</td>\n",
       "      <td>4.444345</td>\n",
       "    </tr>\n",
       "    <tr>\n",
       "      <th>5</th>\n",
       "      <td>710</td>\n",
       "      <td>Afrique du Sud</td>\n",
       "      <td>Valeur US $</td>\n",
       "      <td>380851.444101</td>\n",
       "    </tr>\n",
       "    <tr>\n",
       "      <th>6</th>\n",
       "      <td>710</td>\n",
       "      <td>Afrique du Sud</td>\n",
       "      <td>Croissance annuelle US$</td>\n",
       "      <td>17.703799</td>\n",
       "    </tr>\n",
       "    <tr>\n",
       "      <th>10</th>\n",
       "      <td>8</td>\n",
       "      <td>Albanie</td>\n",
       "      <td>Valeur US $</td>\n",
       "      <td>13019.729856</td>\n",
       "    </tr>\n",
       "  </tbody>\n",
       "</table>\n",
       "</div>"
      ],
      "text/plain": [
       "    Code zone (M49)            Zone                  Élément         Valeur\n",
       "0                 4     Afghanistan              Valeur US $   19034.302820\n",
       "1                 4     Afghanistan  Croissance annuelle US$       4.444345\n",
       "5               710  Afrique du Sud              Valeur US $  380851.444101\n",
       "6               710  Afrique du Sud  Croissance annuelle US$      17.703799\n",
       "10                8         Albanie              Valeur US $   13019.729856"
      ]
     },
     "execution_count": 89,
     "metadata": {},
     "output_type": "execute_result"
    }
   ],
   "source": [
    "indicateurs_macro.drop(['Code Domaine', 'Code Élément', 'Code Produit', 'Domaine', 'Code année', 'Année', 'Symbole',\n",
    "                         'Description du Symbole', 'Unité', 'Note', 'Produit'], axis=1, inplace = True)\n",
    "indicateurs_macro.head()"
   ]
  },
  {
   "cell_type": "code",
   "execution_count": 90,
   "metadata": {},
   "outputs": [
    {
     "data": {
      "application/vnd.microsoft.datawrangler.viewer.v0+json": {
       "columns": [
        {
         "name": "index",
         "rawType": "int64",
         "type": "integer"
        },
        {
         "name": "Pays",
         "rawType": "object",
         "type": "string"
        },
        {
         "name": "Code zone",
         "rawType": "int64",
         "type": "integer"
        },
        {
         "name": "Croissance annuelle %",
         "rawType": "float64",
         "type": "float"
        },
        {
         "name": "PIB",
         "rawType": "float64",
         "type": "float"
        }
       ],
       "conversionMethod": "pd.DataFrame",
       "ref": "6382c89a-3931-41a1-b42e-c1983ff990eb",
       "rows": [
        [
         "0",
         "Afghanistan",
         "4",
         "4.444345",
         "19034.30282"
        ],
        [
         "1",
         "Afrique du Sud",
         "710",
         "17.703799",
         "380851.444101"
        ],
        [
         "2",
         "Albanie",
         "8",
         "9.765943",
         "13019.729856"
        ],
        [
         "3",
         "Algérie",
         "12",
         "6.287892",
         "170096.987241"
        ],
        [
         "4",
         "Allemagne",
         "276",
         "6.441276",
         "3690849.152518"
        ]
       ],
       "shape": {
        "columns": 4,
        "rows": 5
       }
      },
      "text/html": [
       "<div>\n",
       "<style scoped>\n",
       "    .dataframe tbody tr th:only-of-type {\n",
       "        vertical-align: middle;\n",
       "    }\n",
       "\n",
       "    .dataframe tbody tr th {\n",
       "        vertical-align: top;\n",
       "    }\n",
       "\n",
       "    .dataframe thead th {\n",
       "        text-align: right;\n",
       "    }\n",
       "</style>\n",
       "<table border=\"1\" class=\"dataframe\">\n",
       "  <thead>\n",
       "    <tr style=\"text-align: right;\">\n",
       "      <th></th>\n",
       "      <th>Pays</th>\n",
       "      <th>Code zone</th>\n",
       "      <th>Croissance annuelle %</th>\n",
       "      <th>PIB</th>\n",
       "    </tr>\n",
       "  </thead>\n",
       "  <tbody>\n",
       "    <tr>\n",
       "      <th>0</th>\n",
       "      <td>Afghanistan</td>\n",
       "      <td>4</td>\n",
       "      <td>4.444345</td>\n",
       "      <td>1.903430e+04</td>\n",
       "    </tr>\n",
       "    <tr>\n",
       "      <th>1</th>\n",
       "      <td>Afrique du Sud</td>\n",
       "      <td>710</td>\n",
       "      <td>17.703799</td>\n",
       "      <td>3.808514e+05</td>\n",
       "    </tr>\n",
       "    <tr>\n",
       "      <th>2</th>\n",
       "      <td>Albanie</td>\n",
       "      <td>8</td>\n",
       "      <td>9.765943</td>\n",
       "      <td>1.301973e+04</td>\n",
       "    </tr>\n",
       "    <tr>\n",
       "      <th>3</th>\n",
       "      <td>Algérie</td>\n",
       "      <td>12</td>\n",
       "      <td>6.287892</td>\n",
       "      <td>1.700970e+05</td>\n",
       "    </tr>\n",
       "    <tr>\n",
       "      <th>4</th>\n",
       "      <td>Allemagne</td>\n",
       "      <td>276</td>\n",
       "      <td>6.441276</td>\n",
       "      <td>3.690849e+06</td>\n",
       "    </tr>\n",
       "  </tbody>\n",
       "</table>\n",
       "</div>"
      ],
      "text/plain": [
       "             Pays  Code zone  Croissance annuelle %           PIB\n",
       "0     Afghanistan          4               4.444345  1.903430e+04\n",
       "1  Afrique du Sud        710              17.703799  3.808514e+05\n",
       "2         Albanie          8               9.765943  1.301973e+04\n",
       "3         Algérie         12               6.287892  1.700970e+05\n",
       "4       Allemagne        276               6.441276  3.690849e+06"
      ]
     },
     "execution_count": 90,
     "metadata": {},
     "output_type": "execute_result"
    }
   ],
   "source": [
    "indicateurs_macro = pd.pivot(indicateurs_macro, index=['Zone', 'Code zone (M49)'], columns=['Élément'], values=['Valeur'])\n",
    "indicateurs_macro.columns = [col[1] for col in indicateurs_macro.columns]\n",
    "indicateurs_macro = indicateurs_macro.reset_index()\n",
    "indicateurs_macro = indicateurs_macro.rename(columns={'Zone': 'Pays', 'Valeur US $':'PIB', 'Croissance annuelle US$':'Croissance annuelle %', 'Code zone (M49)':'Code zone'})\n",
    "indicateurs_macro.head()"
   ]
  },
  {
   "cell_type": "code",
   "execution_count": 91,
   "metadata": {},
   "outputs": [
    {
     "data": {
      "text/plain": [
       "Pays                     0\n",
       "Code zone                0\n",
       "Croissance annuelle %    0\n",
       "PIB                      0\n",
       "dtype: int64"
      ]
     },
     "execution_count": 91,
     "metadata": {},
     "output_type": "execute_result"
    }
   ],
   "source": [
    "indicateurs_macro.isna().sum()"
   ]
  },
  {
   "cell_type": "markdown",
   "metadata": {},
   "source": [
    "# Clean indices_prod"
   ]
  },
  {
   "cell_type": "code",
   "execution_count": 92,
   "metadata": {},
   "outputs": [
    {
     "data": {
      "application/vnd.microsoft.datawrangler.viewer.v0+json": {
       "columns": [
        {
         "name": "index",
         "rawType": "int64",
         "type": "integer"
        },
        {
         "name": "Code Domaine",
         "rawType": "object",
         "type": "string"
        },
        {
         "name": "Domaine",
         "rawType": "object",
         "type": "string"
        },
        {
         "name": "Code zone (M49)",
         "rawType": "int64",
         "type": "integer"
        },
        {
         "name": "Zone",
         "rawType": "object",
         "type": "string"
        },
        {
         "name": "Code Élément",
         "rawType": "int64",
         "type": "integer"
        },
        {
         "name": "Élément",
         "rawType": "object",
         "type": "string"
        },
        {
         "name": "Code Produit (CPC)",
         "rawType": "object",
         "type": "string"
        },
        {
         "name": "Produit",
         "rawType": "object",
         "type": "string"
        },
        {
         "name": "Code année",
         "rawType": "int64",
         "type": "integer"
        },
        {
         "name": "Année",
         "rawType": "int64",
         "type": "integer"
        },
        {
         "name": "Unité",
         "rawType": "float64",
         "type": "float"
        },
        {
         "name": "Valeur",
         "rawType": "float64",
         "type": "float"
        },
        {
         "name": "Symbole",
         "rawType": "object",
         "type": "string"
        },
        {
         "name": "Description du Symbole",
         "rawType": "object",
         "type": "string"
        }
       ],
       "conversionMethod": "pd.DataFrame",
       "ref": "e9306cc4-29b7-4c7c-8ada-99409ccf035a",
       "rows": [
        [
         "0",
         "QI",
         "Indices de production",
         "4",
         "Afghanistan",
         "434",
         "Indice de Production Brut par Personne (Référence 2014-2016)",
         "02944",
         "Cocons de vers à soie propres au dévidage",
         "2017",
         "2017",
         null,
         "94.5",
         "E",
         "Valeur estimée"
        ],
        [
         "1",
         "QI",
         "Indices de production",
         "4",
         "Afghanistan",
         "434",
         "Indice de Production Brut par Personne (Référence 2014-2016)",
         "02941",
         "Laines de tonte, en suint, y compris les laines lavées à dos",
         "2017",
         "2017",
         null,
         "92.64",
         "E",
         "Valeur estimée"
        ],
        [
         "2",
         "QI",
         "Indices de production",
         "4",
         "Afghanistan",
         "434",
         "Indice de Production Brut par Personne (Référence 2014-2016)",
         "02291",
         "Lait cru de brebis",
         "2017",
         "2017",
         null,
         "97.24",
         "E",
         "Valeur estimée"
        ],
        [
         "3",
         "QI",
         "Indices de production",
         "4",
         "Afghanistan",
         "434",
         "Indice de Production Brut par Personne (Référence 2014-2016)",
         "02293",
         "Lait cru de chamelle",
         "2017",
         "2017",
         null,
         "95.46",
         "E",
         "Valeur estimée"
        ],
        [
         "4",
         "QI",
         "Indices de production",
         "4",
         "Afghanistan",
         "434",
         "Indice de Production Brut par Personne (Référence 2014-2016)",
         "02292",
         "Lait cru de chèvre",
         "2017",
         "2017",
         null,
         "96.14",
         "E",
         "Valeur estimée"
        ]
       ],
       "shape": {
        "columns": 14,
        "rows": 5
       }
      },
      "text/html": [
       "<div>\n",
       "<style scoped>\n",
       "    .dataframe tbody tr th:only-of-type {\n",
       "        vertical-align: middle;\n",
       "    }\n",
       "\n",
       "    .dataframe tbody tr th {\n",
       "        vertical-align: top;\n",
       "    }\n",
       "\n",
       "    .dataframe thead th {\n",
       "        text-align: right;\n",
       "    }\n",
       "</style>\n",
       "<table border=\"1\" class=\"dataframe\">\n",
       "  <thead>\n",
       "    <tr style=\"text-align: right;\">\n",
       "      <th></th>\n",
       "      <th>Code Domaine</th>\n",
       "      <th>Domaine</th>\n",
       "      <th>Code zone (M49)</th>\n",
       "      <th>Zone</th>\n",
       "      <th>Code Élément</th>\n",
       "      <th>Élément</th>\n",
       "      <th>Code Produit (CPC)</th>\n",
       "      <th>Produit</th>\n",
       "      <th>Code année</th>\n",
       "      <th>Année</th>\n",
       "      <th>Unité</th>\n",
       "      <th>Valeur</th>\n",
       "      <th>Symbole</th>\n",
       "      <th>Description du Symbole</th>\n",
       "    </tr>\n",
       "  </thead>\n",
       "  <tbody>\n",
       "    <tr>\n",
       "      <th>0</th>\n",
       "      <td>QI</td>\n",
       "      <td>Indices de production</td>\n",
       "      <td>4</td>\n",
       "      <td>Afghanistan</td>\n",
       "      <td>434</td>\n",
       "      <td>Indice de Production Brut par Personne (Référe...</td>\n",
       "      <td>02944</td>\n",
       "      <td>Cocons de vers à soie propres au dévidage</td>\n",
       "      <td>2017</td>\n",
       "      <td>2017</td>\n",
       "      <td>NaN</td>\n",
       "      <td>94.50</td>\n",
       "      <td>E</td>\n",
       "      <td>Valeur estimée</td>\n",
       "    </tr>\n",
       "    <tr>\n",
       "      <th>1</th>\n",
       "      <td>QI</td>\n",
       "      <td>Indices de production</td>\n",
       "      <td>4</td>\n",
       "      <td>Afghanistan</td>\n",
       "      <td>434</td>\n",
       "      <td>Indice de Production Brut par Personne (Référe...</td>\n",
       "      <td>02941</td>\n",
       "      <td>Laines de tonte, en suint, y compris les laine...</td>\n",
       "      <td>2017</td>\n",
       "      <td>2017</td>\n",
       "      <td>NaN</td>\n",
       "      <td>92.64</td>\n",
       "      <td>E</td>\n",
       "      <td>Valeur estimée</td>\n",
       "    </tr>\n",
       "    <tr>\n",
       "      <th>2</th>\n",
       "      <td>QI</td>\n",
       "      <td>Indices de production</td>\n",
       "      <td>4</td>\n",
       "      <td>Afghanistan</td>\n",
       "      <td>434</td>\n",
       "      <td>Indice de Production Brut par Personne (Référe...</td>\n",
       "      <td>02291</td>\n",
       "      <td>Lait cru de brebis</td>\n",
       "      <td>2017</td>\n",
       "      <td>2017</td>\n",
       "      <td>NaN</td>\n",
       "      <td>97.24</td>\n",
       "      <td>E</td>\n",
       "      <td>Valeur estimée</td>\n",
       "    </tr>\n",
       "    <tr>\n",
       "      <th>3</th>\n",
       "      <td>QI</td>\n",
       "      <td>Indices de production</td>\n",
       "      <td>4</td>\n",
       "      <td>Afghanistan</td>\n",
       "      <td>434</td>\n",
       "      <td>Indice de Production Brut par Personne (Référe...</td>\n",
       "      <td>02293</td>\n",
       "      <td>Lait cru de chamelle</td>\n",
       "      <td>2017</td>\n",
       "      <td>2017</td>\n",
       "      <td>NaN</td>\n",
       "      <td>95.46</td>\n",
       "      <td>E</td>\n",
       "      <td>Valeur estimée</td>\n",
       "    </tr>\n",
       "    <tr>\n",
       "      <th>4</th>\n",
       "      <td>QI</td>\n",
       "      <td>Indices de production</td>\n",
       "      <td>4</td>\n",
       "      <td>Afghanistan</td>\n",
       "      <td>434</td>\n",
       "      <td>Indice de Production Brut par Personne (Référe...</td>\n",
       "      <td>02292</td>\n",
       "      <td>Lait cru de chèvre</td>\n",
       "      <td>2017</td>\n",
       "      <td>2017</td>\n",
       "      <td>NaN</td>\n",
       "      <td>96.14</td>\n",
       "      <td>E</td>\n",
       "      <td>Valeur estimée</td>\n",
       "    </tr>\n",
       "  </tbody>\n",
       "</table>\n",
       "</div>"
      ],
      "text/plain": [
       "  Code Domaine                Domaine  Code zone (M49)         Zone  \\\n",
       "0           QI  Indices de production                4  Afghanistan   \n",
       "1           QI  Indices de production                4  Afghanistan   \n",
       "2           QI  Indices de production                4  Afghanistan   \n",
       "3           QI  Indices de production                4  Afghanistan   \n",
       "4           QI  Indices de production                4  Afghanistan   \n",
       "\n",
       "   Code Élément                                            Élément  \\\n",
       "0           434  Indice de Production Brut par Personne (Référe...   \n",
       "1           434  Indice de Production Brut par Personne (Référe...   \n",
       "2           434  Indice de Production Brut par Personne (Référe...   \n",
       "3           434  Indice de Production Brut par Personne (Référe...   \n",
       "4           434  Indice de Production Brut par Personne (Référe...   \n",
       "\n",
       "  Code Produit (CPC)                                            Produit  \\\n",
       "0              02944          Cocons de vers à soie propres au dévidage   \n",
       "1              02941  Laines de tonte, en suint, y compris les laine...   \n",
       "2              02291                                 Lait cru de brebis   \n",
       "3              02293                               Lait cru de chamelle   \n",
       "4              02292                                 Lait cru de chèvre   \n",
       "\n",
       "   Code année  Année  Unité  Valeur Symbole Description du Symbole  \n",
       "0        2017   2017    NaN   94.50       E         Valeur estimée  \n",
       "1        2017   2017    NaN   92.64       E         Valeur estimée  \n",
       "2        2017   2017    NaN   97.24       E         Valeur estimée  \n",
       "3        2017   2017    NaN   95.46       E         Valeur estimée  \n",
       "4        2017   2017    NaN   96.14       E         Valeur estimée  "
      ]
     },
     "execution_count": 92,
     "metadata": {},
     "output_type": "execute_result"
    }
   ],
   "source": [
    "indices_prod.head()"
   ]
  },
  {
   "cell_type": "code",
   "execution_count": 93,
   "metadata": {},
   "outputs": [
    {
     "data": {
      "text/plain": [
       "array(['Cocons de vers à soie propres au dévidage',\n",
       "       'Laines de tonte, en suint, y compris les laines lavées à dos',\n",
       "       'Lait cru de brebis', 'Lait cru de chamelle', 'Lait cru de chèvre',\n",
       "       'Lait cru de vache', 'Miel naturel',\n",
       "       'Œufs de poule en coquille frais',\n",
       "       'Viande de gibier, fraîche, réfrigérée ou congelée',\n",
       "       'Viande indigène, bovins, fraîche ou réfrigérée',\n",
       "       'Viande indigène, camélidés, fraîche ou réfrigérée',\n",
       "       'Viande indigène, caprin, fraîche ou réfrigérée',\n",
       "       'Viande indigène, ovine, fraîche ou réfrigérée',\n",
       "       'Viande indigène, poulet, fraîche ou réfrigérée',\n",
       "       'Viande indigène, canard, fraîche ou réfrigérée',\n",
       "       'Viande indigène, cheval, fraîche ou réfrigérée',\n",
       "       'Viande indigène, dinde, fraîche ou réfrigérée',\n",
       "       'Viande indigène, oie, fraîche ou réfrigérée',\n",
       "       'Viande indigène, suidés, fraîche ou réfrigérée',\n",
       "       'Autres viandes n.c.a. (à l’exclusion des viandes de mammifères), fraîches, réfrigérées ou congelées',\n",
       "       'Lait cru de bufflesse',\n",
       "       \"Œufs d'autres volatiles en coquille frais n.a.c.\",\n",
       "       'Viande indigène, léporidés, fraîche ou réfrigérée',\n",
       "       \"Cire d'abeille\",\n",
       "       'Viande indigène, pigeons et autres volatiles n.a.c., fraîche, réfrigérée ou congelée',\n",
       "       'Viande indigène, buffle, fraîche ou réfrigérée',\n",
       "       'Viande indigène, autres camélidés domestiques, fraîche ou réfrigérée',\n",
       "       'Viande indigène, âne, fraîche ou réfrigérée',\n",
       "       'Viande indigène, mulet, fraîche ou réfrigérée'], dtype=object)"
      ]
     },
     "execution_count": 93,
     "metadata": {},
     "output_type": "execute_result"
    }
   ],
   "source": [
    "indices_prod['Produit'].unique()"
   ]
  },
  {
   "cell_type": "code",
   "execution_count": 94,
   "metadata": {},
   "outputs": [
    {
     "data": {
      "application/vnd.microsoft.datawrangler.viewer.v0+json": {
       "columns": [
        {
         "name": "index",
         "rawType": "int64",
         "type": "integer"
        },
        {
         "name": "Code Domaine",
         "rawType": "object",
         "type": "string"
        },
        {
         "name": "Domaine",
         "rawType": "object",
         "type": "string"
        },
        {
         "name": "Code zone (M49)",
         "rawType": "int64",
         "type": "integer"
        },
        {
         "name": "Zone",
         "rawType": "object",
         "type": "string"
        },
        {
         "name": "Code Élément",
         "rawType": "int64",
         "type": "integer"
        },
        {
         "name": "Élément",
         "rawType": "object",
         "type": "string"
        },
        {
         "name": "Code Produit (CPC)",
         "rawType": "object",
         "type": "string"
        },
        {
         "name": "Produit",
         "rawType": "object",
         "type": "string"
        },
        {
         "name": "Code année",
         "rawType": "int64",
         "type": "integer"
        },
        {
         "name": "Année",
         "rawType": "int64",
         "type": "integer"
        },
        {
         "name": "Unité",
         "rawType": "float64",
         "type": "float"
        },
        {
         "name": "Valeur",
         "rawType": "float64",
         "type": "float"
        },
        {
         "name": "Symbole",
         "rawType": "object",
         "type": "string"
        },
        {
         "name": "Description du Symbole",
         "rawType": "object",
         "type": "string"
        }
       ],
       "conversionMethod": "pd.DataFrame",
       "ref": "358f445f-4675-4573-996c-5d6d728b6d2a",
       "rows": [
        [
         "13",
         "QI",
         "Indices de production",
         "4",
         "Afghanistan",
         "434",
         "Indice de Production Brut par Personne (Référence 2014-2016)",
         "21121i",
         "Viande indigène, poulet, fraîche ou réfrigérée",
         "2017",
         "2017",
         null,
         "68.58",
         "E",
         "Valeur estimée"
        ],
        [
         "26",
         "QI",
         "Indices de production",
         "710",
         "Afrique du Sud",
         "434",
         "Indice de Production Brut par Personne (Référence 2014-2016)",
         "21121i",
         "Viande indigène, poulet, fraîche ou réfrigérée",
         "2017",
         "2017",
         null,
         "95.44",
         "E",
         "Valeur estimée"
        ],
        [
         "41",
         "QI",
         "Indices de production",
         "8",
         "Albanie",
         "434",
         "Indice de Production Brut par Personne (Référence 2014-2016)",
         "21121i",
         "Viande indigène, poulet, fraîche ou réfrigérée",
         "2017",
         "2017",
         null,
         "157.3",
         "E",
         "Valeur estimée"
        ],
        [
         "57",
         "QI",
         "Indices de production",
         "12",
         "Algérie",
         "434",
         "Indice de Production Brut par Personne (Référence 2014-2016)",
         "21121i",
         "Viande indigène, poulet, fraîche ou réfrigérée",
         "2017",
         "2017",
         null,
         "97.67",
         "E",
         "Valeur estimée"
        ],
        [
         "72",
         "QI",
         "Indices de production",
         "276",
         "Allemagne",
         "434",
         "Indice de Production Brut par Personne (Référence 2014-2016)",
         "21121i",
         "Viande indigène, poulet, fraîche ou réfrigérée",
         "2017",
         "2017",
         null,
         "98.54",
         "E",
         "Valeur estimée"
        ]
       ],
       "shape": {
        "columns": 14,
        "rows": 5
       }
      },
      "text/html": [
       "<div>\n",
       "<style scoped>\n",
       "    .dataframe tbody tr th:only-of-type {\n",
       "        vertical-align: middle;\n",
       "    }\n",
       "\n",
       "    .dataframe tbody tr th {\n",
       "        vertical-align: top;\n",
       "    }\n",
       "\n",
       "    .dataframe thead th {\n",
       "        text-align: right;\n",
       "    }\n",
       "</style>\n",
       "<table border=\"1\" class=\"dataframe\">\n",
       "  <thead>\n",
       "    <tr style=\"text-align: right;\">\n",
       "      <th></th>\n",
       "      <th>Code Domaine</th>\n",
       "      <th>Domaine</th>\n",
       "      <th>Code zone (M49)</th>\n",
       "      <th>Zone</th>\n",
       "      <th>Code Élément</th>\n",
       "      <th>Élément</th>\n",
       "      <th>Code Produit (CPC)</th>\n",
       "      <th>Produit</th>\n",
       "      <th>Code année</th>\n",
       "      <th>Année</th>\n",
       "      <th>Unité</th>\n",
       "      <th>Valeur</th>\n",
       "      <th>Symbole</th>\n",
       "      <th>Description du Symbole</th>\n",
       "    </tr>\n",
       "  </thead>\n",
       "  <tbody>\n",
       "    <tr>\n",
       "      <th>13</th>\n",
       "      <td>QI</td>\n",
       "      <td>Indices de production</td>\n",
       "      <td>4</td>\n",
       "      <td>Afghanistan</td>\n",
       "      <td>434</td>\n",
       "      <td>Indice de Production Brut par Personne (Référe...</td>\n",
       "      <td>21121i</td>\n",
       "      <td>Viande indigène, poulet, fraîche ou réfrigérée</td>\n",
       "      <td>2017</td>\n",
       "      <td>2017</td>\n",
       "      <td>NaN</td>\n",
       "      <td>68.58</td>\n",
       "      <td>E</td>\n",
       "      <td>Valeur estimée</td>\n",
       "    </tr>\n",
       "    <tr>\n",
       "      <th>26</th>\n",
       "      <td>QI</td>\n",
       "      <td>Indices de production</td>\n",
       "      <td>710</td>\n",
       "      <td>Afrique du Sud</td>\n",
       "      <td>434</td>\n",
       "      <td>Indice de Production Brut par Personne (Référe...</td>\n",
       "      <td>21121i</td>\n",
       "      <td>Viande indigène, poulet, fraîche ou réfrigérée</td>\n",
       "      <td>2017</td>\n",
       "      <td>2017</td>\n",
       "      <td>NaN</td>\n",
       "      <td>95.44</td>\n",
       "      <td>E</td>\n",
       "      <td>Valeur estimée</td>\n",
       "    </tr>\n",
       "    <tr>\n",
       "      <th>41</th>\n",
       "      <td>QI</td>\n",
       "      <td>Indices de production</td>\n",
       "      <td>8</td>\n",
       "      <td>Albanie</td>\n",
       "      <td>434</td>\n",
       "      <td>Indice de Production Brut par Personne (Référe...</td>\n",
       "      <td>21121i</td>\n",
       "      <td>Viande indigène, poulet, fraîche ou réfrigérée</td>\n",
       "      <td>2017</td>\n",
       "      <td>2017</td>\n",
       "      <td>NaN</td>\n",
       "      <td>157.30</td>\n",
       "      <td>E</td>\n",
       "      <td>Valeur estimée</td>\n",
       "    </tr>\n",
       "    <tr>\n",
       "      <th>57</th>\n",
       "      <td>QI</td>\n",
       "      <td>Indices de production</td>\n",
       "      <td>12</td>\n",
       "      <td>Algérie</td>\n",
       "      <td>434</td>\n",
       "      <td>Indice de Production Brut par Personne (Référe...</td>\n",
       "      <td>21121i</td>\n",
       "      <td>Viande indigène, poulet, fraîche ou réfrigérée</td>\n",
       "      <td>2017</td>\n",
       "      <td>2017</td>\n",
       "      <td>NaN</td>\n",
       "      <td>97.67</td>\n",
       "      <td>E</td>\n",
       "      <td>Valeur estimée</td>\n",
       "    </tr>\n",
       "    <tr>\n",
       "      <th>72</th>\n",
       "      <td>QI</td>\n",
       "      <td>Indices de production</td>\n",
       "      <td>276</td>\n",
       "      <td>Allemagne</td>\n",
       "      <td>434</td>\n",
       "      <td>Indice de Production Brut par Personne (Référe...</td>\n",
       "      <td>21121i</td>\n",
       "      <td>Viande indigène, poulet, fraîche ou réfrigérée</td>\n",
       "      <td>2017</td>\n",
       "      <td>2017</td>\n",
       "      <td>NaN</td>\n",
       "      <td>98.54</td>\n",
       "      <td>E</td>\n",
       "      <td>Valeur estimée</td>\n",
       "    </tr>\n",
       "  </tbody>\n",
       "</table>\n",
       "</div>"
      ],
      "text/plain": [
       "   Code Domaine                Domaine  Code zone (M49)            Zone  \\\n",
       "13           QI  Indices de production                4     Afghanistan   \n",
       "26           QI  Indices de production              710  Afrique du Sud   \n",
       "41           QI  Indices de production                8         Albanie   \n",
       "57           QI  Indices de production               12         Algérie   \n",
       "72           QI  Indices de production              276       Allemagne   \n",
       "\n",
       "    Code Élément                                            Élément  \\\n",
       "13           434  Indice de Production Brut par Personne (Référe...   \n",
       "26           434  Indice de Production Brut par Personne (Référe...   \n",
       "41           434  Indice de Production Brut par Personne (Référe...   \n",
       "57           434  Indice de Production Brut par Personne (Référe...   \n",
       "72           434  Indice de Production Brut par Personne (Référe...   \n",
       "\n",
       "   Code Produit (CPC)                                         Produit  \\\n",
       "13             21121i  Viande indigène, poulet, fraîche ou réfrigérée   \n",
       "26             21121i  Viande indigène, poulet, fraîche ou réfrigérée   \n",
       "41             21121i  Viande indigène, poulet, fraîche ou réfrigérée   \n",
       "57             21121i  Viande indigène, poulet, fraîche ou réfrigérée   \n",
       "72             21121i  Viande indigène, poulet, fraîche ou réfrigérée   \n",
       "\n",
       "    Code année  Année  Unité  Valeur Symbole Description du Symbole  \n",
       "13        2017   2017    NaN   68.58       E         Valeur estimée  \n",
       "26        2017   2017    NaN   95.44       E         Valeur estimée  \n",
       "41        2017   2017    NaN  157.30       E         Valeur estimée  \n",
       "57        2017   2017    NaN   97.67       E         Valeur estimée  \n",
       "72        2017   2017    NaN   98.54       E         Valeur estimée  "
      ]
     },
     "execution_count": 94,
     "metadata": {},
     "output_type": "execute_result"
    }
   ],
   "source": [
    "indices_prod = indices_prod.loc[indices_prod['Produit'] == 'Viande indigène, poulet, fraîche ou réfrigérée', :]\n",
    "indices_prod.head()"
   ]
  },
  {
   "cell_type": "code",
   "execution_count": 95,
   "metadata": {},
   "outputs": [
    {
     "data": {
      "application/vnd.microsoft.datawrangler.viewer.v0+json": {
       "columns": [
        {
         "name": "index",
         "rawType": "int64",
         "type": "integer"
        },
        {
         "name": "Code zone (M49)",
         "rawType": "int64",
         "type": "integer"
        },
        {
         "name": "Zone",
         "rawType": "object",
         "type": "string"
        },
        {
         "name": "Élément",
         "rawType": "object",
         "type": "string"
        },
        {
         "name": "Valeur",
         "rawType": "float64",
         "type": "float"
        }
       ],
       "conversionMethod": "pd.DataFrame",
       "ref": "0349faca-4853-40da-8ad7-28ca160108df",
       "rows": [
        [
         "13",
         "4",
         "Afghanistan",
         "Indice de Production Brut par Personne (Référence 2014-2016)",
         "68.58"
        ],
        [
         "26",
         "710",
         "Afrique du Sud",
         "Indice de Production Brut par Personne (Référence 2014-2016)",
         "95.44"
        ],
        [
         "41",
         "8",
         "Albanie",
         "Indice de Production Brut par Personne (Référence 2014-2016)",
         "157.3"
        ],
        [
         "57",
         "12",
         "Algérie",
         "Indice de Production Brut par Personne (Référence 2014-2016)",
         "97.67"
        ],
        [
         "72",
         "276",
         "Allemagne",
         "Indice de Production Brut par Personne (Référence 2014-2016)",
         "98.54"
        ]
       ],
       "shape": {
        "columns": 4,
        "rows": 5
       }
      },
      "text/html": [
       "<div>\n",
       "<style scoped>\n",
       "    .dataframe tbody tr th:only-of-type {\n",
       "        vertical-align: middle;\n",
       "    }\n",
       "\n",
       "    .dataframe tbody tr th {\n",
       "        vertical-align: top;\n",
       "    }\n",
       "\n",
       "    .dataframe thead th {\n",
       "        text-align: right;\n",
       "    }\n",
       "</style>\n",
       "<table border=\"1\" class=\"dataframe\">\n",
       "  <thead>\n",
       "    <tr style=\"text-align: right;\">\n",
       "      <th></th>\n",
       "      <th>Code zone (M49)</th>\n",
       "      <th>Zone</th>\n",
       "      <th>Élément</th>\n",
       "      <th>Valeur</th>\n",
       "    </tr>\n",
       "  </thead>\n",
       "  <tbody>\n",
       "    <tr>\n",
       "      <th>13</th>\n",
       "      <td>4</td>\n",
       "      <td>Afghanistan</td>\n",
       "      <td>Indice de Production Brut par Personne (Référe...</td>\n",
       "      <td>68.58</td>\n",
       "    </tr>\n",
       "    <tr>\n",
       "      <th>26</th>\n",
       "      <td>710</td>\n",
       "      <td>Afrique du Sud</td>\n",
       "      <td>Indice de Production Brut par Personne (Référe...</td>\n",
       "      <td>95.44</td>\n",
       "    </tr>\n",
       "    <tr>\n",
       "      <th>41</th>\n",
       "      <td>8</td>\n",
       "      <td>Albanie</td>\n",
       "      <td>Indice de Production Brut par Personne (Référe...</td>\n",
       "      <td>157.30</td>\n",
       "    </tr>\n",
       "    <tr>\n",
       "      <th>57</th>\n",
       "      <td>12</td>\n",
       "      <td>Algérie</td>\n",
       "      <td>Indice de Production Brut par Personne (Référe...</td>\n",
       "      <td>97.67</td>\n",
       "    </tr>\n",
       "    <tr>\n",
       "      <th>72</th>\n",
       "      <td>276</td>\n",
       "      <td>Allemagne</td>\n",
       "      <td>Indice de Production Brut par Personne (Référe...</td>\n",
       "      <td>98.54</td>\n",
       "    </tr>\n",
       "  </tbody>\n",
       "</table>\n",
       "</div>"
      ],
      "text/plain": [
       "    Code zone (M49)            Zone  \\\n",
       "13                4     Afghanistan   \n",
       "26              710  Afrique du Sud   \n",
       "41                8         Albanie   \n",
       "57               12         Algérie   \n",
       "72              276       Allemagne   \n",
       "\n",
       "                                              Élément  Valeur  \n",
       "13  Indice de Production Brut par Personne (Référe...   68.58  \n",
       "26  Indice de Production Brut par Personne (Référe...   95.44  \n",
       "41  Indice de Production Brut par Personne (Référe...  157.30  \n",
       "57  Indice de Production Brut par Personne (Référe...   97.67  \n",
       "72  Indice de Production Brut par Personne (Référe...   98.54  "
      ]
     },
     "execution_count": 95,
     "metadata": {},
     "output_type": "execute_result"
    }
   ],
   "source": [
    "indices_prod.drop(['Code Domaine', 'Code Élément', 'Code Produit (CPC)', 'Domaine', 'Code année', 'Année', 'Symbole',\n",
    "                         'Unité', 'Description du Symbole', 'Produit'], axis=1, inplace = True)\n",
    "indices_prod.head()"
   ]
  },
  {
   "cell_type": "code",
   "execution_count": 96,
   "metadata": {},
   "outputs": [
    {
     "data": {
      "application/vnd.microsoft.datawrangler.viewer.v0+json": {
       "columns": [
        {
         "name": "index",
         "rawType": "int64",
         "type": "integer"
        },
        {
         "name": "Pays",
         "rawType": "object",
         "type": "string"
        },
        {
         "name": "Code zone",
         "rawType": "int64",
         "type": "integer"
        },
        {
         "name": "Indice de Production Brut par Personne (Référence 2014-2016)",
         "rawType": "float64",
         "type": "float"
        }
       ],
       "conversionMethod": "pd.DataFrame",
       "ref": "3c6060c3-098c-4ac6-9ffc-030e6cb0a6b2",
       "rows": [
        [
         "0",
         "Afghanistan",
         "4",
         "68.58"
        ],
        [
         "1",
         "Afrique du Sud",
         "710",
         "95.44"
        ],
        [
         "2",
         "Albanie",
         "8",
         "157.3"
        ],
        [
         "3",
         "Algérie",
         "12",
         "97.67"
        ],
        [
         "4",
         "Allemagne",
         "276",
         "98.54"
        ]
       ],
       "shape": {
        "columns": 3,
        "rows": 5
       }
      },
      "text/html": [
       "<div>\n",
       "<style scoped>\n",
       "    .dataframe tbody tr th:only-of-type {\n",
       "        vertical-align: middle;\n",
       "    }\n",
       "\n",
       "    .dataframe tbody tr th {\n",
       "        vertical-align: top;\n",
       "    }\n",
       "\n",
       "    .dataframe thead th {\n",
       "        text-align: right;\n",
       "    }\n",
       "</style>\n",
       "<table border=\"1\" class=\"dataframe\">\n",
       "  <thead>\n",
       "    <tr style=\"text-align: right;\">\n",
       "      <th></th>\n",
       "      <th>Pays</th>\n",
       "      <th>Code zone</th>\n",
       "      <th>Indice de Production Brut par Personne (Référence 2014-2016)</th>\n",
       "    </tr>\n",
       "  </thead>\n",
       "  <tbody>\n",
       "    <tr>\n",
       "      <th>0</th>\n",
       "      <td>Afghanistan</td>\n",
       "      <td>4</td>\n",
       "      <td>68.58</td>\n",
       "    </tr>\n",
       "    <tr>\n",
       "      <th>1</th>\n",
       "      <td>Afrique du Sud</td>\n",
       "      <td>710</td>\n",
       "      <td>95.44</td>\n",
       "    </tr>\n",
       "    <tr>\n",
       "      <th>2</th>\n",
       "      <td>Albanie</td>\n",
       "      <td>8</td>\n",
       "      <td>157.30</td>\n",
       "    </tr>\n",
       "    <tr>\n",
       "      <th>3</th>\n",
       "      <td>Algérie</td>\n",
       "      <td>12</td>\n",
       "      <td>97.67</td>\n",
       "    </tr>\n",
       "    <tr>\n",
       "      <th>4</th>\n",
       "      <td>Allemagne</td>\n",
       "      <td>276</td>\n",
       "      <td>98.54</td>\n",
       "    </tr>\n",
       "  </tbody>\n",
       "</table>\n",
       "</div>"
      ],
      "text/plain": [
       "             Pays  Code zone  \\\n",
       "0     Afghanistan          4   \n",
       "1  Afrique du Sud        710   \n",
       "2         Albanie          8   \n",
       "3         Algérie         12   \n",
       "4       Allemagne        276   \n",
       "\n",
       "   Indice de Production Brut par Personne (Référence 2014-2016)  \n",
       "0                                              68.58             \n",
       "1                                              95.44             \n",
       "2                                             157.30             \n",
       "3                                              97.67             \n",
       "4                                              98.54             "
      ]
     },
     "execution_count": 96,
     "metadata": {},
     "output_type": "execute_result"
    }
   ],
   "source": [
    "indices_prod = pd.pivot(indices_prod, index=['Zone', 'Code zone (M49)'], columns=['Élément'], values=['Valeur'])\n",
    "indices_prod.columns = [col[1] for col in indices_prod.columns]\n",
    "indices_prod = indices_prod.reset_index()\n",
    "indices_prod = indices_prod.rename(columns={'Zone': 'Pays', 'Code zone (M49)':'Code zone'})\n",
    "indices_prod.head()"
   ]
  },
  {
   "cell_type": "markdown",
   "metadata": {},
   "source": [
    "# Clean securite_alimentaire"
   ]
  },
  {
   "cell_type": "code",
   "execution_count": 97,
   "metadata": {},
   "outputs": [
    {
     "data": {
      "application/vnd.microsoft.datawrangler.viewer.v0+json": {
       "columns": [
        {
         "name": "index",
         "rawType": "int64",
         "type": "integer"
        },
        {
         "name": "Code Domaine",
         "rawType": "object",
         "type": "string"
        },
        {
         "name": "Domaine",
         "rawType": "object",
         "type": "string"
        },
        {
         "name": "Code zone (M49)",
         "rawType": "int64",
         "type": "integer"
        },
        {
         "name": "Zone",
         "rawType": "object",
         "type": "string"
        },
        {
         "name": "Code Élément",
         "rawType": "int64",
         "type": "integer"
        },
        {
         "name": "Élément",
         "rawType": "object",
         "type": "string"
        },
        {
         "name": "Code Produit",
         "rawType": "int64",
         "type": "integer"
        },
        {
         "name": "Produit",
         "rawType": "object",
         "type": "string"
        },
        {
         "name": "Code année",
         "rawType": "int64",
         "type": "integer"
        },
        {
         "name": "Année",
         "rawType": "object",
         "type": "string"
        },
        {
         "name": "Unité",
         "rawType": "object",
         "type": "string"
        },
        {
         "name": "Valeur",
         "rawType": "object",
         "type": "string"
        },
        {
         "name": "Symbole",
         "rawType": "object",
         "type": "string"
        },
        {
         "name": "Description du Symbole",
         "rawType": "object",
         "type": "string"
        },
        {
         "name": "Note",
         "rawType": "float64",
         "type": "float"
        }
       ],
       "conversionMethod": "pd.DataFrame",
       "ref": "9b530c69-a2d8-4fec-b681-f34e8b7b3271",
       "rows": [
        [
         "0",
         "FS",
         "Données de la sécurité alimentaire",
         "4",
         "Afghanistan",
         "6121",
         "Valeur",
         "210041",
         "Prévalence de la sous-alimentation (%) (moyenne sur 3 ans)",
         "20162018",
         "2016-2018",
         "%",
         "21.4",
         "E",
         "Valeur estimée",
         null
        ],
        [
         "1",
         "FS",
         "Données de la sécurité alimentaire",
         "710",
         "Afrique du Sud",
         "6121",
         "Valeur",
         "210041",
         "Prévalence de la sous-alimentation (%) (moyenne sur 3 ans)",
         "20162018",
         "2016-2018",
         "%",
         "5.7",
         "E",
         "Valeur estimée",
         null
        ],
        [
         "2",
         "FS",
         "Données de la sécurité alimentaire",
         "8",
         "Albanie",
         "6121",
         "Valeur",
         "210041",
         "Prévalence de la sous-alimentation (%) (moyenne sur 3 ans)",
         "20162018",
         "2016-2018",
         "%",
         "4.3",
         "E",
         "Valeur estimée",
         null
        ],
        [
         "3",
         "FS",
         "Données de la sécurité alimentaire",
         "12",
         "Algérie",
         "6121",
         "Valeur",
         "210041",
         "Prévalence de la sous-alimentation (%) (moyenne sur 3 ans)",
         "20162018",
         "2016-2018",
         "%",
         "2.5",
         "E",
         "Valeur estimée",
         null
        ],
        [
         "4",
         "FS",
         "Données de la sécurité alimentaire",
         "276",
         "Allemagne",
         "6121",
         "Valeur",
         "210041",
         "Prévalence de la sous-alimentation (%) (moyenne sur 3 ans)",
         "20162018",
         "2016-2018",
         "%",
         "<2.5",
         "E",
         "Valeur estimée",
         null
        ]
       ],
       "shape": {
        "columns": 15,
        "rows": 5
       }
      },
      "text/html": [
       "<div>\n",
       "<style scoped>\n",
       "    .dataframe tbody tr th:only-of-type {\n",
       "        vertical-align: middle;\n",
       "    }\n",
       "\n",
       "    .dataframe tbody tr th {\n",
       "        vertical-align: top;\n",
       "    }\n",
       "\n",
       "    .dataframe thead th {\n",
       "        text-align: right;\n",
       "    }\n",
       "</style>\n",
       "<table border=\"1\" class=\"dataframe\">\n",
       "  <thead>\n",
       "    <tr style=\"text-align: right;\">\n",
       "      <th></th>\n",
       "      <th>Code Domaine</th>\n",
       "      <th>Domaine</th>\n",
       "      <th>Code zone (M49)</th>\n",
       "      <th>Zone</th>\n",
       "      <th>Code Élément</th>\n",
       "      <th>Élément</th>\n",
       "      <th>Code Produit</th>\n",
       "      <th>Produit</th>\n",
       "      <th>Code année</th>\n",
       "      <th>Année</th>\n",
       "      <th>Unité</th>\n",
       "      <th>Valeur</th>\n",
       "      <th>Symbole</th>\n",
       "      <th>Description du Symbole</th>\n",
       "      <th>Note</th>\n",
       "    </tr>\n",
       "  </thead>\n",
       "  <tbody>\n",
       "    <tr>\n",
       "      <th>0</th>\n",
       "      <td>FS</td>\n",
       "      <td>Données de la sécurité alimentaire</td>\n",
       "      <td>4</td>\n",
       "      <td>Afghanistan</td>\n",
       "      <td>6121</td>\n",
       "      <td>Valeur</td>\n",
       "      <td>210041</td>\n",
       "      <td>Prévalence de la sous-alimentation (%) (moyenn...</td>\n",
       "      <td>20162018</td>\n",
       "      <td>2016-2018</td>\n",
       "      <td>%</td>\n",
       "      <td>21.4</td>\n",
       "      <td>E</td>\n",
       "      <td>Valeur estimée</td>\n",
       "      <td>NaN</td>\n",
       "    </tr>\n",
       "    <tr>\n",
       "      <th>1</th>\n",
       "      <td>FS</td>\n",
       "      <td>Données de la sécurité alimentaire</td>\n",
       "      <td>710</td>\n",
       "      <td>Afrique du Sud</td>\n",
       "      <td>6121</td>\n",
       "      <td>Valeur</td>\n",
       "      <td>210041</td>\n",
       "      <td>Prévalence de la sous-alimentation (%) (moyenn...</td>\n",
       "      <td>20162018</td>\n",
       "      <td>2016-2018</td>\n",
       "      <td>%</td>\n",
       "      <td>5.7</td>\n",
       "      <td>E</td>\n",
       "      <td>Valeur estimée</td>\n",
       "      <td>NaN</td>\n",
       "    </tr>\n",
       "    <tr>\n",
       "      <th>2</th>\n",
       "      <td>FS</td>\n",
       "      <td>Données de la sécurité alimentaire</td>\n",
       "      <td>8</td>\n",
       "      <td>Albanie</td>\n",
       "      <td>6121</td>\n",
       "      <td>Valeur</td>\n",
       "      <td>210041</td>\n",
       "      <td>Prévalence de la sous-alimentation (%) (moyenn...</td>\n",
       "      <td>20162018</td>\n",
       "      <td>2016-2018</td>\n",
       "      <td>%</td>\n",
       "      <td>4.3</td>\n",
       "      <td>E</td>\n",
       "      <td>Valeur estimée</td>\n",
       "      <td>NaN</td>\n",
       "    </tr>\n",
       "    <tr>\n",
       "      <th>3</th>\n",
       "      <td>FS</td>\n",
       "      <td>Données de la sécurité alimentaire</td>\n",
       "      <td>12</td>\n",
       "      <td>Algérie</td>\n",
       "      <td>6121</td>\n",
       "      <td>Valeur</td>\n",
       "      <td>210041</td>\n",
       "      <td>Prévalence de la sous-alimentation (%) (moyenn...</td>\n",
       "      <td>20162018</td>\n",
       "      <td>2016-2018</td>\n",
       "      <td>%</td>\n",
       "      <td>2.5</td>\n",
       "      <td>E</td>\n",
       "      <td>Valeur estimée</td>\n",
       "      <td>NaN</td>\n",
       "    </tr>\n",
       "    <tr>\n",
       "      <th>4</th>\n",
       "      <td>FS</td>\n",
       "      <td>Données de la sécurité alimentaire</td>\n",
       "      <td>276</td>\n",
       "      <td>Allemagne</td>\n",
       "      <td>6121</td>\n",
       "      <td>Valeur</td>\n",
       "      <td>210041</td>\n",
       "      <td>Prévalence de la sous-alimentation (%) (moyenn...</td>\n",
       "      <td>20162018</td>\n",
       "      <td>2016-2018</td>\n",
       "      <td>%</td>\n",
       "      <td>&lt;2.5</td>\n",
       "      <td>E</td>\n",
       "      <td>Valeur estimée</td>\n",
       "      <td>NaN</td>\n",
       "    </tr>\n",
       "  </tbody>\n",
       "</table>\n",
       "</div>"
      ],
      "text/plain": [
       "  Code Domaine                             Domaine  Code zone (M49)  \\\n",
       "0           FS  Données de la sécurité alimentaire                4   \n",
       "1           FS  Données de la sécurité alimentaire              710   \n",
       "2           FS  Données de la sécurité alimentaire                8   \n",
       "3           FS  Données de la sécurité alimentaire               12   \n",
       "4           FS  Données de la sécurité alimentaire              276   \n",
       "\n",
       "             Zone  Code Élément Élément  Code Produit  \\\n",
       "0     Afghanistan          6121  Valeur        210041   \n",
       "1  Afrique du Sud          6121  Valeur        210041   \n",
       "2         Albanie          6121  Valeur        210041   \n",
       "3         Algérie          6121  Valeur        210041   \n",
       "4       Allemagne          6121  Valeur        210041   \n",
       "\n",
       "                                             Produit  Code année      Année  \\\n",
       "0  Prévalence de la sous-alimentation (%) (moyenn...    20162018  2016-2018   \n",
       "1  Prévalence de la sous-alimentation (%) (moyenn...    20162018  2016-2018   \n",
       "2  Prévalence de la sous-alimentation (%) (moyenn...    20162018  2016-2018   \n",
       "3  Prévalence de la sous-alimentation (%) (moyenn...    20162018  2016-2018   \n",
       "4  Prévalence de la sous-alimentation (%) (moyenn...    20162018  2016-2018   \n",
       "\n",
       "  Unité Valeur Symbole Description du Symbole  Note  \n",
       "0     %   21.4       E         Valeur estimée   NaN  \n",
       "1     %    5.7       E         Valeur estimée   NaN  \n",
       "2     %    4.3       E         Valeur estimée   NaN  \n",
       "3     %    2.5       E         Valeur estimée   NaN  \n",
       "4     %   <2.5       E         Valeur estimée   NaN  "
      ]
     },
     "execution_count": 97,
     "metadata": {},
     "output_type": "execute_result"
    }
   ],
   "source": [
    "securite_alimentaire.head()"
   ]
  },
  {
   "cell_type": "code",
   "execution_count": 98,
   "metadata": {},
   "outputs": [
    {
     "data": {
      "application/vnd.microsoft.datawrangler.viewer.v0+json": {
       "columns": [
        {
         "name": "index",
         "rawType": "int64",
         "type": "integer"
        },
        {
         "name": "Code zone (M49)",
         "rawType": "int64",
         "type": "integer"
        },
        {
         "name": "Zone",
         "rawType": "object",
         "type": "string"
        },
        {
         "name": "Valeur",
         "rawType": "object",
         "type": "string"
        }
       ],
       "conversionMethod": "pd.DataFrame",
       "ref": "dda91406-52de-4874-922f-e93f7b520af3",
       "rows": [
        [
         "0",
         "4",
         "Afghanistan",
         "21.4"
        ],
        [
         "1",
         "710",
         "Afrique du Sud",
         "5.7"
        ],
        [
         "2",
         "8",
         "Albanie",
         "4.3"
        ],
        [
         "3",
         "12",
         "Algérie",
         "2.5"
        ],
        [
         "4",
         "276",
         "Allemagne",
         "<2.5"
        ]
       ],
       "shape": {
        "columns": 3,
        "rows": 5
       }
      },
      "text/html": [
       "<div>\n",
       "<style scoped>\n",
       "    .dataframe tbody tr th:only-of-type {\n",
       "        vertical-align: middle;\n",
       "    }\n",
       "\n",
       "    .dataframe tbody tr th {\n",
       "        vertical-align: top;\n",
       "    }\n",
       "\n",
       "    .dataframe thead th {\n",
       "        text-align: right;\n",
       "    }\n",
       "</style>\n",
       "<table border=\"1\" class=\"dataframe\">\n",
       "  <thead>\n",
       "    <tr style=\"text-align: right;\">\n",
       "      <th></th>\n",
       "      <th>Code zone (M49)</th>\n",
       "      <th>Zone</th>\n",
       "      <th>Valeur</th>\n",
       "    </tr>\n",
       "  </thead>\n",
       "  <tbody>\n",
       "    <tr>\n",
       "      <th>0</th>\n",
       "      <td>4</td>\n",
       "      <td>Afghanistan</td>\n",
       "      <td>21.4</td>\n",
       "    </tr>\n",
       "    <tr>\n",
       "      <th>1</th>\n",
       "      <td>710</td>\n",
       "      <td>Afrique du Sud</td>\n",
       "      <td>5.7</td>\n",
       "    </tr>\n",
       "    <tr>\n",
       "      <th>2</th>\n",
       "      <td>8</td>\n",
       "      <td>Albanie</td>\n",
       "      <td>4.3</td>\n",
       "    </tr>\n",
       "    <tr>\n",
       "      <th>3</th>\n",
       "      <td>12</td>\n",
       "      <td>Algérie</td>\n",
       "      <td>2.5</td>\n",
       "    </tr>\n",
       "    <tr>\n",
       "      <th>4</th>\n",
       "      <td>276</td>\n",
       "      <td>Allemagne</td>\n",
       "      <td>&lt;2.5</td>\n",
       "    </tr>\n",
       "  </tbody>\n",
       "</table>\n",
       "</div>"
      ],
      "text/plain": [
       "   Code zone (M49)            Zone Valeur\n",
       "0                4     Afghanistan   21.4\n",
       "1              710  Afrique du Sud    5.7\n",
       "2                8         Albanie    4.3\n",
       "3               12         Algérie    2.5\n",
       "4              276       Allemagne   <2.5"
      ]
     },
     "execution_count": 98,
     "metadata": {},
     "output_type": "execute_result"
    }
   ],
   "source": [
    "securite_alimentaire.drop(['Code Domaine', 'Code Élément', 'Code Produit', 'Domaine', 'Code année', 'Année', 'Symbole',\n",
    "                         'Unité', 'Description du Symbole', 'Note', 'Élément', 'Produit'], axis=1, inplace = True)\n",
    "securite_alimentaire.head()"
   ]
  },
  {
   "cell_type": "code",
   "execution_count": 99,
   "metadata": {},
   "outputs": [
    {
     "data": {
      "application/vnd.microsoft.datawrangler.viewer.v0+json": {
       "columns": [
        {
         "name": "index",
         "rawType": "int64",
         "type": "integer"
        },
        {
         "name": "Code zone",
         "rawType": "int64",
         "type": "integer"
        },
        {
         "name": "Pays",
         "rawType": "object",
         "type": "string"
        },
        {
         "name": "Prévalence de la sous alimentation moyenne (%)",
         "rawType": "object",
         "type": "string"
        }
       ],
       "conversionMethod": "pd.DataFrame",
       "ref": "a02da462-f5f3-413c-9f42-096f165f4cd5",
       "rows": [
        [
         "0",
         "4",
         "Afghanistan",
         "21.4"
        ],
        [
         "1",
         "710",
         "Afrique du Sud",
         "5.7"
        ],
        [
         "2",
         "8",
         "Albanie",
         "4.3"
        ],
        [
         "3",
         "12",
         "Algérie",
         "2.5"
        ],
        [
         "4",
         "276",
         "Allemagne",
         "<2.5"
        ]
       ],
       "shape": {
        "columns": 3,
        "rows": 5
       }
      },
      "text/html": [
       "<div>\n",
       "<style scoped>\n",
       "    .dataframe tbody tr th:only-of-type {\n",
       "        vertical-align: middle;\n",
       "    }\n",
       "\n",
       "    .dataframe tbody tr th {\n",
       "        vertical-align: top;\n",
       "    }\n",
       "\n",
       "    .dataframe thead th {\n",
       "        text-align: right;\n",
       "    }\n",
       "</style>\n",
       "<table border=\"1\" class=\"dataframe\">\n",
       "  <thead>\n",
       "    <tr style=\"text-align: right;\">\n",
       "      <th></th>\n",
       "      <th>Code zone</th>\n",
       "      <th>Pays</th>\n",
       "      <th>Prévalence de la sous alimentation moyenne (%)</th>\n",
       "    </tr>\n",
       "  </thead>\n",
       "  <tbody>\n",
       "    <tr>\n",
       "      <th>0</th>\n",
       "      <td>4</td>\n",
       "      <td>Afghanistan</td>\n",
       "      <td>21.4</td>\n",
       "    </tr>\n",
       "    <tr>\n",
       "      <th>1</th>\n",
       "      <td>710</td>\n",
       "      <td>Afrique du Sud</td>\n",
       "      <td>5.7</td>\n",
       "    </tr>\n",
       "    <tr>\n",
       "      <th>2</th>\n",
       "      <td>8</td>\n",
       "      <td>Albanie</td>\n",
       "      <td>4.3</td>\n",
       "    </tr>\n",
       "    <tr>\n",
       "      <th>3</th>\n",
       "      <td>12</td>\n",
       "      <td>Algérie</td>\n",
       "      <td>2.5</td>\n",
       "    </tr>\n",
       "    <tr>\n",
       "      <th>4</th>\n",
       "      <td>276</td>\n",
       "      <td>Allemagne</td>\n",
       "      <td>&lt;2.5</td>\n",
       "    </tr>\n",
       "  </tbody>\n",
       "</table>\n",
       "</div>"
      ],
      "text/plain": [
       "   Code zone            Pays Prévalence de la sous alimentation moyenne (%)\n",
       "0          4     Afghanistan                                           21.4\n",
       "1        710  Afrique du Sud                                            5.7\n",
       "2          8         Albanie                                            4.3\n",
       "3         12         Algérie                                            2.5\n",
       "4        276       Allemagne                                           <2.5"
      ]
     },
     "execution_count": 99,
     "metadata": {},
     "output_type": "execute_result"
    }
   ],
   "source": [
    "securite_alimentaire = securite_alimentaire.rename(columns={'Valeur': 'Prévalence de la sous alimentation moyenne (%)', 'Zone':'Pays', 'Code zone (M49)':\"Code zone\"})\n",
    "securite_alimentaire.head()"
   ]
  },
  {
   "cell_type": "code",
   "execution_count": 100,
   "metadata": {},
   "outputs": [
    {
     "data": {
      "text/plain": [
       "Code zone                                          0\n",
       "Pays                                               0\n",
       "Prévalence de la sous alimentation moyenne (%)    31\n",
       "dtype: int64"
      ]
     },
     "execution_count": 100,
     "metadata": {},
     "output_type": "execute_result"
    }
   ],
   "source": [
    "securite_alimentaire.isna().sum()"
   ]
  },
  {
   "cell_type": "code",
   "execution_count": 101,
   "metadata": {},
   "outputs": [
    {
     "name": "stdout",
     "output_type": "stream",
     "text": [
      "     Code zone                           Pays  \\\n",
      "5           20                        Andorre   \n",
      "7           28             Antigua-et-Barbuda   \n",
      "14          44                        Bahamas   \n",
      "15          48                        Bahreïn   \n",
      "22          60                       Bermudes   \n",
      "23          64                        Bhoutan   \n",
      "28          96              Brunéi Darussalam   \n",
      "31         108                        Burundi   \n",
      "57         232                       Érythrée   \n",
      "72         308                        Grenade   \n",
      "73         304                      Groenland   \n",
      "76         226             Guinée équatoriale   \n",
      "82         184                      Îles Cook   \n",
      "83         584                  Îles Marshall   \n",
      "101        426                        Lesotho   \n",
      "112        462                       Maldives   \n",
      "119        583  Micronésie (États fédérés de)   \n",
      "125        520                          Nauru   \n",
      "130        570                          Nioué   \n",
      "138        585                         Palaos   \n",
      "139        275                      Palestine   \n",
      "148        630                     Porto Rico   \n",
      "150        634                          Qatar   \n",
      "163        662                   Sainte-Lucie   \n",
      "164        659           Saint-Kitts-et-Nevis   \n",
      "167         16              Samoa américaines   \n",
      "173        702                      Singapour   \n",
      "178        728                  Soudan du Sud   \n",
      "189        772                       Tokélaou   \n",
      "190        776                          Tonga   \n",
      "195        798                         Tuvalu   \n",
      "\n",
      "    Prévalence de la sous alimentation moyenne (%)  \n",
      "5                                              NaN  \n",
      "7                                              NaN  \n",
      "14                                             NaN  \n",
      "15                                             NaN  \n",
      "22                                             NaN  \n",
      "23                                             NaN  \n",
      "28                                             NaN  \n",
      "31                                             NaN  \n",
      "57                                             NaN  \n",
      "72                                             NaN  \n",
      "73                                             NaN  \n",
      "76                                             NaN  \n",
      "82                                             NaN  \n",
      "83                                             NaN  \n",
      "101                                            NaN  \n",
      "112                                            NaN  \n",
      "119                                            NaN  \n",
      "125                                            NaN  \n",
      "130                                            NaN  \n",
      "138                                            NaN  \n",
      "139                                            NaN  \n",
      "148                                            NaN  \n",
      "150                                            NaN  \n",
      "163                                            NaN  \n",
      "164                                            NaN  \n",
      "167                                            NaN  \n",
      "173                                            NaN  \n",
      "178                                            NaN  \n",
      "189                                            NaN  \n",
      "190                                            NaN  \n",
      "195                                            NaN  \n"
     ]
    }
   ],
   "source": [
    "securite_alimentaire_na = securite_alimentaire[securite_alimentaire.isna().any(axis=1)]\n",
    "print(securite_alimentaire_na)"
   ]
  },
  {
   "cell_type": "code",
   "execution_count": 102,
   "metadata": {},
   "outputs": [],
   "source": [
    "# Remplacement des NaN par 0, à re vérifier après la jointure : si ces pays manquent de données ils seront supprimés de l'analyse\n",
    "securite_alimentaire = securite_alimentaire.fillna(0)"
   ]
  },
  {
   "cell_type": "markdown",
   "metadata": {},
   "source": [
    "# Jointure"
   ]
  },
  {
   "cell_type": "code",
   "execution_count": 103,
   "metadata": {},
   "outputs": [
    {
     "data": {
      "application/vnd.microsoft.datawrangler.viewer.v0+json": {
       "columns": [
        {
         "name": "index",
         "rawType": "int64",
         "type": "integer"
        },
        {
         "name": "Pays_x",
         "rawType": "object",
         "type": "string"
        },
        {
         "name": "Code zone",
         "rawType": "int64",
         "type": "integer"
        },
        {
         "name": "Disponibilité alimentaire (Kcal/personne/jour)",
         "rawType": "float64",
         "type": "float"
        },
        {
         "name": "Disponibilité alimentaire en quantité (kg/personne/an)",
         "rawType": "float64",
         "type": "float"
        },
        {
         "name": "Disponibilité de protéines en quantité (g/personne/jour)",
         "rawType": "float64",
         "type": "float"
        },
        {
         "name": "Exportations - Quantité",
         "rawType": "float64",
         "type": "float"
        },
        {
         "name": "Importations - Quantité",
         "rawType": "float64",
         "type": "float"
        },
        {
         "name": "Production",
         "rawType": "float64",
         "type": "float"
        },
        {
         "name": "Pays_y",
         "rawType": "object",
         "type": "string"
        },
        {
         "name": "Population",
         "rawType": "float64",
         "type": "float"
        },
        {
         "name": "_merge",
         "rawType": "category",
         "type": "unknown"
        }
       ],
       "conversionMethod": "pd.DataFrame",
       "ref": "8eb75a27-1827-45b5-8ff2-145974bf9031",
       "rows": [
        [
         "0",
         "Afghanistan",
         "2",
         "5.0",
         "1.53",
         "0.54",
         "0.0",
         "29.0",
         "28.0",
         "Afghanistan",
         "36296113.0",
         "both"
        ],
        [
         "1",
         "Afrique du Sud",
         "202",
         "143.0",
         "35.69",
         "14.11",
         "63.0",
         "514.0",
         "1667.0",
         "Afrique du Sud",
         "57009756.0",
         "both"
        ],
        [
         "2",
         "Albanie",
         "3",
         "85.0",
         "16.36",
         "6.26",
         "0.0",
         "38.0",
         "13.0",
         "Albanie",
         "2884169.0",
         "both"
        ],
        [
         "3",
         "Algérie",
         "4",
         "22.0",
         "6.38",
         "1.97",
         "0.0",
         "2.0",
         "275.0",
         "Algérie",
         "41389189.0",
         "both"
        ],
        [
         "4",
         "Allemagne",
         "79",
         "71.0",
         "19.47",
         "7.96",
         "646.0",
         "842.0",
         "1514.0",
         "Allemagne",
         "82658409.0",
         "both"
        ]
       ],
       "shape": {
        "columns": 11,
        "rows": 5
       }
      },
      "text/html": [
       "<div>\n",
       "<style scoped>\n",
       "    .dataframe tbody tr th:only-of-type {\n",
       "        vertical-align: middle;\n",
       "    }\n",
       "\n",
       "    .dataframe tbody tr th {\n",
       "        vertical-align: top;\n",
       "    }\n",
       "\n",
       "    .dataframe thead th {\n",
       "        text-align: right;\n",
       "    }\n",
       "</style>\n",
       "<table border=\"1\" class=\"dataframe\">\n",
       "  <thead>\n",
       "    <tr style=\"text-align: right;\">\n",
       "      <th></th>\n",
       "      <th>Pays_x</th>\n",
       "      <th>Code zone</th>\n",
       "      <th>Disponibilité alimentaire (Kcal/personne/jour)</th>\n",
       "      <th>Disponibilité alimentaire en quantité (kg/personne/an)</th>\n",
       "      <th>Disponibilité de protéines en quantité (g/personne/jour)</th>\n",
       "      <th>Exportations - Quantité</th>\n",
       "      <th>Importations - Quantité</th>\n",
       "      <th>Production</th>\n",
       "      <th>Pays_y</th>\n",
       "      <th>Population</th>\n",
       "      <th>_merge</th>\n",
       "    </tr>\n",
       "  </thead>\n",
       "  <tbody>\n",
       "    <tr>\n",
       "      <th>0</th>\n",
       "      <td>Afghanistan</td>\n",
       "      <td>2</td>\n",
       "      <td>5.0</td>\n",
       "      <td>1.53</td>\n",
       "      <td>0.54</td>\n",
       "      <td>0.0</td>\n",
       "      <td>29.0</td>\n",
       "      <td>28.0</td>\n",
       "      <td>Afghanistan</td>\n",
       "      <td>36296113.0</td>\n",
       "      <td>both</td>\n",
       "    </tr>\n",
       "    <tr>\n",
       "      <th>1</th>\n",
       "      <td>Afrique du Sud</td>\n",
       "      <td>202</td>\n",
       "      <td>143.0</td>\n",
       "      <td>35.69</td>\n",
       "      <td>14.11</td>\n",
       "      <td>63.0</td>\n",
       "      <td>514.0</td>\n",
       "      <td>1667.0</td>\n",
       "      <td>Afrique du Sud</td>\n",
       "      <td>57009756.0</td>\n",
       "      <td>both</td>\n",
       "    </tr>\n",
       "    <tr>\n",
       "      <th>2</th>\n",
       "      <td>Albanie</td>\n",
       "      <td>3</td>\n",
       "      <td>85.0</td>\n",
       "      <td>16.36</td>\n",
       "      <td>6.26</td>\n",
       "      <td>0.0</td>\n",
       "      <td>38.0</td>\n",
       "      <td>13.0</td>\n",
       "      <td>Albanie</td>\n",
       "      <td>2884169.0</td>\n",
       "      <td>both</td>\n",
       "    </tr>\n",
       "    <tr>\n",
       "      <th>3</th>\n",
       "      <td>Algérie</td>\n",
       "      <td>4</td>\n",
       "      <td>22.0</td>\n",
       "      <td>6.38</td>\n",
       "      <td>1.97</td>\n",
       "      <td>0.0</td>\n",
       "      <td>2.0</td>\n",
       "      <td>275.0</td>\n",
       "      <td>Algérie</td>\n",
       "      <td>41389189.0</td>\n",
       "      <td>both</td>\n",
       "    </tr>\n",
       "    <tr>\n",
       "      <th>4</th>\n",
       "      <td>Allemagne</td>\n",
       "      <td>79</td>\n",
       "      <td>71.0</td>\n",
       "      <td>19.47</td>\n",
       "      <td>7.96</td>\n",
       "      <td>646.0</td>\n",
       "      <td>842.0</td>\n",
       "      <td>1514.0</td>\n",
       "      <td>Allemagne</td>\n",
       "      <td>82658409.0</td>\n",
       "      <td>both</td>\n",
       "    </tr>\n",
       "  </tbody>\n",
       "</table>\n",
       "</div>"
      ],
      "text/plain": [
       "           Pays_x  Code zone  Disponibilité alimentaire (Kcal/personne/jour)  \\\n",
       "0     Afghanistan          2                                             5.0   \n",
       "1  Afrique du Sud        202                                           143.0   \n",
       "2         Albanie          3                                            85.0   \n",
       "3         Algérie          4                                            22.0   \n",
       "4       Allemagne         79                                            71.0   \n",
       "\n",
       "   Disponibilité alimentaire en quantité (kg/personne/an)  \\\n",
       "0                                               1.53        \n",
       "1                                              35.69        \n",
       "2                                              16.36        \n",
       "3                                               6.38        \n",
       "4                                              19.47        \n",
       "\n",
       "   Disponibilité de protéines en quantité (g/personne/jour)  \\\n",
       "0                                               0.54          \n",
       "1                                              14.11          \n",
       "2                                               6.26          \n",
       "3                                               1.97          \n",
       "4                                               7.96          \n",
       "\n",
       "   Exportations - Quantité  Importations - Quantité  Production  \\\n",
       "0                      0.0                     29.0        28.0   \n",
       "1                     63.0                    514.0      1667.0   \n",
       "2                      0.0                     38.0        13.0   \n",
       "3                      0.0                      2.0       275.0   \n",
       "4                    646.0                    842.0      1514.0   \n",
       "\n",
       "           Pays_y  Population _merge  \n",
       "0     Afghanistan  36296113.0   both  \n",
       "1  Afrique du Sud  57009756.0   both  \n",
       "2         Albanie   2884169.0   both  \n",
       "3         Algérie  41389189.0   both  \n",
       "4       Allemagne  82658409.0   both  "
      ]
     },
     "execution_count": 103,
     "metadata": {},
     "output_type": "execute_result"
    }
   ],
   "source": [
    "merged_1 = pd.merge(dispo_alimentaire, population, on='Code zone', how='left', indicator=True)\n",
    "merged_1.head()"
   ]
  },
  {
   "cell_type": "code",
   "execution_count": 104,
   "metadata": {},
   "outputs": [
    {
     "data": {
      "text/plain": [
       "['both']\n",
       "Categories (3, object): ['left_only', 'right_only', 'both']"
      ]
     },
     "execution_count": 104,
     "metadata": {},
     "output_type": "execute_result"
    }
   ],
   "source": [
    "merged_1['_merge'].unique()"
   ]
  },
  {
   "cell_type": "code",
   "execution_count": 105,
   "metadata": {},
   "outputs": [
    {
     "data": {
      "text/plain": [
       "Pays_x                                                      0\n",
       "Code zone                                                   0\n",
       "Disponibilité alimentaire (Kcal/personne/jour)              0\n",
       "Disponibilité alimentaire en quantité (kg/personne/an)      0\n",
       "Disponibilité de protéines en quantité (g/personne/jour)    0\n",
       "Exportations - Quantité                                     0\n",
       "Importations - Quantité                                     0\n",
       "Production                                                  0\n",
       "Pays_y                                                      0\n",
       "Population                                                  0\n",
       "_merge                                                      0\n",
       "dtype: int64"
      ]
     },
     "execution_count": 105,
     "metadata": {},
     "output_type": "execute_result"
    }
   ],
   "source": [
    "merged_1.isna().sum()"
   ]
  },
  {
   "cell_type": "code",
   "execution_count": 106,
   "metadata": {},
   "outputs": [],
   "source": [
    "merged_1 = merged_1.drop(columns=['_merge', 'Pays_y'], axis=1)\n",
    "merged_1 = merged_1.rename(columns={'Pays_x': 'Pays'})"
   ]
  },
  {
   "cell_type": "code",
   "execution_count": 107,
   "metadata": {},
   "outputs": [
    {
     "data": {
      "application/vnd.microsoft.datawrangler.viewer.v0+json": {
       "columns": [
        {
         "name": "index",
         "rawType": "int64",
         "type": "integer"
        },
        {
         "name": "Pays_x",
         "rawType": "object",
         "type": "string"
        },
        {
         "name": "Code zone",
         "rawType": "int64",
         "type": "integer"
        },
        {
         "name": "Croissance annuelle %",
         "rawType": "float64",
         "type": "float"
        },
        {
         "name": "PIB",
         "rawType": "float64",
         "type": "float"
        },
        {
         "name": "Pays_y",
         "rawType": "object",
         "type": "string"
        },
        {
         "name": "Prévalence de la sous alimentation moyenne (%)",
         "rawType": "object",
         "type": "string"
        },
        {
         "name": "_merge",
         "rawType": "category",
         "type": "unknown"
        }
       ],
       "conversionMethod": "pd.DataFrame",
       "ref": "8e119894-2c6d-4b87-9636-5811c37cac5c",
       "rows": [
        [
         "0",
         "Afghanistan",
         "4",
         "4.444345",
         "19034.30282",
         "Afghanistan",
         "21.4",
         "both"
        ],
        [
         "1",
         "Afrique du Sud",
         "710",
         "17.703799",
         "380851.444101",
         "Afrique du Sud",
         "5.7",
         "both"
        ],
        [
         "2",
         "Albanie",
         "8",
         "9.765943",
         "13019.729856",
         "Albanie",
         "4.3",
         "both"
        ],
        [
         "3",
         "Algérie",
         "12",
         "6.287892",
         "170096.987241",
         "Algérie",
         "2.5",
         "both"
        ],
        [
         "4",
         "Allemagne",
         "276",
         "6.441276",
         "3690849.152518",
         "Allemagne",
         "<2.5",
         "both"
        ]
       ],
       "shape": {
        "columns": 7,
        "rows": 5
       }
      },
      "text/html": [
       "<div>\n",
       "<style scoped>\n",
       "    .dataframe tbody tr th:only-of-type {\n",
       "        vertical-align: middle;\n",
       "    }\n",
       "\n",
       "    .dataframe tbody tr th {\n",
       "        vertical-align: top;\n",
       "    }\n",
       "\n",
       "    .dataframe thead th {\n",
       "        text-align: right;\n",
       "    }\n",
       "</style>\n",
       "<table border=\"1\" class=\"dataframe\">\n",
       "  <thead>\n",
       "    <tr style=\"text-align: right;\">\n",
       "      <th></th>\n",
       "      <th>Pays_x</th>\n",
       "      <th>Code zone</th>\n",
       "      <th>Croissance annuelle %</th>\n",
       "      <th>PIB</th>\n",
       "      <th>Pays_y</th>\n",
       "      <th>Prévalence de la sous alimentation moyenne (%)</th>\n",
       "      <th>_merge</th>\n",
       "    </tr>\n",
       "  </thead>\n",
       "  <tbody>\n",
       "    <tr>\n",
       "      <th>0</th>\n",
       "      <td>Afghanistan</td>\n",
       "      <td>4</td>\n",
       "      <td>4.444345</td>\n",
       "      <td>1.903430e+04</td>\n",
       "      <td>Afghanistan</td>\n",
       "      <td>21.4</td>\n",
       "      <td>both</td>\n",
       "    </tr>\n",
       "    <tr>\n",
       "      <th>1</th>\n",
       "      <td>Afrique du Sud</td>\n",
       "      <td>710</td>\n",
       "      <td>17.703799</td>\n",
       "      <td>3.808514e+05</td>\n",
       "      <td>Afrique du Sud</td>\n",
       "      <td>5.7</td>\n",
       "      <td>both</td>\n",
       "    </tr>\n",
       "    <tr>\n",
       "      <th>2</th>\n",
       "      <td>Albanie</td>\n",
       "      <td>8</td>\n",
       "      <td>9.765943</td>\n",
       "      <td>1.301973e+04</td>\n",
       "      <td>Albanie</td>\n",
       "      <td>4.3</td>\n",
       "      <td>both</td>\n",
       "    </tr>\n",
       "    <tr>\n",
       "      <th>3</th>\n",
       "      <td>Algérie</td>\n",
       "      <td>12</td>\n",
       "      <td>6.287892</td>\n",
       "      <td>1.700970e+05</td>\n",
       "      <td>Algérie</td>\n",
       "      <td>2.5</td>\n",
       "      <td>both</td>\n",
       "    </tr>\n",
       "    <tr>\n",
       "      <th>4</th>\n",
       "      <td>Allemagne</td>\n",
       "      <td>276</td>\n",
       "      <td>6.441276</td>\n",
       "      <td>3.690849e+06</td>\n",
       "      <td>Allemagne</td>\n",
       "      <td>&lt;2.5</td>\n",
       "      <td>both</td>\n",
       "    </tr>\n",
       "  </tbody>\n",
       "</table>\n",
       "</div>"
      ],
      "text/plain": [
       "           Pays_x  Code zone  Croissance annuelle %           PIB  \\\n",
       "0     Afghanistan          4               4.444345  1.903430e+04   \n",
       "1  Afrique du Sud        710              17.703799  3.808514e+05   \n",
       "2         Albanie          8               9.765943  1.301973e+04   \n",
       "3         Algérie         12               6.287892  1.700970e+05   \n",
       "4       Allemagne        276               6.441276  3.690849e+06   \n",
       "\n",
       "           Pays_y Prévalence de la sous alimentation moyenne (%) _merge  \n",
       "0     Afghanistan                                           21.4   both  \n",
       "1  Afrique du Sud                                            5.7   both  \n",
       "2         Albanie                                            4.3   both  \n",
       "3         Algérie                                            2.5   both  \n",
       "4       Allemagne                                           <2.5   both  "
      ]
     },
     "execution_count": 107,
     "metadata": {},
     "output_type": "execute_result"
    }
   ],
   "source": [
    "merged_2 = pd.merge(indicateurs_macro, securite_alimentaire, on='Code zone', how='left', indicator=True)\n",
    "merged_2.head()"
   ]
  },
  {
   "cell_type": "code",
   "execution_count": 108,
   "metadata": {},
   "outputs": [
    {
     "data": {
      "text/plain": [
       "['both', 'left_only']\n",
       "Categories (3, object): ['left_only', 'right_only', 'both']"
      ]
     },
     "execution_count": 108,
     "metadata": {},
     "output_type": "execute_result"
    }
   ],
   "source": [
    "merged_2['_merge'].unique()"
   ]
  },
  {
   "cell_type": "code",
   "execution_count": 109,
   "metadata": {},
   "outputs": [
    {
     "name": "stdout",
     "output_type": "stream",
     "text": [
      "Nombre de lignes sans correspondance : 11\n",
      "Liste des pays manquants :\n",
      "['Anguilla', 'Aruba', 'Curaçao', 'Liechtenstein', 'Monaco', 'Montserrat', 'Saint-Marin', 'Sint Maarten (partie néerlandaise)', 'Îles Caïmanes', 'Îles Turques-et-Caïques', 'Îles Vierges britanniques']\n"
     ]
    }
   ],
   "source": [
    "no_match = merged_2[merged_2['_merge'] != 'both']\n",
    "print(f\"Nombre de lignes sans correspondance : {len(no_match)}\")\n",
    "no_match_country = no_match['Pays_x'].unique().tolist()\n",
    "print(\"Liste des pays manquants :\")\n",
    "print(no_match_country)"
   ]
  },
  {
   "cell_type": "code",
   "execution_count": 110,
   "metadata": {},
   "outputs": [],
   "source": [
    "# Ce sont des pays de faible population que l'on ne retrouve pas dans les mesures de la table securite_alimentaire, et qui auront peu \n",
    "# d'incidence pour l'analyse, on peut donc les supprimer :\n",
    "merged_2 = merged_2[merged_2['_merge'] == 'both']\n",
    "merged_2 = merged_2.drop(columns=['_merge', 'Pays_y'], axis=1)"
   ]
  },
  {
   "cell_type": "code",
   "execution_count": 111,
   "metadata": {},
   "outputs": [
    {
     "data": {
      "application/vnd.microsoft.datawrangler.viewer.v0+json": {
       "columns": [
        {
         "name": "index",
         "rawType": "int64",
         "type": "integer"
        },
        {
         "name": "Pays_x",
         "rawType": "object",
         "type": "string"
        },
        {
         "name": "Code zone",
         "rawType": "int64",
         "type": "integer"
        },
        {
         "name": "Croissance annuelle %",
         "rawType": "float64",
         "type": "float"
        },
        {
         "name": "PIB",
         "rawType": "float64",
         "type": "float"
        },
        {
         "name": "Prévalence de la sous alimentation moyenne (%)",
         "rawType": "object",
         "type": "string"
        },
        {
         "name": "Pays",
         "rawType": "object",
         "type": "string"
        },
        {
         "name": "Indice de Production Brut par Personne (Référence 2014-2016)",
         "rawType": "float64",
         "type": "float"
        },
        {
         "name": "_merge",
         "rawType": "category",
         "type": "unknown"
        }
       ],
       "conversionMethod": "pd.DataFrame",
       "ref": "1ca3f5ae-b1cf-4f4d-a51b-153d4eeb9e9e",
       "rows": [
        [
         "0",
         "Afghanistan",
         "4",
         "4.444345",
         "19034.30282",
         "21.4",
         "Afghanistan",
         "68.58",
         "both"
        ],
        [
         "1",
         "Afrique du Sud",
         "710",
         "17.703799",
         "380851.444101",
         "5.7",
         "Afrique du Sud",
         "95.44",
         "both"
        ],
        [
         "2",
         "Albanie",
         "8",
         "9.765943",
         "13019.729856",
         "4.3",
         "Albanie",
         "157.3",
         "both"
        ],
        [
         "3",
         "Algérie",
         "12",
         "6.287892",
         "170096.987241",
         "2.5",
         "Algérie",
         "97.67",
         "both"
        ],
        [
         "4",
         "Allemagne",
         "276",
         "6.441276",
         "3690849.152518",
         "<2.5",
         "Allemagne",
         "98.54",
         "both"
        ]
       ],
       "shape": {
        "columns": 8,
        "rows": 5
       }
      },
      "text/html": [
       "<div>\n",
       "<style scoped>\n",
       "    .dataframe tbody tr th:only-of-type {\n",
       "        vertical-align: middle;\n",
       "    }\n",
       "\n",
       "    .dataframe tbody tr th {\n",
       "        vertical-align: top;\n",
       "    }\n",
       "\n",
       "    .dataframe thead th {\n",
       "        text-align: right;\n",
       "    }\n",
       "</style>\n",
       "<table border=\"1\" class=\"dataframe\">\n",
       "  <thead>\n",
       "    <tr style=\"text-align: right;\">\n",
       "      <th></th>\n",
       "      <th>Pays_x</th>\n",
       "      <th>Code zone</th>\n",
       "      <th>Croissance annuelle %</th>\n",
       "      <th>PIB</th>\n",
       "      <th>Prévalence de la sous alimentation moyenne (%)</th>\n",
       "      <th>Pays</th>\n",
       "      <th>Indice de Production Brut par Personne (Référence 2014-2016)</th>\n",
       "      <th>_merge</th>\n",
       "    </tr>\n",
       "  </thead>\n",
       "  <tbody>\n",
       "    <tr>\n",
       "      <th>0</th>\n",
       "      <td>Afghanistan</td>\n",
       "      <td>4</td>\n",
       "      <td>4.444345</td>\n",
       "      <td>1.903430e+04</td>\n",
       "      <td>21.4</td>\n",
       "      <td>Afghanistan</td>\n",
       "      <td>68.58</td>\n",
       "      <td>both</td>\n",
       "    </tr>\n",
       "    <tr>\n",
       "      <th>1</th>\n",
       "      <td>Afrique du Sud</td>\n",
       "      <td>710</td>\n",
       "      <td>17.703799</td>\n",
       "      <td>3.808514e+05</td>\n",
       "      <td>5.7</td>\n",
       "      <td>Afrique du Sud</td>\n",
       "      <td>95.44</td>\n",
       "      <td>both</td>\n",
       "    </tr>\n",
       "    <tr>\n",
       "      <th>2</th>\n",
       "      <td>Albanie</td>\n",
       "      <td>8</td>\n",
       "      <td>9.765943</td>\n",
       "      <td>1.301973e+04</td>\n",
       "      <td>4.3</td>\n",
       "      <td>Albanie</td>\n",
       "      <td>157.30</td>\n",
       "      <td>both</td>\n",
       "    </tr>\n",
       "    <tr>\n",
       "      <th>3</th>\n",
       "      <td>Algérie</td>\n",
       "      <td>12</td>\n",
       "      <td>6.287892</td>\n",
       "      <td>1.700970e+05</td>\n",
       "      <td>2.5</td>\n",
       "      <td>Algérie</td>\n",
       "      <td>97.67</td>\n",
       "      <td>both</td>\n",
       "    </tr>\n",
       "    <tr>\n",
       "      <th>4</th>\n",
       "      <td>Allemagne</td>\n",
       "      <td>276</td>\n",
       "      <td>6.441276</td>\n",
       "      <td>3.690849e+06</td>\n",
       "      <td>&lt;2.5</td>\n",
       "      <td>Allemagne</td>\n",
       "      <td>98.54</td>\n",
       "      <td>both</td>\n",
       "    </tr>\n",
       "  </tbody>\n",
       "</table>\n",
       "</div>"
      ],
      "text/plain": [
       "           Pays_x  Code zone  Croissance annuelle %           PIB  \\\n",
       "0     Afghanistan          4               4.444345  1.903430e+04   \n",
       "1  Afrique du Sud        710              17.703799  3.808514e+05   \n",
       "2         Albanie          8               9.765943  1.301973e+04   \n",
       "3         Algérie         12               6.287892  1.700970e+05   \n",
       "4       Allemagne        276               6.441276  3.690849e+06   \n",
       "\n",
       "  Prévalence de la sous alimentation moyenne (%)            Pays  \\\n",
       "0                                           21.4     Afghanistan   \n",
       "1                                            5.7  Afrique du Sud   \n",
       "2                                            4.3         Albanie   \n",
       "3                                            2.5         Algérie   \n",
       "4                                           <2.5       Allemagne   \n",
       "\n",
       "   Indice de Production Brut par Personne (Référence 2014-2016) _merge  \n",
       "0                                              68.58              both  \n",
       "1                                              95.44              both  \n",
       "2                                             157.30              both  \n",
       "3                                              97.67              both  \n",
       "4                                              98.54              both  "
      ]
     },
     "execution_count": 111,
     "metadata": {},
     "output_type": "execute_result"
    }
   ],
   "source": [
    "# Jointure du 3e fichier\n",
    "merged_2 = pd.merge(merged_2, indices_prod, on='Code zone', how='left', indicator=True)\n",
    "merged_2.head()"
   ]
  },
  {
   "cell_type": "code",
   "execution_count": 112,
   "metadata": {},
   "outputs": [
    {
     "data": {
      "text/plain": [
       "['both', 'left_only']\n",
       "Categories (3, object): ['left_only', 'right_only', 'both']"
      ]
     },
     "execution_count": 112,
     "metadata": {},
     "output_type": "execute_result"
    }
   ],
   "source": [
    "merged_2['_merge'].unique()"
   ]
  },
  {
   "cell_type": "code",
   "execution_count": 113,
   "metadata": {},
   "outputs": [
    {
     "name": "stdout",
     "output_type": "stream",
     "text": [
      "Nombre de lignes sans correspondance : 7\n",
      "Liste des pays manquants :\n",
      "['Andorre', 'Bermudes', 'Djibouti', 'Groenland', 'Maldives', 'Palaos', 'Îles Marshall']\n"
     ]
    }
   ],
   "source": [
    "no_match = merged_2[merged_2['_merge'] != 'both']\n",
    "print(f\"Nombre de lignes sans correspondance : {len(no_match)}\")\n",
    "no_match_country = no_match['Pays_x'].unique().tolist()\n",
    "print(\"Liste des pays manquants :\")\n",
    "print(no_match_country)"
   ]
  },
  {
   "cell_type": "code",
   "execution_count": 114,
   "metadata": {},
   "outputs": [],
   "source": [
    "# La ligne Chine est la somme des différents territoire de HK, Macao et Chine continentale, pour garder les spécificités de chaque territoire\n",
    "# on retire la ligne Chine globale\n",
    "# Supposons que votre DataFrame s'appelle 'df'\n",
    "merged_2 = merged_2.drop(merged_2[merged_2['Pays'] == 'Chine'].index)\n"
   ]
  },
  {
   "cell_type": "code",
   "execution_count": 115,
   "metadata": {},
   "outputs": [],
   "source": [
    "# Ce sont des pays de faible population que l'on ne retrouve pas dans les mesures de la table securite_alimentaire, et qui auront peu \n",
    "# d'incidence pour l'analyse, on peut donc les supprimer :\n",
    "merged_2 = merged_2[merged_2['_merge'] == 'both']\n",
    "merged_2 = merged_2.drop(columns=['_merge', 'Pays'], axis=1)\n",
    "merged_2 = merged_2.rename(columns={'Pays_x': 'Pays'})"
   ]
  },
  {
   "cell_type": "code",
   "execution_count": 116,
   "metadata": {},
   "outputs": [
    {
     "data": {
      "application/vnd.microsoft.datawrangler.viewer.v0+json": {
       "columns": [
        {
         "name": "index",
         "rawType": "int64",
         "type": "integer"
        },
        {
         "name": "Pays",
         "rawType": "object",
         "type": "string"
        },
        {
         "name": "Code zone_x",
         "rawType": "float64",
         "type": "float"
        },
        {
         "name": "Disponibilité alimentaire (Kcal/personne/jour)",
         "rawType": "float64",
         "type": "float"
        },
        {
         "name": "Disponibilité alimentaire en quantité (kg/personne/an)",
         "rawType": "float64",
         "type": "float"
        },
        {
         "name": "Disponibilité de protéines en quantité (g/personne/jour)",
         "rawType": "float64",
         "type": "float"
        },
        {
         "name": "Exportations - Quantité",
         "rawType": "float64",
         "type": "float"
        },
        {
         "name": "Importations - Quantité",
         "rawType": "float64",
         "type": "float"
        },
        {
         "name": "Production",
         "rawType": "float64",
         "type": "float"
        },
        {
         "name": "Population",
         "rawType": "float64",
         "type": "float"
        },
        {
         "name": "Code zone_y",
         "rawType": "float64",
         "type": "float"
        },
        {
         "name": "Croissance annuelle %",
         "rawType": "float64",
         "type": "float"
        },
        {
         "name": "PIB",
         "rawType": "float64",
         "type": "float"
        },
        {
         "name": "Prévalence de la sous alimentation moyenne (%)",
         "rawType": "object",
         "type": "string"
        },
        {
         "name": "Indice de Production Brut par Personne (Référence 2014-2016)",
         "rawType": "float64",
         "type": "float"
        },
        {
         "name": "_merge",
         "rawType": "category",
         "type": "unknown"
        }
       ],
       "conversionMethod": "pd.DataFrame",
       "ref": "e2d1ff2b-5b25-4d7c-9f08-298333fbd50e",
       "rows": [
        [
         "0",
         "Afghanistan",
         "2.0",
         "5.0",
         "1.53",
         "0.54",
         "0.0",
         "29.0",
         "28.0",
         "36296113.0",
         "4.0",
         "4.444345",
         "19034.30282",
         "21.4",
         "68.58",
         "both"
        ],
        [
         "1",
         "Afrique du Sud",
         "202.0",
         "143.0",
         "35.69",
         "14.11",
         "63.0",
         "514.0",
         "1667.0",
         "57009756.0",
         "710.0",
         "17.703799",
         "380851.444101",
         "5.7",
         "95.44",
         "both"
        ],
        [
         "2",
         "Albanie",
         "3.0",
         "85.0",
         "16.36",
         "6.26",
         "0.0",
         "38.0",
         "13.0",
         "2884169.0",
         "8.0",
         "9.765943",
         "13019.729856",
         "4.3",
         "157.3",
         "both"
        ],
        [
         "3",
         "Algérie",
         "4.0",
         "22.0",
         "6.38",
         "1.97",
         "0.0",
         "2.0",
         "275.0",
         "41389189.0",
         "12.0",
         "6.287892",
         "170096.987241",
         "2.5",
         "97.67",
         "both"
        ],
        [
         "4",
         "Allemagne",
         "79.0",
         "71.0",
         "19.47",
         "7.96",
         "646.0",
         "842.0",
         "1514.0",
         "82658409.0",
         "276.0",
         "6.441276",
         "3690849.152518",
         "<2.5",
         "98.54",
         "both"
        ]
       ],
       "shape": {
        "columns": 15,
        "rows": 5
       }
      },
      "text/html": [
       "<div>\n",
       "<style scoped>\n",
       "    .dataframe tbody tr th:only-of-type {\n",
       "        vertical-align: middle;\n",
       "    }\n",
       "\n",
       "    .dataframe tbody tr th {\n",
       "        vertical-align: top;\n",
       "    }\n",
       "\n",
       "    .dataframe thead th {\n",
       "        text-align: right;\n",
       "    }\n",
       "</style>\n",
       "<table border=\"1\" class=\"dataframe\">\n",
       "  <thead>\n",
       "    <tr style=\"text-align: right;\">\n",
       "      <th></th>\n",
       "      <th>Pays</th>\n",
       "      <th>Code zone_x</th>\n",
       "      <th>Disponibilité alimentaire (Kcal/personne/jour)</th>\n",
       "      <th>Disponibilité alimentaire en quantité (kg/personne/an)</th>\n",
       "      <th>Disponibilité de protéines en quantité (g/personne/jour)</th>\n",
       "      <th>Exportations - Quantité</th>\n",
       "      <th>Importations - Quantité</th>\n",
       "      <th>Production</th>\n",
       "      <th>Population</th>\n",
       "      <th>Code zone_y</th>\n",
       "      <th>Croissance annuelle %</th>\n",
       "      <th>PIB</th>\n",
       "      <th>Prévalence de la sous alimentation moyenne (%)</th>\n",
       "      <th>Indice de Production Brut par Personne (Référence 2014-2016)</th>\n",
       "      <th>_merge</th>\n",
       "    </tr>\n",
       "  </thead>\n",
       "  <tbody>\n",
       "    <tr>\n",
       "      <th>0</th>\n",
       "      <td>Afghanistan</td>\n",
       "      <td>2.0</td>\n",
       "      <td>5.0</td>\n",
       "      <td>1.53</td>\n",
       "      <td>0.54</td>\n",
       "      <td>0.0</td>\n",
       "      <td>29.0</td>\n",
       "      <td>28.0</td>\n",
       "      <td>36296113.0</td>\n",
       "      <td>4.0</td>\n",
       "      <td>4.444345</td>\n",
       "      <td>1.903430e+04</td>\n",
       "      <td>21.4</td>\n",
       "      <td>68.58</td>\n",
       "      <td>both</td>\n",
       "    </tr>\n",
       "    <tr>\n",
       "      <th>1</th>\n",
       "      <td>Afrique du Sud</td>\n",
       "      <td>202.0</td>\n",
       "      <td>143.0</td>\n",
       "      <td>35.69</td>\n",
       "      <td>14.11</td>\n",
       "      <td>63.0</td>\n",
       "      <td>514.0</td>\n",
       "      <td>1667.0</td>\n",
       "      <td>57009756.0</td>\n",
       "      <td>710.0</td>\n",
       "      <td>17.703799</td>\n",
       "      <td>3.808514e+05</td>\n",
       "      <td>5.7</td>\n",
       "      <td>95.44</td>\n",
       "      <td>both</td>\n",
       "    </tr>\n",
       "    <tr>\n",
       "      <th>2</th>\n",
       "      <td>Albanie</td>\n",
       "      <td>3.0</td>\n",
       "      <td>85.0</td>\n",
       "      <td>16.36</td>\n",
       "      <td>6.26</td>\n",
       "      <td>0.0</td>\n",
       "      <td>38.0</td>\n",
       "      <td>13.0</td>\n",
       "      <td>2884169.0</td>\n",
       "      <td>8.0</td>\n",
       "      <td>9.765943</td>\n",
       "      <td>1.301973e+04</td>\n",
       "      <td>4.3</td>\n",
       "      <td>157.30</td>\n",
       "      <td>both</td>\n",
       "    </tr>\n",
       "    <tr>\n",
       "      <th>3</th>\n",
       "      <td>Algérie</td>\n",
       "      <td>4.0</td>\n",
       "      <td>22.0</td>\n",
       "      <td>6.38</td>\n",
       "      <td>1.97</td>\n",
       "      <td>0.0</td>\n",
       "      <td>2.0</td>\n",
       "      <td>275.0</td>\n",
       "      <td>41389189.0</td>\n",
       "      <td>12.0</td>\n",
       "      <td>6.287892</td>\n",
       "      <td>1.700970e+05</td>\n",
       "      <td>2.5</td>\n",
       "      <td>97.67</td>\n",
       "      <td>both</td>\n",
       "    </tr>\n",
       "    <tr>\n",
       "      <th>4</th>\n",
       "      <td>Allemagne</td>\n",
       "      <td>79.0</td>\n",
       "      <td>71.0</td>\n",
       "      <td>19.47</td>\n",
       "      <td>7.96</td>\n",
       "      <td>646.0</td>\n",
       "      <td>842.0</td>\n",
       "      <td>1514.0</td>\n",
       "      <td>82658409.0</td>\n",
       "      <td>276.0</td>\n",
       "      <td>6.441276</td>\n",
       "      <td>3.690849e+06</td>\n",
       "      <td>&lt;2.5</td>\n",
       "      <td>98.54</td>\n",
       "      <td>both</td>\n",
       "    </tr>\n",
       "  </tbody>\n",
       "</table>\n",
       "</div>"
      ],
      "text/plain": [
       "             Pays  Code zone_x  \\\n",
       "0     Afghanistan          2.0   \n",
       "1  Afrique du Sud        202.0   \n",
       "2         Albanie          3.0   \n",
       "3         Algérie          4.0   \n",
       "4       Allemagne         79.0   \n",
       "\n",
       "   Disponibilité alimentaire (Kcal/personne/jour)  \\\n",
       "0                                             5.0   \n",
       "1                                           143.0   \n",
       "2                                            85.0   \n",
       "3                                            22.0   \n",
       "4                                            71.0   \n",
       "\n",
       "   Disponibilité alimentaire en quantité (kg/personne/an)  \\\n",
       "0                                               1.53        \n",
       "1                                              35.69        \n",
       "2                                              16.36        \n",
       "3                                               6.38        \n",
       "4                                              19.47        \n",
       "\n",
       "   Disponibilité de protéines en quantité (g/personne/jour)  \\\n",
       "0                                               0.54          \n",
       "1                                              14.11          \n",
       "2                                               6.26          \n",
       "3                                               1.97          \n",
       "4                                               7.96          \n",
       "\n",
       "   Exportations - Quantité  Importations - Quantité  Production  Population  \\\n",
       "0                      0.0                     29.0        28.0  36296113.0   \n",
       "1                     63.0                    514.0      1667.0  57009756.0   \n",
       "2                      0.0                     38.0        13.0   2884169.0   \n",
       "3                      0.0                      2.0       275.0  41389189.0   \n",
       "4                    646.0                    842.0      1514.0  82658409.0   \n",
       "\n",
       "   Code zone_y  Croissance annuelle %           PIB  \\\n",
       "0          4.0               4.444345  1.903430e+04   \n",
       "1        710.0              17.703799  3.808514e+05   \n",
       "2          8.0               9.765943  1.301973e+04   \n",
       "3         12.0               6.287892  1.700970e+05   \n",
       "4        276.0               6.441276  3.690849e+06   \n",
       "\n",
       "  Prévalence de la sous alimentation moyenne (%)  \\\n",
       "0                                           21.4   \n",
       "1                                            5.7   \n",
       "2                                            4.3   \n",
       "3                                            2.5   \n",
       "4                                           <2.5   \n",
       "\n",
       "   Indice de Production Brut par Personne (Référence 2014-2016) _merge  \n",
       "0                                              68.58              both  \n",
       "1                                              95.44              both  \n",
       "2                                             157.30              both  \n",
       "3                                              97.67              both  \n",
       "4                                              98.54              both  "
      ]
     },
     "execution_count": 116,
     "metadata": {},
     "output_type": "execute_result"
    }
   ],
   "source": [
    "# Jointure des 2 merged\n",
    "merged = pd.merge(merged_1, merged_2, on='Pays', how='outer', indicator=True)\n",
    "merged.head()"
   ]
  },
  {
   "cell_type": "code",
   "execution_count": 117,
   "metadata": {},
   "outputs": [
    {
     "name": "stdout",
     "output_type": "stream",
     "text": [
      "                                 Pays      _merge\n",
      "14                            Bahreïn  right_only\n",
      "19                            Bhoutan  right_only\n",
      "23                  Brunéi Darussalam  right_only\n",
      "27                            Burundi  right_only\n",
      "37          Chine, Taiwan Province de   left_only\n",
      "41                            Comores  right_only\n",
      "48                           Djibouti   left_only\n",
      "65                 Guinée équatoriale  right_only\n",
      "91                              Libye  right_only\n",
      "99                           Maldives   left_only\n",
      "106     Micronésie (États fédérés de)  right_only\n",
      "112                             Nauru  right_only\n",
      "124                         Palestine  right_only\n",
      "126         Papouasie-Nouvelle-Guinée  right_only\n",
      "128                          Pays-Bas   left_only\n",
      "129            Pays-Bas (Royaume des)  right_only\n",
      "133                        Porto Rico  right_only\n",
      "136                             Qatar  right_only\n",
      "140         République arabe syrienne  right_only\n",
      "145  République démocratique du Congo  right_only\n",
      "155                        Seychelles  right_only\n",
      "157                         Singapour  right_only\n",
      "160                           Somalie  right_only\n",
      "162                     Soudan du Sud  right_only\n",
      "174                             Tonga  right_only\n",
      "179                            Tuvalu  right_only\n",
      "191                          Érythrée  right_only\n",
      "194                         Îles Cook  right_only\n"
     ]
    }
   ],
   "source": [
    "no_match = merged[merged['_merge'] != 'both']\n",
    "print(no_match[['Pays', '_merge']])"
   ]
  },
  {
   "cell_type": "code",
   "execution_count": 118,
   "metadata": {},
   "outputs": [
    {
     "name": "stdout",
     "output_type": "stream",
     "text": [
      "Pays                                                              object\n",
      "Code zone_x                                                      float64\n",
      "Disponibilité alimentaire (Kcal/personne/jour)                   float64\n",
      "Disponibilité alimentaire en quantité (kg/personne/an)           float64\n",
      "Disponibilité de protéines en quantité (g/personne/jour)         float64\n",
      "Exportations - Quantité                                          float64\n",
      "Importations - Quantité                                          float64\n",
      "Production                                                       float64\n",
      "Population                                                       float64\n",
      "Code zone_y                                                      float64\n",
      "Croissance annuelle %                                            float64\n",
      "PIB                                                              float64\n",
      "Prévalence de la sous alimentation moyenne (%)                    object\n",
      "Indice de Production Brut par Personne (Référence 2014-2016)     float64\n",
      "_merge                                                          category\n",
      "dtype: object\n"
     ]
    }
   ],
   "source": [
    "# Table de correspondance pour les pays importants pour l'analyse (population importante)\n",
    "merged['Pays']= merged['Pays'].replace({'Pays-Bas':'Pays-Bas (Royaume des)', 'République démocratique du Congo':'Congo'})\n",
    "\n",
    "print(merged.dtypes)"
   ]
  },
  {
   "cell_type": "code",
   "execution_count": 119,
   "metadata": {},
   "outputs": [],
   "source": [
    "# Conversion de la colonne de prévalence de sous alimentation en format numérique pour effectuer ensuite un group by Pays, \n",
    "# les prévalences <2.5 sont remplacées par 2 et pas 0 pour que cela reste significatif et au plus proche de la réalité\n",
    "merged['Prévalence de la sous alimentation moyenne (%)'] = merged['Prévalence de la sous alimentation moyenne (%)'].replace('<2.5', '2.0')\n",
    "merged['Prévalence de la sous alimentation moyenne (%)'] = pd.to_numeric(merged['Prévalence de la sous alimentation moyenne (%)'], errors='coerce')\n",
    "merged = merged.drop(columns=['_merge'], axis=1)\n",
    "merged = merged.drop(columns=[\"Exportations - Quantité\", \"Disponibilité alimentaire (Kcal/personne/jour)\"])\n"
   ]
  },
  {
   "cell_type": "code",
   "execution_count": 120,
   "metadata": {},
   "outputs": [
    {
     "data": {
      "text/plain": [
       "Pays                                                            0\n",
       "Code zone_x                                                     0\n",
       "Disponibilité alimentaire en quantité (kg/personne/an)          0\n",
       "Disponibilité de protéines en quantité (g/personne/jour)        0\n",
       "Importations - Quantité                                         0\n",
       "Production                                                      0\n",
       "Population                                                      0\n",
       "Code zone_y                                                     0\n",
       "Croissance annuelle %                                           0\n",
       "PIB                                                             0\n",
       "Prévalence de la sous alimentation moyenne (%)                  0\n",
       "Indice de Production Brut par Personne (Référence 2014-2016)    0\n",
       "dtype: int64"
      ]
     },
     "execution_count": 120,
     "metadata": {},
     "output_type": "execute_result"
    }
   ],
   "source": [
    "merged = merged.groupby('Pays', as_index = False).sum()\n",
    "merged.isna().sum()"
   ]
  },
  {
   "cell_type": "code",
   "execution_count": 121,
   "metadata": {},
   "outputs": [
    {
     "data": {
      "application/vnd.microsoft.datawrangler.viewer.v0+json": {
       "columns": [
        {
         "name": "index",
         "rawType": "object",
         "type": "string"
        },
        {
         "name": "Code zone_x",
         "rawType": "float64",
         "type": "float"
        },
        {
         "name": "Disponibilité alimentaire en quantité (kg/personne/an)",
         "rawType": "float64",
         "type": "float"
        },
        {
         "name": "Disponibilité de protéines en quantité (g/personne/jour)",
         "rawType": "float64",
         "type": "float"
        },
        {
         "name": "Importations - Quantité",
         "rawType": "float64",
         "type": "float"
        },
        {
         "name": "Production",
         "rawType": "float64",
         "type": "float"
        },
        {
         "name": "Population",
         "rawType": "float64",
         "type": "float"
        },
        {
         "name": "Code zone_y",
         "rawType": "float64",
         "type": "float"
        },
        {
         "name": "Croissance annuelle %",
         "rawType": "float64",
         "type": "float"
        },
        {
         "name": "PIB",
         "rawType": "float64",
         "type": "float"
        },
        {
         "name": "Prévalence de la sous alimentation moyenne (%)",
         "rawType": "float64",
         "type": "float"
        },
        {
         "name": "Indice de Production Brut par Personne (Référence 2014-2016)",
         "rawType": "float64",
         "type": "float"
        }
       ],
       "conversionMethod": "pd.DataFrame",
       "ref": "80b129b1-c339-4c26-8937-84b77deac15a",
       "rows": [
        [
         "count",
         "194.0",
         "194.0",
         "194.0",
         "194.0",
         "194.0",
         "194.0",
         "194.0",
         "194.0",
         "194.0",
         "194.0",
         "194.0"
        ],
        [
         "mean",
         "112.27835051546391",
         "17.921134020618556",
         "6.313711340206186",
         "78.45360824742268",
         "628.0",
         "37983411.3556701",
         "426.71649484536084",
         "7.742582793814433",
         "417333.30441838654",
         "8.442783505154638",
         "108.46855670103093"
        ],
        [
         "std",
         "79.61965834636923",
         "16.253239350385176",
         "5.7397592192981755",
         "177.1608864900461",
         "2340.019002624228",
         "144718300.32861",
         "256.8074156679561",
         "7.496323943829707",
         "1748733.89200402",
         "10.887130515650313",
         "43.24090099835592"
        ],
        [
         "min",
         "0.0",
         "0.0",
         "0.0",
         "0.0",
         "0.0",
         "0.0",
         "0.0",
         "-27.928308",
         "0.0",
         "0.0",
         "0.0"
        ],
        [
         "25%",
         "41.75",
         "3.3975",
         "1.16",
         "1.0",
         "3.25",
         "989275.5",
         "209.0",
         "5.17427425",
         "9318.211782999999",
         "2.0",
         "97.685"
        ],
        [
         "50%",
         "109.5",
         "15.52",
         "5.595000000000001",
         "12.0",
         "48.5",
         "7397372.5",
         "420.0",
         "7.579847",
         "36803.594612",
         "4.05",
         "104.0"
        ],
        [
         "75%",
         "175.75",
         "28.009999999999998",
         "9.7",
         "63.75",
         "243.25",
         "27117138.75",
         "645.25",
         "10.30227075",
         "209249.50602425",
         "10.6",
         "112.01750000000001"
        ],
        [
         "max",
         "276.0",
         "72.31",
         "27.87",
         "1069.0",
         "21914.0",
         "1421021791.0",
         "894.0",
         "36.133401",
         "19612100.0",
         "62.599999999999994",
         "397.46"
        ]
       ],
       "shape": {
        "columns": 11,
        "rows": 8
       }
      },
      "text/html": [
       "<div>\n",
       "<style scoped>\n",
       "    .dataframe tbody tr th:only-of-type {\n",
       "        vertical-align: middle;\n",
       "    }\n",
       "\n",
       "    .dataframe tbody tr th {\n",
       "        vertical-align: top;\n",
       "    }\n",
       "\n",
       "    .dataframe thead th {\n",
       "        text-align: right;\n",
       "    }\n",
       "</style>\n",
       "<table border=\"1\" class=\"dataframe\">\n",
       "  <thead>\n",
       "    <tr style=\"text-align: right;\">\n",
       "      <th></th>\n",
       "      <th>Code zone_x</th>\n",
       "      <th>Disponibilité alimentaire en quantité (kg/personne/an)</th>\n",
       "      <th>Disponibilité de protéines en quantité (g/personne/jour)</th>\n",
       "      <th>Importations - Quantité</th>\n",
       "      <th>Production</th>\n",
       "      <th>Population</th>\n",
       "      <th>Code zone_y</th>\n",
       "      <th>Croissance annuelle %</th>\n",
       "      <th>PIB</th>\n",
       "      <th>Prévalence de la sous alimentation moyenne (%)</th>\n",
       "      <th>Indice de Production Brut par Personne (Référence 2014-2016)</th>\n",
       "    </tr>\n",
       "  </thead>\n",
       "  <tbody>\n",
       "    <tr>\n",
       "      <th>count</th>\n",
       "      <td>194.000000</td>\n",
       "      <td>194.000000</td>\n",
       "      <td>194.000000</td>\n",
       "      <td>194.000000</td>\n",
       "      <td>194.000000</td>\n",
       "      <td>1.940000e+02</td>\n",
       "      <td>194.000000</td>\n",
       "      <td>194.000000</td>\n",
       "      <td>1.940000e+02</td>\n",
       "      <td>194.000000</td>\n",
       "      <td>194.000000</td>\n",
       "    </tr>\n",
       "    <tr>\n",
       "      <th>mean</th>\n",
       "      <td>112.278351</td>\n",
       "      <td>17.921134</td>\n",
       "      <td>6.313711</td>\n",
       "      <td>78.453608</td>\n",
       "      <td>628.000000</td>\n",
       "      <td>3.798341e+07</td>\n",
       "      <td>426.716495</td>\n",
       "      <td>7.742583</td>\n",
       "      <td>4.173333e+05</td>\n",
       "      <td>8.442784</td>\n",
       "      <td>108.468557</td>\n",
       "    </tr>\n",
       "    <tr>\n",
       "      <th>std</th>\n",
       "      <td>79.619658</td>\n",
       "      <td>16.253239</td>\n",
       "      <td>5.739759</td>\n",
       "      <td>177.160886</td>\n",
       "      <td>2340.019003</td>\n",
       "      <td>1.447183e+08</td>\n",
       "      <td>256.807416</td>\n",
       "      <td>7.496324</td>\n",
       "      <td>1.748734e+06</td>\n",
       "      <td>10.887131</td>\n",
       "      <td>43.240901</td>\n",
       "    </tr>\n",
       "    <tr>\n",
       "      <th>min</th>\n",
       "      <td>0.000000</td>\n",
       "      <td>0.000000</td>\n",
       "      <td>0.000000</td>\n",
       "      <td>0.000000</td>\n",
       "      <td>0.000000</td>\n",
       "      <td>0.000000e+00</td>\n",
       "      <td>0.000000</td>\n",
       "      <td>-27.928308</td>\n",
       "      <td>0.000000e+00</td>\n",
       "      <td>0.000000</td>\n",
       "      <td>0.000000</td>\n",
       "    </tr>\n",
       "    <tr>\n",
       "      <th>25%</th>\n",
       "      <td>41.750000</td>\n",
       "      <td>3.397500</td>\n",
       "      <td>1.160000</td>\n",
       "      <td>1.000000</td>\n",
       "      <td>3.250000</td>\n",
       "      <td>9.892755e+05</td>\n",
       "      <td>209.000000</td>\n",
       "      <td>5.174274</td>\n",
       "      <td>9.318212e+03</td>\n",
       "      <td>2.000000</td>\n",
       "      <td>97.685000</td>\n",
       "    </tr>\n",
       "    <tr>\n",
       "      <th>50%</th>\n",
       "      <td>109.500000</td>\n",
       "      <td>15.520000</td>\n",
       "      <td>5.595000</td>\n",
       "      <td>12.000000</td>\n",
       "      <td>48.500000</td>\n",
       "      <td>7.397372e+06</td>\n",
       "      <td>420.000000</td>\n",
       "      <td>7.579847</td>\n",
       "      <td>3.680359e+04</td>\n",
       "      <td>4.050000</td>\n",
       "      <td>104.000000</td>\n",
       "    </tr>\n",
       "    <tr>\n",
       "      <th>75%</th>\n",
       "      <td>175.750000</td>\n",
       "      <td>28.010000</td>\n",
       "      <td>9.700000</td>\n",
       "      <td>63.750000</td>\n",
       "      <td>243.250000</td>\n",
       "      <td>2.711714e+07</td>\n",
       "      <td>645.250000</td>\n",
       "      <td>10.302271</td>\n",
       "      <td>2.092495e+05</td>\n",
       "      <td>10.600000</td>\n",
       "      <td>112.017500</td>\n",
       "    </tr>\n",
       "    <tr>\n",
       "      <th>max</th>\n",
       "      <td>276.000000</td>\n",
       "      <td>72.310000</td>\n",
       "      <td>27.870000</td>\n",
       "      <td>1069.000000</td>\n",
       "      <td>21914.000000</td>\n",
       "      <td>1.421022e+09</td>\n",
       "      <td>894.000000</td>\n",
       "      <td>36.133401</td>\n",
       "      <td>1.961210e+07</td>\n",
       "      <td>62.600000</td>\n",
       "      <td>397.460000</td>\n",
       "    </tr>\n",
       "  </tbody>\n",
       "</table>\n",
       "</div>"
      ],
      "text/plain": [
       "       Code zone_x  Disponibilité alimentaire en quantité (kg/personne/an)  \\\n",
       "count   194.000000                                         194.000000        \n",
       "mean    112.278351                                          17.921134        \n",
       "std      79.619658                                          16.253239        \n",
       "min       0.000000                                           0.000000        \n",
       "25%      41.750000                                           3.397500        \n",
       "50%     109.500000                                          15.520000        \n",
       "75%     175.750000                                          28.010000        \n",
       "max     276.000000                                          72.310000        \n",
       "\n",
       "       Disponibilité de protéines en quantité (g/personne/jour)  \\\n",
       "count                                         194.000000          \n",
       "mean                                            6.313711          \n",
       "std                                             5.739759          \n",
       "min                                             0.000000          \n",
       "25%                                             1.160000          \n",
       "50%                                             5.595000          \n",
       "75%                                             9.700000          \n",
       "max                                            27.870000          \n",
       "\n",
       "       Importations - Quantité    Production    Population  Code zone_y  \\\n",
       "count               194.000000    194.000000  1.940000e+02   194.000000   \n",
       "mean                 78.453608    628.000000  3.798341e+07   426.716495   \n",
       "std                 177.160886   2340.019003  1.447183e+08   256.807416   \n",
       "min                   0.000000      0.000000  0.000000e+00     0.000000   \n",
       "25%                   1.000000      3.250000  9.892755e+05   209.000000   \n",
       "50%                  12.000000     48.500000  7.397372e+06   420.000000   \n",
       "75%                  63.750000    243.250000  2.711714e+07   645.250000   \n",
       "max                1069.000000  21914.000000  1.421022e+09   894.000000   \n",
       "\n",
       "       Croissance annuelle %           PIB  \\\n",
       "count             194.000000  1.940000e+02   \n",
       "mean                7.742583  4.173333e+05   \n",
       "std                 7.496324  1.748734e+06   \n",
       "min               -27.928308  0.000000e+00   \n",
       "25%                 5.174274  9.318212e+03   \n",
       "50%                 7.579847  3.680359e+04   \n",
       "75%                10.302271  2.092495e+05   \n",
       "max                36.133401  1.961210e+07   \n",
       "\n",
       "       Prévalence de la sous alimentation moyenne (%)  \\\n",
       "count                                      194.000000   \n",
       "mean                                         8.442784   \n",
       "std                                         10.887131   \n",
       "min                                          0.000000   \n",
       "25%                                          2.000000   \n",
       "50%                                          4.050000   \n",
       "75%                                         10.600000   \n",
       "max                                         62.600000   \n",
       "\n",
       "       Indice de Production Brut par Personne (Référence 2014-2016)  \n",
       "count                                         194.000000             \n",
       "mean                                          108.468557             \n",
       "std                                            43.240901             \n",
       "min                                             0.000000             \n",
       "25%                                            97.685000             \n",
       "50%                                           104.000000             \n",
       "75%                                           112.017500             \n",
       "max                                           397.460000             "
      ]
     },
     "execution_count": 121,
     "metadata": {},
     "output_type": "execute_result"
    }
   ],
   "source": [
    "merged.describe()"
   ]
  },
  {
   "cell_type": "code",
   "execution_count": 122,
   "metadata": {},
   "outputs": [
    {
     "name": "stdout",
     "output_type": "stream",
     "text": [
      "                         Pays  Code zone_x  \\\n",
      "37  Chine, Taiwan Province de        214.0   \n",
      "48                   Djibouti         72.0   \n",
      "99                   Maldives        132.0   \n",
      "\n",
      "    Disponibilité alimentaire en quantité (kg/personne/an)  \\\n",
      "37                                              33.17        \n",
      "48                                               2.68        \n",
      "99                                              13.50        \n",
      "\n",
      "    Disponibilité de protéines en quantité (g/personne/jour)  \\\n",
      "37                                              11.01          \n",
      "48                                               0.92          \n",
      "99                                               4.70          \n",
      "\n",
      "    Importations - Quantité  Production  Population  Code zone_y  \\\n",
      "37                    161.0       652.0  23674546.0          0.0   \n",
      "48                      3.0         0.0    944099.0          0.0   \n",
      "99                     12.0         0.0    496402.0          0.0   \n",
      "\n",
      "    Croissance annuelle %  PIB  \\\n",
      "37                    0.0  0.0   \n",
      "48                    0.0  0.0   \n",
      "99                    0.0  0.0   \n",
      "\n",
      "    Prévalence de la sous alimentation moyenne (%)  \\\n",
      "37                                             0.0   \n",
      "48                                             0.0   \n",
      "99                                             0.0   \n",
      "\n",
      "    Indice de Production Brut par Personne (Référence 2014-2016)  \n",
      "37                                                0.0             \n",
      "48                                                0.0             \n",
      "99                                                0.0             \n"
     ]
    }
   ],
   "source": [
    "# Il y a des valeurs à 0, on cherche à les isoler pour déterminer l'action à suivre\n",
    "pib_zero = merged.loc[merged['PIB'] == 0]\n",
    "print(pib_zero)\n"
   ]
  },
  {
   "cell_type": "code",
   "execution_count": 123,
   "metadata": {},
   "outputs": [
    {
     "name": "stdout",
     "output_type": "stream",
     "text": [
      "                              Pays  Code zone_x  \\\n",
      "14                         Bahreïn          0.0   \n",
      "19                         Bhoutan          0.0   \n",
      "23               Brunéi Darussalam          0.0   \n",
      "27                         Burundi          0.0   \n",
      "41                         Comores          0.0   \n",
      "65              Guinée équatoriale          0.0   \n",
      "91                           Libye          0.0   \n",
      "106  Micronésie (États fédérés de)          0.0   \n",
      "112                          Nauru          0.0   \n",
      "124                      Palestine          0.0   \n",
      "126      Papouasie-Nouvelle-Guinée          0.0   \n",
      "132                     Porto Rico          0.0   \n",
      "135                          Qatar          0.0   \n",
      "139      République arabe syrienne          0.0   \n",
      "153                     Seychelles          0.0   \n",
      "155                      Singapour          0.0   \n",
      "158                        Somalie          0.0   \n",
      "160                  Soudan du Sud          0.0   \n",
      "172                          Tonga          0.0   \n",
      "177                         Tuvalu          0.0   \n",
      "189                       Érythrée          0.0   \n",
      "192                      Îles Cook          0.0   \n",
      "\n",
      "     Disponibilité alimentaire en quantité (kg/personne/an)  \\\n",
      "14                                                 0.0        \n",
      "19                                                 0.0        \n",
      "23                                                 0.0        \n",
      "27                                                 0.0        \n",
      "41                                                 0.0        \n",
      "65                                                 0.0        \n",
      "91                                                 0.0        \n",
      "106                                                0.0        \n",
      "112                                                0.0        \n",
      "124                                                0.0        \n",
      "126                                                0.0        \n",
      "132                                                0.0        \n",
      "135                                                0.0        \n",
      "139                                                0.0        \n",
      "153                                                0.0        \n",
      "155                                                0.0        \n",
      "158                                                0.0        \n",
      "160                                                0.0        \n",
      "172                                                0.0        \n",
      "177                                                0.0        \n",
      "189                                                0.0        \n",
      "192                                                0.0        \n",
      "\n",
      "     Disponibilité de protéines en quantité (g/personne/jour)  \\\n",
      "14                                                 0.0          \n",
      "19                                                 0.0          \n",
      "23                                                 0.0          \n",
      "27                                                 0.0          \n",
      "41                                                 0.0          \n",
      "65                                                 0.0          \n",
      "91                                                 0.0          \n",
      "106                                                0.0          \n",
      "112                                                0.0          \n",
      "124                                                0.0          \n",
      "126                                                0.0          \n",
      "132                                                0.0          \n",
      "135                                                0.0          \n",
      "139                                                0.0          \n",
      "153                                                0.0          \n",
      "155                                                0.0          \n",
      "158                                                0.0          \n",
      "160                                                0.0          \n",
      "172                                                0.0          \n",
      "177                                                0.0          \n",
      "189                                                0.0          \n",
      "192                                                0.0          \n",
      "\n",
      "     Importations - Quantité  Production  Population  Code zone_y  \\\n",
      "14                       0.0         0.0         0.0         48.0   \n",
      "19                       0.0         0.0         0.0         64.0   \n",
      "23                       0.0         0.0         0.0         96.0   \n",
      "27                       0.0         0.0         0.0        108.0   \n",
      "41                       0.0         0.0         0.0        174.0   \n",
      "65                       0.0         0.0         0.0        226.0   \n",
      "91                       0.0         0.0         0.0        434.0   \n",
      "106                      0.0         0.0         0.0        583.0   \n",
      "112                      0.0         0.0         0.0        520.0   \n",
      "124                      0.0         0.0         0.0        275.0   \n",
      "126                      0.0         0.0         0.0        598.0   \n",
      "132                      0.0         0.0         0.0        630.0   \n",
      "135                      0.0         0.0         0.0        634.0   \n",
      "139                      0.0         0.0         0.0        760.0   \n",
      "153                      0.0         0.0         0.0        690.0   \n",
      "155                      0.0         0.0         0.0        702.0   \n",
      "158                      0.0         0.0         0.0        706.0   \n",
      "160                      0.0         0.0         0.0        728.0   \n",
      "172                      0.0         0.0         0.0        776.0   \n",
      "177                      0.0         0.0         0.0        798.0   \n",
      "189                      0.0         0.0         0.0        232.0   \n",
      "192                      0.0         0.0         0.0        184.0   \n",
      "\n",
      "     Croissance annuelle %            PIB  \\\n",
      "14               10.046698   35473.670213   \n",
      "19               15.633004    2591.357992   \n",
      "23                6.384934   12128.166606   \n",
      "27               12.550477    3297.826848   \n",
      "41                6.450871    1077.439756   \n",
      "65                8.541141   12200.908721   \n",
      "91               34.551484   67157.451660   \n",
      "106              10.353672     366.666809   \n",
      "112               8.949262     128.743386   \n",
      "124               4.690563   16128.000000   \n",
      "126               9.556306   22742.696403   \n",
      "132              -0.854158  103445.500000   \n",
      "135               6.173337  161099.122215   \n",
      "139              27.286402   16946.722311   \n",
      "153               6.812830    1675.356482   \n",
      "155               7.598846  343272.806271   \n",
      "158              11.649303    8252.000000   \n",
      "160               9.003110    3571.367606   \n",
      "172               9.602030     461.324081   \n",
      "177               9.788253      45.295753   \n",
      "189             -12.409467    1903.966833   \n",
      "192              11.537809     345.609009   \n",
      "\n",
      "     Prévalence de la sous alimentation moyenne (%)  \\\n",
      "14                                              0.0   \n",
      "19                                              0.0   \n",
      "23                                              0.0   \n",
      "27                                              0.0   \n",
      "41                                             13.1   \n",
      "65                                              0.0   \n",
      "91                                              8.4   \n",
      "106                                             0.0   \n",
      "112                                             0.0   \n",
      "124                                             0.0   \n",
      "126                                            27.3   \n",
      "132                                             0.0   \n",
      "135                                             0.0   \n",
      "139                                            17.6   \n",
      "153                                             3.0   \n",
      "155                                             0.0   \n",
      "158                                            58.3   \n",
      "160                                             0.0   \n",
      "172                                             0.0   \n",
      "177                                             0.0   \n",
      "189                                             0.0   \n",
      "192                                             0.0   \n",
      "\n",
      "     Indice de Production Brut par Personne (Référence 2014-2016)  \n",
      "14                                              113.50             \n",
      "19                                              171.98             \n",
      "23                                               94.21             \n",
      "27                                               98.08             \n",
      "41                                               99.34             \n",
      "65                                               87.92             \n",
      "91                                               97.52             \n",
      "106                                              99.73             \n",
      "112                                              95.86             \n",
      "124                                              99.88             \n",
      "126                                              98.34             \n",
      "132                                             106.56             \n",
      "135                                             124.19             \n",
      "139                                              97.22             \n",
      "153                                             126.57             \n",
      "155                                             147.18             \n",
      "158                                              95.13             \n",
      "160                                             145.33             \n",
      "172                                              97.73             \n",
      "177                                             104.66             \n",
      "189                                             101.57             \n",
      "192                                              99.12             \n"
     ]
    }
   ],
   "source": [
    "dispo_zero = merged.loc[merged['Disponibilité alimentaire en quantité (kg/personne/an)'] == 0]\n",
    "print(dispo_zero)"
   ]
  },
  {
   "cell_type": "code",
   "execution_count": 124,
   "metadata": {},
   "outputs": [
    {
     "data": {
      "application/vnd.microsoft.datawrangler.viewer.v0+json": {
       "columns": [
        {
         "name": "index",
         "rawType": "object",
         "type": "string"
        },
        {
         "name": "Disponibilité alimentaire en quantité (kg/personne/an)",
         "rawType": "float64",
         "type": "float"
        },
        {
         "name": "Disponibilité de protéines en quantité (g/personne/jour)",
         "rawType": "float64",
         "type": "float"
        },
        {
         "name": "Importations (Milliers de tonnes)",
         "rawType": "float64",
         "type": "float"
        },
        {
         "name": "Production (Milliers de tonnes)",
         "rawType": "float64",
         "type": "float"
        },
        {
         "name": "Population",
         "rawType": "float64",
         "type": "float"
        },
        {
         "name": "Croissance annuelle %",
         "rawType": "float64",
         "type": "float"
        },
        {
         "name": "PIB",
         "rawType": "float64",
         "type": "float"
        },
        {
         "name": "Prévalence de la sous alimentation moyenne (%)",
         "rawType": "float64",
         "type": "float"
        },
        {
         "name": "Indice de Production Brut par Personne (Référence 2014-2016)",
         "rawType": "float64",
         "type": "float"
        }
       ],
       "conversionMethod": "pd.DataFrame",
       "ref": "90663478-9ff1-4129-ae7c-5c60f30d1266",
       "rows": [
        [
         "count",
         "163.0",
         "163.0",
         "163.0",
         "163.0",
         "163.0",
         "163.0",
         "163.0",
         "163.0",
         "163.0"
        ],
        [
         "mean",
         "19.41098159509202",
         "6.867546012269939",
         "91.88343558282209",
         "743.3742331288344",
         "45035301.64417178",
         "7.693763963190183",
         "491582.2268807055",
         "9.265030674846626",
         "109.62484662576686"
        ],
        [
         "std",
         "15.177768473021548",
         "5.416440347639441",
         "190.00212450527746",
         "2537.1543529980413",
         "156954144.7944714",
         "7.401372847097938",
         "1899390.1227608463",
         "10.543118601473298",
         "36.74444544158565"
        ],
        [
         "min",
         "0.13",
         "0.04",
         "0.0",
         "0.0",
         "71458.0",
         "-27.928308",
         "188.182032",
         "2.0",
         "0.01"
        ],
        [
         "25%",
         "6.1850000000000005",
         "1.97",
         "3.0",
         "16.0",
         "3722678.5",
         "5.2041284999999995",
         "13416.7968745",
         "2.0",
         "98.33500000000001"
        ],
        [
         "50%",
         "17.62",
         "6.32",
         "16.0",
         "72.0",
         "10288527.0",
         "7.560848",
         "52512.951966",
         "5.6",
         "104.53"
        ],
        [
         "75%",
         "28.130000000000003",
         "9.8",
         "83.0",
         "427.5",
         "31702041.5",
         "10.3558345",
         "279194.142421",
         "12.100000000000001",
         "111.885"
        ],
        [
         "max",
         "72.31",
         "27.87",
         "1069.0",
         "21914.0",
         "1421021791.0",
         "36.133401",
         "19612100.0",
         "62.599999999999994",
         "371.77"
        ]
       ],
       "shape": {
        "columns": 9,
        "rows": 8
       }
      },
      "text/html": [
       "<div>\n",
       "<style scoped>\n",
       "    .dataframe tbody tr th:only-of-type {\n",
       "        vertical-align: middle;\n",
       "    }\n",
       "\n",
       "    .dataframe tbody tr th {\n",
       "        vertical-align: top;\n",
       "    }\n",
       "\n",
       "    .dataframe thead th {\n",
       "        text-align: right;\n",
       "    }\n",
       "</style>\n",
       "<table border=\"1\" class=\"dataframe\">\n",
       "  <thead>\n",
       "    <tr style=\"text-align: right;\">\n",
       "      <th></th>\n",
       "      <th>Disponibilité alimentaire en quantité (kg/personne/an)</th>\n",
       "      <th>Disponibilité de protéines en quantité (g/personne/jour)</th>\n",
       "      <th>Importations (Milliers de tonnes)</th>\n",
       "      <th>Production (Milliers de tonnes)</th>\n",
       "      <th>Population</th>\n",
       "      <th>Croissance annuelle %</th>\n",
       "      <th>PIB</th>\n",
       "      <th>Prévalence de la sous alimentation moyenne (%)</th>\n",
       "      <th>Indice de Production Brut par Personne (Référence 2014-2016)</th>\n",
       "    </tr>\n",
       "  </thead>\n",
       "  <tbody>\n",
       "    <tr>\n",
       "      <th>count</th>\n",
       "      <td>163.000000</td>\n",
       "      <td>163.000000</td>\n",
       "      <td>163.000000</td>\n",
       "      <td>163.000000</td>\n",
       "      <td>1.630000e+02</td>\n",
       "      <td>163.000000</td>\n",
       "      <td>1.630000e+02</td>\n",
       "      <td>163.000000</td>\n",
       "      <td>163.000000</td>\n",
       "    </tr>\n",
       "    <tr>\n",
       "      <th>mean</th>\n",
       "      <td>19.410982</td>\n",
       "      <td>6.867546</td>\n",
       "      <td>91.883436</td>\n",
       "      <td>743.374233</td>\n",
       "      <td>4.503530e+07</td>\n",
       "      <td>7.693764</td>\n",
       "      <td>4.915822e+05</td>\n",
       "      <td>9.265031</td>\n",
       "      <td>109.624847</td>\n",
       "    </tr>\n",
       "    <tr>\n",
       "      <th>std</th>\n",
       "      <td>15.177768</td>\n",
       "      <td>5.416440</td>\n",
       "      <td>190.002125</td>\n",
       "      <td>2537.154353</td>\n",
       "      <td>1.569541e+08</td>\n",
       "      <td>7.401373</td>\n",
       "      <td>1.899390e+06</td>\n",
       "      <td>10.543119</td>\n",
       "      <td>36.744445</td>\n",
       "    </tr>\n",
       "    <tr>\n",
       "      <th>min</th>\n",
       "      <td>0.130000</td>\n",
       "      <td>0.040000</td>\n",
       "      <td>0.000000</td>\n",
       "      <td>0.000000</td>\n",
       "      <td>7.145800e+04</td>\n",
       "      <td>-27.928308</td>\n",
       "      <td>1.881820e+02</td>\n",
       "      <td>2.000000</td>\n",
       "      <td>0.010000</td>\n",
       "    </tr>\n",
       "    <tr>\n",
       "      <th>25%</th>\n",
       "      <td>6.185000</td>\n",
       "      <td>1.970000</td>\n",
       "      <td>3.000000</td>\n",
       "      <td>16.000000</td>\n",
       "      <td>3.722678e+06</td>\n",
       "      <td>5.204128</td>\n",
       "      <td>1.341680e+04</td>\n",
       "      <td>2.000000</td>\n",
       "      <td>98.335000</td>\n",
       "    </tr>\n",
       "    <tr>\n",
       "      <th>50%</th>\n",
       "      <td>17.620000</td>\n",
       "      <td>6.320000</td>\n",
       "      <td>16.000000</td>\n",
       "      <td>72.000000</td>\n",
       "      <td>1.028853e+07</td>\n",
       "      <td>7.560848</td>\n",
       "      <td>5.251295e+04</td>\n",
       "      <td>5.600000</td>\n",
       "      <td>104.530000</td>\n",
       "    </tr>\n",
       "    <tr>\n",
       "      <th>75%</th>\n",
       "      <td>28.130000</td>\n",
       "      <td>9.800000</td>\n",
       "      <td>83.000000</td>\n",
       "      <td>427.500000</td>\n",
       "      <td>3.170204e+07</td>\n",
       "      <td>10.355835</td>\n",
       "      <td>2.791941e+05</td>\n",
       "      <td>12.100000</td>\n",
       "      <td>111.885000</td>\n",
       "    </tr>\n",
       "    <tr>\n",
       "      <th>max</th>\n",
       "      <td>72.310000</td>\n",
       "      <td>27.870000</td>\n",
       "      <td>1069.000000</td>\n",
       "      <td>21914.000000</td>\n",
       "      <td>1.421022e+09</td>\n",
       "      <td>36.133401</td>\n",
       "      <td>1.961210e+07</td>\n",
       "      <td>62.600000</td>\n",
       "      <td>371.770000</td>\n",
       "    </tr>\n",
       "  </tbody>\n",
       "</table>\n",
       "</div>"
      ],
      "text/plain": [
       "       Disponibilité alimentaire en quantité (kg/personne/an)  \\\n",
       "count                                         163.000000        \n",
       "mean                                           19.410982        \n",
       "std                                            15.177768        \n",
       "min                                             0.130000        \n",
       "25%                                             6.185000        \n",
       "50%                                            17.620000        \n",
       "75%                                            28.130000        \n",
       "max                                            72.310000        \n",
       "\n",
       "       Disponibilité de protéines en quantité (g/personne/jour)  \\\n",
       "count                                         163.000000          \n",
       "mean                                            6.867546          \n",
       "std                                             5.416440          \n",
       "min                                             0.040000          \n",
       "25%                                             1.970000          \n",
       "50%                                             6.320000          \n",
       "75%                                             9.800000          \n",
       "max                                            27.870000          \n",
       "\n",
       "       Importations (Milliers de tonnes)  Production (Milliers de tonnes)  \\\n",
       "count                         163.000000                       163.000000   \n",
       "mean                           91.883436                       743.374233   \n",
       "std                           190.002125                      2537.154353   \n",
       "min                             0.000000                         0.000000   \n",
       "25%                             3.000000                        16.000000   \n",
       "50%                            16.000000                        72.000000   \n",
       "75%                            83.000000                       427.500000   \n",
       "max                          1069.000000                     21914.000000   \n",
       "\n",
       "         Population  Croissance annuelle %           PIB  \\\n",
       "count  1.630000e+02             163.000000  1.630000e+02   \n",
       "mean   4.503530e+07               7.693764  4.915822e+05   \n",
       "std    1.569541e+08               7.401373  1.899390e+06   \n",
       "min    7.145800e+04             -27.928308  1.881820e+02   \n",
       "25%    3.722678e+06               5.204128  1.341680e+04   \n",
       "50%    1.028853e+07               7.560848  5.251295e+04   \n",
       "75%    3.170204e+07              10.355835  2.791941e+05   \n",
       "max    1.421022e+09              36.133401  1.961210e+07   \n",
       "\n",
       "       Prévalence de la sous alimentation moyenne (%)  \\\n",
       "count                                      163.000000   \n",
       "mean                                         9.265031   \n",
       "std                                         10.543119   \n",
       "min                                          2.000000   \n",
       "25%                                          2.000000   \n",
       "50%                                          5.600000   \n",
       "75%                                         12.100000   \n",
       "max                                         62.600000   \n",
       "\n",
       "       Indice de Production Brut par Personne (Référence 2014-2016)  \n",
       "count                                         163.000000             \n",
       "mean                                          109.624847             \n",
       "std                                            36.744445             \n",
       "min                                             0.010000             \n",
       "25%                                            98.335000             \n",
       "50%                                           104.530000             \n",
       "75%                                           111.885000             \n",
       "max                                           371.770000             "
      ]
     },
     "execution_count": 124,
     "metadata": {},
     "output_type": "execute_result"
    }
   ],
   "source": [
    "# Retrait des pays qui manquent de données\n",
    "merged = merged.loc[(merged['Disponibilité alimentaire en quantité (kg/personne/an)'] != 0) & (merged['PIB'] != 0) \n",
    "                    & (merged['Prévalence de la sous alimentation moyenne (%)'] != 0)]\n",
    "merged = merged.drop(columns=['Code zone_x', 'Code zone_y'], axis=1)\n",
    "merged = merged.rename(columns={ 'Importations - Quantité':'Importations (Milliers de tonnes)', 'Production':'Production (Milliers de tonnes)'})\n",
    "merged.describe()"
   ]
  },
  {
   "cell_type": "code",
   "execution_count": 125,
   "metadata": {},
   "outputs": [],
   "source": [
    "# Il reste des valeurs 0 pour l'importation, production et exportation : cela s'explique par le fait que les données se concentrent uniquement\n",
    "# sur la volaille, un pays peut ne pas en produire/exporter/importer, il n'est pas necessaire de les supprimer."
   ]
  },
  {
   "cell_type": "code",
   "execution_count": 126,
   "metadata": {},
   "outputs": [
    {
     "data": {
      "image/png": "[encoded data removed]",
      "text/plain": [
       "<Figure size 2000x2500 with 6 Axes>"
      ]
     },
     "metadata": {},
     "output_type": "display_data"
    }
   ],
   "source": [
    "\n",
    "\n",
    "fig, axes = plt.subplots(3, 2, figsize=(20, 25))\n",
    "fig.suptitle('Distribution des variables (outliers annotés)', fontsize=16)\n",
    "axes = axes.flatten()\n",
    "\n",
    "numeric_columns = [\n",
    "    'Disponibilité alimentaire en quantité (kg/personne/an)',\n",
    "    'Disponibilité de protéines en quantité (g/personne/jour)',\n",
    "    'Importations (Milliers de tonnes)',\n",
    "    'Production (Milliers de tonnes)',\n",
    "    'Population',\n",
    "    'PIB'\n",
    "]\n",
    "\n",
    "for i, column in enumerate(numeric_columns):\n",
    "    sns.boxplot(y=merged[column], ax=axes[i], showfliers=True, orient='v')\n",
    "    axes[i].set_title(column, fontsize=10)\n",
    "    axes[i].set_xlabel('')\n",
    "    axes[i].set_ylabel('')\n",
    "    \n",
    "    # Identifier les outliers\n",
    "    Q1 = merged[column].quantile(0.25)\n",
    "    Q3 = merged[column].quantile(0.75)\n",
    "    IQR = Q3 - Q1\n",
    "    outliers = merged[(merged[column] < (Q1 - 1.5 * IQR)) | (merged[column] > (Q3 + 1.5 * IQR))]\n",
    "    \n",
    "    # Annoter les outliers\n",
    "    for idx, row in outliers.iterrows():\n",
    "        axes[i].annotate(row['Pays'], (0, row[column]), xytext=(5, 0), \n",
    "                         textcoords='offset points', ha='left', va='center',\n",
    "                         fontsize=12)\n",
    "\n",
    "plt.tight_layout()\n",
    "plt.show()\n"
   ]
  },
  {
   "cell_type": "markdown",
   "metadata": {},
   "source": [
    "On retrouve logiquement les pays les plus riches et/ou peuplés en outliers pour la plupart des variables. Les cas d'Israël, Samoa et St Vincent les Grenadines s'expliquent d'une part par leurs développements agro alimentaire et leurs régimes alimentaires riches en protéines, où le poisson a une part importante. Dans tous les cas, l'ensemble de ces pays reste à considérer dans cette analyse pour le développement de notre activité à l'international."
   ]
  },
  {
   "cell_type": "markdown",
   "metadata": {},
   "source": [
    "# Ajout de 3 variables"
   ]
  },
  {
   "cell_type": "code",
   "execution_count": 127,
   "metadata": {},
   "outputs": [],
   "source": [
    "merged['PIB'] = merged['PIB']*1000000\n",
    "merged['PIB/habitant'] = merged['PIB']/merged['Population']\n",
    "merged['Importations (Milliers de tonnes)'] = merged['Importations (Milliers de tonnes)']*1000000\n",
    "merged['Importations (kg par personne'] = merged['Importations (Milliers de tonnes)']/merged['Population']\n",
    "\n"
   ]
  },
  {
   "cell_type": "code",
   "execution_count": 128,
   "metadata": {},
   "outputs": [
    {
     "data": {
      "text/plain": [
       "Pays                                                            0\n",
       "Disponibilité alimentaire en quantité (kg/personne/an)          0\n",
       "Disponibilité de protéines en quantité (g/personne/jour)        0\n",
       "Production (Milliers de tonnes)                                 0\n",
       "Population                                                      0\n",
       "Croissance annuelle %                                           0\n",
       "Prévalence de la sous alimentation moyenne (%)                  0\n",
       "Indice de Production Brut par Personne (Référence 2014-2016)    0\n",
       "PIB/habitant                                                    0\n",
       "Importations (kg par personne                                   0\n",
       "dtype: int64"
      ]
     },
     "execution_count": 128,
     "metadata": {},
     "output_type": "execute_result"
    }
   ],
   "source": [
    "merged = merged.drop(columns=['Importations (Milliers de tonnes)', 'PIB'], axis=1)\n",
    "merged.isna().sum()"
   ]
  },
  {
   "cell_type": "code",
   "execution_count": 129,
   "metadata": {},
   "outputs": [],
   "source": [
    "\n",
    "\n",
    "merged.to_csv('donnees_totales.csv', index=False)"
   ]
  }
 ],
 "metadata": {
  "kernelspec": {
   "display_name": "Python 3",
   "language": "python",
   "name": "python3"
  },
  "language_info": {
   "codemirror_mode": {
    "name": "ipython",
    "version": 3
   },
   "file_extension": ".py",
   "mimetype": "text/x-python",
   "name": "python",
   "nbconvert_exporter": "python",
   "pygments_lexer": "ipython3",
   "version": "3.12.0"
  }
 },
 "nbformat": 4,
 "nbformat_minor": 2
}
